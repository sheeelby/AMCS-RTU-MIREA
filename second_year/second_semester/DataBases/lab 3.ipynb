{
  "nbformat": 4,
  "nbformat_minor": 0,
  "metadata": {
    "kernelspec": {
      "display_name": "Python 3",
      "language": "python",
      "name": "python3"
    },
    "language_info": {
      "codemirror_mode": {
        "name": "ipython",
        "version": 3
      },
      "file_extension": ".py",
      "mimetype": "text/x-python",
      "name": "python",
      "nbconvert_exporter": "python",
      "pygments_lexer": "ipython3",
      "version": "3.6.0"
    },
    "colab": {
      "provenance": []
    }
  },
  "cells": [
    {
      "cell_type": "markdown",
      "source": [
        "# Написание функций для работы с sqlite с использованием python"
      ],
      "metadata": {
        "id": "zpftBeIIJ_2G"
      }
    },
    {
      "cell_type": "code",
      "source": [
        "%load_ext sql\n",
        "%sql sqlite:///base.db"
      ],
      "metadata": {
        "id": "kQA9xoOcFqCI",
        "colab": {
          "base_uri": "https://localhost:8080/"
        },
        "outputId": "81eb0659-cafc-4b87-b01e-70e4e728b597"
      },
      "execution_count": 16,
      "outputs": [
        {
          "output_type": "stream",
          "name": "stdout",
          "text": [
            "The sql extension is already loaded. To reload it, use:\n",
            "  %reload_ext sql\n"
          ]
        }
      ]
    },
    {
      "cell_type": "markdown",
      "metadata": {
        "id": "kymKsqPZJ3c7"
      },
      "source": [
        "Лабораторная посвящена базе данных, связанной с футбольным командами. Схема расположена на картинке ниже."
      ]
    },
    {
      "cell_type": "markdown",
      "source": [
        "## Схема\n",
        "![image.png](data:image/png;base64,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)\n",
        "\n",
        "*enrolled* = дата найма\n",
        "\n",
        "Имя команды и имя тренера - unique"
      ],
      "metadata": {
        "id": "QZVH8oPZJJWe"
      }
    },
    {
      "cell_type": "markdown",
      "metadata": {
        "id": "FAqf5PnQYrpz"
      },
      "source": [
        "# Задание 1\n",
        "Реализовать таблицы со связями по схеме выше. Добавьте несколько команд и тренеров (через INSERT)."
      ]
    },
    {
      "cell_type": "markdown",
      "source": [
        "https://football-fun-live.com/tournaments/rossiya-premer-liga/coaches\n",
        "\n",
        "(если лень придумывать)"
      ],
      "metadata": {
        "id": "oJxypDS-MCkt"
      }
    },
    {
      "cell_type": "code",
      "metadata": {
        "collapsed": true,
        "id": "ltBeyRUDYrp0",
        "outputId": "6fe16bd4-0f61-4dcd-aade-29f6a38476e0",
        "colab": {
          "base_uri": "https://localhost:8080/"
        }
      },
      "source": [
        "%%sql\n",
        "Pragma foreign_keys=on;\n",
        "\n",
        "DROP TABLE if exists Player;\n",
        "DROP TABLE if exists Teams;\n",
        "DROP TABLE if exists Coaches;\n",
        "\n",
        "CREATE TABLE Coaches (\n",
        "          id INTEGER NOT NULL Primary key,\n",
        "          name NVARCHAR(20) NOT NULL UNIQUE,\n",
        "          date_of_birth DATETIME NOT NULL,\n",
        "          country NVARCHAR(20) NOT NULL,\n",
        "          enrolled DATETIME);\n",
        "\n",
        "CREATE TABLE Teams (\n",
        "          id INTEGER NOT NULL Primary key,\n",
        "          name NVARCHAR(20) NOT NULL UNIQUE,\n",
        "          city integer NOT NULL,\n",
        "          foundation_year INTEGER NOT NULL,\n",
        "          coach_id integer NOT NULL,\n",
        "          FOREIGN KEY (coach_id) REFERENCES Coaches(id));\n",
        "\n",
        "CREATE TABLE Player (\n",
        "          id INTEGER NOT NULL Primary key,\n",
        "          name NVARCHAR(20) NOT NULL,\n",
        "          position NVARCHAR(20) NOT NULL,\n",
        "          team_id INTEGER NOT NULL,\n",
        "          date_of_birth DATETIME NOT NULL,\n",
        "          country NVARCHAR(20) NOT NULL,\n",
        "          enrolled DATETIME,\n",
        "          FOREIGN KEY (team_id) REFERENCES Teams(id));"
      ],
      "execution_count": 17,
      "outputs": [
        {
          "output_type": "stream",
          "name": "stdout",
          "text": [
            " * sqlite:///base.db\n",
            "Done.\n",
            "Done.\n",
            "Done.\n",
            "Done.\n",
            "Done.\n",
            "Done.\n",
            "Done.\n"
          ]
        },
        {
          "output_type": "execute_result",
          "data": {
            "text/plain": [
              "[]"
            ]
          },
          "metadata": {},
          "execution_count": 17
        }
      ]
    },
    {
      "cell_type": "code",
      "source": [
        "%%sql\n",
        "\n",
        "INSERT INTO Coaches (name, date_of_birth, country, enrolled)\n",
        "VALUES\n",
        "('Alex Ferguson', '1941-12-31', 'Scotland', '1986-01-01'),\n",
        "('Pep Guardiola', '1971-01-18', 'Spain', '2008-06-01'),\n",
        "('Jurgen Klopp', '1967-06-16', 'Germany', '2001-09-01');\n",
        "\n",
        "INSERT INTO Teams (name, city, foundation_year, coach_id)\n",
        "VALUES\n",
        "('Team Alpha', 'Los Angeles', 2000, 1),\n",
        "('Team Bravo', 'Barcelona', 1995, 2),\n",
        "('Team Charlie', 'London', 1988, 3);\n",
        "\n",
        "INSERT INTO Player (name, position, team_id, date_of_birth, country, enrolled)\n",
        "VALUES\n",
        "('Michael Jordan', 'Shooting Guard', 1, '1963-02-17', 'USA', '1984-01-01'),\n",
        "('LeBron James', 'Small Forward', 2, '1984-12-30', 'USA', '2003-07-01'),\n",
        "('Lionel Messi', 'Forward', 2, '1987-06-24', 'Argentina', '2000-01-01'),\n",
        "('Cristiano Ronaldo', 'Forward', 3, '1985-02-05', 'Portugal', '2002-08-01');"
      ],
      "metadata": {
        "id": "NylejRTE_bET",
        "outputId": "cb730831-d64b-40a7-c68b-c68c2b4b4547",
        "colab": {
          "base_uri": "https://localhost:8080/"
        }
      },
      "execution_count": 18,
      "outputs": [
        {
          "output_type": "stream",
          "name": "stdout",
          "text": [
            " * sqlite:///base.db\n",
            "3 rows affected.\n",
            "3 rows affected.\n",
            "4 rows affected.\n"
          ]
        },
        {
          "output_type": "execute_result",
          "data": {
            "text/plain": [
              "[]"
            ]
          },
          "metadata": {},
          "execution_count": 18
        }
      ]
    },
    {
      "cell_type": "code",
      "source": [
        "%%sql\n",
        "\n",
        "SELECT * FROM Player;"
      ],
      "metadata": {
        "id": "ggen-ZrSBjc-",
        "outputId": "39fc2152-439e-4cac-8a23-6d4ffd4b1778",
        "colab": {
          "base_uri": "https://localhost:8080/",
          "height": 158
        }
      },
      "execution_count": 19,
      "outputs": [
        {
          "output_type": "stream",
          "name": "stdout",
          "text": [
            " * sqlite:///base.db\n",
            "Done.\n"
          ]
        },
        {
          "output_type": "execute_result",
          "data": {
            "text/plain": [
              "[(1, 'Michael Jordan', 'Shooting Guard', 1, '1963-02-17', 'USA', '1984-01-01'),\n",
              " (2, 'LeBron James', 'Small Forward', 2, '1984-12-30', 'USA', '2003-07-01'),\n",
              " (3, 'Lionel Messi', 'Forward', 2, '1987-06-24', 'Argentina', '2000-01-01'),\n",
              " (4, 'Cristiano Ronaldo', 'Forward', 3, '1985-02-05', 'Portugal', '2002-08-01')]"
            ],
            "text/html": [
              "<table>\n",
              "    <thead>\n",
              "        <tr>\n",
              "            <th>id</th>\n",
              "            <th>name</th>\n",
              "            <th>position</th>\n",
              "            <th>team_id</th>\n",
              "            <th>date_of_birth</th>\n",
              "            <th>country</th>\n",
              "            <th>enrolled</th>\n",
              "        </tr>\n",
              "    </thead>\n",
              "    <tbody>\n",
              "        <tr>\n",
              "            <td>1</td>\n",
              "            <td>Michael Jordan</td>\n",
              "            <td>Shooting Guard</td>\n",
              "            <td>1</td>\n",
              "            <td>1963-02-17</td>\n",
              "            <td>USA</td>\n",
              "            <td>1984-01-01</td>\n",
              "        </tr>\n",
              "        <tr>\n",
              "            <td>2</td>\n",
              "            <td>LeBron James</td>\n",
              "            <td>Small Forward</td>\n",
              "            <td>2</td>\n",
              "            <td>1984-12-30</td>\n",
              "            <td>USA</td>\n",
              "            <td>2003-07-01</td>\n",
              "        </tr>\n",
              "        <tr>\n",
              "            <td>3</td>\n",
              "            <td>Lionel Messi</td>\n",
              "            <td>Forward</td>\n",
              "            <td>2</td>\n",
              "            <td>1987-06-24</td>\n",
              "            <td>Argentina</td>\n",
              "            <td>2000-01-01</td>\n",
              "        </tr>\n",
              "        <tr>\n",
              "            <td>4</td>\n",
              "            <td>Cristiano Ronaldo</td>\n",
              "            <td>Forward</td>\n",
              "            <td>3</td>\n",
              "            <td>1985-02-05</td>\n",
              "            <td>Portugal</td>\n",
              "            <td>2002-08-01</td>\n",
              "        </tr>\n",
              "    </tbody>\n",
              "</table>"
            ]
          },
          "metadata": {},
          "execution_count": 19
        }
      ]
    },
    {
      "cell_type": "markdown",
      "metadata": {
        "id": "FyjLXgzNYrp3"
      },
      "source": [
        "# Задание 2\n",
        "\n",
        "Написать функцию, осуществляющую добавление нового футболиста в таблицу игроков. На входе (имя, позиция, **имя команды**, дата рождения, страна, дата перехода в команду(необязательный параметр)). Если дата перехода не указана, то нужно использовать текущую дату. Предусмотреть различные ошибки (такие как неверное название команды (игрока нельзя добавить, если его команды нет в таблице команд), возраст < 0 и т.п.)\n",
        "Список возможных позиций: Вратарь, Защитник, Полузащитник, Нападающий.\n",
        "\n",
        "После написания функции необходимо добавить несколько игроков (хотя бы по 1-2 на команду)."
      ]
    },
    {
      "cell_type": "code",
      "metadata": {
        "id": "DEMlgympYrp4",
        "colab": {
          "base_uri": "https://localhost:8080/",
          "height": 36
        },
        "outputId": "273dcd19-9a3c-46e5-87d4-f76da4ef844a"
      },
      "source": [
        "from datetime import date\n",
        "\n",
        "str(date.today()) # сегодня"
      ],
      "execution_count": 20,
      "outputs": [
        {
          "output_type": "execute_result",
          "data": {
            "text/plain": [
              "'2024-04-12'"
            ],
            "application/vnd.google.colaboratory.intrinsic+json": {
              "type": "string"
            }
          },
          "metadata": {},
          "execution_count": 20
        }
      ]
    },
    {
      "cell_type": "code",
      "source": [
        "import sqlite3\n",
        "from datetime import datetime\n",
        "\n",
        "connection = sqlite3.connect('base.db')\n",
        "\n",
        "def add_player(name, position, team_name, date_of_birth, country, enrolled=None):\n",
        "    cursor = connection.cursor()\n",
        "\n",
        "    # Проверка наличия команды в таблице Teams\n",
        "    cursor.execute(\"SELECT id FROM Teams WHERE name = ?\", (team_name,))\n",
        "    team = cursor.fetchone()\n",
        "    if team is None:\n",
        "        print(\"Ошибка: Команда '{}' не найдена.\".format(team_name))\n",
        "        return\n",
        "\n",
        "    team_id = team[0]\n",
        "\n",
        "    # Проверка даты рождения\n",
        "    try:\n",
        "        if date_of_birth > str(date.today()):\n",
        "            print(\"Ошибка: Дата рождения не может быть в будущем.\")\n",
        "            return\n",
        "    except:\n",
        "        print(\"Ошибка: Неверный формат даты рождения.\")\n",
        "        return\n",
        "\n",
        "    # Проверка позиции\n",
        "    positions = ['Вратарь', 'Защитник', 'Полузащитник', 'Нападающий']\n",
        "    if position not in positions:\n",
        "        print(\"Ошибка: Неверная позиция. Пожалуйста, используйте одну из следующих: \", positions)\n",
        "        return\n",
        "\n",
        "    # Проверка даты перехода\n",
        "    if enrolled:\n",
        "        try:\n",
        "            if enrolled > str(date.today()) or enrolled < date_of_birth:\n",
        "                print(\"Ошибка: Дата перехода в будущем или раньше чем дата рождения.\")\n",
        "                return\n",
        "        except:\n",
        "            print(\"Ошибка: Неверный формат даты перехода.\")\n",
        "            return\n",
        "    else:\n",
        "        enrolled = str(date.today())\n",
        "\n",
        "    # Добавление нового игрока\n",
        "    try:\n",
        "        cursor.execute(\"INSERT INTO Player (name, position, team_id, date_of_birth, country, enrolled) VALUES (?, ?, ?, ?, ?, ?)\",\n",
        "                       (name, position, team_id, date_of_birth, country, enrolled))\n",
        "        connection.commit()\n",
        "        print(\"Игрок '{}' успешно добавлен в таблицу Player.\".format(name))\n",
        "    except sqlite3.Error as e:\n",
        "        print(\"Ошибка добавления игрока в таблицу Player:\", e)"
      ],
      "metadata": {
        "id": "bKoXRNqJId9V"
      },
      "execution_count": 21,
      "outputs": []
    },
    {
      "cell_type": "code",
      "source": [
        "add_player('Yarik Malysh', 'Нападающий', 'FC Barcelona', '2004-12-24', 'Russia')\n",
        "add_player('Danya Lykov', 'Двигатель прогресса', 'Team Alpha', '2004-09-14', 'Russia')\n",
        "add_player('Sanya Lazarev', 'Защитник', 'Team Alpha', '2004-02-14', 'Russia', '2002-03-22')\n",
        "add_player('Vika Kuslieva', 'Нападающий', 'Team Alpha', '2004-08-03', 'Russia', '2012-03-03')"
      ],
      "metadata": {
        "id": "suAaxQPqKf3b",
        "outputId": "698033c9-143d-4209-d29a-1c6d6972ed8e",
        "colab": {
          "base_uri": "https://localhost:8080/"
        }
      },
      "execution_count": 22,
      "outputs": [
        {
          "output_type": "stream",
          "name": "stdout",
          "text": [
            "Ошибка: Команда 'FC Barcelona' не найдена.\n",
            "Ошибка: Неверная позиция. Пожалуйста, используйте одну из следующих:  ['Вратарь', 'Защитник', 'Полузащитник', 'Нападающий']\n",
            "Ошибка: Дата перехода в будущем или раньше чем дата рождения.\n",
            "Игрок 'Vika Kuslieva' успешно добавлен в таблицу Player.\n"
          ]
        }
      ]
    },
    {
      "cell_type": "markdown",
      "source": [
        "# Задание 3\n",
        "Написать функцию check_team, проверяющую корректность введенных данных о команде, а именно:\n",
        "- наличие ровно одного вратаря и тренера\n",
        "- год основания старше любой даты найма\n",
        "\n",
        "Функция выдает True/False в зависимости от результата проверки"
      ],
      "metadata": {
        "id": "7bhElMQzwsAz"
      }
    },
    {
      "cell_type": "code",
      "metadata": {
        "id": "PByUp5RJe7d6"
      },
      "source": [
        "def check_team(team_name):\n",
        "    cursor = connection.cursor()\n",
        "\n",
        "    # Проверка наличия команды в таблице Teams\n",
        "    cursor.execute(\"SELECT id FROM Teams WHERE name = ?\", (team_name,))\n",
        "    team = cursor.fetchone()\n",
        "    if team is None:\n",
        "        print(\"Ошибка: Команда '{}' не найдена.\".format(team_name))\n",
        "        return False\n",
        "\n",
        "    team_id = team[0]\n",
        "\n",
        "    # Проверка наличия ровно одного вратаря\n",
        "    cursor.execute(\"SELECT COUNT(*) FROM Player WHERE team_id = ? AND position = 'Вратарь'\", (team_id,))\n",
        "    goalkeepers_count = cursor.fetchone()[0]\n",
        "    if goalkeepers_count != 1:\n",
        "        print(\"Ошибка: В команде должен быть ровно один вратарь.\")\n",
        "        return False\n",
        "\n",
        "    # Проверка наличия тренера\n",
        "    cursor.execute(\"SELECT COUNT(coach_id) FROM Teams WHERE id = ?\", (team_id,))\n",
        "    coach_id_cnt = cursor.fetchone()[0]\n",
        "    if coach_id_cnt != 1:\n",
        "        print(\"Ошибка: В команде должен быть тренер.\")\n",
        "        return False\n",
        "\n",
        "    # Проверка года основания\n",
        "    cursor.execute(\"SELECT foundation_year FROM Teams WHERE id = ?\", (team_id,))\n",
        "    foundation_year = cursor.fetchone()[0]\n",
        "    cursor.execute(\"SELECT MIN(enrolled) FROM Player WHERE team_id = ?\", (team_id,))\n",
        "    min_enrolled = cursor.fetchone()[0]\n",
        "    if str(foundation_year) <= str(min_enrolled):\n",
        "        print(\"Ошибка: Год основания должен быть старше любой даты найма игроков.\")\n",
        "        return False\n",
        "\n",
        "    return True"
      ],
      "execution_count": 23,
      "outputs": []
    },
    {
      "cell_type": "code",
      "source": [
        "def number_3(team_name):\n",
        "    if check_team(team_name):\n",
        "        print(\"Данные о команде '{}' корректны.\".format(team_name))\n",
        "    else:\n",
        "        print(\"Данные о команде '{}' некорректны.\".format(team_name))"
      ],
      "metadata": {
        "id": "zxlizCEOElhH"
      },
      "execution_count": 24,
      "outputs": []
    },
    {
      "cell_type": "code",
      "source": [
        "add_player('Danya Lykov', 'Вратарь', 'Team Bravo', '2004-09-14', 'Russia')\n",
        "add_player('Sanya Lazarev', 'Вратарь', 'Team Bravo', '2004-02-14', 'Russia', '2005-03-22')\n",
        "add_player('Vika Kuslieva', 'Нападающий', 'Team Bravo', '2004-08-03', 'Russia', '2012-03-03')"
      ],
      "metadata": {
        "colab": {
          "base_uri": "https://localhost:8080/"
        },
        "id": "L11GssBWFzy8",
        "outputId": "314bc8b8-6778-438a-a86e-569c9fbbba30"
      },
      "execution_count": 25,
      "outputs": [
        {
          "output_type": "stream",
          "name": "stdout",
          "text": [
            "Игрок 'Danya Lykov' успешно добавлен в таблицу Player.\n",
            "Игрок 'Sanya Lazarev' успешно добавлен в таблицу Player.\n",
            "Игрок 'Vika Kuslieva' успешно добавлен в таблицу Player.\n"
          ]
        }
      ]
    },
    {
      "cell_type": "code",
      "source": [
        "number_3('Team Bravo')"
      ],
      "metadata": {
        "colab": {
          "base_uri": "https://localhost:8080/"
        },
        "id": "nro1OO7JGs7K",
        "outputId": "02fe3d45-8585-445c-b9e7-bb53afb32182"
      },
      "execution_count": 26,
      "outputs": [
        {
          "output_type": "stream",
          "name": "stdout",
          "text": [
            "Ошибка: В команде должен быть ровно один вратарь.\n",
            "Данные о команде 'Team Bravo' некорректны.\n"
          ]
        }
      ]
    },
    {
      "cell_type": "code",
      "source": [
        "add_player('Danya Lykov', 'Вратарь', 'Team Charlie', '2004-09-14', 'Russia')\n",
        "add_player('Sanya Lazarev', 'Вратарь', 'Team Charlie', '2004-02-14', 'Russia', '1800-03-22')\n",
        "add_player('Vika Kuslieva', 'Нападающий', 'Team Charlie', '2004-08-03', 'Russia', '2012-03-03')"
      ],
      "metadata": {
        "colab": {
          "base_uri": "https://localhost:8080/"
        },
        "id": "2l9YMwAeG5ZS",
        "outputId": "3bd5dbd2-9c82-4957-e44f-e67982f17764"
      },
      "execution_count": 27,
      "outputs": [
        {
          "output_type": "stream",
          "name": "stdout",
          "text": [
            "Игрок 'Danya Lykov' успешно добавлен в таблицу Player.\n",
            "Ошибка: Дата перехода в будущем или раньше чем дата рождения.\n",
            "Игрок 'Vika Kuslieva' успешно добавлен в таблицу Player.\n"
          ]
        }
      ]
    },
    {
      "cell_type": "code",
      "source": [
        "number_3('Team Charlie')"
      ],
      "metadata": {
        "colab": {
          "base_uri": "https://localhost:8080/"
        },
        "id": "HzMqqYzcHHUN",
        "outputId": "ef31bb19-fa2a-4f41-9b07-e154861fa2ce"
      },
      "execution_count": 28,
      "outputs": [
        {
          "output_type": "stream",
          "name": "stdout",
          "text": [
            "Ошибка: Год основания должен быть старше любой даты найма игроков.\n",
            "Данные о команде 'Team Charlie' некорректны.\n"
          ]
        }
      ]
    },
    {
      "cell_type": "code",
      "source": [
        "add_player('Yarik Malysh', 'Нападающий', 'Team Alpha', '2004-12-24', 'Russia')\n",
        "add_player('Danya Lykov', 'Вратарь', 'Team Alpha', '2004-09-14', 'Russia')\n",
        "add_player('Sanya Lazarev', 'Защитник', 'Team Alpha', '2004-02-14', 'Russia', '2012-03-22')"
      ],
      "metadata": {
        "colab": {
          "base_uri": "https://localhost:8080/"
        },
        "id": "goH-lXZDHT9O",
        "outputId": "67866496-cb5f-4618-9154-6791d20290c5"
      },
      "execution_count": 29,
      "outputs": [
        {
          "output_type": "stream",
          "name": "stdout",
          "text": [
            "Игрок 'Yarik Malysh' успешно добавлен в таблицу Player.\n",
            "Игрок 'Danya Lykov' успешно добавлен в таблицу Player.\n",
            "Игрок 'Sanya Lazarev' успешно добавлен в таблицу Player.\n"
          ]
        }
      ]
    },
    {
      "cell_type": "code",
      "source": [
        "number_3('Team Alpha')"
      ],
      "metadata": {
        "colab": {
          "base_uri": "https://localhost:8080/"
        },
        "id": "6LdVAt5UIJWu",
        "outputId": "afa6b9e3-c896-4d25-a8b7-4da70d632ac8"
      },
      "execution_count": 30,
      "outputs": [
        {
          "output_type": "stream",
          "name": "stdout",
          "text": [
            "Данные о команде 'Team Alpha' корректны.\n"
          ]
        }
      ]
    }
  ]
}