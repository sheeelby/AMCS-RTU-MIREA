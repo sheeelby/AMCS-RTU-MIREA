{
 "cells": [
  {
   "cell_type": "markdown",
   "metadata": {},
   "source": [
    "# Проверка графа на двудольность"
   ]
  },
  {
   "cell_type": "markdown",
   "metadata": {},
   "source": [
    "**Задача.**\n",
    "\n",
    "Составить программы, проверяющие граф на двудольность с помощью\n",
    "\n",
    "1. Поиска в ширину (задача А)\n",
    "2. Поиска в глубину (задача Б)\n",
    "\n",
    "**Набор данных задачи:**\n",
    " \n",
    "Файл описывает ребра графа. Вершины обозначаются целыми положительными числами от 1 до 875714. Каждая строка обозначает одно ребро графа. Например, одиннадцатая строка («2 13019») указывает на то, что существует ребро, соединяющее вершину 2 и вершину 13019.\n",
    "\n",
    "**Требования:**\n",
    "\n",
    "1. Сравнить временные затраты для обеих задач.\n",
    "2. Привести и обосновать асимптотическую оценку временной сложности."
   ]
  },
  {
   "cell_type": "markdown",
   "metadata": {},
   "source": [
    "## Предобработка и считывание входных данных"
   ]
  },
  {
   "cell_type": "markdown",
   "metadata": {},
   "source": [
    "Для работы с форматом входных данных в виде списка рёбер можно преобразовать его в граф в виде словаря смежности."
   ]
  },
  {
   "cell_type": "code",
   "execution_count": 3,
   "metadata": {},
   "outputs": [],
   "source": [
    "from collections import defaultdict\n",
    "\n",
    "def adjacency_list(edges):\n",
    "\n",
    "    adjacency_list = defaultdict(set)\n",
    "    \n",
    "    for u, v in edges:\n",
    "        adjacency_list[u].add(v)\n",
    "        adjacency_list[v].add(u)  # Так как граф неориентированный\n",
    "    return {node: list(neighbors) for node, neighbors in adjacency_list.items()}"
   ]
  },
  {
   "cell_type": "code",
   "execution_count": 4,
   "metadata": {},
   "outputs": [
    {
     "name": "stdout",
     "output_type": "stream",
     "text": [
      "{1: [10, 7], 7: [1, 3], 2: [8, 11], 8: [2, 5], 3: [10, 7], 4: [9, 12], 9: [4, 6], 5: [8, 11], 6: [9, 12], 10: [1, 3], 11: [2, 5], 12: [4, 6]}\n"
     ]
    }
   ],
   "source": [
    "def file(filename):\n",
    "    edges = []\n",
    "    with open(filename, 'r') as file:\n",
    "        for line in file:\n",
    "            parts = line.strip().split()  # Разделяем строку по пробелу\n",
    "            if len(parts) == 2:  # Проверяем, что ровно два элемента\n",
    "                edges.append((int(parts[0]), int(parts[1])))\n",
    "    return edges\n",
    "\n",
    "test = adjacency_list(file('test.txt'))\n",
    "data = adjacency_list(file('data.txt'))\n",
    "my = adjacency_list(file('my.txt'))\n",
    "\n",
    "print(my)"
   ]
  },
  {
   "cell_type": "markdown",
   "metadata": {},
   "source": [
    "## Проверка графа на двудольность поиском в ширину."
   ]
  },
  {
   "cell_type": "markdown",
   "metadata": {},
   "source": [
    "1. Граф представлен в виде словаря смежности: каждая вершина — ключ, а его значение — список соседей.\n",
    "2. Массив color используется для хранения цвета каждой вершины (0 или 1). Если вершина ещё не посещена, она не имеет цвета.\n",
    "3. Алгоритм BFS:\n",
    "    - Начинаем с произвольной вершины, окрашиваем её в цвет 0 и помещаем в очередь.\n",
    "    - При посещении каждой вершины окрашиваем её соседей в противоположный цвет.\n",
    "    - Если обнаруживается сосед, который уже окрашен в тот же цвет, граф не двудольный."
   ]
  },
  {
   "cell_type": "code",
   "execution_count": 5,
   "metadata": {},
   "outputs": [],
   "source": [
    "from collections import deque\n",
    "\n",
    "def is_bipartite_bfs(graph):\n",
    "    \n",
    "    color = {}\n",
    "    \n",
    "    for node in graph:\n",
    "\n",
    "        if node not in color:\n",
    "\n",
    "            queue = deque([node])\n",
    "            color[node] = 0\n",
    "            \n",
    "            while queue:\n",
    "                current = queue.popleft()\n",
    "                \n",
    "                for neighbor in graph[current]:\n",
    "\n",
    "                    if neighbor not in color:\n",
    "                        color[neighbor] = 1 - color[current]\n",
    "                        queue.append(neighbor)\n",
    "\n",
    "                    elif color[neighbor] == color[current]:\n",
    "                        print(neighbor, current)\n",
    "                        return False\n",
    "    return True"
   ]
  },
  {
   "cell_type": "markdown",
   "metadata": {},
   "source": [
    "**Результат и время выполнения алгоритма проверки графа на двудольность (BFS).**\n",
    "\n",
    "На тестовом наборе данных:"
   ]
  },
  {
   "cell_type": "code",
   "execution_count": 6,
   "metadata": {},
   "outputs": [
    {
     "name": "stdout",
     "output_type": "stream",
     "text": [
      "5 4\n",
      "Время выполнения алгоритма проверки графа на двудольность (BFS): 0.0 секунд\n",
      "Двудольный ли граф? - False\n"
     ]
    }
   ],
   "source": [
    "import time\n",
    "\n",
    "start_time = time.time()\n",
    "bipartite = is_bipartite_bfs(test)\n",
    "end_time = time.time()\n",
    "\n",
    "print(f'Время выполнения алгоритма проверки графа на двудольность (BFS): {end_time - start_time} секунд')\n",
    "print(f'Двудольный ли граф? - {bipartite}')"
   ]
  },
  {
   "cell_type": "markdown",
   "metadata": {},
   "source": [
    "На усложненном наборе данных:"
   ]
  },
  {
   "cell_type": "code",
   "execution_count": 7,
   "metadata": {},
   "outputs": [
    {
     "name": "stdout",
     "output_type": "stream",
     "text": [
      "1 1\n",
      "Время выполнения алгоритма проверки графа на двудольность (BFS): 0.0 секунд\n",
      "Двудольный ли граф? - False\n"
     ]
    }
   ],
   "source": [
    "import time\n",
    "\n",
    "start_time = time.time()\n",
    "bipartite = is_bipartite_bfs(data)\n",
    "end_time = time.time()\n",
    "\n",
    "print(f'Время выполнения алгоритма проверки графа на двудольность (BFS): {end_time - start_time} секунд')\n",
    "print(f'Двудольный ли граф? - {bipartite}')"
   ]
  },
  {
   "cell_type": "markdown",
   "metadata": {},
   "source": [
    "Мой набор данных (граф является двудольным):"
   ]
  },
  {
   "cell_type": "code",
   "execution_count": 8,
   "metadata": {},
   "outputs": [
    {
     "name": "stdout",
     "output_type": "stream",
     "text": [
      "Время выполнения алгоритма проверки графа на двудольность (BFS): 0.0 секунд\n",
      "Двудольный ли граф? - True\n"
     ]
    }
   ],
   "source": [
    "import time\n",
    "\n",
    "start_time = time.time()\n",
    "bipartite = is_bipartite_bfs(my)\n",
    "end_time = time.time()\n",
    "\n",
    "print(f'Время выполнения алгоритма проверки графа на двудольность (BFS): {end_time - start_time} секунд')\n",
    "print(f'Двудольный ли граф? - {bipartite}')"
   ]
  },
  {
   "cell_type": "markdown",
   "metadata": {},
   "source": [
    "## Проверка графа на двудольность методом в глубину."
   ]
  },
  {
   "cell_type": "markdown",
   "metadata": {},
   "source": [
    "1. Каждый узел окрашивается в текущий цвет (0 или 1).\n",
    "2. Если сосед ещё не окрашен, рекурсивно вызываем dfs для него, меняя цвет на противоположный.\n",
    "3. Если сосед уже окрашен и его цвет совпадает с текущим узлом, граф не двудольный.\n",
    "4. Проверка всех узлов:\n",
    "    - Учитываются несвязные компоненты графа. Если узел ещё не окрашен, начинаем новый вызов dfs.\n"
   ]
  },
  {
   "cell_type": "code",
   "execution_count": 9,
   "metadata": {},
   "outputs": [],
   "source": [
    "def is_bipartite_dfs(graph):\n",
    "\n",
    "    color = {}\n",
    "\n",
    "    def dfs(node, current_color):\n",
    "\n",
    "        color[node] = current_color\n",
    "        \n",
    "        for neighbor in graph[node]:\n",
    "            if neighbor not in color:\n",
    "                # Рекурсивно вызываем DFS для соседей, с противоположным цветом\n",
    "                if not dfs(neighbor, 1 - current_color):\n",
    "                    return False\n",
    "            elif color[neighbor] == color[node]:\n",
    "                print(neighbor, node)\n",
    "                # Найдено ребро между вершинами одного цвета\n",
    "                return False\n",
    "        return True\n",
    "\n",
    "    for node in graph:  # Проходим по всем вершинам (учитываем несвязные графы)\n",
    "        if node not in color:\n",
    "            if not dfs(node, 0):\n",
    "                return False\n",
    "\n",
    "    return True"
   ]
  },
  {
   "cell_type": "markdown",
   "metadata": {},
   "source": [
    "**Результат и время выполнения алгоритма проверки графа на двудольность (DFS).**\n",
    "\n",
    "На тестовом наборе данных:"
   ]
  },
  {
   "cell_type": "code",
   "execution_count": 10,
   "metadata": {},
   "outputs": [
    {
     "name": "stdout",
     "output_type": "stream",
     "text": [
      "2 5\n",
      "Время выполнения алгоритма проверки графа на двудольность (DFS): 0.0 секунд\n",
      "Двудольный ли граф? - False\n"
     ]
    }
   ],
   "source": [
    "import time\n",
    "\n",
    "start_time = time.time()\n",
    "bipartite = is_bipartite_dfs(test)\n",
    "end_time = time.time()\n",
    "\n",
    "print(f'Время выполнения алгоритма проверки графа на двудольность (DFS): {end_time - start_time} секунд')\n",
    "print(f'Двудольный ли граф? - {bipartite}')"
   ]
  },
  {
   "cell_type": "markdown",
   "metadata": {},
   "source": [
    "На усложненном наборе данных:"
   ]
  },
  {
   "cell_type": "code",
   "execution_count": 11,
   "metadata": {},
   "outputs": [
    {
     "name": "stdout",
     "output_type": "stream",
     "text": [
      "1 1\n",
      "Время выполнения алгоритма проверки графа на двудольность (DFS): 0.0 секунд\n",
      "Двудольный ли граф? - False\n"
     ]
    }
   ],
   "source": [
    "import time\n",
    "\n",
    "start_time = time.time()\n",
    "bipartite = is_bipartite_dfs(data)\n",
    "end_time = time.time()\n",
    "\n",
    "print(f'Время выполнения алгоритма проверки графа на двудольность (DFS): {end_time - start_time} секунд')\n",
    "print(f'Двудольный ли граф? - {bipartite}')"
   ]
  },
  {
   "cell_type": "markdown",
   "metadata": {},
   "source": [
    "Мой набор данных (граф является двудольным):"
   ]
  },
  {
   "cell_type": "code",
   "execution_count": 14,
   "metadata": {},
   "outputs": [
    {
     "name": "stdout",
     "output_type": "stream",
     "text": [
      "Время выполнения алгоритма проверки графа на двудольность (BFS): 0.0 секунд\n",
      "Двудольный ли граф? - True\n"
     ]
    }
   ],
   "source": [
    "import time\n",
    "\n",
    "start_time = time.time()\n",
    "bipartite = is_bipartite_dfs(my)\n",
    "end_time = time.time()\n",
    "\n",
    "print(f'Время выполнения алгоритма проверки графа на двудольность (BFS): {end_time - start_time} секунд')\n",
    "print(f'Двудольный ли граф? - {bipartite}')"
   ]
  }
 ],
 "metadata": {
  "kernelspec": {
   "display_name": "base",
   "language": "python",
   "name": "python3"
  },
  "language_info": {
   "codemirror_mode": {
    "name": "ipython",
    "version": 3
   },
   "file_extension": ".py",
   "mimetype": "text/x-python",
   "name": "python",
   "nbconvert_exporter": "python",
   "pygments_lexer": "ipython3",
   "version": "3.10.9"
  }
 },
 "nbformat": 4,
 "nbformat_minor": 2
}
