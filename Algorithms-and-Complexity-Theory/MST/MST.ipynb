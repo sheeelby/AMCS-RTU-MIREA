{
 "cells": [
  {
   "cell_type": "markdown",
   "metadata": {},
   "source": [
    "# Минимальные остовные деревья. Алгоритм Крускала."
   ]
  },
  {
   "cell_type": "markdown",
   "metadata": {},
   "source": [
    "**Задача.** Составить алгоритм Кускала на основе структуры Union_Find \n",
    "\n",
    "**Формат файла:**\n",
    "\n",
    "- [число_вершин] [число_ребер]\n",
    "- [одна_конечная_точка_ребра_1] [другая_конечная_точка_ребра_1] [стоимость_ребра_1]\n",
    "- [одна_конечная_точка_ребра_2] [другая_конечная_точка_ребра_2] [стоимость_ребра_2]\n",
    "- ...\n",
    "\n",
    "**Замечание:** Стоимость ребер может быть отрицательной и не обязательно различна.\n",
    "\n",
    "Сравнить временные затраты для данной задачи и для решения с помощью алгоритма Прима.\n",
    "Привести и обосновать асимптотическую оценку временной сложности алгоритма."
   ]
  },
  {
   "cell_type": "markdown",
   "metadata": {},
   "source": [
    "## Чтение данных из файла."
   ]
  },
  {
   "cell_type": "code",
   "execution_count": 10,
   "metadata": {},
   "outputs": [
    {
     "name": "stdout",
     "output_type": "stream",
     "text": [
      "6 10\n",
      "[(0, 1, 6), (0, 3, 5), (0, 4, 4), (1, 3, 1), (1, 4, 2), (1, 2, 5), (1, 5, 3), (2, 5, 4), (3, 4, 2), (4, 5, 4)]\n"
     ]
    }
   ],
   "source": [
    "def read_input(file_path):\n",
    "    with open(file_path, 'r') as f:\n",
    "        data = f.read().splitlines()\n",
    "    n, m = map(int, data[0].split())\n",
    "    edges = [tuple(map(int, line.split())) for line in data[1:]]\n",
    "    \n",
    "    # Коррекция нумерации вершин (если нужно)\n",
    "    edges = [(u-1, v-1, cost) for u, v, cost in edges]\n",
    "    return n, edges\n",
    "\n",
    "n_test, edges_test = read_input(\"test.txt\")\n",
    "n_data, edges_data = read_input(\"data.txt\")\n",
    "\n",
    "print(n_test, len(edges_test))\n",
    "print(edges_test)\n"
   ]
  },
  {
   "cell_type": "markdown",
   "metadata": {},
   "source": [
    "## Алгоритм Прима."
   ]
  },
  {
   "cell_type": "markdown",
   "metadata": {},
   "source": [
    "Наивный алгоритм Прима строит минимальное остовное дерево (MST) поэтапно, начиная с произвольной вершины и добавляя рёбра минимальной стоимости, которые соединяют уже построенную часть дерева с остальной частью графа.\n",
    "\n",
    "**Описание алгоритма Прима:**\n",
    "1. Инициализация: Выбираем произвольную начальную вершину (например, вершину 0). Отмечаем её как посещённую. Инициализируем список рёбер минимального остовного дерева (MST).\n",
    "2. Выбор минимального ребра: На каждом шаге перебираем все рёбра графа. Находим минимальное ребро, которое соединяет уже посещённую вершину с непосещённой.\n",
    "3. Добавление ребра в дерево: Добавляем выбранное ребро в MST. Отмечаем новую вершину как посещённую.\n",
    "\n",
    "**Остановка.** Алгоритм завершает работу, когда все вершины графа включены в MST (количество рёбер в MST становится равно $n−1$, где $n$ — число вершин)."
   ]
  },
  {
   "cell_type": "code",
   "execution_count": 31,
   "metadata": {},
   "outputs": [
    {
     "name": "stdout",
     "output_type": "stream",
     "text": [
      "[(0, 4, 4), (4, 1, 2), (1, 3, 1), (1, 5, 3), (5, 2, 4)]\n"
     ]
    }
   ],
   "source": [
    "def prim(n, edges):\n",
    "\n",
    "    visited = [False] * n\n",
    "    mst = []\n",
    "    mst_cost = 0\n",
    "    visited[0] = True\n",
    "    \n",
    "    while len(mst) < n - 1:\n",
    "        min_edge = None\n",
    "        min_cost = float('inf')\n",
    "        \n",
    "        for u, v, cost in edges:\n",
    "            if 0 <= u < n and 0 <= v < n:  # Проверка индексов\n",
    "                if visited[u] and not visited[v] and cost < min_cost:\n",
    "                    min_edge = (u, v, cost)\n",
    "                    min_cost = cost\n",
    "                elif visited[v] and not visited[u] and cost < min_cost:\n",
    "                    min_edge = (v, u, cost)\n",
    "                    min_cost = cost\n",
    "        \n",
    "        if min_edge:\n",
    "            mst.append(min_edge)\n",
    "            mst_cost += min_edge[2]\n",
    "            visited[min_edge[1]] = True\n",
    "    return mst_cost, mst\n",
    "\n",
    "print(prim(n_test, edges_test)[1])\n"
   ]
  },
  {
   "cell_type": "markdown",
   "metadata": {},
   "source": [
    "**Время и результат работы алгоритма Прима на тестовом наборе данных:**"
   ]
  },
  {
   "cell_type": "code",
   "execution_count": 14,
   "metadata": {},
   "outputs": [
    {
     "name": "stdout",
     "output_type": "stream",
     "text": [
      "Стоимость MST графа на тестовом наборе данных с помощью алгоритма Прима: 14\n",
      "Время работы алгоритма Прима на тестовом наборе данных: 0.0 секунд\n"
     ]
    }
   ],
   "source": [
    "import time\n",
    "\n",
    "start_time = time.time()\n",
    "prim_test = prim(n_test, edges_test)\n",
    "end_time = time.time()\n",
    "\n",
    "print(f'Стоимость MST графа на тестовом наборе данных с помощью алгоритма Прима: {prim_test[0]}')\n",
    "print(f'Время работы алгоритма Прима на тестовом наборе данных: {end_time - start_time} секунд')"
   ]
  },
  {
   "cell_type": "markdown",
   "metadata": {},
   "source": [
    "**Время и результат работы алгоритма Прима на усложненном наборе данных:**"
   ]
  },
  {
   "cell_type": "code",
   "execution_count": 20,
   "metadata": {},
   "outputs": [
    {
     "name": "stdout",
     "output_type": "stream",
     "text": [
      "Стоимость MST графа на усложненном наборе данных с помощью алгоритма Прима: -3612829\n",
      "Время работы алгоритма Прима на усложненном наборе данных: 0.3373689651489258 секунд\n"
     ]
    }
   ],
   "source": [
    "import time\n",
    "\n",
    "start_time = time.time()\n",
    "prim_data = prim(n_data, edges_data)\n",
    "end_time = time.time()\n",
    "\n",
    "print(f'Стоимость MST графа на усложненном наборе данных с помощью алгоритма Прима: {prim_data[0]}')\n",
    "print(f'Время работы алгоритма Прима на усложненном наборе данных: {end_time - start_time} секунд')"
   ]
  },
  {
   "cell_type": "markdown",
   "metadata": {},
   "source": [
    "## Наивный алгоритм Крускала."
   ]
  },
  {
   "cell_type": "markdown",
   "metadata": {},
   "source": [
    "Наивный подход к реализации алгоритма Крускала заключается в управлении компонентами связности вручную, без использования оптимизированной структуры данных (например, Union-Find). Мы будем хранить текущие компоненты как множества, обновляя их при добавлении рёбер в остовное дерево.\n",
    "\n",
    "**Описание алгоритма Крускала (наивный подход):**\n",
    "1. Инициализация: Сортируем рёбра графа по их весу. Каждая вершина изначально образует свою собственную компоненту связности.\n",
    "2. Добавление рёбер: Перебираем рёбра в порядке возрастания их весов. Если конечные вершины ребра принадлежат разным компонентам, добавляем это ребро в остовное дерево.\n",
    "3. Обновление компонент связности: При добавлении ребра объединяем две компоненты связности, содержащие его вершины.\n",
    "\n",
    "**Остановка:** Алгоритм завершает работу, когда в остовное дерево включено $n−1$ рёбер ($n$ — число вершин)."
   ]
  },
  {
   "cell_type": "code",
   "execution_count": 34,
   "metadata": {},
   "outputs": [],
   "source": [
    "def kruskal_naive(n, edges):\n",
    "    # Сортируем рёбра по весу\n",
    "    edges.sort(key=lambda x: x[2])\n",
    "    \n",
    "    # Список для хранения минимального остовного дерева\n",
    "    mst = []\n",
    "    mst_cost = 0\n",
    "    \n",
    "    # Изначально каждая вершина принадлежит своей компоненте\n",
    "    components = {i: {i} for i in range(n)}\n",
    "    \n",
    "    for u, v, cost in edges:\n",
    "        # Если вершины принадлежат разным компонентам, добавляем ребро\n",
    "        if components[u] != components[v]:\n",
    "            mst.append((u, v, cost))\n",
    "            mst_cost += cost\n",
    "            \n",
    "            # Объединяем компоненты\n",
    "            comp_u = components[u]\n",
    "            comp_v = components[v]\n",
    "            merged = comp_u.union(comp_v)\n",
    "            \n",
    "            for node in merged:\n",
    "                components[node] = merged\n",
    "                \n",
    "            # Останавливаемся, если в дереве уже n-1 рёбер\n",
    "            if len(mst) == n - 1:\n",
    "                break\n",
    "    \n",
    "    return mst_cost, mst"
   ]
  },
  {
   "cell_type": "markdown",
   "metadata": {},
   "source": [
    "**Время и результат работы алгоритма Крускала (наивный подход) на тестовом наборе данных:**"
   ]
  },
  {
   "cell_type": "code",
   "execution_count": 35,
   "metadata": {},
   "outputs": [
    {
     "name": "stdout",
     "output_type": "stream",
     "text": [
      "Стоимость MST графа на тестовом наборе данных с помощью алгоритма Крускала (наивный подход): 14\n",
      "Время работы алгоритма Крускала (наивный подход) на тестовом наборе данных: 0.0 секунд\n"
     ]
    }
   ],
   "source": [
    "import time\n",
    "\n",
    "start_time = time.time()\n",
    "kruskal_test = kruskal_naive(n_test, edges_test)\n",
    "end_time = time.time()\n",
    "\n",
    "print(f'Стоимость MST графа на тестовом наборе данных с помощью алгоритма Крускала (наивный подход): {kruskal_test[0]}')\n",
    "print(f'Время работы алгоритма Крускала (наивный подход) на тестовом наборе данных: {end_time - start_time} секунд')"
   ]
  },
  {
   "cell_type": "markdown",
   "metadata": {},
   "source": [
    "**Время и результат работы алгоритма Крускала (наивный подход) на усложненном наборе данных:**"
   ]
  },
  {
   "cell_type": "code",
   "execution_count": 25,
   "metadata": {},
   "outputs": [
    {
     "name": "stdout",
     "output_type": "stream",
     "text": [
      "Стоимость MST графа на усложненном наборе данных с помощью алгоритма Крускала (наивный подход): -3612829\n",
      "Время работы алгоритма Крускала (наивный подход) на усложненном наборе данных: 0.01189565658569336 секунд\n"
     ]
    }
   ],
   "source": [
    "import time\n",
    "\n",
    "start_time = time.time()\n",
    "kruskal_data = kruskal_naive(n_data, edges_data)\n",
    "end_time = time.time()\n",
    "\n",
    "print(f'Стоимость MST графа на усложненном наборе данных с помощью алгоритма Крускала (наивный подход): {kruskal_data[0]}')\n",
    "print(f'Время работы алгоритма Крускала (наивный подход) на усложненном наборе данных: {end_time - start_time} секунд')"
   ]
  },
  {
   "cell_type": "markdown",
   "metadata": {},
   "source": [
    "## Алгоритм Крускала на основе структуры Union_Find."
   ]
  },
  {
   "cell_type": "markdown",
   "metadata": {},
   "source": [
    "Алгоритм Крускала с использованием структуры данных Union-Find (или Disjoint Set Union, DSU) является более эффективным подходом для построения минимального остовного дерева (MST). Эта структура позволяет быстро объединять компоненты связности и проверять, принадлежат ли две вершины одной компоненте.\n",
    "\n",
    "**Основная идея:**\n",
    "1. Использовать Union-Find для управления компонентами связности.\n",
    "2. Сортировать рёбра графа по весу.\n",
    "3. Перебирать рёбра в порядке возрастания веса и добавлять их в остовное дерево, если вершины, которые они соединяют, принадлежат разным компонентам.\n",
    "\n",
    "**Шаги алгоритма**\n",
    "1. Инициализация: Создаём объект Union-Find для отслеживания компонент связности. Сортируем рёбра по весу.\n",
    "2. Добавление рёбер: Перебираем рёбра в порядке возрастания их весов. Если вершины ребра принадлежат разным компонентам (проверка с помощью Union-Find), добавляем ребро в MST и объединяем компоненты.\n",
    "\n",
    "**Остановка:** Алгоритм завершает работу, когда в MST включено $n−1$ рёбер ($n$ — число вершин)."
   ]
  },
  {
   "cell_type": "code",
   "execution_count": 21,
   "metadata": {},
   "outputs": [],
   "source": [
    "class UnionFind:\n",
    "    def __init__(self, n):\n",
    "        self.parent = list(range(n))\n",
    "        self.rank = [0] * n\n",
    "\n",
    "    def find(self, node):\n",
    "        if self.parent[node] != node:\n",
    "            self.parent[node] = self.find(self.parent[node])\n",
    "        return self.parent[node]\n",
    "\n",
    "    def union(self, node1, node2):\n",
    "        root1 = self.find(node1)\n",
    "        root2 = self.find(node2)\n",
    "        if root1 != root2:\n",
    "            if self.rank[root1] > self.rank[root2]:\n",
    "                self.parent[root2] = root1\n",
    "            elif self.rank[root1] < self.rank[root2]:\n",
    "                self.parent[root1] = root2\n",
    "            else:\n",
    "                self.parent[root2] = root1\n",
    "                self.rank[root1] += 1\n",
    "\n",
    "\n",
    "def kruskal(n, edges):\n",
    "    edges.sort(key=lambda x: x[2])  # Сортировка рёбер по весу\n",
    "    uf = UnionFind(n)\n",
    "    mst = []\n",
    "    mst_cost = 0\n",
    "\n",
    "    for u, v, cost in edges:\n",
    "        if uf.find(u) != uf.find(v):\n",
    "            uf.union(u, v)\n",
    "            mst.append((u, v, cost))\n",
    "            mst_cost += cost\n",
    "\n",
    "    return mst_cost, mst\n"
   ]
  },
  {
   "cell_type": "markdown",
   "metadata": {},
   "source": [
    "**Время и результат работы алгоритма Крускала (на основе структуры Union_Find) на тестовом наборе данных:**"
   ]
  },
  {
   "cell_type": "code",
   "execution_count": 22,
   "metadata": {},
   "outputs": [
    {
     "name": "stdout",
     "output_type": "stream",
     "text": [
      "Стоимость MST графа на тестовом наборе данных с помощью алгоритма Крускала (Union_Find): 14\n",
      "Время работы алгоритма Крускала (Union_Find) на тестовом наборе данных: 0.0 секунд\n"
     ]
    }
   ],
   "source": [
    "import time\n",
    "\n",
    "start_time = time.time()\n",
    "kruskal_test = kruskal(n_test, edges_test)\n",
    "end_time = time.time()\n",
    "\n",
    "print(f'Стоимость MST графа на тестовом наборе данных с помощью алгоритма Крускала (Union_Find): {kruskal_test[0]}')\n",
    "print(f'Время работы алгоритма Крускала (Union_Find) на тестовом наборе данных: {end_time - start_time} секунд')"
   ]
  },
  {
   "cell_type": "markdown",
   "metadata": {},
   "source": [
    "**Время и результат работы алгоритма Крускала (на основе структуры Union_Find) на усложненном наборе данных:**"
   ]
  },
  {
   "cell_type": "code",
   "execution_count": 30,
   "metadata": {},
   "outputs": [
    {
     "name": "stdout",
     "output_type": "stream",
     "text": [
      "Стоимость MST графа на усложненном наборе данных с помощью алгоритма Крускала (Union_Find): -3612829\n",
      "Время работы алгоритма Крускала (Union_Find) на усложненном наборе данных: 0.0015425682067871094 секунд\n"
     ]
    }
   ],
   "source": [
    "import time\n",
    "\n",
    "start_time = time.time()\n",
    "kruskal_data = kruskal(n_data, edges_data)\n",
    "end_time = time.time()\n",
    "\n",
    "print(f'Стоимость MST графа на усложненном наборе данных с помощью алгоритма Крускала (Union_Find): {kruskal_data[0]}')\n",
    "print(f'Время работы алгоритма Крускала (Union_Find) на усложненном наборе данных: {end_time - start_time} секунд')"
   ]
  }
 ],
 "metadata": {
  "kernelspec": {
   "display_name": "base",
   "language": "python",
   "name": "python3"
  },
  "language_info": {
   "codemirror_mode": {
    "name": "ipython",
    "version": 3
   },
   "file_extension": ".py",
   "mimetype": "text/x-python",
   "name": "python",
   "nbconvert_exporter": "python",
   "pygments_lexer": "ipython3",
   "version": "3.10.9"
  }
 },
 "nbformat": 4,
 "nbformat_minor": 2
}
