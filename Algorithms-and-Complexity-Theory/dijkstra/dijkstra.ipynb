{
 "cells": [
  {
   "cell_type": "markdown",
   "metadata": {},
   "source": [
    "# Алгоритм Дейкстры. Наивная реализация. Реализация на основе двоичной кучи."
   ]
  },
  {
   "cell_type": "markdown",
   "metadata": {},
   "source": [
    "**Задача.**\n",
    "\n",
    "Составьте программу, осуществляющую реализацию алгоритма Дейкстры на основе двоичной кучи. Используйте ее для решения задачи о кратчайшем пути с единственным источником в разных неориентированных графах\n",
    "\n",
    "**Формат входных данных.**\n",
    "\n",
    "**Тестовый пример:** этот файл описывает неориентированный граф с 8 вершинами (формат файла см. ниже). Каковы кратчайшие расстояния от вершины 1 до любой другой вершины? (Ответ, для вершин с 1 по 8, в порядке: 0,1,2,3,4,4,3,2.)\n",
    "\n",
    "**Набор данных задачи:** этот файл содержит представление списка смежности неориентированного графа с 200 вершинами, помеченными от 1 до 200. В каждой строке указаны ребра, инцидентные данной вершине, а также их (неотрицательные) длины. Например, в шестой строке первой записью является «6», указывающая, что эта строка соответствует вершине 6. Следующая запись в этой строке «141,8200» указывает, что между вершиной 6 и вершиной 141 существует ненаправленное ребро, имеющее длина 8200. Остальные пары в этой строке указывают остальные вершины, смежные с вершиной 6, и длины соответствующих ребер. Вершина 1 является начальной вершиной. Каковы кратчайшие расстояния от вершины 1 до следующих десяти вершин? 7,37,59,82,99,115,133,165,188,197.\n",
    "\n",
    "Сравнить временные затраты для данной задачи и для задачи с простой реализацией алгоритма Дейкстры.\n",
    "Привести и обосновать асимптотическую оценку временной сложности.\n"
   ]
  },
  {
   "cell_type": "markdown",
   "metadata": {},
   "source": [
    "## Наивная реализация.\n",
    "\n",
    "Этот алгоритм обычно используется для нахождения кратчайшего пути от одной вершины (источника) ко всем другим вершинам в графе с неотрицательными весами. В наивной реализации мы можем использовать списки и простой поиск минимального расстояния на каждом шаге, что даст сложность $ O(n^2 + m) $, где $ n $ раз осуществляем поиск вершины с минимальной величиной $ d $ среди $ O(n) $ непомеченных вершин и m раз проводим релаксацию за $ O(1) $. Для плотных графов $ (m ≈ n^2) $ данная асимптотика является оптимальной."
   ]
  },
  {
   "cell_type": "code",
   "execution_count": 163,
   "metadata": {},
   "outputs": [],
   "source": [
    "import sys\n",
    "\n",
    "def dijkstra(graph, src):\n",
    "\n",
    "    num_vertices = len(graph)\n",
    "    dist = [sys.maxsize] * num_vertices\n",
    "    dist[src] = 0\n",
    "    visited = [False] * num_vertices\n",
    "\n",
    "    for _ in range(num_vertices):\n",
    "\n",
    "        min_distance = sys.maxsize\n",
    "        min_index = -1\n",
    "\n",
    "        for v in range(num_vertices):\n",
    "            if not visited[v] and dist[v] < min_distance:\n",
    "                min_distance = dist[v]\n",
    "                min_index = v\n",
    "\n",
    "        visited[min_index] = True\n",
    "\n",
    "        for u, weight in enumerate(graph[min_index]):\n",
    "            if weight > 0 and not visited[u] and dist[min_index] + weight < dist[u]:\n",
    "                dist[u] = dist[min_index] + weight\n",
    "\n",
    "    return dist"
   ]
  },
  {
   "cell_type": "code",
   "execution_count": 164,
   "metadata": {},
   "outputs": [],
   "source": [
    "def adjacency_matrix(data, n):\n",
    "\n",
    "    graph = [[0] * n for _ in range(n)]\n",
    "\n",
    "    for line in data:\n",
    "\n",
    "        parts = line.split()\n",
    "        node = int(parts[0]) - 1\n",
    "\n",
    "        for edge in parts[1:]:\n",
    "            neighbor, weight = map(int, edge.split(','))\n",
    "            graph[node][neighbor - 1] = weight\n",
    "            graph[neighbor - 1][node] = weight\n",
    "            \n",
    "    return graph"
   ]
  },
  {
   "cell_type": "code",
   "execution_count": 166,
   "metadata": {},
   "outputs": [
    {
     "name": "stdout",
     "output_type": "stream",
     "text": [
      "Время выполнения наивного алгоритма дейкстры: 0.0 секунд\n",
      "Минимальное расстояние до каждого из объектов: [0, 1, 2, 3, 4, 4, 3, 2]\n"
     ]
    }
   ],
   "source": [
    "import time\n",
    "\n",
    "with open('test.txt', 'r') as file:\n",
    "    test = file.readlines()\n",
    "\n",
    "matrix_test = adjacency_matrix(test, 8)\n",
    "\n",
    "start_time = time.time()\n",
    "min_dist = dijkstra(matrix_test, 0)\n",
    "end_time = time.time()\n",
    "\n",
    "print(f'Время выполнения наивного алгоритма дейкстры: {end_time - start_time} секунд')\n",
    "print(f'Минимальное расстояние до каждого из объектов: {min_dist}')"
   ]
  },
  {
   "cell_type": "code",
   "execution_count": 275,
   "metadata": {},
   "outputs": [
    {
     "name": "stdout",
     "output_type": "stream",
     "text": [
      "Время выполнения наивного алгоритма дейкстры: 0.010960578918457031 секунд\n",
      "Минимальное расстояние до каждого из объектов: [0, 2971, 2644, 3056, 2525, 2818, 2599, 1875, 745, 3205, 1551, 2906, 2394, 1803, 2942, 1837, 3111, 2284, 1044, 2351, 3630, 4028, 2650, 3653, 2249, 2150, 1222, 2090, 3540, 2303, 3455, 3004, 2551, 2656, 998, 2236, 2610, 3548, 1851, 4091, 2732, 2040, 3312, 2142, 3438, 2937, 2979, 2757, 2437, 3152, 2503, 2817, 2420, 3369, 2862, 2609, 2857, 3668, 2947, 2592, 1676, 2573, 2498, 2047, 826, 3393, 2535, 4636, 3650, 743, 1265, 1539, 3007, 4286, 2720, 3220, 2298, 2795, 2806, 982, 2976, 2052, 3997, 2656, 1193, 2461, 1608, 3046, 3261, 2018, 2786, 647, 3542, 3415, 2186, 2398, 4248, 3515, 2367, 2970, 3536, 2478, 1826, 2551, 3368, 2303, 2540, 1169, 3140, 2317, 2535, 1759, 1899, 508, 2399, 3513, 2597, 2176, 1090, 2328, 2818, 1306, 2805, 2057, 2618, 1694, 3285, 1203, 676, 1820, 1445, 2468, 2029, 1257, 1533, 2417, 3599, 2494, 4101, 546, 1889, 2616, 2141, 2359, 648, 2682, 3464, 2873, 3109, 2183, 4159, 1832, 2080, 1831, 2001, 3013, 2143, 1376, 1627, 2403, 4772, 2556, 2124, 1693, 2442, 3814, 2630, 2038, 2776, 1365, 3929, 1990, 2069, 3558, 1432, 2279, 3829, 2435, 3691, 3027, 2345, 3807, 2145, 2703, 2884, 3806, 1151, 2505, 2340, 2596, 4123, 1737, 3136, 1073, 1707, 2417, 3068, 1724, 815, 2060]\n"
     ]
    }
   ],
   "source": [
    "import time\n",
    "\n",
    "with open('data.txt', 'r') as file:\n",
    "    data = file.readlines()\n",
    "\n",
    "matrix = adjacency_matrix(data, 200)\n",
    "\n",
    "start_time = time.time()\n",
    "min_dist = dijkstra(matrix, 0)\n",
    "end_time = time.time()\n",
    "\n",
    "print(f'Время выполнения наивного алгоритма дейкстры: {end_time - start_time} секунд')\n",
    "print(f'Минимальное расстояние до каждого из объектов: {min_dist}')"
   ]
  },
  {
   "cell_type": "markdown",
   "metadata": {},
   "source": [
    "## Реализация на двоичной куче."
   ]
  },
  {
   "cell_type": "markdown",
   "metadata": {},
   "source": [
    "Используя двоичную кучу можно выполнять операции извлечения минимума и обновления элемента за $ O(logn) $. Тогда время работы алгоритма Дейкстры составит $ O(nlogn+mlogn)=O(mlogn) $."
   ]
  },
  {
   "cell_type": "code",
   "execution_count": 276,
   "metadata": {},
   "outputs": [],
   "source": [
    "import sys\n",
    "\n",
    "class BinaryHeap:\n",
    "    def __init__(self):\n",
    "        self.heap = []  # Массив для хранения элементов ((вес, узел))\n",
    "        self.positions = {}  # Словарь для отслеживания позиций узлов в куче (для быстрого доступа при уменьшении ключа)\n",
    "\n",
    "    def insert(self, weight, node):\n",
    "        self.heap.append((weight, node))\n",
    "        self.positions[node] = len(self.heap) - 1\n",
    "        self.sift_up(len(self.heap) - 1)\n",
    "\n",
    "    def extract_min(self):\n",
    "\n",
    "        if not self.heap:\n",
    "            return None\n",
    "        \n",
    "        min_elem = self.heap[0]\n",
    "        last_elem = self.heap.pop()\n",
    "        \n",
    "        if self.heap:\n",
    "            self.heap[0] = last_elem \n",
    "            self.positions[last_elem[1]] = 0\n",
    "            self.sift_down(0)\n",
    "        \n",
    "        del self.positions[min_elem[1]]\n",
    "        return min_elem\n",
    "\n",
    "    def decrease_key(self, node, new_weight):\n",
    "        index = self.positions[node]\n",
    "        self.heap[index] = (new_weight, node)\n",
    "        self.sift_up(index)\n",
    "\n",
    "    def sift_up(self, index):\n",
    "\n",
    "        while index > 0:\n",
    "\n",
    "            parent_index = (index - 1) // 2\n",
    "\n",
    "            if self.heap[index][0] < self.heap[parent_index][0]:\n",
    "                self.swap(index, parent_index)\n",
    "                index = parent_index\n",
    "            else:\n",
    "                break\n",
    "\n",
    "    def sift_down(self, index):\n",
    "\n",
    "        while 2 * index + 1 < len(self.heap):\n",
    "            \n",
    "            left_child = 2 * index + 1\n",
    "            right_child = 2 * index + 2\n",
    "            smallest = left_child\n",
    "\n",
    "            if right_child < len(self.heap) and self.heap[right_child][0] < self.heap[left_child][0]:\n",
    "                smallest = right_child\n",
    "\n",
    "            if self.heap[index][0] > self.heap[smallest][0]:\n",
    "                self.swap(index, smallest)\n",
    "                index = smallest\n",
    "            else:\n",
    "                break\n",
    "\n",
    "    def swap(self, i, j):\n",
    "        self.positions[self.heap[i][1]] = j\n",
    "        self.positions[self.heap[j][1]] = i\n",
    "        self.heap[i], self.heap[j] = self.heap[j], self.heap[i]\n",
    "\n",
    "    def is_empty(self):\n",
    "        return len(self.heap) == 0\n",
    "\n",
    "def dijkstra_heap(graph, src):\n",
    "\n",
    "    num_vertices = len(graph)\n",
    "    dist = [sys.maxsize] * num_vertices\n",
    "    dist[src] = 0\n",
    "    min_heap = BinaryHeap()\n",
    "    min_heap.insert(0, src)\n",
    "\n",
    "    while not min_heap.is_empty():\n",
    "\n",
    "        min_dist, u = min_heap.extract_min()\n",
    "\n",
    "        for v, weight in enumerate(graph[u]):\n",
    "\n",
    "            if weight > 0 and dist[u] + weight < dist[v]:\n",
    "                dist[v] = dist[u] + weight\n",
    "\n",
    "                if v in min_heap.positions:\n",
    "                    min_heap.decrease_key(v, dist[v])\n",
    "\n",
    "                else:\n",
    "                    min_heap.insert(dist[v], v)\n",
    "\n",
    "    return dist"
   ]
  },
  {
   "cell_type": "code",
   "execution_count": 278,
   "metadata": {},
   "outputs": [
    {
     "name": "stdout",
     "output_type": "stream",
     "text": [
      "Время выполнения алгоритма Дейкстры на двоичной куче: 0.0 секунд\n",
      "Минимальное расстояние до каждого из объектов: [0, 1, 2, 3, 4, 4, 3, 2]\n"
     ]
    }
   ],
   "source": [
    "import time\n",
    "\n",
    "with open('test.txt', 'r') as file:\n",
    "    test = file.readlines()\n",
    "\n",
    "matrix_test = adjacency_matrix(test, 8)\n",
    "\n",
    "start_time = time.time()\n",
    "min_dist = dijkstra_heap(matrix_test, 0)\n",
    "end_time = time.time()\n",
    "\n",
    "print(f'Время выполнения алгоритма Дейкстры на двоичной куче: {end_time - start_time} секунд')\n",
    "print(f'Минимальное расстояние до каждого из объектов: {min_dist}')"
   ]
  },
  {
   "cell_type": "code",
   "execution_count": 351,
   "metadata": {},
   "outputs": [
    {
     "name": "stdout",
     "output_type": "stream",
     "text": [
      "Время выполнения алгоритма Дейкстры на двоичной куче: 0.0013239383697509766 секунд\n",
      "Минимальное расстояние до каждого из объектов: [0, 2971, 2644, 3056, 2525, 2818, 2599, 1875, 745, 3205, 1551, 2906, 2394, 1803, 2942, 1837, 3111, 2284, 1044, 2351, 3630, 4028, 2650, 3653, 2249, 2150, 1222, 2090, 3540, 2303, 3455, 3004, 2551, 2656, 998, 2236, 2610, 3548, 1851, 4091, 2732, 2040, 3312, 2142, 3438, 2937, 2979, 2757, 2437, 3152, 2503, 2817, 2420, 3369, 2862, 2609, 2857, 3668, 2947, 2592, 1676, 2573, 2498, 2047, 826, 3393, 2535, 4636, 3650, 743, 1265, 1539, 3007, 4286, 2720, 3220, 2298, 2795, 2806, 982, 2976, 2052, 3997, 2656, 1193, 2461, 1608, 3046, 3261, 2018, 2786, 647, 3542, 3415, 2186, 2398, 4248, 3515, 2367, 2970, 3536, 2478, 1826, 2551, 3368, 2303, 2540, 1169, 3140, 2317, 2535, 1759, 1899, 508, 2399, 3513, 2597, 2176, 1090, 2328, 2818, 1306, 2805, 2057, 2618, 1694, 3285, 1203, 676, 1820, 1445, 2468, 2029, 1257, 1533, 2417, 3599, 2494, 4101, 546, 1889, 2616, 2141, 2359, 648, 2682, 3464, 2873, 3109, 2183, 4159, 1832, 2080, 1831, 2001, 3013, 2143, 1376, 1627, 2403, 4772, 2556, 2124, 1693, 2442, 3814, 2630, 2038, 2776, 1365, 3929, 1990, 2069, 3558, 1432, 2279, 3829, 2435, 3691, 3027, 2345, 3807, 2145, 2703, 2884, 3806, 1151, 2505, 2340, 2596, 4123, 1737, 3136, 1073, 1707, 2417, 3068, 1724, 815, 2060]\n"
     ]
    }
   ],
   "source": [
    "import time\n",
    "\n",
    "with open('data.txt', 'r') as file:\n",
    "    data = file.readlines()\n",
    "\n",
    "matrix = adjacency_matrix(data, 200)\n",
    "\n",
    "start_time = time.time()\n",
    "min_dist = dijkstra_heap(matrix, 0)\n",
    "end_time = time.time()\n",
    "\n",
    "print(f'Время выполнения алгоритма Дейкстры на двоичной куче: {end_time - start_time} секунд')\n",
    "print(f'Минимальное расстояние до каждого из объектов: {min_dist}')"
   ]
  },
  {
   "cell_type": "code",
   "execution_count": 51,
   "metadata": {},
   "outputs": [
    {
     "name": "stdout",
     "output_type": "stream",
     "text": [
      "Минимальное расстояние до вершины 7: 2599\n",
      "Минимальное расстояние до вершины 37: 2610\n",
      "Минимальное расстояние до вершины 59: 2947\n",
      "Минимальное расстояние до вершины 82: 2052\n",
      "Минимальное расстояние до вершины 99: 2367\n",
      "Минимальное расстояние до вершины 115: 2399\n",
      "Минимальное расстояние до вершины 133: 2029\n",
      "Минимальное расстояние до вершины 165: 2442\n",
      "Минимальное расстояние до вершины 188: 2505\n",
      "Минимальное расстояние до вершины 197: 3068\n"
     ]
    }
   ],
   "source": [
    "ver = [7, 37, 59, 82, 99, 115, 133, 165, 188, 197]\n",
    "\n",
    "for v in ver:\n",
    "    print(f'Минимальное расстояние до вершины {v}: {min_dist[v-1]}')"
   ]
  }
 ],
 "metadata": {
  "kernelspec": {
   "display_name": "base",
   "language": "python",
   "name": "python3"
  },
  "language_info": {
   "codemirror_mode": {
    "name": "ipython",
    "version": 3
   },
   "file_extension": ".py",
   "mimetype": "text/x-python",
   "name": "python",
   "nbconvert_exporter": "python",
   "pygments_lexer": "ipython3",
   "version": "3.10.9"
  }
 },
 "nbformat": 4,
 "nbformat_minor": 2
}
