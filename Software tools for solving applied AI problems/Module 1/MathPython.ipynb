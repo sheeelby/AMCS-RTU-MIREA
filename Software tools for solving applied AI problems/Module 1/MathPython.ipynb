{
  "nbformat": 4,
  "nbformat_minor": 0,
  "metadata": {
    "hide_input": false,
    "kernelspec": {
      "display_name": "Python 3",
      "language": "python",
      "name": "python3"
    },
    "language_info": {
      "codemirror_mode": {
        "name": "ipython",
        "version": 3
      },
      "file_extension": ".py",
      "mimetype": "text/x-python",
      "name": "python",
      "nbconvert_exporter": "python",
      "pygments_lexer": "ipython3",
      "version": "3.7.6"
    },
    "latex_envs": {
      "LaTeX_envs_menu_present": true,
      "autoclose": false,
      "autocomplete": true,
      "bibliofile": "biblio.bib",
      "cite_by": "apalike",
      "current_citInitial": 1,
      "eqLabelWithNumbers": true,
      "eqNumInitial": 1,
      "hotkeys": {
        "equation": "Ctrl-E",
        "itemize": "Ctrl-I"
      },
      "labels_anchors": false,
      "latex_user_defs": false,
      "report_style_numbering": false,
      "user_envs_cfg": false
    },
    "nbTranslate": {
      "displayLangs": [
        "*"
      ],
      "hotkey": "alt-t",
      "langInMainMenu": true,
      "sourceLang": "en",
      "targetLang": "fr",
      "useGoogleTranslate": true
    },
    "toc": {
      "base_numbering": 1,
      "nav_menu": {},
      "number_sections": false,
      "sideBar": true,
      "skip_h1_title": true,
      "title_cell": "Table of Contents",
      "title_sidebar": "Contents",
      "toc_cell": false,
      "toc_position": {},
      "toc_section_display": true,
      "toc_window_display": false
    },
    "varInspector": {
      "cols": {
        "lenName": 16,
        "lenType": 16,
        "lenVar": 40
      },
      "kernels_config": {
        "python": {
          "delete_cmd_postfix": "",
          "delete_cmd_prefix": "del ",
          "library": "var_list.py",
          "varRefreshCmd": "print(var_dic_list())"
        },
        "r": {
          "delete_cmd_postfix": ") ",
          "delete_cmd_prefix": "rm(",
          "library": "var_list.r",
          "varRefreshCmd": "cat(var_dic_list()) "
        }
      },
      "types_to_exclude": [
        "module",
        "function",
        "builtin_function_or_method",
        "instance",
        "_Feature"
      ],
      "window_display": false
    },
    "colab": {
      "provenance": [],
      "collapsed_sections": [
        "KlA_LeBPx4kr"
      ]
    }
  },
  "cells": [
    {
      "cell_type": "markdown",
      "metadata": {
        "id": "7CatsVNZSUtt"
      },
      "source": [
        "# Перед началом работы\n",
        "\n",
        "В Colab, среде которой мы работаем, все файлы, загруженные нами, будут удалены после завершения работы. Чтобы сохранить все файлы мы сделали GitHub репозиторий и будем его каждый раз подключать заново. Для этого выполняем команду\n",
        "\n",
        "`!git clone https://github.com/neuralcomputer/ML_School.git`\n",
        "\n",
        "Все данные скачаются, загрузятся в среду в папку ML_School/\n",
        "\n",
        "Всегда будем писать такой путь к файлам.\n",
        "\n",
        "Если вы работаете на локальном компьютере, то необходимо писать путь для вашего компьютера."
      ]
    },
    {
      "cell_type": "code",
      "metadata": {
        "colab": {
          "base_uri": "https://localhost:8080/"
        },
        "id": "qOvprswWSls4",
        "outputId": "7877af90-b408-4228-ed77-e1c450dbbf50"
      },
      "source": [
        "!git clone https://github.com/neuralcomputer/ML_School.git"
      ],
      "execution_count": null,
      "outputs": [
        {
          "output_type": "stream",
          "name": "stdout",
          "text": [
            "Cloning into 'ML_School'...\n",
            "remote: Enumerating objects: 91, done.\u001b[K\n",
            "remote: Counting objects: 100% (12/12), done.\u001b[K\n",
            "remote: Compressing objects: 100% (12/12), done.\u001b[K\n",
            "remote: Total 91 (delta 4), reused 0 (delta 0), pack-reused 79\u001b[K\n",
            "Receiving objects: 100% (91/91), 26.02 MiB | 10.67 MiB/s, done.\n",
            "Resolving deltas: 100% (28/28), done.\n"
          ]
        }
      ]
    },
    {
      "cell_type": "markdown",
      "metadata": {
        "id": "JfcjVMNAx4kW"
      },
      "source": [
        "# Математика в Python\n",
        "Приветствую! Мы начинаем изучение замечательной области машинного обучения, которая позволяет обучать компьютеры решать многие задачи образом, похожим на то, как обучается человек.\n",
        "В курсе мы будем пользоваться многими библиотеками замечательного языка Python, с которым вы немного знакомы. И прежде чем начинать изучать машинное обучение мы познакомимся со способами работы и отображения данных.   \n",
        "\n",
        "Сегодня мы посмотрим, как можно выполнять математические операции в Python, посмотрим на разные типы *объектов* и переменных.\n",
        "\n",
        "Объект - это то, что действительно хранится в определенном месте памяти компьютера. Конечно, там хранятся только последовательности из 0 и 1, но мы можем по-разному *представлять* себе к чему такие последовательности относятся. В нашем представлении это могут быть числа, это могут быть строки, изображения, и все что угодно. Важно правильно хранить и правильно обращаться (или как говорят *читать*) к этим данным. Чтобы человеку-программисту было понятно с каким объектом он работает, объект имеет название или, по-другому, *имя*.\n",
        "\n",
        "По своей сути *имя* объекта для человека это название, но для компьютера это *адрес* (ссылка, номер) ячейки памяти, где хранится объект. Если объект хранится в нескольких ячейках, то имя это  адрес первой ячейки.\n",
        "\n",
        "Надо различать имя переменной и ее содержимое, т.е. тот объект, на который она ссылается. Обычно одному объекту соответствует одно имя, но может быть и по-другому. Один и тот же объект может иметь два и больше имен, это бывает удобно для программиста, если надо, а не хочется переименовать свой объект.\n",
        "\n",
        "Один из типов данных, и самый важный, это *числа*.\n",
        "\n",
        "Одно число называют *скаляр* и с ним можно выполнять разные математические операции.\n",
        "\n",
        "Набор (говорят *массив* или *тензор*) из нескольких чисел можно представить по-разному, в одномерном, двумерном, трехмерном варианте или даже больше.\n",
        "\n",
        "![img](https://drive.google.com/uc?id=13UY_qQy4w_GhJS-VXOHHg2yPFaml72Lt)\n",
        "\n",
        "Одномерный массив называется *вектор* (или строка), двумерный - *матрица*. Многомерный называют просто массивом указывая его размерность. Часто трехмерный массив называют *тензор*, хотя это неправильно, тензор может быть любой размерности.\n",
        "\n",
        "В массивах (а мы помним, что массив это набор чисел) важно не только количество элементов, но и как именно они расположены, массивы имеют *форму*. 30 чисел можно по-разному расположить:\n",
        "\n",
        "  * друг за другом в одной строке - получим одномерный массив - строку.\n",
        "  * друг под другом в одном столбце -  получим тоже одномерный массив, но уже вектор.\n",
        "  * 6 строк, в каждой по 5 элементов - получили матрицу размером 6 * 5\n",
        "  * 5 строк, в каждой по 6 элементов - получили матрицу размером 5 * 6\n",
        "  * 3 строки по 5 элементов - получим матрицу 3 * 5 и сделаем еще одну матрицу 3 * 5 - получили две матрицы одинакового размера, можем их поставить друг за другом и представить как параллелепипед - получили трехмерный массив.\n",
        "  \n",
        "  И так далее, придумайте свои варианты размещения элементов и определите форму (размерность и размеры) массива.\n",
        "  \n",
        "\n"
      ]
    },
    {
      "cell_type": "markdown",
      "metadata": {
        "id": "mYsORhlBx4kY"
      },
      "source": [
        "# 1. Математические операции со скалярами.\n",
        "Со скалярами можно выполнять разные математические операции. Многие библиотеки (модули) имеют уже готовые решения для этого, базовые операции встроены в сам Python."
      ]
    },
    {
      "cell_type": "code",
      "metadata": {
        "ExecuteTime": {
          "end_time": "2020-10-11T07:27:37.151072Z",
          "start_time": "2020-10-11T07:27:37.148072Z"
        },
        "id": "W4uffvkYx4ka"
      },
      "source": [
        "a=5     # зададим число a\n",
        "b=0.3   # зададим число b"
      ],
      "execution_count": null,
      "outputs": []
    },
    {
      "cell_type": "code",
      "source": [
        "a"
      ],
      "metadata": {
        "colab": {
          "base_uri": "https://localhost:8080/"
        },
        "id": "_pH6-LRFWDXF",
        "outputId": "0a950a34-4bcf-4efb-a93b-372d54962602"
      },
      "execution_count": null,
      "outputs": [
        {
          "output_type": "execute_result",
          "data": {
            "text/plain": [
              "5"
            ]
          },
          "metadata": {},
          "execution_count": 3
        }
      ]
    },
    {
      "cell_type": "code",
      "metadata": {
        "ExecuteTime": {
          "end_time": "2020-10-11T07:27:37.207075Z",
          "start_time": "2020-10-11T07:27:37.199075Z"
        },
        "id": "zy1wQ_bHx4ka"
      },
      "source": [
        "c=a+7 # сложение чисел"
      ],
      "execution_count": null,
      "outputs": []
    },
    {
      "cell_type": "code",
      "source": [
        "c"
      ],
      "metadata": {
        "colab": {
          "base_uri": "https://localhost:8080/"
        },
        "id": "ksoHN8g56PJO",
        "outputId": "54efe269-278e-4b93-e0de-f80665d7d945"
      },
      "execution_count": null,
      "outputs": [
        {
          "output_type": "execute_result",
          "data": {
            "text/plain": [
              "12"
            ]
          },
          "metadata": {},
          "execution_count": 5
        }
      ]
    },
    {
      "cell_type": "code",
      "metadata": {
        "ExecuteTime": {
          "end_time": "2020-10-11T07:27:37.254078Z",
          "start_time": "2020-10-11T07:27:37.251078Z"
        },
        "colab": {
          "base_uri": "https://localhost:8080/"
        },
        "id": "f-nVyje2x4kb",
        "outputId": "25a338cc-db8f-4f48-bd19-4fb4debfe930"
      },
      "source": [
        "a-b # вычитание чисел"
      ],
      "execution_count": null,
      "outputs": [
        {
          "output_type": "execute_result",
          "data": {
            "text/plain": [
              "4.7"
            ]
          },
          "metadata": {},
          "execution_count": 6
        }
      ]
    },
    {
      "cell_type": "code",
      "metadata": {
        "ExecuteTime": {
          "end_time": "2020-10-11T07:27:37.304081Z",
          "start_time": "2020-10-11T07:27:37.301081Z"
        },
        "colab": {
          "base_uri": "https://localhost:8080/"
        },
        "id": "uNuNOsZIx4kc",
        "outputId": "f56d53f0-67c4-46b6-a56f-2f0715299835"
      },
      "source": [
        "a*b # умножение чисел"
      ],
      "execution_count": null,
      "outputs": [
        {
          "output_type": "execute_result",
          "data": {
            "text/plain": [
              "1.5"
            ]
          },
          "metadata": {},
          "execution_count": 7
        }
      ]
    },
    {
      "cell_type": "code",
      "metadata": {
        "ExecuteTime": {
          "end_time": "2020-10-11T07:27:37.354084Z",
          "start_time": "2020-10-11T07:27:37.351083Z"
        },
        "colab": {
          "base_uri": "https://localhost:8080/"
        },
        "id": "hVFH0gnmx4kd",
        "outputId": "648044ea-289f-4df8-a262-001d937aa9fa"
      },
      "source": [
        "a/b # деление чисел"
      ],
      "execution_count": null,
      "outputs": [
        {
          "output_type": "execute_result",
          "data": {
            "text/plain": [
              "16.666666666666668"
            ]
          },
          "metadata": {},
          "execution_count": 8
        }
      ]
    },
    {
      "cell_type": "code",
      "metadata": {
        "ExecuteTime": {
          "end_time": "2020-10-11T07:27:37.403086Z",
          "start_time": "2020-10-11T07:27:37.401086Z"
        },
        "id": "J7oGOmNgx4ke",
        "colab": {
          "base_uri": "https://localhost:8080/",
          "height": 215
        },
        "outputId": "a229c5dc-e74f-41e6-8ca6-f94e3030f37e"
      },
      "source": [
        "# Раскомментируйте две строчки ниже и попробуйте поделить на ноль.\n",
        "b=0 # а если поделим на 0?\n",
        "a/b # возникнет ошибка, на 0 делить нельзя."
      ],
      "execution_count": null,
      "outputs": [
        {
          "output_type": "error",
          "ename": "ZeroDivisionError",
          "evalue": "ignored",
          "traceback": [
            "\u001b[0;31m---------------------------------------------------------------------------\u001b[0m",
            "\u001b[0;31mZeroDivisionError\u001b[0m                         Traceback (most recent call last)",
            "\u001b[0;32m<ipython-input-9-1a1f650e9fd4>\u001b[0m in \u001b[0;36m<cell line: 3>\u001b[0;34m()\u001b[0m\n\u001b[1;32m      1\u001b[0m \u001b[0;31m# Раскомментируйте две строчки ниже и попробуйте поделить на ноль.\u001b[0m\u001b[0;34m\u001b[0m\u001b[0;34m\u001b[0m\u001b[0m\n\u001b[1;32m      2\u001b[0m \u001b[0mb\u001b[0m\u001b[0;34m=\u001b[0m\u001b[0;36m0\u001b[0m \u001b[0;31m# а если поделим на 0?\u001b[0m\u001b[0;34m\u001b[0m\u001b[0;34m\u001b[0m\u001b[0m\n\u001b[0;32m----> 3\u001b[0;31m \u001b[0ma\u001b[0m\u001b[0;34m/\u001b[0m\u001b[0mb\u001b[0m \u001b[0;31m# возникнет ошибка, на 0 делить нельзя.\u001b[0m\u001b[0;34m\u001b[0m\u001b[0;34m\u001b[0m\u001b[0m\n\u001b[0m",
            "\u001b[0;31mZeroDivisionError\u001b[0m: division by zero"
          ]
        }
      ]
    },
    {
      "cell_type": "markdown",
      "metadata": {
        "id": "Pr0zU0rwx4ke"
      },
      "source": [
        "# 2. Модуль `math`\n",
        "Для более сложных операций рассмотрим модуль [`math`](https://pythonworld.ru/moduli/modul-math.html).\n",
        "\n",
        "Сначала его нужно подключить с помощью команды `import`."
      ]
    },
    {
      "cell_type": "code",
      "metadata": {
        "ExecuteTime": {
          "end_time": "2020-10-11T07:27:37.502092Z",
          "start_time": "2020-10-11T07:27:37.499092Z"
        },
        "id": "vUUhoRDHx4kf"
      },
      "source": [
        "import math"
      ],
      "execution_count": 2,
      "outputs": []
    },
    {
      "cell_type": "code",
      "source": [
        "#math"
      ],
      "metadata": {
        "id": "Q4nDJ2wUXd-K"
      },
      "execution_count": null,
      "outputs": []
    },
    {
      "cell_type": "markdown",
      "metadata": {
        "id": "XRa5WklVx4kf"
      },
      "source": [
        "## Округление\n",
        "Попробуйте округлять разные числа *a* и ответьте, чем отличаются эти два способа `ceil` и `floor`."
      ]
    },
    {
      "cell_type": "code",
      "source": [],
      "metadata": {
        "id": "uVkRiWOit2TT"
      },
      "execution_count": null,
      "outputs": []
    },
    {
      "cell_type": "code",
      "metadata": {
        "ExecuteTime": {
          "end_time": "2020-10-11T07:27:37.601098Z",
          "start_time": "2020-10-11T07:27:37.597097Z"
        },
        "colab": {
          "base_uri": "https://localhost:8080/"
        },
        "id": "QxicR5NMx4kg",
        "outputId": "98cd0d95-937e-4b98-8a86-2b9770613a6b"
      },
      "source": [
        "# Округление\n",
        "a=3.2\n",
        "b=math.ceil(a) # округление к ближайшему большему целому.\n",
        "c=math.floor(a) #округление вниз\n",
        "b, c"
      ],
      "execution_count": null,
      "outputs": [
        {
          "output_type": "execute_result",
          "data": {
            "text/plain": [
              "(4, 3)"
            ]
          },
          "metadata": {},
          "execution_count": 12
        }
      ]
    },
    {
      "cell_type": "markdown",
      "metadata": {
        "id": "bNTWm6nPx4kh"
      },
      "source": [
        "## Модуль числа\n",
        "Попробуйте для положительных и отрицательных чисел."
      ]
    },
    {
      "cell_type": "code",
      "metadata": {
        "ExecuteTime": {
          "end_time": "2020-10-11T07:27:37.695103Z",
          "start_time": "2020-10-11T07:27:37.692103Z"
        },
        "id": "dcrydaQ3x4kh",
        "colab": {
          "base_uri": "https://localhost:8080/"
        },
        "outputId": "d9496d86-2592-4a4b-91fe-420e3d41e228"
      },
      "source": [
        "a=-7\n",
        "d=math.fabs(a)\n",
        "print(d, abs(a))"
      ],
      "execution_count": 5,
      "outputs": [
        {
          "output_type": "stream",
          "name": "stdout",
          "text": [
            "7.0 7\n"
          ]
        }
      ]
    },
    {
      "cell_type": "markdown",
      "metadata": {
        "id": "XvCf2yTGx4kh"
      },
      "source": [
        "## Остаток от деления $c=mod_b(a)$\n",
        "Попробуйте для разных целых чисел __a__ и __b__ и скажите, что же это за функция `fmod`.\n",
        "\n",
        "Могут ли __a__ и __b__ быть отрицательными?\n",
        "\n",
        "Может ли __a=0__? Может ли __b=0__? Может ли __b=1__, какой будет результат в этом случае?\n",
        "\n",
        "> В отличии от того, чему нас учат в школе, в этой функции __a__ и __b__ могут быть дробными. Но мы таким пользоваться не будем."
      ]
    },
    {
      "cell_type": "code",
      "metadata": {
        "ExecuteTime": {
          "end_time": "2020-10-11T07:27:37.793109Z",
          "start_time": "2020-10-11T07:27:37.789108Z"
        },
        "colab": {
          "base_uri": "https://localhost:8080/"
        },
        "id": "jhEEmVvsx4ki",
        "outputId": "fbffefaa-1522-4dcb-c830-be25ad6640b5"
      },
      "source": [
        "a=7\n",
        "b=2\n",
        "math.fmod(a,b)"
      ],
      "execution_count": null,
      "outputs": [
        {
          "output_type": "execute_result",
          "data": {
            "text/plain": [
              "1.0"
            ]
          },
          "metadata": {},
          "execution_count": 14
        }
      ]
    },
    {
      "cell_type": "markdown",
      "metadata": {
        "id": "skh5TSHWx4ki"
      },
      "source": [
        "## Константы\n",
        "Посмотрите на результат и скажите, что за константы мы тут получили? Что вы про них знаете?"
      ]
    },
    {
      "cell_type": "code",
      "metadata": {
        "ExecuteTime": {
          "end_time": "2020-10-11T07:27:37.885114Z",
          "start_time": "2020-10-11T07:27:37.882114Z"
        },
        "colab": {
          "base_uri": "https://localhost:8080/"
        },
        "id": "8aMQ2F-Nx4ki",
        "outputId": "8743dfba-cca6-4795-b93e-0b21ba8d86b9"
      },
      "source": [
        "math.pi"
      ],
      "execution_count": null,
      "outputs": [
        {
          "output_type": "execute_result",
          "data": {
            "text/plain": [
              "3.141592653589793"
            ]
          },
          "metadata": {},
          "execution_count": 15
        }
      ]
    },
    {
      "cell_type": "code",
      "metadata": {
        "ExecuteTime": {
          "end_time": "2020-10-11T07:27:37.935117Z",
          "start_time": "2020-10-11T07:27:37.931117Z"
        },
        "colab": {
          "base_uri": "https://localhost:8080/"
        },
        "id": "ehCOx7-Gx4kj",
        "outputId": "d7e91a4e-e7ca-473f-fc0c-db1e5c9dfd70"
      },
      "source": [
        "math.e"
      ],
      "execution_count": null,
      "outputs": [
        {
          "output_type": "execute_result",
          "data": {
            "text/plain": [
              "2.718281828459045"
            ]
          },
          "metadata": {},
          "execution_count": 16
        }
      ]
    },
    {
      "cell_type": "markdown",
      "metadata": {
        "id": "6nt7DZ4mx4kk"
      },
      "source": [
        "## Возведение в степень, экспонента, логарифм.\n",
        "\n",
        "### Возведение в степень: $с=a^b$\n",
        "\n",
        "Попробуйте для разных чисел a и b.\n",
        "\n",
        "Что если a=0, а если b = 0? Может ли а или b быть отрицательным? Нецелым?\n",
        "\n",
        "Что мы получим если b=0.5? Как такую операцию назвать по-другому?\n",
        "\n",
        "А если b=0.5 и a - отрицательное?\n"
      ]
    },
    {
      "cell_type": "code",
      "metadata": {
        "ExecuteTime": {
          "end_time": "2020-10-11T07:27:38.032122Z",
          "start_time": "2020-10-11T07:27:38.028122Z"
        },
        "colab": {
          "base_uri": "https://localhost:8080/"
        },
        "id": "TA3EDJDyx4kk",
        "outputId": "5c09495a-6144-4003-86ef-9b3fa0442c1e"
      },
      "source": [
        "# Возведение в степень.\n",
        "a=3\n",
        "b=4\n",
        "math.pow(a, b)"
      ],
      "execution_count": null,
      "outputs": [
        {
          "output_type": "execute_result",
          "data": {
            "text/plain": [
              "81.0"
            ]
          },
          "metadata": {},
          "execution_count": 17
        }
      ]
    },
    {
      "cell_type": "markdown",
      "metadata": {
        "id": "a7XvSLf0x4kk"
      },
      "source": [
        "\n",
        "### Корень квадратный: $с=\\sqrt{a}$\n",
        "\n",
        "Функция `sqrt()`.\n",
        "\n",
        "Попробуйте для разных чисел __a__\n",
        "\n",
        "Что если __a=0__? Может ли __а__ быть отрицательным? Нецелым?\n",
        "\n",
        "А как извлечь корень третьей степени?\n"
      ]
    },
    {
      "cell_type": "code",
      "metadata": {
        "ExecuteTime": {
          "end_time": "2020-10-11T07:27:38.129128Z",
          "start_time": "2020-10-11T07:27:38.126128Z"
        },
        "colab": {
          "base_uri": "https://localhost:8080/"
        },
        "id": "MNk66GNKx4kk",
        "outputId": "ef70d482-adbf-4999-ab53-5eb0896d2492"
      },
      "source": [
        "# Корень квадратный.\n",
        "a=16\n",
        "math.sqrt(a)"
      ],
      "execution_count": null,
      "outputs": [
        {
          "output_type": "execute_result",
          "data": {
            "text/plain": [
              "4.0"
            ]
          },
          "metadata": {},
          "execution_count": 18
        }
      ]
    },
    {
      "cell_type": "code",
      "metadata": {
        "ExecuteTime": {
          "end_time": "2020-10-11T07:27:38.180131Z",
          "start_time": "2020-10-11T07:27:38.177131Z"
        },
        "colab": {
          "base_uri": "https://localhost:8080/"
        },
        "id": "Our0orC9x4kl",
        "outputId": "a2172f2f-2e3d-4f4e-a5fc-50736291ceab"
      },
      "source": [
        "# Корень кубический.\n",
        "a=8\n",
        "math.pow(a,1/3)"
      ],
      "execution_count": null,
      "outputs": [
        {
          "output_type": "execute_result",
          "data": {
            "text/plain": [
              "2.0"
            ]
          },
          "metadata": {},
          "execution_count": 19
        }
      ]
    },
    {
      "cell_type": "markdown",
      "metadata": {
        "id": "fKOtjwXFx4kl"
      },
      "source": [
        "### Экспонента $с=e^b$\n",
        "Очень часто в качестве основания __a__ используют экспоненту. Для этой операции сделали отдельную функцию.\n",
        "\n",
        "Попробуйте сделать тоже самое с помощью `pow()`."
      ]
    },
    {
      "cell_type": "code",
      "metadata": {
        "ExecuteTime": {
          "end_time": "2020-10-11T07:27:38.277136Z",
          "start_time": "2020-10-11T07:27:38.274136Z"
        },
        "colab": {
          "base_uri": "https://localhost:8080/"
        },
        "id": "WXBtqGinx4km",
        "outputId": "e65638c4-9dc7-409d-f103-20d27bd12956"
      },
      "source": [
        "b=10\n",
        "math.exp(b)"
      ],
      "execution_count": null,
      "outputs": [
        {
          "output_type": "execute_result",
          "data": {
            "text/plain": [
              "22026.465794806718"
            ]
          },
          "metadata": {},
          "execution_count": 20
        }
      ]
    },
    {
      "cell_type": "code",
      "metadata": {
        "ExecuteTime": {
          "end_time": "2020-10-11T07:27:38.330139Z",
          "start_time": "2020-10-11T07:27:38.326139Z"
        },
        "colab": {
          "base_uri": "https://localhost:8080/"
        },
        "id": "dSK9gMnWx4km",
        "outputId": "6e163d52-421a-430f-beda-ab9698782590"
      },
      "source": [
        "math.pow(math.e,b)"
      ],
      "execution_count": null,
      "outputs": [
        {
          "output_type": "execute_result",
          "data": {
            "text/plain": [
              "22026.465794806703"
            ]
          },
          "metadata": {},
          "execution_count": 21
        }
      ]
    },
    {
      "cell_type": "markdown",
      "metadata": {
        "id": "hVub510_x4kn"
      },
      "source": [
        "# Логарифм $b=log_a(c)$\n",
        "Если мы знаем результат возведения в степень __c__, знаем основание __a__, а хотим узнать, какая же степень __b__ должна при этом быть, то нам на помощь придет *логарифм*, функция `log()`.\n",
        "\n",
        "Указываем сначала __c__ от которого мы ищем логарифм, а потом, необязательно, основание __a__ по которому мы ищем логарифм. Если основание не указано - используется *натуральный логарифм*.\n",
        "\n",
        "Попробуйте с разными числами.\n",
        "\n",
        "Может ли __с=0__? А меньше нуля может быть?\n",
        "\n",
        "А если __c=1__, какой будет результат? Зависит ли он от __a__?\n",
        "\n",
        "Может ли __a=0__ , __a=1__? А отрицательным __a__ может быть?  А дробным?\n",
        "\n",
        "\n",
        "\n"
      ]
    },
    {
      "cell_type": "code",
      "metadata": {
        "ExecuteTime": {
          "end_time": "2020-10-11T07:27:38.428145Z",
          "start_time": "2020-10-11T07:27:38.424145Z"
        },
        "colab": {
          "base_uri": "https://localhost:8080/"
        },
        "id": "YlBM3X9Ix4kn",
        "outputId": "0f4f30c1-0d13-43f8-ad65-0ec1fd3fbae9"
      },
      "source": [
        "c=81\n",
        "a=3\n",
        "#math.log(x[, base])\n",
        "math.log(c, a)"
      ],
      "execution_count": null,
      "outputs": [
        {
          "output_type": "execute_result",
          "data": {
            "text/plain": [
              "4.0"
            ]
          },
          "metadata": {},
          "execution_count": 22
        }
      ]
    },
    {
      "cell_type": "markdown",
      "metadata": {
        "id": "2T-EzRNAx4ko"
      },
      "source": [
        "Наиболее часто используемые основания логарифмов сделаны в отдельных функциях, так быстрей и точней считать.\n",
        "\n",
        "Двоичный логарифм, по основанию __a=2__: `log2`\n",
        "\n",
        "Десятичный логарифм, по основанию __a=10__: `log10`\n",
        "\n",
        "А как сделать *натуральный логарифм*? Какое у него основание?"
      ]
    },
    {
      "cell_type": "code",
      "metadata": {
        "ExecuteTime": {
          "end_time": "2020-10-11T07:27:38.521150Z",
          "start_time": "2020-10-11T07:27:38.518150Z"
        },
        "colab": {
          "base_uri": "https://localhost:8080/"
        },
        "id": "UiP4ctQ7x4ko",
        "outputId": "291e64d6-f59f-4927-b0f6-71984bbd1bd7"
      },
      "source": [
        "с=4\n",
        "math.log2(с)"
      ],
      "execution_count": null,
      "outputs": [
        {
          "output_type": "execute_result",
          "data": {
            "text/plain": [
              "2.0"
            ]
          },
          "metadata": {},
          "execution_count": 23
        }
      ]
    },
    {
      "cell_type": "code",
      "metadata": {
        "ExecuteTime": {
          "end_time": "2020-10-11T07:27:38.571153Z",
          "start_time": "2020-10-11T07:27:38.568153Z"
        },
        "colab": {
          "base_uri": "https://localhost:8080/"
        },
        "id": "lqowEqktx4ko",
        "outputId": "9adfd719-a62f-4517-e163-7923f4f6d94a"
      },
      "source": [
        "с=100\n",
        "math.log10(с)"
      ],
      "execution_count": null,
      "outputs": [
        {
          "output_type": "execute_result",
          "data": {
            "text/plain": [
              "2.0"
            ]
          },
          "metadata": {},
          "execution_count": 24
        }
      ]
    },
    {
      "cell_type": "code",
      "metadata": {
        "ExecuteTime": {
          "end_time": "2020-10-11T07:27:38.621156Z",
          "start_time": "2020-10-11T07:27:38.618156Z"
        },
        "colab": {
          "base_uri": "https://localhost:8080/"
        },
        "id": "lOcMwrZex4ko",
        "outputId": "568db0ba-c26d-4e06-84c4-65507039cf52"
      },
      "source": [
        "с=math.e*math.e\n",
        "math.log(с)"
      ],
      "execution_count": null,
      "outputs": [
        {
          "output_type": "execute_result",
          "data": {
            "text/plain": [
              "2.0"
            ]
          },
          "metadata": {},
          "execution_count": 25
        }
      ]
    },
    {
      "cell_type": "markdown",
      "metadata": {
        "id": "qpJaUnc7x4ko"
      },
      "source": [
        "## Тригонометрические функции\n",
        "\n",
        "- синус `sin`\n",
        "\n",
        "- косинус `cos`\n",
        "\n",
        "- тангенс `tan`\n",
        "\n",
        "- арктангенс `atan` (обратная функция для тангенса) - часто используется в нейронных сетях.\n",
        "\n",
        "- гиперболический тангенс `tanh` - тоже часто используется в нейронных сетях.\n",
        "\n",
        "- и другие...\n",
        "\n",
        "Для известных углов (например, 0, pi/4, pi/2 ,2 * pi и др.) посчитайте сами и сравните с расчетом в Питоне.\n",
        "\n",
        "__Все углы указываются в радианах!__\n"
      ]
    },
    {
      "cell_type": "code",
      "metadata": {
        "ExecuteTime": {
          "end_time": "2020-10-11T07:27:38.725162Z",
          "start_time": "2020-10-11T07:27:38.722162Z"
        },
        "id": "x7GRQDJJx4ko"
      },
      "source": [
        "x = math.pi/4 # зададим угол"
      ],
      "execution_count": null,
      "outputs": []
    },
    {
      "cell_type": "code",
      "metadata": {
        "ExecuteTime": {
          "end_time": "2020-10-11T07:27:38.776165Z",
          "start_time": "2020-10-11T07:27:38.772165Z"
        },
        "colab": {
          "base_uri": "https://localhost:8080/"
        },
        "id": "bvs6S8s-x4kp",
        "outputId": "ae3b8d5c-b5e4-44be-b22a-0f56cec487eb"
      },
      "source": [
        "math.cos(x)"
      ],
      "execution_count": null,
      "outputs": [
        {
          "output_type": "execute_result",
          "data": {
            "text/plain": [
              "0.7071067811865476"
            ]
          },
          "metadata": {},
          "execution_count": 27
        }
      ]
    },
    {
      "cell_type": "code",
      "metadata": {
        "ExecuteTime": {
          "end_time": "2020-10-11T07:27:38.826168Z",
          "start_time": "2020-10-11T07:27:38.822168Z"
        },
        "colab": {
          "base_uri": "https://localhost:8080/"
        },
        "id": "1W7SmLayx4kp",
        "outputId": "a01540fd-b284-4e2b-acd5-2858f91e4af6"
      },
      "source": [
        "math.sin(x)\n",
        "\n"
      ],
      "execution_count": null,
      "outputs": [
        {
          "output_type": "execute_result",
          "data": {
            "text/plain": [
              "0.7071067811865475"
            ]
          },
          "metadata": {},
          "execution_count": 28
        }
      ]
    },
    {
      "cell_type": "code",
      "metadata": {
        "ExecuteTime": {
          "end_time": "2020-10-11T07:27:38.877171Z",
          "start_time": "2020-10-11T07:27:38.874170Z"
        },
        "colab": {
          "base_uri": "https://localhost:8080/"
        },
        "id": "yeHVtw-ex4kq",
        "outputId": "14de601d-ac43-4b00-9f72-24a469d00d1a"
      },
      "source": [
        "#x = math.pi/2 #\n",
        "math.tan(x) # а если x=math.pi/2?\n",
        "\n",
        "\n"
      ],
      "execution_count": null,
      "outputs": [
        {
          "output_type": "execute_result",
          "data": {
            "text/plain": [
              "0.9999999999999999"
            ]
          },
          "metadata": {},
          "execution_count": 29
        }
      ]
    },
    {
      "cell_type": "markdown",
      "metadata": {
        "id": "Q0Bz-bPQx4kq"
      },
      "source": [
        "Арктангенс `atan(x)` - обратная функция для тангенса.\n",
        "\n",
        "Позволяет узнать для какого угла тангенс равен x.\n",
        "\n",
        "Поделим на Pi чтобы узнать этот угол.\n",
        "\n",
        "Узнали?\n"
      ]
    },
    {
      "cell_type": "code",
      "metadata": {
        "ExecuteTime": {
          "end_time": "2020-10-11T07:27:38.973176Z",
          "start_time": "2020-10-11T07:27:38.969176Z"
        },
        "colab": {
          "base_uri": "https://localhost:8080/"
        },
        "id": "bOudwGP_x4kq",
        "outputId": "30ec0148-5d62-4bfb-f390-1f26ca259aab"
      },
      "source": [
        "# арктангенс - обратная функция для тангенса\n",
        "x=1\n",
        "math.atan(x)/math.pi"
      ],
      "execution_count": null,
      "outputs": [
        {
          "output_type": "execute_result",
          "data": {
            "text/plain": [
              "0.25"
            ]
          },
          "metadata": {},
          "execution_count": 30
        }
      ]
    },
    {
      "cell_type": "markdown",
      "metadata": {
        "id": "opeVcWr6x4kq"
      },
      "source": [
        "Гиперболический тангенс `tanh(x)` - довольно сложная функция, но по форме похожа на арктангенс.\n",
        "\n",
        "> Формула для сведения, можете не запоминать сейчас:\n",
        "> ![picture](https://drive.google.com/uc?id=1X1r5toeJ8xVW7aOvM18TL0OBVKHiT7ww)\n",
        "\n",
        "\n"
      ]
    },
    {
      "cell_type": "code",
      "metadata": {
        "ExecuteTime": {
          "end_time": "2020-10-11T07:27:39.070182Z",
          "start_time": "2020-10-11T07:27:39.067182Z"
        },
        "colab": {
          "base_uri": "https://localhost:8080/"
        },
        "id": "wKosl0URx4kr",
        "outputId": "c22e6ce7-2261-4e14-fb60-187273dbf180"
      },
      "source": [
        "# гипертангенс\n",
        "x=1000000000000\n",
        "math.tanh(x)"
      ],
      "execution_count": null,
      "outputs": [
        {
          "output_type": "execute_result",
          "data": {
            "text/plain": [
              "1.0"
            ]
          },
          "metadata": {},
          "execution_count": 31
        }
      ]
    },
    {
      "cell_type": "markdown",
      "metadata": {
        "id": "EH1eEk3Kx4kr"
      },
      "source": [
        "## Факториал\n",
        "\n",
        "Функция `factorial()`.\n",
        "\n",
        "Находит факториал целого числа, произведение всех целых чисел начиная с единицы до заданного __a__.\n",
        "\n",
        "Обозначается как \"!\"\n",
        "\n",
        "Например 5! = 1 * 2 * 3 * 4 * 5 =120\n",
        "\n",
        "Часто возникает в задачах с комбинациями различных событий.\n",
        "\n",
        "Попробуйте для разных чисел __a__.\n",
        "\n",
        "Может ли __a__ быть отрицательным? Дробным?\n",
        "\n",
        "Чему равен факториал нуля?\n",
        "\n"
      ]
    },
    {
      "cell_type": "code",
      "metadata": {
        "ExecuteTime": {
          "end_time": "2020-10-11T07:27:39.166187Z",
          "start_time": "2020-10-11T07:27:39.162187Z"
        },
        "colab": {
          "base_uri": "https://localhost:8080/"
        },
        "id": "ZVCJ6pcGx4kr",
        "outputId": "ed217bdb-922d-4b6d-8dd6-bac171c50b49"
      },
      "source": [
        "a=2\n",
        "math.factorial(a)"
      ],
      "execution_count": null,
      "outputs": [
        {
          "output_type": "execute_result",
          "data": {
            "text/plain": [
              "2"
            ]
          },
          "metadata": {},
          "execution_count": 32
        }
      ]
    },
    {
      "cell_type": "markdown",
      "metadata": {
        "id": "KlA_LeBPx4kr"
      },
      "source": [
        "## Домашнее задание\n",
        "Изучите документацию на модуль `math`.\n",
        "\n",
        "Посмотрите какие еще в нем есть функции.\n",
        "\n",
        "Ответьте, как сконвертировать градусы в радианы и наоборот.\n",
        "Сделайте это.\n",
        "\n",
        "\n",
        "Что делать, если надо реализовать какую-то математическую функцию, которую вы не знаете, но она нужна? Внимательно читать документацию. Искать ответ в Интернет. Так часто поступают даже профессиональные разработчики  - нельзя все помнить и знать. Но нужно уметь __искать__ информацию.\n",
        "\n",
        "Если какой-то функции нет в этом модуле - поищите в другом."
      ]
    },
    {
      "cell_type": "code",
      "source": [
        "a = math.pi/2\n",
        "b = 90\n",
        "\n",
        "print(math.radians(b), a)\n",
        "print(math.degrees(a), b)"
      ],
      "metadata": {
        "colab": {
          "base_uri": "https://localhost:8080/"
        },
        "id": "aaUaz3PXtVxR",
        "outputId": "d87cde36-a6d5-4785-b225-39898879dd04"
      },
      "execution_count": 9,
      "outputs": [
        {
          "output_type": "stream",
          "name": "stdout",
          "text": [
            "1.5707963267948966 1.5707963267948966\n",
            "90.0 90\n"
          ]
        }
      ]
    },
    {
      "cell_type": "markdown",
      "metadata": {
        "id": "NaFkL1XOx4kr"
      },
      "source": [
        "# 3. Модуль `numpy`\n",
        "\n",
        "Библиотека `numpy` предназначена для работы с массивами. Для нас это самая любимая и часто используемая библиотека. Ее документацию можно посмотреть здесь: https://numpy.org/\n",
        "\n",
        "Numpy создает и обрабатывает массивы как объекты своего собственного класса (типа): [`ndarray`](https://numpy.org/doc/1.18/reference/generated/numpy.ndarray.html#numpy.ndarray)\n",
        "\n",
        "Основные его атрибуты это `shape` - форма массива и `dtype` - тип данных.  \n",
        "\n",
        "Подключим библиотеку с помощью `import`и назовем коротко: `np`\n"
      ]
    },
    {
      "cell_type": "code",
      "metadata": {
        "ExecuteTime": {
          "end_time": "2020-10-11T07:27:39.471205Z",
          "start_time": "2020-10-11T07:27:39.308195Z"
        },
        "id": "FpIBe6Bpx4ks"
      },
      "source": [
        "import numpy as np"
      ],
      "execution_count": 13,
      "outputs": []
    },
    {
      "cell_type": "markdown",
      "metadata": {
        "id": "YUSa1g24x4ks"
      },
      "source": [
        "## Создание массивов\n",
        "\n",
        "Для создания массивов используем функцию [`numpy.array()`](https://numpy.org/doc/1.18/reference/generated/numpy.array.html#numpy.array)\n",
        "\n",
        "В ней мы указываем какой массив хотим создать.\n",
        "\n",
        "Создадим массив, отобразим его и посмотрим, как называется его тип. Тип можно узнать с помощью команды `type()` .\n",
        "\n",
        "\n"
      ]
    },
    {
      "cell_type": "code",
      "metadata": {
        "ExecuteTime": {
          "end_time": "2020-10-11T07:27:39.475205Z",
          "start_time": "2020-10-11T07:27:39.473205Z"
        },
        "id": "WfvtOJvUx4ks"
      },
      "source": [
        "a = np.array([1, 2, 3])"
      ],
      "execution_count": 14,
      "outputs": []
    },
    {
      "cell_type": "code",
      "metadata": {
        "ExecuteTime": {
          "end_time": "2020-10-11T07:27:39.541209Z",
          "start_time": "2020-10-11T07:27:39.536208Z"
        },
        "id": "9PLGizaUx4kt",
        "colab": {
          "base_uri": "https://localhost:8080/"
        },
        "outputId": "a0c47d5c-938c-4e06-becb-8d6ccf2c0180"
      },
      "source": [
        "type(a)"
      ],
      "execution_count": 15,
      "outputs": [
        {
          "output_type": "execute_result",
          "data": {
            "text/plain": [
              "numpy.ndarray"
            ]
          },
          "metadata": {},
          "execution_count": 15
        }
      ]
    },
    {
      "cell_type": "code",
      "source": [
        "a.shape"
      ],
      "metadata": {
        "id": "vrvA-iQ_B9_S",
        "colab": {
          "base_uri": "https://localhost:8080/"
        },
        "outputId": "4bf538ac-8e84-4fb0-b112-afc59ef3665c"
      },
      "execution_count": 16,
      "outputs": [
        {
          "output_type": "execute_result",
          "data": {
            "text/plain": [
              "(3,)"
            ]
          },
          "metadata": {},
          "execution_count": 16
        }
      ]
    },
    {
      "cell_type": "markdown",
      "metadata": {
        "id": "YzuFgdIrx4ku"
      },
      "source": [
        "Видим, что тип - `numpy.ndarray` .\n",
        "\n",
        "Это одномерный массив.\n",
        "\n",
        "Теперь создадим двумерный массив (матрицу)"
      ]
    },
    {
      "cell_type": "code",
      "metadata": {
        "ExecuteTime": {
          "end_time": "2020-10-11T07:27:39.635214Z",
          "start_time": "2020-10-11T07:27:39.633214Z"
        },
        "id": "l9JeAsWix4ku"
      },
      "source": [
        "b = np.array([[1.5, 2, 3], [4, 5, 6]])"
      ],
      "execution_count": null,
      "outputs": []
    },
    {
      "cell_type": "code",
      "metadata": {
        "ExecuteTime": {
          "end_time": "2020-10-11T07:27:39.688217Z",
          "start_time": "2020-10-11T07:27:39.682217Z"
        },
        "id": "gSaD7yjjx4ku"
      },
      "source": [
        "b"
      ],
      "execution_count": null,
      "outputs": []
    },
    {
      "cell_type": "code",
      "metadata": {
        "ExecuteTime": {
          "end_time": "2020-10-11T07:27:39.735220Z",
          "start_time": "2020-10-11T07:27:39.732220Z"
        },
        "id": "DZS3olzgx4ku"
      },
      "source": [
        "b.shape"
      ],
      "execution_count": null,
      "outputs": []
    },
    {
      "cell_type": "code",
      "source": [],
      "metadata": {
        "id": "-XjTrA6BSlxy"
      },
      "execution_count": null,
      "outputs": []
    },
    {
      "cell_type": "markdown",
      "metadata": {
        "id": "8nEFSRUjx4ku"
      },
      "source": [
        "Это двумерный массив. Атрибут `shape` показывает нам его форму, он имеет размер 2 на 3: 2 строки, 3 столбца.\n",
        "\n",
        "\n",
        "Чтобы создавать массивы, заполненные какими-то числами, можно воспользоваться специальными функциями.\n",
        "\n",
        "Например\n",
        "\n",
        "`numpy.zeros(...)`  делает массив заданной формы, заполненный нулями\n",
        "   \n",
        "`numpy.ones(...)`  делает массив заданной формы, заполненный единицами\n",
        "\n",
        "Мы указываем число элементов по каждой оси массива - разумеется это натуральные числа."
      ]
    },
    {
      "cell_type": "code",
      "metadata": {
        "ExecuteTime": {
          "end_time": "2020-10-11T07:27:39.830225Z",
          "start_time": "2020-10-11T07:27:39.827225Z"
        },
        "id": "p56Y8MEmx4kv"
      },
      "source": [
        "np.zeros((3, 5)) # двумерный массив из нулей, размером 3 на 5"
      ],
      "execution_count": null,
      "outputs": []
    },
    {
      "cell_type": "code",
      "metadata": {
        "ExecuteTime": {
          "end_time": "2020-10-11T07:27:39.881228Z",
          "start_time": "2020-10-11T07:27:39.877228Z"
        },
        "id": "ipO2AUIhx4kv"
      },
      "source": [
        "np.ones((2, 3, 4)) # трехмерный массив из единиц размером 2 на 3 на 4"
      ],
      "execution_count": null,
      "outputs": []
    },
    {
      "cell_type": "markdown",
      "metadata": {
        "id": "mM1yKAMAx4kv"
      },
      "source": [
        "Создадим любимую для линейной алгебры единичную матрицу с помощью команды `eye()`. Она квадратная, поэтому только один аргумент указываем - число строк. Если очень надо сделать по-другому, например не главную диагональ заполнить, то смотри документацию.   "
      ]
    },
    {
      "cell_type": "code",
      "metadata": {
        "ExecuteTime": {
          "end_time": "2020-10-11T07:27:39.978234Z",
          "start_time": "2020-10-11T07:27:39.973233Z"
        },
        "id": "w_p1ues0x4kv"
      },
      "source": [
        "np.eye(5) # создаем единичную матрицу"
      ],
      "execution_count": null,
      "outputs": []
    },
    {
      "cell_type": "markdown",
      "metadata": {
        "id": "L2Gzx556x4kv"
      },
      "source": [
        "Создать массив, но ничем его не заполнять можно с помощью функции `numpy.empty()`.\n",
        "\n",
        "Заполнен он будет мусором, который остался в памяти, где создается такой массив.\n",
        "Это гораздо быстрее, чем создать и заполнять массив нулями. Но нужно быть осторожным и потом все-таки заполнить массив, потому что мусор может быть любой.  "
      ]
    },
    {
      "cell_type": "code",
      "metadata": {
        "ExecuteTime": {
          "end_time": "2020-10-11T07:27:40.076239Z",
          "start_time": "2020-10-11T07:27:40.073239Z"
        },
        "id": "-BvWjn9Zx4kw"
      },
      "source": [
        "np.empty((3, 3))"
      ],
      "execution_count": null,
      "outputs": []
    },
    {
      "cell_type": "code",
      "metadata": {
        "ExecuteTime": {
          "end_time": "2020-10-11T07:27:40.125242Z",
          "start_time": "2020-10-11T07:27:40.121242Z"
        },
        "id": "tWgwXKAmx4kw"
      },
      "source": [
        "np.empty((3, 2))"
      ],
      "execution_count": null,
      "outputs": []
    },
    {
      "cell_type": "markdown",
      "metadata": {
        "id": "69HM38Sqx4kx"
      },
      "source": [
        "Для создания последовательностей чисел, в NumPy имеется функция `numpy.arange(начало, конец, шаг)`, аналогичная встроенной в Python `range()`, только вместо списков она возвращает массивы, и принимает не только целые значения. Мы указываем __начало__ (необязательно, по умолчанию 0), __конец__ и __шаг__ (тоже не обязательно, по умолчанию 1) нашей последовательности. Конец не входит в последовательность. Шаг может быть отрицательным (но в этом случае конец должен быть меньше начала, иначе вернется пустой массив).\n",
        "\n",
        "Попробуйте сами создать разные последовательности. Что получится если начало и конец совпадают?  А если шаг=0?"
      ]
    },
    {
      "cell_type": "code",
      "metadata": {
        "ExecuteTime": {
          "end_time": "2020-10-11T07:27:40.218247Z",
          "start_time": "2020-10-11T07:27:40.214247Z"
        },
        "id": "ccZ5Xarjx4kx"
      },
      "source": [
        "\n",
        "np.arange(20, 30, 5)"
      ],
      "execution_count": null,
      "outputs": []
    },
    {
      "cell_type": "code",
      "metadata": {
        "ExecuteTime": {
          "end_time": "2020-10-11T07:27:40.271250Z",
          "start_time": "2020-10-11T07:27:40.267250Z"
        },
        "id": "nOj0_YEyx4kx"
      },
      "source": [
        "np.arange(1, 0, -0.1)"
      ],
      "execution_count": null,
      "outputs": []
    },
    {
      "cell_type": "markdown",
      "metadata": {
        "id": "0_KimeSJx4kx"
      },
      "source": [
        "Вывести на экран массив можно командой `print()`."
      ]
    },
    {
      "cell_type": "code",
      "metadata": {
        "ExecuteTime": {
          "end_time": "2020-10-11T07:27:40.368256Z",
          "start_time": "2020-10-11T07:27:40.362256Z"
        },
        "colab": {
          "base_uri": "https://localhost:8080/"
        },
        "id": "49x7ZEalx4ky",
        "outputId": "58a17dbf-15aa-485f-805a-461ba6838b88"
      },
      "source": [
        "a=np.arange(1,10,0.001)\n",
        "print(a)"
      ],
      "execution_count": null,
      "outputs": [
        {
          "output_type": "stream",
          "name": "stdout",
          "text": [
            "[1.    1.001 1.002 ... 9.997 9.998 9.999]\n"
          ]
        }
      ]
    },
    {
      "cell_type": "markdown",
      "metadata": {
        "id": "04ZH7Pvyx4ky"
      },
      "source": [
        "Видим, что выводится не весь массив. Это сделано для экономии места.\n",
        "\n",
        "Если хотим задать сколько знаков после запятой выводить в числах, сколько чисел выводить на экран и др. надо задать опции вывода `set_printoptions`:\n",
        "\n",
        "* параметр `treshold`: сколько чисел на экран выводить\n",
        "* параметр `precision`: сколько знаков после запятой выводить в числах\n",
        "\n",
        "Это влияет только на вывод, не на сами значения. Эти свойства будут применяться для всех выводов, не только для текущего, поэтому осторожно.\n"
      ]
    },
    {
      "cell_type": "code",
      "metadata": {
        "ExecuteTime": {
          "end_time": "2020-10-11T07:27:40.464261Z",
          "start_time": "2020-10-11T07:27:40.461261Z"
        },
        "id": "PAnWjCL_x4kz"
      },
      "source": [
        "np.set_printoptions(threshold=10000, precision=2) # будем выводить до 10 десяти тысяч чисел, два знака после запятой."
      ],
      "execution_count": null,
      "outputs": []
    },
    {
      "cell_type": "code",
      "metadata": {
        "ExecuteTime": {
          "end_time": "2020-10-11T07:27:40.573268Z",
          "start_time": "2020-10-11T07:27:40.511264Z"
        },
        "colab": {
          "base_uri": "https://localhost:8080/"
        },
        "id": "zsMDJtLYx4kz",
        "outputId": "1b60e72d-bd5c-4162-9db0-acb38b719528"
      },
      "source": [
        "print(a)"
      ],
      "execution_count": null,
      "outputs": [
        {
          "output_type": "stream",
          "name": "stdout",
          "text": [
            "[ 1.    1.    1.    1.    1.    1.    1.01  1.01  1.01  1.01  1.01  1.01\n",
            "  1.01  1.01  1.01  1.01  1.02  1.02  1.02  1.02  1.02  1.02  1.02  1.02\n",
            "  1.02  1.02  1.03  1.03  1.03  1.03  1.03  1.03  1.03  1.03  1.03  1.03\n",
            "  1.04  1.04  1.04  1.04  1.04  1.04  1.04  1.04  1.04  1.04  1.05  1.05\n",
            "  1.05  1.05  1.05  1.05  1.05  1.05  1.05  1.05  1.06  1.06  1.06  1.06\n",
            "  1.06  1.06  1.06  1.06  1.06  1.06  1.07  1.07  1.07  1.07  1.07  1.07\n",
            "  1.07  1.07  1.07  1.07  1.08  1.08  1.08  1.08  1.08  1.08  1.08  1.08\n",
            "  1.08  1.08  1.09  1.09  1.09  1.09  1.09  1.09  1.09  1.09  1.09  1.09\n",
            "  1.1   1.1   1.1   1.1   1.1   1.1   1.1   1.1   1.1   1.1   1.11  1.11\n",
            "  1.11  1.11  1.11  1.11  1.11  1.11  1.11  1.11  1.12  1.12  1.12  1.12\n",
            "  1.12  1.12  1.12  1.12  1.12  1.12  1.13  1.13  1.13  1.13  1.13  1.13\n",
            "  1.13  1.13  1.13  1.13  1.14  1.14  1.14  1.14  1.14  1.14  1.14  1.14\n",
            "  1.14  1.14  1.15  1.15  1.15  1.15  1.15  1.15  1.15  1.15  1.15  1.15\n",
            "  1.16  1.16  1.16  1.16  1.16  1.16  1.16  1.16  1.16  1.16  1.17  1.17\n",
            "  1.17  1.17  1.17  1.17  1.17  1.17  1.17  1.17  1.18  1.18  1.18  1.18\n",
            "  1.18  1.18  1.18  1.18  1.18  1.18  1.19  1.19  1.19  1.19  1.19  1.19\n",
            "  1.19  1.19  1.19  1.19  1.2   1.2   1.2   1.2   1.2   1.2   1.2   1.2\n",
            "  1.2   1.2   1.21  1.21  1.21  1.21  1.21  1.21  1.21  1.21  1.21  1.21\n",
            "  1.22  1.22  1.22  1.22  1.22  1.22  1.22  1.22  1.22  1.22  1.23  1.23\n",
            "  1.23  1.23  1.23  1.23  1.23  1.23  1.23  1.23  1.24  1.24  1.24  1.24\n",
            "  1.24  1.24  1.24  1.24  1.24  1.24  1.25  1.25  1.25  1.25  1.25  1.25\n",
            "  1.25  1.25  1.25  1.25  1.26  1.26  1.26  1.26  1.26  1.26  1.26  1.26\n",
            "  1.26  1.26  1.27  1.27  1.27  1.27  1.27  1.27  1.27  1.27  1.27  1.27\n",
            "  1.28  1.28  1.28  1.28  1.28  1.28  1.28  1.28  1.28  1.28  1.29  1.29\n",
            "  1.29  1.29  1.29  1.29  1.29  1.29  1.29  1.29  1.3   1.3   1.3   1.3\n",
            "  1.3   1.3   1.3   1.3   1.3   1.3   1.31  1.31  1.31  1.31  1.31  1.31\n",
            "  1.31  1.31  1.31  1.31  1.32  1.32  1.32  1.32  1.32  1.32  1.32  1.32\n",
            "  1.32  1.32  1.33  1.33  1.33  1.33  1.33  1.33  1.33  1.33  1.33  1.33\n",
            "  1.34  1.34  1.34  1.34  1.34  1.34  1.34  1.34  1.34  1.34  1.35  1.35\n",
            "  1.35  1.35  1.35  1.35  1.35  1.35  1.35  1.35  1.36  1.36  1.36  1.36\n",
            "  1.36  1.36  1.36  1.36  1.36  1.36  1.37  1.37  1.37  1.37  1.37  1.37\n",
            "  1.37  1.37  1.37  1.37  1.38  1.38  1.38  1.38  1.38  1.38  1.38  1.38\n",
            "  1.38  1.38  1.39  1.39  1.39  1.39  1.39  1.39  1.39  1.39  1.39  1.39\n",
            "  1.4   1.4   1.4   1.4   1.4   1.4   1.4   1.4   1.4   1.4   1.41  1.41\n",
            "  1.41  1.41  1.41  1.41  1.41  1.41  1.41  1.41  1.42  1.42  1.42  1.42\n",
            "  1.42  1.42  1.42  1.42  1.42  1.42  1.43  1.43  1.43  1.43  1.43  1.43\n",
            "  1.43  1.43  1.43  1.43  1.44  1.44  1.44  1.44  1.44  1.44  1.44  1.44\n",
            "  1.44  1.44  1.45  1.45  1.45  1.45  1.45  1.45  1.45  1.45  1.45  1.45\n",
            "  1.46  1.46  1.46  1.46  1.46  1.46  1.46  1.46  1.46  1.46  1.47  1.47\n",
            "  1.47  1.47  1.47  1.47  1.47  1.47  1.47  1.47  1.48  1.48  1.48  1.48\n",
            "  1.48  1.48  1.48  1.48  1.48  1.48  1.49  1.49  1.49  1.49  1.49  1.49\n",
            "  1.49  1.49  1.49  1.49  1.5   1.5   1.5   1.5   1.5   1.5   1.5   1.5\n",
            "  1.5   1.5   1.51  1.51  1.51  1.51  1.51  1.51  1.51  1.51  1.51  1.51\n",
            "  1.52  1.52  1.52  1.52  1.52  1.52  1.52  1.52  1.52  1.52  1.53  1.53\n",
            "  1.53  1.53  1.53  1.53  1.53  1.53  1.53  1.53  1.54  1.54  1.54  1.54\n",
            "  1.54  1.54  1.54  1.54  1.54  1.54  1.55  1.55  1.55  1.55  1.55  1.55\n",
            "  1.55  1.55  1.55  1.55  1.56  1.56  1.56  1.56  1.56  1.56  1.56  1.56\n",
            "  1.56  1.56  1.57  1.57  1.57  1.57  1.57  1.57  1.57  1.57  1.57  1.57\n",
            "  1.58  1.58  1.58  1.58  1.58  1.58  1.58  1.58  1.58  1.58  1.59  1.59\n",
            "  1.59  1.59  1.59  1.59  1.59  1.59  1.59  1.59  1.6   1.6   1.6   1.6\n",
            "  1.6   1.6   1.6   1.6   1.6   1.6   1.61  1.61  1.61  1.61  1.61  1.61\n",
            "  1.61  1.61  1.61  1.61  1.62  1.62  1.62  1.62  1.62  1.62  1.62  1.62\n",
            "  1.62  1.62  1.63  1.63  1.63  1.63  1.63  1.63  1.63  1.63  1.63  1.63\n",
            "  1.64  1.64  1.64  1.64  1.64  1.64  1.64  1.64  1.64  1.64  1.65  1.65\n",
            "  1.65  1.65  1.65  1.65  1.65  1.65  1.65  1.65  1.66  1.66  1.66  1.66\n",
            "  1.66  1.66  1.66  1.66  1.66  1.66  1.67  1.67  1.67  1.67  1.67  1.67\n",
            "  1.67  1.67  1.67  1.67  1.68  1.68  1.68  1.68  1.68  1.68  1.68  1.68\n",
            "  1.68  1.68  1.69  1.69  1.69  1.69  1.69  1.69  1.69  1.69  1.69  1.69\n",
            "  1.7   1.7   1.7   1.7   1.7   1.7   1.7   1.7   1.7   1.7   1.71  1.71\n",
            "  1.71  1.71  1.71  1.71  1.71  1.71  1.71  1.71  1.72  1.72  1.72  1.72\n",
            "  1.72  1.72  1.72  1.72  1.72  1.72  1.73  1.73  1.73  1.73  1.73  1.73\n",
            "  1.73  1.73  1.73  1.73  1.74  1.74  1.74  1.74  1.74  1.74  1.74  1.74\n",
            "  1.74  1.74  1.75  1.75  1.75  1.75  1.75  1.75  1.75  1.75  1.75  1.75\n",
            "  1.76  1.76  1.76  1.76  1.76  1.76  1.76  1.76  1.76  1.76  1.77  1.77\n",
            "  1.77  1.77  1.77  1.77  1.77  1.77  1.77  1.77  1.78  1.78  1.78  1.78\n",
            "  1.78  1.78  1.78  1.78  1.78  1.78  1.79  1.79  1.79  1.79  1.79  1.79\n",
            "  1.79  1.79  1.79  1.79  1.8   1.8   1.8   1.8   1.8   1.8   1.8   1.8\n",
            "  1.8   1.8   1.81  1.81  1.81  1.81  1.81  1.81  1.81  1.81  1.81  1.81\n",
            "  1.82  1.82  1.82  1.82  1.82  1.82  1.82  1.82  1.82  1.82  1.83  1.83\n",
            "  1.83  1.83  1.83  1.83  1.83  1.83  1.83  1.83  1.84  1.84  1.84  1.84\n",
            "  1.84  1.84  1.84  1.84  1.84  1.84  1.85  1.85  1.85  1.85  1.85  1.85\n",
            "  1.85  1.85  1.85  1.85  1.86  1.86  1.86  1.86  1.86  1.86  1.86  1.86\n",
            "  1.86  1.86  1.87  1.87  1.87  1.87  1.87  1.87  1.87  1.87  1.87  1.87\n",
            "  1.88  1.88  1.88  1.88  1.88  1.88  1.88  1.88  1.88  1.88  1.89  1.89\n",
            "  1.89  1.89  1.89  1.89  1.89  1.89  1.89  1.89  1.9   1.9   1.9   1.9\n",
            "  1.9   1.9   1.9   1.9   1.9   1.9   1.91  1.91  1.91  1.91  1.91  1.91\n",
            "  1.91  1.91  1.91  1.91  1.92  1.92  1.92  1.92  1.92  1.92  1.92  1.92\n",
            "  1.92  1.92  1.93  1.93  1.93  1.93  1.93  1.93  1.93  1.93  1.93  1.93\n",
            "  1.94  1.94  1.94  1.94  1.94  1.94  1.94  1.94  1.94  1.94  1.95  1.95\n",
            "  1.95  1.95  1.95  1.95  1.95  1.95  1.95  1.95  1.96  1.96  1.96  1.96\n",
            "  1.96  1.96  1.96  1.96  1.96  1.96  1.97  1.97  1.97  1.97  1.97  1.97\n",
            "  1.97  1.97  1.97  1.97  1.98  1.98  1.98  1.98  1.98  1.98  1.98  1.98\n",
            "  1.98  1.98  1.99  1.99  1.99  1.99  1.99  1.99  1.99  1.99  1.99  1.99\n",
            "  2.    2.    2.    2.    2.    2.    2.    2.    2.    2.    2.01  2.01\n",
            "  2.01  2.01  2.01  2.01  2.01  2.01  2.01  2.01  2.02  2.02  2.02  2.02\n",
            "  2.02  2.02  2.02  2.02  2.02  2.02  2.03  2.03  2.03  2.03  2.03  2.03\n",
            "  2.03  2.03  2.03  2.03  2.04  2.04  2.04  2.04  2.04  2.04  2.04  2.04\n",
            "  2.04  2.04  2.05  2.05  2.05  2.05  2.05  2.05  2.05  2.05  2.05  2.05\n",
            "  2.06  2.06  2.06  2.06  2.06  2.06  2.06  2.06  2.06  2.06  2.07  2.07\n",
            "  2.07  2.07  2.07  2.07  2.07  2.07  2.07  2.07  2.08  2.08  2.08  2.08\n",
            "  2.08  2.08  2.08  2.08  2.08  2.08  2.09  2.09  2.09  2.09  2.09  2.09\n",
            "  2.09  2.09  2.09  2.09  2.1   2.1   2.1   2.1   2.1   2.1   2.1   2.1\n",
            "  2.1   2.1   2.11  2.11  2.11  2.11  2.11  2.11  2.11  2.11  2.11  2.11\n",
            "  2.12  2.12  2.12  2.12  2.12  2.12  2.12  2.12  2.12  2.12  2.13  2.13\n",
            "  2.13  2.13  2.13  2.13  2.13  2.13  2.13  2.13  2.14  2.14  2.14  2.14\n",
            "  2.14  2.14  2.14  2.14  2.14  2.14  2.15  2.15  2.15  2.15  2.15  2.15\n",
            "  2.15  2.15  2.15  2.15  2.16  2.16  2.16  2.16  2.16  2.16  2.16  2.16\n",
            "  2.16  2.16  2.17  2.17  2.17  2.17  2.17  2.17  2.17  2.17  2.17  2.17\n",
            "  2.18  2.18  2.18  2.18  2.18  2.18  2.18  2.18  2.18  2.18  2.19  2.19\n",
            "  2.19  2.19  2.19  2.19  2.19  2.19  2.19  2.19  2.2   2.2   2.2   2.2\n",
            "  2.2   2.2   2.2   2.2   2.2   2.2   2.21  2.21  2.21  2.21  2.21  2.21\n",
            "  2.21  2.21  2.21  2.21  2.22  2.22  2.22  2.22  2.22  2.22  2.22  2.22\n",
            "  2.22  2.22  2.23  2.23  2.23  2.23  2.23  2.23  2.23  2.23  2.23  2.23\n",
            "  2.24  2.24  2.24  2.24  2.24  2.24  2.24  2.24  2.24  2.24  2.25  2.25\n",
            "  2.25  2.25  2.25  2.25  2.25  2.25  2.25  2.25  2.26  2.26  2.26  2.26\n",
            "  2.26  2.26  2.26  2.26  2.26  2.26  2.27  2.27  2.27  2.27  2.27  2.27\n",
            "  2.27  2.27  2.27  2.27  2.28  2.28  2.28  2.28  2.28  2.28  2.28  2.28\n",
            "  2.28  2.28  2.29  2.29  2.29  2.29  2.29  2.29  2.29  2.29  2.29  2.29\n",
            "  2.3   2.3   2.3   2.3   2.3   2.3   2.3   2.3   2.3   2.3   2.31  2.31\n",
            "  2.31  2.31  2.31  2.31  2.31  2.31  2.31  2.31  2.32  2.32  2.32  2.32\n",
            "  2.32  2.32  2.32  2.32  2.32  2.32  2.33  2.33  2.33  2.33  2.33  2.33\n",
            "  2.33  2.33  2.33  2.33  2.34  2.34  2.34  2.34  2.34  2.34  2.34  2.34\n",
            "  2.34  2.34  2.35  2.35  2.35  2.35  2.35  2.35  2.35  2.35  2.35  2.35\n",
            "  2.36  2.36  2.36  2.36  2.36  2.36  2.36  2.36  2.36  2.36  2.37  2.37\n",
            "  2.37  2.37  2.37  2.37  2.37  2.37  2.37  2.37  2.38  2.38  2.38  2.38\n",
            "  2.38  2.38  2.38  2.38  2.38  2.38  2.39  2.39  2.39  2.39  2.39  2.39\n",
            "  2.39  2.39  2.39  2.39  2.4   2.4   2.4   2.4   2.4   2.4   2.4   2.4\n",
            "  2.4   2.4   2.41  2.41  2.41  2.41  2.41  2.41  2.41  2.41  2.41  2.41\n",
            "  2.42  2.42  2.42  2.42  2.42  2.42  2.42  2.42  2.42  2.42  2.43  2.43\n",
            "  2.43  2.43  2.43  2.43  2.43  2.43  2.43  2.43  2.44  2.44  2.44  2.44\n",
            "  2.44  2.44  2.44  2.44  2.44  2.44  2.45  2.45  2.45  2.45  2.45  2.45\n",
            "  2.45  2.45  2.45  2.45  2.46  2.46  2.46  2.46  2.46  2.46  2.46  2.46\n",
            "  2.46  2.46  2.47  2.47  2.47  2.47  2.47  2.47  2.47  2.47  2.47  2.47\n",
            "  2.48  2.48  2.48  2.48  2.48  2.48  2.48  2.48  2.48  2.48  2.49  2.49\n",
            "  2.49  2.49  2.49  2.49  2.49  2.49  2.49  2.49  2.5   2.5   2.5   2.5\n",
            "  2.5   2.5   2.5   2.5   2.5   2.5   2.51  2.51  2.51  2.51  2.51  2.51\n",
            "  2.51  2.51  2.51  2.51  2.52  2.52  2.52  2.52  2.52  2.52  2.52  2.52\n",
            "  2.52  2.52  2.53  2.53  2.53  2.53  2.53  2.53  2.53  2.53  2.53  2.53\n",
            "  2.54  2.54  2.54  2.54  2.54  2.54  2.54  2.54  2.54  2.54  2.55  2.55\n",
            "  2.55  2.55  2.55  2.55  2.55  2.55  2.55  2.55  2.56  2.56  2.56  2.56\n",
            "  2.56  2.56  2.56  2.56  2.56  2.56  2.57  2.57  2.57  2.57  2.57  2.57\n",
            "  2.57  2.57  2.57  2.57  2.58  2.58  2.58  2.58  2.58  2.58  2.58  2.58\n",
            "  2.58  2.58  2.59  2.59  2.59  2.59  2.59  2.59  2.59  2.59  2.59  2.59\n",
            "  2.6   2.6   2.6   2.6   2.6   2.6   2.6   2.6   2.6   2.6   2.61  2.61\n",
            "  2.61  2.61  2.61  2.61  2.61  2.61  2.61  2.61  2.62  2.62  2.62  2.62\n",
            "  2.62  2.62  2.62  2.62  2.62  2.62  2.63  2.63  2.63  2.63  2.63  2.63\n",
            "  2.63  2.63  2.63  2.63  2.64  2.64  2.64  2.64  2.64  2.64  2.64  2.64\n",
            "  2.64  2.64  2.65  2.65  2.65  2.65  2.65  2.65  2.65  2.65  2.65  2.65\n",
            "  2.66  2.66  2.66  2.66  2.66  2.66  2.66  2.66  2.66  2.66  2.67  2.67\n",
            "  2.67  2.67  2.67  2.67  2.67  2.67  2.67  2.67  2.68  2.68  2.68  2.68\n",
            "  2.68  2.68  2.68  2.68  2.68  2.68  2.69  2.69  2.69  2.69  2.69  2.69\n",
            "  2.69  2.69  2.69  2.69  2.7   2.7   2.7   2.7   2.7   2.7   2.7   2.7\n",
            "  2.7   2.7   2.71  2.71  2.71  2.71  2.71  2.71  2.71  2.71  2.71  2.71\n",
            "  2.72  2.72  2.72  2.72  2.72  2.72  2.72  2.72  2.72  2.72  2.73  2.73\n",
            "  2.73  2.73  2.73  2.73  2.73  2.73  2.73  2.73  2.74  2.74  2.74  2.74\n",
            "  2.74  2.74  2.74  2.74  2.74  2.74  2.75  2.75  2.75  2.75  2.75  2.75\n",
            "  2.75  2.75  2.75  2.75  2.76  2.76  2.76  2.76  2.76  2.76  2.76  2.76\n",
            "  2.76  2.76  2.77  2.77  2.77  2.77  2.77  2.77  2.77  2.77  2.77  2.77\n",
            "  2.78  2.78  2.78  2.78  2.78  2.78  2.78  2.78  2.78  2.78  2.79  2.79\n",
            "  2.79  2.79  2.79  2.79  2.79  2.79  2.79  2.79  2.8   2.8   2.8   2.8\n",
            "  2.8   2.8   2.8   2.8   2.8   2.8   2.81  2.81  2.81  2.81  2.81  2.81\n",
            "  2.81  2.81  2.81  2.81  2.82  2.82  2.82  2.82  2.82  2.82  2.82  2.82\n",
            "  2.82  2.82  2.83  2.83  2.83  2.83  2.83  2.83  2.83  2.83  2.83  2.83\n",
            "  2.84  2.84  2.84  2.84  2.84  2.84  2.84  2.84  2.84  2.84  2.85  2.85\n",
            "  2.85  2.85  2.85  2.85  2.85  2.85  2.85  2.85  2.86  2.86  2.86  2.86\n",
            "  2.86  2.86  2.86  2.86  2.86  2.86  2.87  2.87  2.87  2.87  2.87  2.87\n",
            "  2.87  2.87  2.87  2.87  2.88  2.88  2.88  2.88  2.88  2.88  2.88  2.88\n",
            "  2.88  2.88  2.89  2.89  2.89  2.89  2.89  2.89  2.89  2.89  2.89  2.89\n",
            "  2.9   2.9   2.9   2.9   2.9   2.9   2.9   2.9   2.9   2.9   2.91  2.91\n",
            "  2.91  2.91  2.91  2.91  2.91  2.91  2.91  2.91  2.92  2.92  2.92  2.92\n",
            "  2.92  2.92  2.92  2.92  2.92  2.92  2.93  2.93  2.93  2.93  2.93  2.93\n",
            "  2.93  2.93  2.93  2.93  2.94  2.94  2.94  2.94  2.94  2.94  2.94  2.94\n",
            "  2.94  2.94  2.95  2.95  2.95  2.95  2.95  2.95  2.95  2.95  2.95  2.95\n",
            "  2.96  2.96  2.96  2.96  2.96  2.96  2.96  2.96  2.96  2.96  2.97  2.97\n",
            "  2.97  2.97  2.97  2.97  2.97  2.97  2.97  2.97  2.98  2.98  2.98  2.98\n",
            "  2.98  2.98  2.98  2.98  2.98  2.98  2.99  2.99  2.99  2.99  2.99  2.99\n",
            "  2.99  2.99  2.99  2.99  3.    3.    3.    3.    3.    3.    3.    3.\n",
            "  3.    3.    3.01  3.01  3.01  3.01  3.01  3.01  3.01  3.01  3.01  3.01\n",
            "  3.02  3.02  3.02  3.02  3.02  3.02  3.02  3.02  3.02  3.02  3.03  3.03\n",
            "  3.03  3.03  3.03  3.03  3.03  3.03  3.03  3.03  3.04  3.04  3.04  3.04\n",
            "  3.04  3.04  3.04  3.04  3.04  3.04  3.05  3.05  3.05  3.05  3.05  3.05\n",
            "  3.05  3.05  3.05  3.05  3.06  3.06  3.06  3.06  3.06  3.06  3.06  3.06\n",
            "  3.06  3.06  3.07  3.07  3.07  3.07  3.07  3.07  3.07  3.07  3.07  3.07\n",
            "  3.08  3.08  3.08  3.08  3.08  3.08  3.08  3.08  3.08  3.08  3.09  3.09\n",
            "  3.09  3.09  3.09  3.09  3.09  3.09  3.09  3.09  3.1   3.1   3.1   3.1\n",
            "  3.1   3.1   3.1   3.1   3.1   3.1   3.11  3.11  3.11  3.11  3.11  3.11\n",
            "  3.11  3.11  3.11  3.11  3.12  3.12  3.12  3.12  3.12  3.12  3.12  3.12\n",
            "  3.12  3.12  3.13  3.13  3.13  3.13  3.13  3.13  3.13  3.13  3.13  3.13\n",
            "  3.14  3.14  3.14  3.14  3.14  3.14  3.14  3.14  3.14  3.14  3.15  3.15\n",
            "  3.15  3.15  3.15  3.15  3.15  3.15  3.15  3.15  3.16  3.16  3.16  3.16\n",
            "  3.16  3.16  3.16  3.16  3.16  3.16  3.17  3.17  3.17  3.17  3.17  3.17\n",
            "  3.17  3.17  3.17  3.17  3.18  3.18  3.18  3.18  3.18  3.18  3.18  3.18\n",
            "  3.18  3.18  3.19  3.19  3.19  3.19  3.19  3.19  3.19  3.19  3.19  3.19\n",
            "  3.2   3.2   3.2   3.2   3.2   3.2   3.2   3.2   3.2   3.2   3.21  3.21\n",
            "  3.21  3.21  3.21  3.21  3.21  3.21  3.21  3.21  3.22  3.22  3.22  3.22\n",
            "  3.22  3.22  3.22  3.22  3.22  3.22  3.23  3.23  3.23  3.23  3.23  3.23\n",
            "  3.23  3.23  3.23  3.23  3.24  3.24  3.24  3.24  3.24  3.24  3.24  3.24\n",
            "  3.24  3.24  3.25  3.25  3.25  3.25  3.25  3.25  3.25  3.25  3.25  3.25\n",
            "  3.26  3.26  3.26  3.26  3.26  3.26  3.26  3.26  3.26  3.26  3.27  3.27\n",
            "  3.27  3.27  3.27  3.27  3.27  3.27  3.27  3.27  3.28  3.28  3.28  3.28\n",
            "  3.28  3.28  3.28  3.28  3.28  3.28  3.29  3.29  3.29  3.29  3.29  3.29\n",
            "  3.29  3.29  3.29  3.29  3.3   3.3   3.3   3.3   3.3   3.3   3.3   3.3\n",
            "  3.3   3.3   3.31  3.31  3.31  3.31  3.31  3.31  3.31  3.31  3.31  3.31\n",
            "  3.32  3.32  3.32  3.32  3.32  3.32  3.32  3.32  3.32  3.32  3.33  3.33\n",
            "  3.33  3.33  3.33  3.33  3.33  3.33  3.33  3.33  3.34  3.34  3.34  3.34\n",
            "  3.34  3.34  3.34  3.34  3.34  3.34  3.35  3.35  3.35  3.35  3.35  3.35\n",
            "  3.35  3.35  3.35  3.35  3.36  3.36  3.36  3.36  3.36  3.36  3.36  3.36\n",
            "  3.36  3.36  3.37  3.37  3.37  3.37  3.37  3.37  3.37  3.37  3.37  3.37\n",
            "  3.38  3.38  3.38  3.38  3.38  3.38  3.38  3.38  3.38  3.38  3.39  3.39\n",
            "  3.39  3.39  3.39  3.39  3.39  3.39  3.39  3.39  3.4   3.4   3.4   3.4\n",
            "  3.4   3.4   3.4   3.4   3.4   3.4   3.41  3.41  3.41  3.41  3.41  3.41\n",
            "  3.41  3.41  3.41  3.41  3.42  3.42  3.42  3.42  3.42  3.42  3.42  3.42\n",
            "  3.42  3.42  3.43  3.43  3.43  3.43  3.43  3.43  3.43  3.43  3.43  3.43\n",
            "  3.44  3.44  3.44  3.44  3.44  3.44  3.44  3.44  3.44  3.44  3.45  3.45\n",
            "  3.45  3.45  3.45  3.45  3.45  3.45  3.45  3.45  3.46  3.46  3.46  3.46\n",
            "  3.46  3.46  3.46  3.46  3.46  3.46  3.47  3.47  3.47  3.47  3.47  3.47\n",
            "  3.47  3.47  3.47  3.47  3.48  3.48  3.48  3.48  3.48  3.48  3.48  3.48\n",
            "  3.48  3.48  3.49  3.49  3.49  3.49  3.49  3.49  3.49  3.49  3.49  3.49\n",
            "  3.5   3.5   3.5   3.5   3.5   3.5   3.5   3.5   3.5   3.5   3.51  3.51\n",
            "  3.51  3.51  3.51  3.51  3.51  3.51  3.51  3.51  3.52  3.52  3.52  3.52\n",
            "  3.52  3.52  3.52  3.52  3.52  3.52  3.53  3.53  3.53  3.53  3.53  3.53\n",
            "  3.53  3.53  3.53  3.53  3.54  3.54  3.54  3.54  3.54  3.54  3.54  3.54\n",
            "  3.54  3.54  3.55  3.55  3.55  3.55  3.55  3.55  3.55  3.55  3.55  3.55\n",
            "  3.56  3.56  3.56  3.56  3.56  3.56  3.56  3.56  3.56  3.56  3.57  3.57\n",
            "  3.57  3.57  3.57  3.57  3.57  3.57  3.57  3.57  3.58  3.58  3.58  3.58\n",
            "  3.58  3.58  3.58  3.58  3.58  3.58  3.59  3.59  3.59  3.59  3.59  3.59\n",
            "  3.59  3.59  3.59  3.59  3.6   3.6   3.6   3.6   3.6   3.6   3.6   3.6\n",
            "  3.6   3.6   3.61  3.61  3.61  3.61  3.61  3.61  3.61  3.61  3.61  3.61\n",
            "  3.62  3.62  3.62  3.62  3.62  3.62  3.62  3.62  3.62  3.62  3.63  3.63\n",
            "  3.63  3.63  3.63  3.63  3.63  3.63  3.63  3.63  3.64  3.64  3.64  3.64\n",
            "  3.64  3.64  3.64  3.64  3.64  3.64  3.65  3.65  3.65  3.65  3.65  3.65\n",
            "  3.65  3.65  3.65  3.65  3.66  3.66  3.66  3.66  3.66  3.66  3.66  3.66\n",
            "  3.66  3.66  3.67  3.67  3.67  3.67  3.67  3.67  3.67  3.67  3.67  3.67\n",
            "  3.68  3.68  3.68  3.68  3.68  3.68  3.68  3.68  3.68  3.68  3.69  3.69\n",
            "  3.69  3.69  3.69  3.69  3.69  3.69  3.69  3.69  3.7   3.7   3.7   3.7\n",
            "  3.7   3.7   3.7   3.7   3.7   3.7   3.71  3.71  3.71  3.71  3.71  3.71\n",
            "  3.71  3.71  3.71  3.71  3.72  3.72  3.72  3.72  3.72  3.72  3.72  3.72\n",
            "  3.72  3.72  3.73  3.73  3.73  3.73  3.73  3.73  3.73  3.73  3.73  3.73\n",
            "  3.74  3.74  3.74  3.74  3.74  3.74  3.74  3.74  3.74  3.74  3.75  3.75\n",
            "  3.75  3.75  3.75  3.75  3.75  3.75  3.75  3.75  3.76  3.76  3.76  3.76\n",
            "  3.76  3.76  3.76  3.76  3.76  3.76  3.77  3.77  3.77  3.77  3.77  3.77\n",
            "  3.77  3.77  3.77  3.77  3.78  3.78  3.78  3.78  3.78  3.78  3.78  3.78\n",
            "  3.78  3.78  3.79  3.79  3.79  3.79  3.79  3.79  3.79  3.79  3.79  3.79\n",
            "  3.8   3.8   3.8   3.8   3.8   3.8   3.8   3.8   3.8   3.8   3.81  3.81\n",
            "  3.81  3.81  3.81  3.81  3.81  3.81  3.81  3.81  3.82  3.82  3.82  3.82\n",
            "  3.82  3.82  3.82  3.82  3.82  3.82  3.83  3.83  3.83  3.83  3.83  3.83\n",
            "  3.83  3.83  3.83  3.83  3.84  3.84  3.84  3.84  3.84  3.84  3.84  3.84\n",
            "  3.84  3.84  3.85  3.85  3.85  3.85  3.85  3.85  3.85  3.85  3.85  3.85\n",
            "  3.86  3.86  3.86  3.86  3.86  3.86  3.86  3.86  3.86  3.86  3.87  3.87\n",
            "  3.87  3.87  3.87  3.87  3.87  3.87  3.87  3.87  3.88  3.88  3.88  3.88\n",
            "  3.88  3.88  3.88  3.88  3.88  3.88  3.89  3.89  3.89  3.89  3.89  3.89\n",
            "  3.89  3.89  3.89  3.89  3.9   3.9   3.9   3.9   3.9   3.9   3.9   3.9\n",
            "  3.9   3.9   3.91  3.91  3.91  3.91  3.91  3.91  3.91  3.91  3.91  3.91\n",
            "  3.92  3.92  3.92  3.92  3.92  3.92  3.92  3.92  3.92  3.92  3.93  3.93\n",
            "  3.93  3.93  3.93  3.93  3.93  3.93  3.93  3.93  3.94  3.94  3.94  3.94\n",
            "  3.94  3.94  3.94  3.94  3.94  3.94  3.95  3.95  3.95  3.95  3.95  3.95\n",
            "  3.95  3.95  3.95  3.95  3.96  3.96  3.96  3.96  3.96  3.96  3.96  3.96\n",
            "  3.96  3.96  3.97  3.97  3.97  3.97  3.97  3.97  3.97  3.97  3.97  3.97\n",
            "  3.98  3.98  3.98  3.98  3.98  3.98  3.98  3.98  3.98  3.98  3.99  3.99\n",
            "  3.99  3.99  3.99  3.99  3.99  3.99  3.99  3.99  4.    4.    4.    4.\n",
            "  4.    4.    4.    4.    4.    4.    4.01  4.01  4.01  4.01  4.01  4.01\n",
            "  4.01  4.01  4.01  4.01  4.02  4.02  4.02  4.02  4.02  4.02  4.02  4.02\n",
            "  4.02  4.02  4.03  4.03  4.03  4.03  4.03  4.03  4.03  4.03  4.03  4.03\n",
            "  4.04  4.04  4.04  4.04  4.04  4.04  4.04  4.04  4.04  4.04  4.05  4.05\n",
            "  4.05  4.05  4.05  4.05  4.05  4.05  4.05  4.05  4.06  4.06  4.06  4.06\n",
            "  4.06  4.06  4.06  4.06  4.06  4.06  4.07  4.07  4.07  4.07  4.07  4.07\n",
            "  4.07  4.07  4.07  4.07  4.08  4.08  4.08  4.08  4.08  4.08  4.08  4.08\n",
            "  4.08  4.08  4.09  4.09  4.09  4.09  4.09  4.09  4.09  4.09  4.09  4.09\n",
            "  4.1   4.1   4.1   4.1   4.1   4.1   4.1   4.1   4.1   4.1   4.11  4.11\n",
            "  4.11  4.11  4.11  4.11  4.11  4.11  4.11  4.11  4.12  4.12  4.12  4.12\n",
            "  4.12  4.12  4.12  4.12  4.12  4.12  4.13  4.13  4.13  4.13  4.13  4.13\n",
            "  4.13  4.13  4.13  4.13  4.14  4.14  4.14  4.14  4.14  4.14  4.14  4.14\n",
            "  4.14  4.14  4.15  4.15  4.15  4.15  4.15  4.15  4.15  4.15  4.15  4.15\n",
            "  4.16  4.16  4.16  4.16  4.16  4.16  4.16  4.16  4.16  4.16  4.17  4.17\n",
            "  4.17  4.17  4.17  4.17  4.17  4.17  4.17  4.17  4.18  4.18  4.18  4.18\n",
            "  4.18  4.18  4.18  4.18  4.18  4.18  4.19  4.19  4.19  4.19  4.19  4.19\n",
            "  4.19  4.19  4.19  4.19  4.2   4.2   4.2   4.2   4.2   4.2   4.2   4.2\n",
            "  4.2   4.2   4.21  4.21  4.21  4.21  4.21  4.21  4.21  4.21  4.21  4.21\n",
            "  4.22  4.22  4.22  4.22  4.22  4.22  4.22  4.22  4.22  4.22  4.23  4.23\n",
            "  4.23  4.23  4.23  4.23  4.23  4.23  4.23  4.23  4.24  4.24  4.24  4.24\n",
            "  4.24  4.24  4.24  4.24  4.24  4.24  4.25  4.25  4.25  4.25  4.25  4.25\n",
            "  4.25  4.25  4.25  4.25  4.26  4.26  4.26  4.26  4.26  4.26  4.26  4.26\n",
            "  4.26  4.26  4.27  4.27  4.27  4.27  4.27  4.27  4.27  4.27  4.27  4.27\n",
            "  4.28  4.28  4.28  4.28  4.28  4.28  4.28  4.28  4.28  4.28  4.29  4.29\n",
            "  4.29  4.29  4.29  4.29  4.29  4.29  4.29  4.29  4.3   4.3   4.3   4.3\n",
            "  4.3   4.3   4.3   4.3   4.3   4.3   4.31  4.31  4.31  4.31  4.31  4.31\n",
            "  4.31  4.31  4.31  4.31  4.32  4.32  4.32  4.32  4.32  4.32  4.32  4.32\n",
            "  4.32  4.32  4.33  4.33  4.33  4.33  4.33  4.33  4.33  4.33  4.33  4.33\n",
            "  4.34  4.34  4.34  4.34  4.34  4.34  4.34  4.34  4.34  4.34  4.35  4.35\n",
            "  4.35  4.35  4.35  4.35  4.35  4.35  4.35  4.35  4.36  4.36  4.36  4.36\n",
            "  4.36  4.36  4.36  4.36  4.36  4.36  4.37  4.37  4.37  4.37  4.37  4.37\n",
            "  4.37  4.37  4.37  4.37  4.38  4.38  4.38  4.38  4.38  4.38  4.38  4.38\n",
            "  4.38  4.38  4.39  4.39  4.39  4.39  4.39  4.39  4.39  4.39  4.39  4.39\n",
            "  4.4   4.4   4.4   4.4   4.4   4.4   4.4   4.4   4.4   4.4   4.41  4.41\n",
            "  4.41  4.41  4.41  4.41  4.41  4.41  4.41  4.41  4.42  4.42  4.42  4.42\n",
            "  4.42  4.42  4.42  4.42  4.42  4.42  4.43  4.43  4.43  4.43  4.43  4.43\n",
            "  4.43  4.43  4.43  4.43  4.44  4.44  4.44  4.44  4.44  4.44  4.44  4.44\n",
            "  4.44  4.44  4.45  4.45  4.45  4.45  4.45  4.45  4.45  4.45  4.45  4.45\n",
            "  4.46  4.46  4.46  4.46  4.46  4.46  4.46  4.46  4.46  4.46  4.47  4.47\n",
            "  4.47  4.47  4.47  4.47  4.47  4.47  4.47  4.47  4.48  4.48  4.48  4.48\n",
            "  4.48  4.48  4.48  4.48  4.48  4.48  4.49  4.49  4.49  4.49  4.49  4.49\n",
            "  4.49  4.49  4.49  4.49  4.5   4.5   4.5   4.5   4.5   4.5   4.5   4.5\n",
            "  4.5   4.5   4.51  4.51  4.51  4.51  4.51  4.51  4.51  4.51  4.51  4.51\n",
            "  4.52  4.52  4.52  4.52  4.52  4.52  4.52  4.52  4.52  4.52  4.53  4.53\n",
            "  4.53  4.53  4.53  4.53  4.53  4.53  4.53  4.53  4.54  4.54  4.54  4.54\n",
            "  4.54  4.54  4.54  4.54  4.54  4.54  4.55  4.55  4.55  4.55  4.55  4.55\n",
            "  4.55  4.55  4.55  4.55  4.56  4.56  4.56  4.56  4.56  4.56  4.56  4.56\n",
            "  4.56  4.56  4.57  4.57  4.57  4.57  4.57  4.57  4.57  4.57  4.57  4.57\n",
            "  4.58  4.58  4.58  4.58  4.58  4.58  4.58  4.58  4.58  4.58  4.59  4.59\n",
            "  4.59  4.59  4.59  4.59  4.59  4.59  4.59  4.59  4.6   4.6   4.6   4.6\n",
            "  4.6   4.6   4.6   4.6   4.6   4.6   4.61  4.61  4.61  4.61  4.61  4.61\n",
            "  4.61  4.61  4.61  4.61  4.62  4.62  4.62  4.62  4.62  4.62  4.62  4.62\n",
            "  4.62  4.62  4.63  4.63  4.63  4.63  4.63  4.63  4.63  4.63  4.63  4.63\n",
            "  4.64  4.64  4.64  4.64  4.64  4.64  4.64  4.64  4.64  4.64  4.65  4.65\n",
            "  4.65  4.65  4.65  4.65  4.65  4.65  4.65  4.65  4.66  4.66  4.66  4.66\n",
            "  4.66  4.66  4.66  4.66  4.66  4.66  4.67  4.67  4.67  4.67  4.67  4.67\n",
            "  4.67  4.67  4.67  4.67  4.68  4.68  4.68  4.68  4.68  4.68  4.68  4.68\n",
            "  4.68  4.68  4.69  4.69  4.69  4.69  4.69  4.69  4.69  4.69  4.69  4.69\n",
            "  4.7   4.7   4.7   4.7   4.7   4.7   4.7   4.7   4.7   4.7   4.71  4.71\n",
            "  4.71  4.71  4.71  4.71  4.71  4.71  4.71  4.71  4.72  4.72  4.72  4.72\n",
            "  4.72  4.72  4.72  4.72  4.72  4.72  4.73  4.73  4.73  4.73  4.73  4.73\n",
            "  4.73  4.73  4.73  4.73  4.74  4.74  4.74  4.74  4.74  4.74  4.74  4.74\n",
            "  4.74  4.74  4.75  4.75  4.75  4.75  4.75  4.75  4.75  4.75  4.75  4.75\n",
            "  4.76  4.76  4.76  4.76  4.76  4.76  4.76  4.76  4.76  4.76  4.77  4.77\n",
            "  4.77  4.77  4.77  4.77  4.77  4.77  4.77  4.77  4.78  4.78  4.78  4.78\n",
            "  4.78  4.78  4.78  4.78  4.78  4.78  4.79  4.79  4.79  4.79  4.79  4.79\n",
            "  4.79  4.79  4.79  4.79  4.8   4.8   4.8   4.8   4.8   4.8   4.8   4.8\n",
            "  4.8   4.8   4.81  4.81  4.81  4.81  4.81  4.81  4.81  4.81  4.81  4.81\n",
            "  4.82  4.82  4.82  4.82  4.82  4.82  4.82  4.82  4.82  4.82  4.83  4.83\n",
            "  4.83  4.83  4.83  4.83  4.83  4.83  4.83  4.83  4.84  4.84  4.84  4.84\n",
            "  4.84  4.84  4.84  4.84  4.84  4.84  4.85  4.85  4.85  4.85  4.85  4.85\n",
            "  4.85  4.85  4.85  4.85  4.86  4.86  4.86  4.86  4.86  4.86  4.86  4.86\n",
            "  4.86  4.86  4.87  4.87  4.87  4.87  4.87  4.87  4.87  4.87  4.87  4.87\n",
            "  4.88  4.88  4.88  4.88  4.88  4.88  4.88  4.88  4.88  4.88  4.89  4.89\n",
            "  4.89  4.89  4.89  4.89  4.89  4.89  4.89  4.89  4.9   4.9   4.9   4.9\n",
            "  4.9   4.9   4.9   4.9   4.9   4.9   4.91  4.91  4.91  4.91  4.91  4.91\n",
            "  4.91  4.91  4.91  4.91  4.92  4.92  4.92  4.92  4.92  4.92  4.92  4.92\n",
            "  4.92  4.92  4.93  4.93  4.93  4.93  4.93  4.93  4.93  4.93  4.93  4.93\n",
            "  4.94  4.94  4.94  4.94  4.94  4.94  4.94  4.94  4.94  4.94  4.95  4.95\n",
            "  4.95  4.95  4.95  4.95  4.95  4.95  4.95  4.95  4.96  4.96  4.96  4.96\n",
            "  4.96  4.96  4.96  4.96  4.96  4.96  4.97  4.97  4.97  4.97  4.97  4.97\n",
            "  4.97  4.97  4.97  4.97  4.98  4.98  4.98  4.98  4.98  4.98  4.98  4.98\n",
            "  4.98  4.98  4.99  4.99  4.99  4.99  4.99  4.99  4.99  4.99  4.99  4.99\n",
            "  5.    5.    5.    5.    5.    5.    5.    5.    5.    5.    5.01  5.01\n",
            "  5.01  5.01  5.01  5.01  5.01  5.01  5.01  5.01  5.02  5.02  5.02  5.02\n",
            "  5.02  5.02  5.02  5.02  5.02  5.02  5.03  5.03  5.03  5.03  5.03  5.03\n",
            "  5.03  5.03  5.03  5.03  5.04  5.04  5.04  5.04  5.04  5.04  5.04  5.04\n",
            "  5.04  5.04  5.05  5.05  5.05  5.05  5.05  5.05  5.05  5.05  5.05  5.05\n",
            "  5.06  5.06  5.06  5.06  5.06  5.06  5.06  5.06  5.06  5.06  5.07  5.07\n",
            "  5.07  5.07  5.07  5.07  5.07  5.07  5.07  5.07  5.08  5.08  5.08  5.08\n",
            "  5.08  5.08  5.08  5.08  5.08  5.08  5.09  5.09  5.09  5.09  5.09  5.09\n",
            "  5.09  5.09  5.09  5.09  5.1   5.1   5.1   5.1   5.1   5.1   5.1   5.1\n",
            "  5.1   5.1   5.11  5.11  5.11  5.11  5.11  5.11  5.11  5.11  5.11  5.11\n",
            "  5.12  5.12  5.12  5.12  5.12  5.12  5.12  5.12  5.12  5.12  5.13  5.13\n",
            "  5.13  5.13  5.13  5.13  5.13  5.13  5.13  5.13  5.14  5.14  5.14  5.14\n",
            "  5.14  5.14  5.14  5.14  5.14  5.14  5.15  5.15  5.15  5.15  5.15  5.15\n",
            "  5.15  5.15  5.15  5.15  5.16  5.16  5.16  5.16  5.16  5.16  5.16  5.16\n",
            "  5.16  5.16  5.17  5.17  5.17  5.17  5.17  5.17  5.17  5.17  5.17  5.17\n",
            "  5.18  5.18  5.18  5.18  5.18  5.18  5.18  5.18  5.18  5.18  5.19  5.19\n",
            "  5.19  5.19  5.19  5.19  5.19  5.19  5.19  5.19  5.2   5.2   5.2   5.2\n",
            "  5.2   5.2   5.2   5.2   5.2   5.2   5.21  5.21  5.21  5.21  5.21  5.21\n",
            "  5.21  5.21  5.21  5.21  5.22  5.22  5.22  5.22  5.22  5.22  5.22  5.22\n",
            "  5.22  5.22  5.23  5.23  5.23  5.23  5.23  5.23  5.23  5.23  5.23  5.23\n",
            "  5.24  5.24  5.24  5.24  5.24  5.24  5.24  5.24  5.24  5.24  5.25  5.25\n",
            "  5.25  5.25  5.25  5.25  5.25  5.25  5.25  5.25  5.26  5.26  5.26  5.26\n",
            "  5.26  5.26  5.26  5.26  5.26  5.26  5.27  5.27  5.27  5.27  5.27  5.27\n",
            "  5.27  5.27  5.27  5.27  5.28  5.28  5.28  5.28  5.28  5.28  5.28  5.28\n",
            "  5.28  5.28  5.29  5.29  5.29  5.29  5.29  5.29  5.29  5.29  5.29  5.29\n",
            "  5.3   5.3   5.3   5.3   5.3   5.3   5.3   5.3   5.3   5.3   5.31  5.31\n",
            "  5.31  5.31  5.31  5.31  5.31  5.31  5.31  5.31  5.32  5.32  5.32  5.32\n",
            "  5.32  5.32  5.32  5.32  5.32  5.32  5.33  5.33  5.33  5.33  5.33  5.33\n",
            "  5.33  5.33  5.33  5.33  5.34  5.34  5.34  5.34  5.34  5.34  5.34  5.34\n",
            "  5.34  5.34  5.35  5.35  5.35  5.35  5.35  5.35  5.35  5.35  5.35  5.35\n",
            "  5.36  5.36  5.36  5.36  5.36  5.36  5.36  5.36  5.36  5.36  5.37  5.37\n",
            "  5.37  5.37  5.37  5.37  5.37  5.37  5.37  5.37  5.38  5.38  5.38  5.38\n",
            "  5.38  5.38  5.38  5.38  5.38  5.38  5.39  5.39  5.39  5.39  5.39  5.39\n",
            "  5.39  5.39  5.39  5.39  5.4   5.4   5.4   5.4   5.4   5.4   5.4   5.4\n",
            "  5.4   5.4   5.41  5.41  5.41  5.41  5.41  5.41  5.41  5.41  5.41  5.41\n",
            "  5.42  5.42  5.42  5.42  5.42  5.42  5.42  5.42  5.42  5.42  5.43  5.43\n",
            "  5.43  5.43  5.43  5.43  5.43  5.43  5.43  5.43  5.44  5.44  5.44  5.44\n",
            "  5.44  5.44  5.44  5.44  5.44  5.44  5.45  5.45  5.45  5.45  5.45  5.45\n",
            "  5.45  5.45  5.45  5.45  5.46  5.46  5.46  5.46  5.46  5.46  5.46  5.46\n",
            "  5.46  5.46  5.47  5.47  5.47  5.47  5.47  5.47  5.47  5.47  5.47  5.47\n",
            "  5.48  5.48  5.48  5.48  5.48  5.48  5.48  5.48  5.48  5.48  5.49  5.49\n",
            "  5.49  5.49  5.49  5.49  5.49  5.49  5.49  5.49  5.5   5.5   5.5   5.5\n",
            "  5.5   5.5   5.5   5.5   5.5   5.5   5.51  5.51  5.51  5.51  5.51  5.51\n",
            "  5.51  5.51  5.51  5.51  5.52  5.52  5.52  5.52  5.52  5.52  5.52  5.52\n",
            "  5.52  5.52  5.53  5.53  5.53  5.53  5.53  5.53  5.53  5.53  5.53  5.53\n",
            "  5.54  5.54  5.54  5.54  5.54  5.54  5.54  5.54  5.54  5.54  5.55  5.55\n",
            "  5.55  5.55  5.55  5.55  5.55  5.55  5.55  5.55  5.56  5.56  5.56  5.56\n",
            "  5.56  5.56  5.56  5.56  5.56  5.56  5.57  5.57  5.57  5.57  5.57  5.57\n",
            "  5.57  5.57  5.57  5.57  5.58  5.58  5.58  5.58  5.58  5.58  5.58  5.58\n",
            "  5.58  5.58  5.59  5.59  5.59  5.59  5.59  5.59  5.59  5.59  5.59  5.59\n",
            "  5.6   5.6   5.6   5.6   5.6   5.6   5.6   5.6   5.6   5.6   5.61  5.61\n",
            "  5.61  5.61  5.61  5.61  5.61  5.61  5.61  5.61  5.62  5.62  5.62  5.62\n",
            "  5.62  5.62  5.62  5.62  5.62  5.62  5.63  5.63  5.63  5.63  5.63  5.63\n",
            "  5.63  5.63  5.63  5.63  5.64  5.64  5.64  5.64  5.64  5.64  5.64  5.64\n",
            "  5.64  5.64  5.65  5.65  5.65  5.65  5.65  5.65  5.65  5.65  5.65  5.65\n",
            "  5.66  5.66  5.66  5.66  5.66  5.66  5.66  5.66  5.66  5.66  5.67  5.67\n",
            "  5.67  5.67  5.67  5.67  5.67  5.67  5.67  5.67  5.68  5.68  5.68  5.68\n",
            "  5.68  5.68  5.68  5.68  5.68  5.68  5.69  5.69  5.69  5.69  5.69  5.69\n",
            "  5.69  5.69  5.69  5.69  5.7   5.7   5.7   5.7   5.7   5.7   5.7   5.7\n",
            "  5.7   5.7   5.71  5.71  5.71  5.71  5.71  5.71  5.71  5.71  5.71  5.71\n",
            "  5.72  5.72  5.72  5.72  5.72  5.72  5.72  5.72  5.72  5.72  5.73  5.73\n",
            "  5.73  5.73  5.73  5.73  5.73  5.73  5.73  5.73  5.74  5.74  5.74  5.74\n",
            "  5.74  5.74  5.74  5.74  5.74  5.74  5.75  5.75  5.75  5.75  5.75  5.75\n",
            "  5.75  5.75  5.75  5.75  5.76  5.76  5.76  5.76  5.76  5.76  5.76  5.76\n",
            "  5.76  5.76  5.77  5.77  5.77  5.77  5.77  5.77  5.77  5.77  5.77  5.77\n",
            "  5.78  5.78  5.78  5.78  5.78  5.78  5.78  5.78  5.78  5.78  5.79  5.79\n",
            "  5.79  5.79  5.79  5.79  5.79  5.79  5.79  5.79  5.8   5.8   5.8   5.8\n",
            "  5.8   5.8   5.8   5.8   5.8   5.8   5.81  5.81  5.81  5.81  5.81  5.81\n",
            "  5.81  5.81  5.81  5.81  5.82  5.82  5.82  5.82  5.82  5.82  5.82  5.82\n",
            "  5.82  5.82  5.83  5.83  5.83  5.83  5.83  5.83  5.83  5.83  5.83  5.83\n",
            "  5.84  5.84  5.84  5.84  5.84  5.84  5.84  5.84  5.84  5.84  5.85  5.85\n",
            "  5.85  5.85  5.85  5.85  5.85  5.85  5.85  5.85  5.86  5.86  5.86  5.86\n",
            "  5.86  5.86  5.86  5.86  5.86  5.86  5.87  5.87  5.87  5.87  5.87  5.87\n",
            "  5.87  5.87  5.87  5.87  5.88  5.88  5.88  5.88  5.88  5.88  5.88  5.88\n",
            "  5.88  5.88  5.89  5.89  5.89  5.89  5.89  5.89  5.89  5.89  5.89  5.89\n",
            "  5.9   5.9   5.9   5.9   5.9   5.9   5.9   5.9   5.9   5.9   5.91  5.91\n",
            "  5.91  5.91  5.91  5.91  5.91  5.91  5.91  5.91  5.92  5.92  5.92  5.92\n",
            "  5.92  5.92  5.92  5.92  5.92  5.92  5.93  5.93  5.93  5.93  5.93  5.93\n",
            "  5.93  5.93  5.93  5.93  5.94  5.94  5.94  5.94  5.94  5.94  5.94  5.94\n",
            "  5.94  5.94  5.95  5.95  5.95  5.95  5.95  5.95  5.95  5.95  5.95  5.95\n",
            "  5.96  5.96  5.96  5.96  5.96  5.96  5.96  5.96  5.96  5.96  5.97  5.97\n",
            "  5.97  5.97  5.97  5.97  5.97  5.97  5.97  5.97  5.98  5.98  5.98  5.98\n",
            "  5.98  5.98  5.98  5.98  5.98  5.98  5.99  5.99  5.99  5.99  5.99  5.99\n",
            "  5.99  5.99  5.99  5.99  6.    6.    6.    6.    6.    6.    6.    6.\n",
            "  6.    6.    6.01  6.01  6.01  6.01  6.01  6.01  6.01  6.01  6.01  6.01\n",
            "  6.02  6.02  6.02  6.02  6.02  6.02  6.02  6.02  6.02  6.02  6.03  6.03\n",
            "  6.03  6.03  6.03  6.03  6.03  6.03  6.03  6.03  6.04  6.04  6.04  6.04\n",
            "  6.04  6.04  6.04  6.04  6.04  6.04  6.05  6.05  6.05  6.05  6.05  6.05\n",
            "  6.05  6.05  6.05  6.05  6.06  6.06  6.06  6.06  6.06  6.06  6.06  6.06\n",
            "  6.06  6.06  6.07  6.07  6.07  6.07  6.07  6.07  6.07  6.07  6.07  6.07\n",
            "  6.08  6.08  6.08  6.08  6.08  6.08  6.08  6.08  6.08  6.08  6.09  6.09\n",
            "  6.09  6.09  6.09  6.09  6.09  6.09  6.09  6.09  6.1   6.1   6.1   6.1\n",
            "  6.1   6.1   6.1   6.1   6.1   6.1   6.11  6.11  6.11  6.11  6.11  6.11\n",
            "  6.11  6.11  6.11  6.11  6.12  6.12  6.12  6.12  6.12  6.12  6.12  6.12\n",
            "  6.12  6.12  6.13  6.13  6.13  6.13  6.13  6.13  6.13  6.13  6.13  6.13\n",
            "  6.14  6.14  6.14  6.14  6.14  6.14  6.14  6.14  6.14  6.14  6.15  6.15\n",
            "  6.15  6.15  6.15  6.15  6.15  6.15  6.15  6.15  6.16  6.16  6.16  6.16\n",
            "  6.16  6.16  6.16  6.16  6.16  6.16  6.17  6.17  6.17  6.17  6.17  6.17\n",
            "  6.17  6.17  6.17  6.17  6.18  6.18  6.18  6.18  6.18  6.18  6.18  6.18\n",
            "  6.18  6.18  6.19  6.19  6.19  6.19  6.19  6.19  6.19  6.19  6.19  6.19\n",
            "  6.2   6.2   6.2   6.2   6.2   6.2   6.2   6.2   6.2   6.2   6.21  6.21\n",
            "  6.21  6.21  6.21  6.21  6.21  6.21  6.21  6.21  6.22  6.22  6.22  6.22\n",
            "  6.22  6.22  6.22  6.22  6.22  6.22  6.23  6.23  6.23  6.23  6.23  6.23\n",
            "  6.23  6.23  6.23  6.23  6.24  6.24  6.24  6.24  6.24  6.24  6.24  6.24\n",
            "  6.24  6.24  6.25  6.25  6.25  6.25  6.25  6.25  6.25  6.25  6.25  6.25\n",
            "  6.26  6.26  6.26  6.26  6.26  6.26  6.26  6.26  6.26  6.26  6.27  6.27\n",
            "  6.27  6.27  6.27  6.27  6.27  6.27  6.27  6.27  6.28  6.28  6.28  6.28\n",
            "  6.28  6.28  6.28  6.28  6.28  6.28  6.29  6.29  6.29  6.29  6.29  6.29\n",
            "  6.29  6.29  6.29  6.29  6.3   6.3   6.3   6.3   6.3   6.3   6.3   6.3\n",
            "  6.3   6.3   6.31  6.31  6.31  6.31  6.31  6.31  6.31  6.31  6.31  6.31\n",
            "  6.32  6.32  6.32  6.32  6.32  6.32  6.32  6.32  6.32  6.32  6.33  6.33\n",
            "  6.33  6.33  6.33  6.33  6.33  6.33  6.33  6.33  6.34  6.34  6.34  6.34\n",
            "  6.34  6.34  6.34  6.34  6.34  6.34  6.35  6.35  6.35  6.35  6.35  6.35\n",
            "  6.35  6.35  6.35  6.35  6.36  6.36  6.36  6.36  6.36  6.36  6.36  6.36\n",
            "  6.36  6.36  6.37  6.37  6.37  6.37  6.37  6.37  6.37  6.37  6.37  6.37\n",
            "  6.38  6.38  6.38  6.38  6.38  6.38  6.38  6.38  6.38  6.38  6.39  6.39\n",
            "  6.39  6.39  6.39  6.39  6.39  6.39  6.39  6.39  6.4   6.4   6.4   6.4\n",
            "  6.4   6.4   6.4   6.4   6.4   6.4   6.41  6.41  6.41  6.41  6.41  6.41\n",
            "  6.41  6.41  6.41  6.41  6.42  6.42  6.42  6.42  6.42  6.42  6.42  6.42\n",
            "  6.42  6.42  6.43  6.43  6.43  6.43  6.43  6.43  6.43  6.43  6.43  6.43\n",
            "  6.44  6.44  6.44  6.44  6.44  6.44  6.44  6.44  6.44  6.44  6.45  6.45\n",
            "  6.45  6.45  6.45  6.45  6.45  6.45  6.45  6.45  6.46  6.46  6.46  6.46\n",
            "  6.46  6.46  6.46  6.46  6.46  6.46  6.47  6.47  6.47  6.47  6.47  6.47\n",
            "  6.47  6.47  6.47  6.47  6.48  6.48  6.48  6.48  6.48  6.48  6.48  6.48\n",
            "  6.48  6.48  6.49  6.49  6.49  6.49  6.49  6.49  6.49  6.49  6.49  6.49\n",
            "  6.5   6.5   6.5   6.5   6.5   6.5   6.5   6.5   6.5   6.5   6.51  6.51\n",
            "  6.51  6.51  6.51  6.51  6.51  6.51  6.51  6.51  6.52  6.52  6.52  6.52\n",
            "  6.52  6.52  6.52  6.52  6.52  6.52  6.53  6.53  6.53  6.53  6.53  6.53\n",
            "  6.53  6.53  6.53  6.53  6.54  6.54  6.54  6.54  6.54  6.54  6.54  6.54\n",
            "  6.54  6.54  6.55  6.55  6.55  6.55  6.55  6.55  6.55  6.55  6.55  6.55\n",
            "  6.56  6.56  6.56  6.56  6.56  6.56  6.56  6.56  6.56  6.56  6.57  6.57\n",
            "  6.57  6.57  6.57  6.57  6.57  6.57  6.57  6.57  6.58  6.58  6.58  6.58\n",
            "  6.58  6.58  6.58  6.58  6.58  6.58  6.59  6.59  6.59  6.59  6.59  6.59\n",
            "  6.59  6.59  6.59  6.59  6.6   6.6   6.6   6.6   6.6   6.6   6.6   6.6\n",
            "  6.6   6.6   6.61  6.61  6.61  6.61  6.61  6.61  6.61  6.61  6.61  6.61\n",
            "  6.62  6.62  6.62  6.62  6.62  6.62  6.62  6.62  6.62  6.62  6.63  6.63\n",
            "  6.63  6.63  6.63  6.63  6.63  6.63  6.63  6.63  6.64  6.64  6.64  6.64\n",
            "  6.64  6.64  6.64  6.64  6.64  6.64  6.65  6.65  6.65  6.65  6.65  6.65\n",
            "  6.65  6.65  6.65  6.65  6.66  6.66  6.66  6.66  6.66  6.66  6.66  6.66\n",
            "  6.66  6.66  6.67  6.67  6.67  6.67  6.67  6.67  6.67  6.67  6.67  6.67\n",
            "  6.68  6.68  6.68  6.68  6.68  6.68  6.68  6.68  6.68  6.68  6.69  6.69\n",
            "  6.69  6.69  6.69  6.69  6.69  6.69  6.69  6.69  6.7   6.7   6.7   6.7\n",
            "  6.7   6.7   6.7   6.7   6.7   6.7   6.71  6.71  6.71  6.71  6.71  6.71\n",
            "  6.71  6.71  6.71  6.71  6.72  6.72  6.72  6.72  6.72  6.72  6.72  6.72\n",
            "  6.72  6.72  6.73  6.73  6.73  6.73  6.73  6.73  6.73  6.73  6.73  6.73\n",
            "  6.74  6.74  6.74  6.74  6.74  6.74  6.74  6.74  6.74  6.74  6.75  6.75\n",
            "  6.75  6.75  6.75  6.75  6.75  6.75  6.75  6.75  6.76  6.76  6.76  6.76\n",
            "  6.76  6.76  6.76  6.76  6.76  6.76  6.77  6.77  6.77  6.77  6.77  6.77\n",
            "  6.77  6.77  6.77  6.77  6.78  6.78  6.78  6.78  6.78  6.78  6.78  6.78\n",
            "  6.78  6.78  6.79  6.79  6.79  6.79  6.79  6.79  6.79  6.79  6.79  6.79\n",
            "  6.8   6.8   6.8   6.8   6.8   6.8   6.8   6.8   6.8   6.8   6.81  6.81\n",
            "  6.81  6.81  6.81  6.81  6.81  6.81  6.81  6.81  6.82  6.82  6.82  6.82\n",
            "  6.82  6.82  6.82  6.82  6.82  6.82  6.83  6.83  6.83  6.83  6.83  6.83\n",
            "  6.83  6.83  6.83  6.83  6.84  6.84  6.84  6.84  6.84  6.84  6.84  6.84\n",
            "  6.84  6.84  6.85  6.85  6.85  6.85  6.85  6.85  6.85  6.85  6.85  6.85\n",
            "  6.86  6.86  6.86  6.86  6.86  6.86  6.86  6.86  6.86  6.86  6.87  6.87\n",
            "  6.87  6.87  6.87  6.87  6.87  6.87  6.87  6.87  6.88  6.88  6.88  6.88\n",
            "  6.88  6.88  6.88  6.88  6.88  6.88  6.89  6.89  6.89  6.89  6.89  6.89\n",
            "  6.89  6.89  6.89  6.89  6.9   6.9   6.9   6.9   6.9   6.9   6.9   6.9\n",
            "  6.9   6.9   6.91  6.91  6.91  6.91  6.91  6.91  6.91  6.91  6.91  6.91\n",
            "  6.92  6.92  6.92  6.92  6.92  6.92  6.92  6.92  6.92  6.92  6.93  6.93\n",
            "  6.93  6.93  6.93  6.93  6.93  6.93  6.93  6.93  6.94  6.94  6.94  6.94\n",
            "  6.94  6.94  6.94  6.94  6.94  6.94  6.95  6.95  6.95  6.95  6.95  6.95\n",
            "  6.95  6.95  6.95  6.95  6.96  6.96  6.96  6.96  6.96  6.96  6.96  6.96\n",
            "  6.96  6.96  6.97  6.97  6.97  6.97  6.97  6.97  6.97  6.97  6.97  6.97\n",
            "  6.98  6.98  6.98  6.98  6.98  6.98  6.98  6.98  6.98  6.98  6.99  6.99\n",
            "  6.99  6.99  6.99  6.99  6.99  6.99  6.99  6.99  7.    7.    7.    7.\n",
            "  7.    7.    7.    7.    7.    7.    7.01  7.01  7.01  7.01  7.01  7.01\n",
            "  7.01  7.01  7.01  7.01  7.02  7.02  7.02  7.02  7.02  7.02  7.02  7.02\n",
            "  7.02  7.02  7.03  7.03  7.03  7.03  7.03  7.03  7.03  7.03  7.03  7.03\n",
            "  7.04  7.04  7.04  7.04  7.04  7.04  7.04  7.04  7.04  7.04  7.05  7.05\n",
            "  7.05  7.05  7.05  7.05  7.05  7.05  7.05  7.05  7.06  7.06  7.06  7.06\n",
            "  7.06  7.06  7.06  7.06  7.06  7.06  7.07  7.07  7.07  7.07  7.07  7.07\n",
            "  7.07  7.07  7.07  7.07  7.08  7.08  7.08  7.08  7.08  7.08  7.08  7.08\n",
            "  7.08  7.08  7.09  7.09  7.09  7.09  7.09  7.09  7.09  7.09  7.09  7.09\n",
            "  7.1   7.1   7.1   7.1   7.1   7.1   7.1   7.1   7.1   7.1   7.11  7.11\n",
            "  7.11  7.11  7.11  7.11  7.11  7.11  7.11  7.11  7.12  7.12  7.12  7.12\n",
            "  7.12  7.12  7.12  7.12  7.12  7.12  7.13  7.13  7.13  7.13  7.13  7.13\n",
            "  7.13  7.13  7.13  7.13  7.14  7.14  7.14  7.14  7.14  7.14  7.14  7.14\n",
            "  7.14  7.14  7.15  7.15  7.15  7.15  7.15  7.15  7.15  7.15  7.15  7.15\n",
            "  7.16  7.16  7.16  7.16  7.16  7.16  7.16  7.16  7.16  7.16  7.17  7.17\n",
            "  7.17  7.17  7.17  7.17  7.17  7.17  7.17  7.17  7.18  7.18  7.18  7.18\n",
            "  7.18  7.18  7.18  7.18  7.18  7.18  7.19  7.19  7.19  7.19  7.19  7.19\n",
            "  7.19  7.19  7.19  7.19  7.2   7.2   7.2   7.2   7.2   7.2   7.2   7.2\n",
            "  7.2   7.2   7.21  7.21  7.21  7.21  7.21  7.21  7.21  7.21  7.21  7.21\n",
            "  7.22  7.22  7.22  7.22  7.22  7.22  7.22  7.22  7.22  7.22  7.23  7.23\n",
            "  7.23  7.23  7.23  7.23  7.23  7.23  7.23  7.23  7.24  7.24  7.24  7.24\n",
            "  7.24  7.24  7.24  7.24  7.24  7.24  7.25  7.25  7.25  7.25  7.25  7.25\n",
            "  7.25  7.25  7.25  7.25  7.26  7.26  7.26  7.26  7.26  7.26  7.26  7.26\n",
            "  7.26  7.26  7.27  7.27  7.27  7.27  7.27  7.27  7.27  7.27  7.27  7.27\n",
            "  7.28  7.28  7.28  7.28  7.28  7.28  7.28  7.28  7.28  7.28  7.29  7.29\n",
            "  7.29  7.29  7.29  7.29  7.29  7.29  7.29  7.29  7.3   7.3   7.3   7.3\n",
            "  7.3   7.3   7.3   7.3   7.3   7.3   7.31  7.31  7.31  7.31  7.31  7.31\n",
            "  7.31  7.31  7.31  7.31  7.32  7.32  7.32  7.32  7.32  7.32  7.32  7.32\n",
            "  7.32  7.32  7.33  7.33  7.33  7.33  7.33  7.33  7.33  7.33  7.33  7.33\n",
            "  7.34  7.34  7.34  7.34  7.34  7.34  7.34  7.34  7.34  7.34  7.35  7.35\n",
            "  7.35  7.35  7.35  7.35  7.35  7.35  7.35  7.35  7.36  7.36  7.36  7.36\n",
            "  7.36  7.36  7.36  7.36  7.36  7.36  7.37  7.37  7.37  7.37  7.37  7.37\n",
            "  7.37  7.37  7.37  7.37  7.38  7.38  7.38  7.38  7.38  7.38  7.38  7.38\n",
            "  7.38  7.38  7.39  7.39  7.39  7.39  7.39  7.39  7.39  7.39  7.39  7.39\n",
            "  7.4   7.4   7.4   7.4   7.4   7.4   7.4   7.4   7.4   7.4   7.41  7.41\n",
            "  7.41  7.41  7.41  7.41  7.41  7.41  7.41  7.41  7.42  7.42  7.42  7.42\n",
            "  7.42  7.42  7.42  7.42  7.42  7.42  7.43  7.43  7.43  7.43  7.43  7.43\n",
            "  7.43  7.43  7.43  7.43  7.44  7.44  7.44  7.44  7.44  7.44  7.44  7.44\n",
            "  7.44  7.44  7.45  7.45  7.45  7.45  7.45  7.45  7.45  7.45  7.45  7.45\n",
            "  7.46  7.46  7.46  7.46  7.46  7.46  7.46  7.46  7.46  7.46  7.47  7.47\n",
            "  7.47  7.47  7.47  7.47  7.47  7.47  7.47  7.47  7.48  7.48  7.48  7.48\n",
            "  7.48  7.48  7.48  7.48  7.48  7.48  7.49  7.49  7.49  7.49  7.49  7.49\n",
            "  7.49  7.49  7.49  7.49  7.5   7.5   7.5   7.5   7.5   7.5   7.5   7.5\n",
            "  7.5   7.5   7.51  7.51  7.51  7.51  7.51  7.51  7.51  7.51  7.51  7.51\n",
            "  7.52  7.52  7.52  7.52  7.52  7.52  7.52  7.52  7.52  7.52  7.53  7.53\n",
            "  7.53  7.53  7.53  7.53  7.53  7.53  7.53  7.53  7.54  7.54  7.54  7.54\n",
            "  7.54  7.54  7.54  7.54  7.54  7.54  7.55  7.55  7.55  7.55  7.55  7.55\n",
            "  7.55  7.55  7.55  7.55  7.56  7.56  7.56  7.56  7.56  7.56  7.56  7.56\n",
            "  7.56  7.56  7.57  7.57  7.57  7.57  7.57  7.57  7.57  7.57  7.57  7.57\n",
            "  7.58  7.58  7.58  7.58  7.58  7.58  7.58  7.58  7.58  7.58  7.59  7.59\n",
            "  7.59  7.59  7.59  7.59  7.59  7.59  7.59  7.59  7.6   7.6   7.6   7.6\n",
            "  7.6   7.6   7.6   7.6   7.6   7.6   7.61  7.61  7.61  7.61  7.61  7.61\n",
            "  7.61  7.61  7.61  7.61  7.62  7.62  7.62  7.62  7.62  7.62  7.62  7.62\n",
            "  7.62  7.62  7.63  7.63  7.63  7.63  7.63  7.63  7.63  7.63  7.63  7.63\n",
            "  7.64  7.64  7.64  7.64  7.64  7.64  7.64  7.64  7.64  7.64  7.65  7.65\n",
            "  7.65  7.65  7.65  7.65  7.65  7.65  7.65  7.65  7.66  7.66  7.66  7.66\n",
            "  7.66  7.66  7.66  7.66  7.66  7.66  7.67  7.67  7.67  7.67  7.67  7.67\n",
            "  7.67  7.67  7.67  7.67  7.68  7.68  7.68  7.68  7.68  7.68  7.68  7.68\n",
            "  7.68  7.68  7.69  7.69  7.69  7.69  7.69  7.69  7.69  7.69  7.69  7.69\n",
            "  7.7   7.7   7.7   7.7   7.7   7.7   7.7   7.7   7.7   7.7   7.71  7.71\n",
            "  7.71  7.71  7.71  7.71  7.71  7.71  7.71  7.71  7.72  7.72  7.72  7.72\n",
            "  7.72  7.72  7.72  7.72  7.72  7.72  7.73  7.73  7.73  7.73  7.73  7.73\n",
            "  7.73  7.73  7.73  7.73  7.74  7.74  7.74  7.74  7.74  7.74  7.74  7.74\n",
            "  7.74  7.74  7.75  7.75  7.75  7.75  7.75  7.75  7.75  7.75  7.75  7.75\n",
            "  7.76  7.76  7.76  7.76  7.76  7.76  7.76  7.76  7.76  7.76  7.77  7.77\n",
            "  7.77  7.77  7.77  7.77  7.77  7.77  7.77  7.77  7.78  7.78  7.78  7.78\n",
            "  7.78  7.78  7.78  7.78  7.78  7.78  7.79  7.79  7.79  7.79  7.79  7.79\n",
            "  7.79  7.79  7.79  7.79  7.8   7.8   7.8   7.8   7.8   7.8   7.8   7.8\n",
            "  7.8   7.8   7.81  7.81  7.81  7.81  7.81  7.81  7.81  7.81  7.81  7.81\n",
            "  7.82  7.82  7.82  7.82  7.82  7.82  7.82  7.82  7.82  7.82  7.83  7.83\n",
            "  7.83  7.83  7.83  7.83  7.83  7.83  7.83  7.83  7.84  7.84  7.84  7.84\n",
            "  7.84  7.84  7.84  7.84  7.84  7.84  7.85  7.85  7.85  7.85  7.85  7.85\n",
            "  7.85  7.85  7.85  7.85  7.86  7.86  7.86  7.86  7.86  7.86  7.86  7.86\n",
            "  7.86  7.86  7.87  7.87  7.87  7.87  7.87  7.87  7.87  7.87  7.87  7.87\n",
            "  7.88  7.88  7.88  7.88  7.88  7.88  7.88  7.88  7.88  7.88  7.89  7.89\n",
            "  7.89  7.89  7.89  7.89  7.89  7.89  7.89  7.89  7.9   7.9   7.9   7.9\n",
            "  7.9   7.9   7.9   7.9   7.9   7.9   7.91  7.91  7.91  7.91  7.91  7.91\n",
            "  7.91  7.91  7.91  7.91  7.92  7.92  7.92  7.92  7.92  7.92  7.92  7.92\n",
            "  7.92  7.92  7.93  7.93  7.93  7.93  7.93  7.93  7.93  7.93  7.93  7.93\n",
            "  7.94  7.94  7.94  7.94  7.94  7.94  7.94  7.94  7.94  7.94  7.95  7.95\n",
            "  7.95  7.95  7.95  7.95  7.95  7.95  7.95  7.95  7.96  7.96  7.96  7.96\n",
            "  7.96  7.96  7.96  7.96  7.96  7.96  7.97  7.97  7.97  7.97  7.97  7.97\n",
            "  7.97  7.97  7.97  7.97  7.98  7.98  7.98  7.98  7.98  7.98  7.98  7.98\n",
            "  7.98  7.98  7.99  7.99  7.99  7.99  7.99  7.99  7.99  7.99  7.99  7.99\n",
            "  8.    8.    8.    8.    8.    8.    8.    8.    8.    8.    8.01  8.01\n",
            "  8.01  8.01  8.01  8.01  8.01  8.01  8.01  8.01  8.02  8.02  8.02  8.02\n",
            "  8.02  8.02  8.02  8.02  8.02  8.02  8.03  8.03  8.03  8.03  8.03  8.03\n",
            "  8.03  8.03  8.03  8.03  8.04  8.04  8.04  8.04  8.04  8.04  8.04  8.04\n",
            "  8.04  8.04  8.05  8.05  8.05  8.05  8.05  8.05  8.05  8.05  8.05  8.05\n",
            "  8.06  8.06  8.06  8.06  8.06  8.06  8.06  8.06  8.06  8.06  8.07  8.07\n",
            "  8.07  8.07  8.07  8.07  8.07  8.07  8.07  8.07  8.08  8.08  8.08  8.08\n",
            "  8.08  8.08  8.08  8.08  8.08  8.08  8.09  8.09  8.09  8.09  8.09  8.09\n",
            "  8.09  8.09  8.09  8.09  8.1   8.1   8.1   8.1   8.1   8.1   8.1   8.1\n",
            "  8.1   8.1   8.11  8.11  8.11  8.11  8.11  8.11  8.11  8.11  8.11  8.11\n",
            "  8.12  8.12  8.12  8.12  8.12  8.12  8.12  8.12  8.12  8.12  8.13  8.13\n",
            "  8.13  8.13  8.13  8.13  8.13  8.13  8.13  8.13  8.14  8.14  8.14  8.14\n",
            "  8.14  8.14  8.14  8.14  8.14  8.14  8.15  8.15  8.15  8.15  8.15  8.15\n",
            "  8.15  8.15  8.15  8.15  8.16  8.16  8.16  8.16  8.16  8.16  8.16  8.16\n",
            "  8.16  8.16  8.17  8.17  8.17  8.17  8.17  8.17  8.17  8.17  8.17  8.17\n",
            "  8.18  8.18  8.18  8.18  8.18  8.18  8.18  8.18  8.18  8.18  8.19  8.19\n",
            "  8.19  8.19  8.19  8.19  8.19  8.19  8.19  8.19  8.2   8.2   8.2   8.2\n",
            "  8.2   8.2   8.2   8.2   8.2   8.2   8.21  8.21  8.21  8.21  8.21  8.21\n",
            "  8.21  8.21  8.21  8.21  8.22  8.22  8.22  8.22  8.22  8.22  8.22  8.22\n",
            "  8.22  8.22  8.23  8.23  8.23  8.23  8.23  8.23  8.23  8.23  8.23  8.23\n",
            "  8.24  8.24  8.24  8.24  8.24  8.24  8.24  8.24  8.24  8.24  8.25  8.25\n",
            "  8.25  8.25  8.25  8.25  8.25  8.25  8.25  8.25  8.26  8.26  8.26  8.26\n",
            "  8.26  8.26  8.26  8.26  8.26  8.26  8.27  8.27  8.27  8.27  8.27  8.27\n",
            "  8.27  8.27  8.27  8.27  8.28  8.28  8.28  8.28  8.28  8.28  8.28  8.28\n",
            "  8.28  8.28  8.29  8.29  8.29  8.29  8.29  8.29  8.29  8.29  8.29  8.29\n",
            "  8.3   8.3   8.3   8.3   8.3   8.3   8.3   8.3   8.3   8.3   8.31  8.31\n",
            "  8.31  8.31  8.31  8.31  8.31  8.31  8.31  8.31  8.32  8.32  8.32  8.32\n",
            "  8.32  8.32  8.32  8.32  8.32  8.32  8.33  8.33  8.33  8.33  8.33  8.33\n",
            "  8.33  8.33  8.33  8.33  8.34  8.34  8.34  8.34  8.34  8.34  8.34  8.34\n",
            "  8.34  8.34  8.35  8.35  8.35  8.35  8.35  8.35  8.35  8.35  8.35  8.35\n",
            "  8.36  8.36  8.36  8.36  8.36  8.36  8.36  8.36  8.36  8.36  8.37  8.37\n",
            "  8.37  8.37  8.37  8.37  8.37  8.37  8.37  8.37  8.38  8.38  8.38  8.38\n",
            "  8.38  8.38  8.38  8.38  8.38  8.38  8.39  8.39  8.39  8.39  8.39  8.39\n",
            "  8.39  8.39  8.39  8.39  8.4   8.4   8.4   8.4   8.4   8.4   8.4   8.4\n",
            "  8.4   8.4   8.41  8.41  8.41  8.41  8.41  8.41  8.41  8.41  8.41  8.41\n",
            "  8.42  8.42  8.42  8.42  8.42  8.42  8.42  8.42  8.42  8.42  8.43  8.43\n",
            "  8.43  8.43  8.43  8.43  8.43  8.43  8.43  8.43  8.44  8.44  8.44  8.44\n",
            "  8.44  8.44  8.44  8.44  8.44  8.44  8.45  8.45  8.45  8.45  8.45  8.45\n",
            "  8.45  8.45  8.45  8.45  8.46  8.46  8.46  8.46  8.46  8.46  8.46  8.46\n",
            "  8.46  8.46  8.47  8.47  8.47  8.47  8.47  8.47  8.47  8.47  8.47  8.47\n",
            "  8.48  8.48  8.48  8.48  8.48  8.48  8.48  8.48  8.48  8.48  8.49  8.49\n",
            "  8.49  8.49  8.49  8.49  8.49  8.49  8.49  8.49  8.5   8.5   8.5   8.5\n",
            "  8.5   8.5   8.5   8.5   8.5   8.5   8.51  8.51  8.51  8.51  8.51  8.51\n",
            "  8.51  8.51  8.51  8.51  8.52  8.52  8.52  8.52  8.52  8.52  8.52  8.52\n",
            "  8.52  8.52  8.53  8.53  8.53  8.53  8.53  8.53  8.53  8.53  8.53  8.53\n",
            "  8.54  8.54  8.54  8.54  8.54  8.54  8.54  8.54  8.54  8.54  8.55  8.55\n",
            "  8.55  8.55  8.55  8.55  8.55  8.55  8.55  8.55  8.56  8.56  8.56  8.56\n",
            "  8.56  8.56  8.56  8.56  8.56  8.56  8.57  8.57  8.57  8.57  8.57  8.57\n",
            "  8.57  8.57  8.57  8.57  8.58  8.58  8.58  8.58  8.58  8.58  8.58  8.58\n",
            "  8.58  8.58  8.59  8.59  8.59  8.59  8.59  8.59  8.59  8.59  8.59  8.59\n",
            "  8.6   8.6   8.6   8.6   8.6   8.6   8.6   8.6   8.6   8.6   8.61  8.61\n",
            "  8.61  8.61  8.61  8.61  8.61  8.61  8.61  8.61  8.62  8.62  8.62  8.62\n",
            "  8.62  8.62  8.62  8.62  8.62  8.62  8.63  8.63  8.63  8.63  8.63  8.63\n",
            "  8.63  8.63  8.63  8.63  8.64  8.64  8.64  8.64  8.64  8.64  8.64  8.64\n",
            "  8.64  8.64  8.65  8.65  8.65  8.65  8.65  8.65  8.65  8.65  8.65  8.65\n",
            "  8.66  8.66  8.66  8.66  8.66  8.66  8.66  8.66  8.66  8.66  8.67  8.67\n",
            "  8.67  8.67  8.67  8.67  8.67  8.67  8.67  8.67  8.68  8.68  8.68  8.68\n",
            "  8.68  8.68  8.68  8.68  8.68  8.68  8.69  8.69  8.69  8.69  8.69  8.69\n",
            "  8.69  8.69  8.69  8.69  8.7   8.7   8.7   8.7   8.7   8.7   8.7   8.7\n",
            "  8.7   8.7   8.71  8.71  8.71  8.71  8.71  8.71  8.71  8.71  8.71  8.71\n",
            "  8.72  8.72  8.72  8.72  8.72  8.72  8.72  8.72  8.72  8.72  8.73  8.73\n",
            "  8.73  8.73  8.73  8.73  8.73  8.73  8.73  8.73  8.74  8.74  8.74  8.74\n",
            "  8.74  8.74  8.74  8.74  8.74  8.74  8.75  8.75  8.75  8.75  8.75  8.75\n",
            "  8.75  8.75  8.75  8.75  8.76  8.76  8.76  8.76  8.76  8.76  8.76  8.76\n",
            "  8.76  8.76  8.77  8.77  8.77  8.77  8.77  8.77  8.77  8.77  8.77  8.77\n",
            "  8.78  8.78  8.78  8.78  8.78  8.78  8.78  8.78  8.78  8.78  8.79  8.79\n",
            "  8.79  8.79  8.79  8.79  8.79  8.79  8.79  8.79  8.8   8.8   8.8   8.8\n",
            "  8.8   8.8   8.8   8.8   8.8   8.8   8.81  8.81  8.81  8.81  8.81  8.81\n",
            "  8.81  8.81  8.81  8.81  8.82  8.82  8.82  8.82  8.82  8.82  8.82  8.82\n",
            "  8.82  8.82  8.83  8.83  8.83  8.83  8.83  8.83  8.83  8.83  8.83  8.83\n",
            "  8.84  8.84  8.84  8.84  8.84  8.84  8.84  8.84  8.84  8.84  8.85  8.85\n",
            "  8.85  8.85  8.85  8.85  8.85  8.85  8.85  8.85  8.86  8.86  8.86  8.86\n",
            "  8.86  8.86  8.86  8.86  8.86  8.86  8.87  8.87  8.87  8.87  8.87  8.87\n",
            "  8.87  8.87  8.87  8.87  8.88  8.88  8.88  8.88  8.88  8.88  8.88  8.88\n",
            "  8.88  8.88  8.89  8.89  8.89  8.89  8.89  8.89  8.89  8.89  8.89  8.89\n",
            "  8.9   8.9   8.9   8.9   8.9   8.9   8.9   8.9   8.9   8.9   8.91  8.91\n",
            "  8.91  8.91  8.91  8.91  8.91  8.91  8.91  8.91  8.92  8.92  8.92  8.92\n",
            "  8.92  8.92  8.92  8.92  8.92  8.92  8.93  8.93  8.93  8.93  8.93  8.93\n",
            "  8.93  8.93  8.93  8.93  8.94  8.94  8.94  8.94  8.94  8.94  8.94  8.94\n",
            "  8.94  8.94  8.95  8.95  8.95  8.95  8.95  8.95  8.95  8.95  8.95  8.95\n",
            "  8.96  8.96  8.96  8.96  8.96  8.96  8.96  8.96  8.96  8.96  8.97  8.97\n",
            "  8.97  8.97  8.97  8.97  8.97  8.97  8.97  8.97  8.98  8.98  8.98  8.98\n",
            "  8.98  8.98  8.98  8.98  8.98  8.98  8.99  8.99  8.99  8.99  8.99  8.99\n",
            "  8.99  8.99  8.99  8.99  9.    9.    9.    9.    9.    9.    9.    9.\n",
            "  9.    9.    9.01  9.01  9.01  9.01  9.01  9.01  9.01  9.01  9.01  9.01\n",
            "  9.02  9.02  9.02  9.02  9.02  9.02  9.02  9.02  9.02  9.02  9.03  9.03\n",
            "  9.03  9.03  9.03  9.03  9.03  9.03  9.03  9.03  9.04  9.04  9.04  9.04\n",
            "  9.04  9.04  9.04  9.04  9.04  9.04  9.05  9.05  9.05  9.05  9.05  9.05\n",
            "  9.05  9.05  9.05  9.05  9.06  9.06  9.06  9.06  9.06  9.06  9.06  9.06\n",
            "  9.06  9.06  9.07  9.07  9.07  9.07  9.07  9.07  9.07  9.07  9.07  9.07\n",
            "  9.08  9.08  9.08  9.08  9.08  9.08  9.08  9.08  9.08  9.08  9.09  9.09\n",
            "  9.09  9.09  9.09  9.09  9.09  9.09  9.09  9.09  9.1   9.1   9.1   9.1\n",
            "  9.1   9.1   9.1   9.1   9.1   9.1   9.11  9.11  9.11  9.11  9.11  9.11\n",
            "  9.11  9.11  9.11  9.11  9.12  9.12  9.12  9.12  9.12  9.12  9.12  9.12\n",
            "  9.12  9.12  9.13  9.13  9.13  9.13  9.13  9.13  9.13  9.13  9.13  9.13\n",
            "  9.14  9.14  9.14  9.14  9.14  9.14  9.14  9.14  9.14  9.14  9.15  9.15\n",
            "  9.15  9.15  9.15  9.15  9.15  9.15  9.15  9.15  9.16  9.16  9.16  9.16\n",
            "  9.16  9.16  9.16  9.16  9.16  9.16  9.17  9.17  9.17  9.17  9.17  9.17\n",
            "  9.17  9.17  9.17  9.17  9.18  9.18  9.18  9.18  9.18  9.18  9.18  9.18\n",
            "  9.18  9.18  9.19  9.19  9.19  9.19  9.19  9.19  9.19  9.19  9.19  9.19\n",
            "  9.2   9.2   9.2   9.2   9.2   9.2   9.2   9.2   9.2   9.2   9.21  9.21\n",
            "  9.21  9.21  9.21  9.21  9.21  9.21  9.21  9.21  9.22  9.22  9.22  9.22\n",
            "  9.22  9.22  9.22  9.22  9.22  9.22  9.23  9.23  9.23  9.23  9.23  9.23\n",
            "  9.23  9.23  9.23  9.23  9.24  9.24  9.24  9.24  9.24  9.24  9.24  9.24\n",
            "  9.24  9.24  9.25  9.25  9.25  9.25  9.25  9.25  9.25  9.25  9.25  9.25\n",
            "  9.26  9.26  9.26  9.26  9.26  9.26  9.26  9.26  9.26  9.26  9.27  9.27\n",
            "  9.27  9.27  9.27  9.27  9.27  9.27  9.27  9.27  9.28  9.28  9.28  9.28\n",
            "  9.28  9.28  9.28  9.28  9.28  9.28  9.29  9.29  9.29  9.29  9.29  9.29\n",
            "  9.29  9.29  9.29  9.29  9.3   9.3   9.3   9.3   9.3   9.3   9.3   9.3\n",
            "  9.3   9.3   9.31  9.31  9.31  9.31  9.31  9.31  9.31  9.31  9.31  9.31\n",
            "  9.32  9.32  9.32  9.32  9.32  9.32  9.32  9.32  9.32  9.32  9.33  9.33\n",
            "  9.33  9.33  9.33  9.33  9.33  9.33  9.33  9.33  9.34  9.34  9.34  9.34\n",
            "  9.34  9.34  9.34  9.34  9.34  9.34  9.35  9.35  9.35  9.35  9.35  9.35\n",
            "  9.35  9.35  9.35  9.35  9.36  9.36  9.36  9.36  9.36  9.36  9.36  9.36\n",
            "  9.36  9.36  9.37  9.37  9.37  9.37  9.37  9.37  9.37  9.37  9.37  9.37\n",
            "  9.38  9.38  9.38  9.38  9.38  9.38  9.38  9.38  9.38  9.38  9.39  9.39\n",
            "  9.39  9.39  9.39  9.39  9.39  9.39  9.39  9.39  9.4   9.4   9.4   9.4\n",
            "  9.4   9.4   9.4   9.4   9.4   9.4   9.41  9.41  9.41  9.41  9.41  9.41\n",
            "  9.41  9.41  9.41  9.41  9.42  9.42  9.42  9.42  9.42  9.42  9.42  9.42\n",
            "  9.42  9.42  9.43  9.43  9.43  9.43  9.43  9.43  9.43  9.43  9.43  9.43\n",
            "  9.44  9.44  9.44  9.44  9.44  9.44  9.44  9.44  9.44  9.44  9.45  9.45\n",
            "  9.45  9.45  9.45  9.45  9.45  9.45  9.45  9.45  9.46  9.46  9.46  9.46\n",
            "  9.46  9.46  9.46  9.46  9.46  9.46  9.47  9.47  9.47  9.47  9.47  9.47\n",
            "  9.47  9.47  9.47  9.47  9.48  9.48  9.48  9.48  9.48  9.48  9.48  9.48\n",
            "  9.48  9.48  9.49  9.49  9.49  9.49  9.49  9.49  9.49  9.49  9.49  9.49\n",
            "  9.5   9.5   9.5   9.5   9.5   9.5   9.5   9.5   9.5   9.5   9.51  9.51\n",
            "  9.51  9.51  9.51  9.51  9.51  9.51  9.51  9.51  9.52  9.52  9.52  9.52\n",
            "  9.52  9.52  9.52  9.52  9.52  9.52  9.53  9.53  9.53  9.53  9.53  9.53\n",
            "  9.53  9.53  9.53  9.53  9.54  9.54  9.54  9.54  9.54  9.54  9.54  9.54\n",
            "  9.54  9.54  9.55  9.55  9.55  9.55  9.55  9.55  9.55  9.55  9.55  9.55\n",
            "  9.56  9.56  9.56  9.56  9.56  9.56  9.56  9.56  9.56  9.56  9.57  9.57\n",
            "  9.57  9.57  9.57  9.57  9.57  9.57  9.57  9.57  9.58  9.58  9.58  9.58\n",
            "  9.58  9.58  9.58  9.58  9.58  9.58  9.59  9.59  9.59  9.59  9.59  9.59\n",
            "  9.59  9.59  9.59  9.59  9.6   9.6   9.6   9.6   9.6   9.6   9.6   9.6\n",
            "  9.6   9.6   9.61  9.61  9.61  9.61  9.61  9.61  9.61  9.61  9.61  9.61\n",
            "  9.62  9.62  9.62  9.62  9.62  9.62  9.62  9.62  9.62  9.62  9.63  9.63\n",
            "  9.63  9.63  9.63  9.63  9.63  9.63  9.63  9.63  9.64  9.64  9.64  9.64\n",
            "  9.64  9.64  9.64  9.64  9.64  9.64  9.65  9.65  9.65  9.65  9.65  9.65\n",
            "  9.65  9.65  9.65  9.65  9.66  9.66  9.66  9.66  9.66  9.66  9.66  9.66\n",
            "  9.66  9.66  9.67  9.67  9.67  9.67  9.67  9.67  9.67  9.67  9.67  9.67\n",
            "  9.68  9.68  9.68  9.68  9.68  9.68  9.68  9.68  9.68  9.68  9.69  9.69\n",
            "  9.69  9.69  9.69  9.69  9.69  9.69  9.69  9.69  9.7   9.7   9.7   9.7\n",
            "  9.7   9.7   9.7   9.7   9.7   9.7   9.71  9.71  9.71  9.71  9.71  9.71\n",
            "  9.71  9.71  9.71  9.71  9.72  9.72  9.72  9.72  9.72  9.72  9.72  9.72\n",
            "  9.72  9.72  9.73  9.73  9.73  9.73  9.73  9.73  9.73  9.73  9.73  9.73\n",
            "  9.74  9.74  9.74  9.74  9.74  9.74  9.74  9.74  9.74  9.74  9.75  9.75\n",
            "  9.75  9.75  9.75  9.75  9.75  9.75  9.75  9.75  9.76  9.76  9.76  9.76\n",
            "  9.76  9.76  9.76  9.76  9.76  9.76  9.77  9.77  9.77  9.77  9.77  9.77\n",
            "  9.77  9.77  9.77  9.77  9.78  9.78  9.78  9.78  9.78  9.78  9.78  9.78\n",
            "  9.78  9.78  9.79  9.79  9.79  9.79  9.79  9.79  9.79  9.79  9.79  9.79\n",
            "  9.8   9.8   9.8   9.8   9.8   9.8   9.8   9.8   9.8   9.8   9.81  9.81\n",
            "  9.81  9.81  9.81  9.81  9.81  9.81  9.81  9.81  9.82  9.82  9.82  9.82\n",
            "  9.82  9.82  9.82  9.82  9.82  9.82  9.83  9.83  9.83  9.83  9.83  9.83\n",
            "  9.83  9.83  9.83  9.83  9.84  9.84  9.84  9.84  9.84  9.84  9.84  9.84\n",
            "  9.84  9.84  9.85  9.85  9.85  9.85  9.85  9.85  9.85  9.85  9.85  9.85\n",
            "  9.86  9.86  9.86  9.86  9.86  9.86  9.86  9.86  9.86  9.86  9.87  9.87\n",
            "  9.87  9.87  9.87  9.87  9.87  9.87  9.87  9.87  9.88  9.88  9.88  9.88\n",
            "  9.88  9.88  9.88  9.88  9.88  9.88  9.89  9.89  9.89  9.89  9.89  9.89\n",
            "  9.89  9.89  9.89  9.89  9.9   9.9   9.9   9.9   9.9   9.9   9.9   9.9\n",
            "  9.9   9.9   9.91  9.91  9.91  9.91  9.91  9.91  9.91  9.91  9.91  9.91\n",
            "  9.92  9.92  9.92  9.92  9.92  9.92  9.92  9.92  9.92  9.92  9.93  9.93\n",
            "  9.93  9.93  9.93  9.93  9.93  9.93  9.93  9.93  9.94  9.94  9.94  9.94\n",
            "  9.94  9.94  9.94  9.94  9.94  9.94  9.95  9.95  9.95  9.95  9.95  9.95\n",
            "  9.95  9.95  9.95  9.95  9.96  9.96  9.96  9.96  9.96  9.96  9.96  9.96\n",
            "  9.96  9.96  9.97  9.97  9.97  9.97  9.97  9.97  9.97  9.97  9.97  9.97\n",
            "  9.98  9.98  9.98  9.98  9.98  9.98  9.98  9.98  9.98  9.98  9.99  9.99\n",
            "  9.99  9.99  9.99  9.99  9.99  9.99  9.99  9.99 10.   10.   10.   10.  ]\n"
          ]
        }
      ]
    },
    {
      "cell_type": "code",
      "metadata": {
        "ExecuteTime": {
          "end_time": "2020-10-11T07:27:40.578268Z",
          "start_time": "2020-10-11T07:27:40.575268Z"
        },
        "colab": {
          "base_uri": "https://localhost:8080/"
        },
        "id": "XU9yt3yvx4kz",
        "outputId": "f497d76d-1867-4dd2-9f0d-7c1b37a836aa"
      },
      "source": [
        "np.set_printoptions(threshold=1000, precision=8) # вернем параметры по умолчанию\n",
        "print(a)"
      ],
      "execution_count": null,
      "outputs": [
        {
          "output_type": "stream",
          "name": "stdout",
          "text": [
            "[1.    1.001 1.002 ... 9.997 9.998 9.999]\n"
          ]
        }
      ]
    },
    {
      "cell_type": "markdown",
      "metadata": {
        "id": "YAW6vaHIx4kz"
      },
      "source": [
        "## Базовые операции"
      ]
    },
    {
      "cell_type": "markdown",
      "metadata": {
        "id": "fTLhy7pNx4kz"
      },
      "source": [
        "Основные математические операции над массивами выполняются поэлементно. Создается новый массив, который заполняется результатами."
      ]
    },
    {
      "cell_type": "markdown",
      "metadata": {
        "id": "ZFUiPf7ox4k0"
      },
      "source": [
        "Для выполнения этих операций массивы должны быть одинаковой формы. Если будут разной -  получим ошибку."
      ]
    },
    {
      "cell_type": "code",
      "metadata": {
        "ExecuteTime": {
          "end_time": "2020-10-11T07:27:40.747278Z",
          "start_time": "2020-10-11T07:27:40.743277Z"
        },
        "colab": {
          "base_uri": "https://localhost:8080/"
        },
        "id": "uu_VWK3Ix4k0",
        "outputId": "dede8e0a-5514-4369-fee6-7ae6498f7457"
      },
      "source": [
        "a = np.array([20, 30, 40, 50]) # создадим один массив\n",
        "a"
      ],
      "execution_count": 20,
      "outputs": [
        {
          "output_type": "execute_result",
          "data": {
            "text/plain": [
              "array([20, 30, 40, 50])"
            ]
          },
          "metadata": {},
          "execution_count": 20
        }
      ]
    },
    {
      "cell_type": "code",
      "metadata": {
        "ExecuteTime": {
          "end_time": "2020-10-11T07:27:40.797280Z",
          "start_time": "2020-10-11T07:27:40.793280Z"
        },
        "colab": {
          "base_uri": "https://localhost:8080/"
        },
        "id": "wsB9w82qx4k0",
        "outputId": "b8b35d47-51f1-4dde-f161-6d29fa3da56f"
      },
      "source": [
        "b = np.arange(4) # создадим другой массив\n",
        "b"
      ],
      "execution_count": 21,
      "outputs": [
        {
          "output_type": "execute_result",
          "data": {
            "text/plain": [
              "array([0, 1, 2, 3])"
            ]
          },
          "metadata": {},
          "execution_count": 21
        }
      ]
    },
    {
      "cell_type": "code",
      "metadata": {
        "ExecuteTime": {
          "end_time": "2020-10-11T07:27:40.848283Z",
          "start_time": "2020-10-11T07:27:40.844283Z"
        },
        "colab": {
          "base_uri": "https://localhost:8080/"
        },
        "id": "E6wcGek0x4k0",
        "outputId": "486835c2-b263-4e88-d589-e24b29f0d879"
      },
      "source": [
        "с=a+b # сложим их\n",
        "с"
      ],
      "execution_count": 22,
      "outputs": [
        {
          "output_type": "execute_result",
          "data": {
            "text/plain": [
              "array([20, 31, 42, 53])"
            ]
          },
          "metadata": {},
          "execution_count": 22
        }
      ]
    },
    {
      "cell_type": "code",
      "source": [
        "d=np.array([2,5])"
      ],
      "metadata": {
        "id": "cEGTkeWzdDwi"
      },
      "execution_count": 23,
      "outputs": []
    },
    {
      "cell_type": "code",
      "source": [
        "a+d"
      ],
      "metadata": {
        "colab": {
          "base_uri": "https://localhost:8080/",
          "height": 175
        },
        "id": "cWcHXt-ddMYA",
        "outputId": "d4098a7e-0684-4850-f357-e04071e611bf"
      },
      "execution_count": 24,
      "outputs": [
        {
          "output_type": "error",
          "ename": "ValueError",
          "evalue": "ignored",
          "traceback": [
            "\u001b[0;31m---------------------------------------------------------------------------\u001b[0m",
            "\u001b[0;31mValueError\u001b[0m                                Traceback (most recent call last)",
            "\u001b[0;32m<ipython-input-24-2a1ef2cae9c6>\u001b[0m in \u001b[0;36m<cell line: 1>\u001b[0;34m()\u001b[0m\n\u001b[0;32m----> 1\u001b[0;31m \u001b[0ma\u001b[0m\u001b[0;34m+\u001b[0m\u001b[0md\u001b[0m\u001b[0;34m\u001b[0m\u001b[0;34m\u001b[0m\u001b[0m\n\u001b[0m",
            "\u001b[0;31mValueError\u001b[0m: operands could not be broadcast together with shapes (4,) (2,) "
          ]
        }
      ]
    },
    {
      "cell_type": "code",
      "metadata": {
        "ExecuteTime": {
          "end_time": "2020-10-11T07:27:40.899286Z",
          "start_time": "2020-10-11T07:27:40.895286Z"
        },
        "id": "Xodm7hjkx4k1",
        "colab": {
          "base_uri": "https://localhost:8080/"
        },
        "outputId": "31c072e2-be00-4c72-d8c3-9e96ae51af29"
      },
      "source": [
        "с=a - b # вычтем\n",
        "с"
      ],
      "execution_count": 25,
      "outputs": [
        {
          "output_type": "execute_result",
          "data": {
            "text/plain": [
              "array([20, 29, 38, 47])"
            ]
          },
          "metadata": {},
          "execution_count": 25
        }
      ]
    },
    {
      "cell_type": "code",
      "metadata": {
        "ExecuteTime": {
          "end_time": "2020-10-11T07:27:40.949289Z",
          "start_time": "2020-10-11T07:27:40.946289Z"
        },
        "id": "IylsLPIHx4k1",
        "colab": {
          "base_uri": "https://localhost:8080/"
        },
        "outputId": "eaf12a94-a0b0-4f4c-ace4-3d356bf6b35f"
      },
      "source": [
        "с=a*b # умножим поэлементно\n",
        "с"
      ],
      "execution_count": 26,
      "outputs": [
        {
          "output_type": "execute_result",
          "data": {
            "text/plain": [
              "array([  0,  30,  80, 150])"
            ]
          },
          "metadata": {},
          "execution_count": 26
        }
      ]
    },
    {
      "cell_type": "code",
      "metadata": {
        "ExecuteTime": {
          "end_time": "2020-10-11T07:27:41.003292Z",
          "start_time": "2020-10-11T07:27:40.995292Z"
        },
        "id": "1XjR_rAXx4k2",
        "colab": {
          "base_uri": "https://localhost:8080/"
        },
        "outputId": "7290cc45-d9b5-43c1-ae2c-22a0ff4551b2"
      },
      "source": [
        "с=a/b # поделим поэлементно\n",
        "с"
      ],
      "execution_count": 27,
      "outputs": [
        {
          "output_type": "stream",
          "name": "stderr",
          "text": [
            "<ipython-input-27-e43254edbba7>:1: RuntimeWarning: divide by zero encountered in divide\n",
            "  с=a/b # поделим поэлементно\n"
          ]
        },
        {
          "output_type": "execute_result",
          "data": {
            "text/plain": [
              "array([        inf, 30.        , 20.        , 16.66666667])"
            ]
          },
          "metadata": {},
          "execution_count": 27
        }
      ]
    },
    {
      "cell_type": "markdown",
      "metadata": {
        "id": "alundxmmx4k2"
      },
      "source": [
        "Ой-ой, что это, мы поделили на 0! Но NumPy справился с этим и вернул нам для такого случая специальное число - бесконечность `inf`. Бесконечности тоже числа, хоть и ненастоящие. Их можно складывать, вычитать,  умножать ...\n",
        "\n",
        "Попробуйте сами и определите, что получается."
      ]
    },
    {
      "cell_type": "code",
      "metadata": {
        "ExecuteTime": {
          "end_time": "2020-10-11T07:27:41.092297Z",
          "start_time": "2020-10-11T07:27:41.089297Z"
        },
        "id": "-NsCmkqHx4k2",
        "colab": {
          "base_uri": "https://localhost:8080/"
        },
        "outputId": "5627e6c1-b7ae-453d-b641-93d32f90df6f"
      },
      "source": [
        "np.inf + np.inf"
      ],
      "execution_count": 28,
      "outputs": [
        {
          "output_type": "execute_result",
          "data": {
            "text/plain": [
              "inf"
            ]
          },
          "metadata": {},
          "execution_count": 28
        }
      ]
    },
    {
      "cell_type": "code",
      "source": [
        "-1*np.inf"
      ],
      "metadata": {
        "id": "PZthI-Fp_098",
        "colab": {
          "base_uri": "https://localhost:8080/"
        },
        "outputId": "1aed0249-0066-470a-e7a9-6d1f6e90c983"
      },
      "execution_count": 29,
      "outputs": [
        {
          "output_type": "execute_result",
          "data": {
            "text/plain": [
              "-inf"
            ]
          },
          "metadata": {},
          "execution_count": 29
        }
      ]
    },
    {
      "cell_type": "code",
      "metadata": {
        "ExecuteTime": {
          "end_time": "2020-10-11T07:27:41.142300Z",
          "start_time": "2020-10-11T07:27:41.139300Z"
        },
        "id": "wn3BiYx3x4k2",
        "colab": {
          "base_uri": "https://localhost:8080/"
        },
        "outputId": "954a41dd-2eb4-4f8d-8d9d-22d6519de1fb"
      },
      "source": [
        "np.inf * np.inf"
      ],
      "execution_count": 30,
      "outputs": [
        {
          "output_type": "execute_result",
          "data": {
            "text/plain": [
              "inf"
            ]
          },
          "metadata": {},
          "execution_count": 30
        }
      ]
    },
    {
      "cell_type": "code",
      "metadata": {
        "ExecuteTime": {
          "end_time": "2020-10-11T07:27:41.191303Z",
          "start_time": "2020-10-11T07:27:41.187303Z"
        },
        "id": "bdDkZBpTx4k3",
        "colab": {
          "base_uri": "https://localhost:8080/"
        },
        "outputId": "740c4025-bed6-42be-b7d7-c2cd65414841"
      },
      "source": [
        "np.inf - np.inf"
      ],
      "execution_count": 31,
      "outputs": [
        {
          "output_type": "execute_result",
          "data": {
            "text/plain": [
              "nan"
            ]
          },
          "metadata": {},
          "execution_count": 31
        }
      ]
    },
    {
      "cell_type": "markdown",
      "metadata": {
        "id": "53zd0Nqux4k3"
      },
      "source": [
        "При попытке вычесть одну бесконечность `inf` из другой мы тоже что-то получили.\n",
        "А вы знаете сколько будет бесконечность минус бесконечность? А NumPy знает: будет `nan` - не число (not a number).\n",
        "\n",
        "`nan` тоже ненастоящее число, и с ним можно делать математические операции.\n",
        "\n",
        "Попробуйте сами и определите, что получается.\n",
        "\n",
        "Все эти ненастоящие числа нужны чтобы облегчить программирование, но на самом деле они смысла не имеют, и если у вас такое число получилось - что-то не так. Поэтому иногда надо проверять результат, чтобы там не было бесконечностей или \"нечисел\".   "
      ]
    },
    {
      "cell_type": "code",
      "source": [
        "np.nan*(-1)"
      ],
      "metadata": {
        "id": "vDqDAG_eJE0H",
        "colab": {
          "base_uri": "https://localhost:8080/"
        },
        "outputId": "335c448f-826f-4053-fbbe-daf2109f3806"
      },
      "execution_count": 32,
      "outputs": [
        {
          "output_type": "execute_result",
          "data": {
            "text/plain": [
              "nan"
            ]
          },
          "metadata": {},
          "execution_count": 32
        }
      ]
    },
    {
      "cell_type": "code",
      "metadata": {
        "ExecuteTime": {
          "end_time": "2020-10-11T07:27:41.286308Z",
          "start_time": "2020-10-11T07:27:41.282308Z"
        },
        "id": "L6oeyD88x4k3",
        "colab": {
          "base_uri": "https://localhost:8080/"
        },
        "outputId": "5499be5b-41a5-4295-eafd-3e05cb9d277b"
      },
      "source": [
        "np.nan+np.nan"
      ],
      "execution_count": 33,
      "outputs": [
        {
          "output_type": "execute_result",
          "data": {
            "text/plain": [
              "nan"
            ]
          },
          "metadata": {},
          "execution_count": 33
        }
      ]
    },
    {
      "cell_type": "code",
      "source": [
        "np.nan+5"
      ],
      "metadata": {
        "id": "yntlBkF3P6JG",
        "colab": {
          "base_uri": "https://localhost:8080/"
        },
        "outputId": "137c8dce-6a0f-4953-de64-ac987b0a995f"
      },
      "execution_count": 34,
      "outputs": [
        {
          "output_type": "execute_result",
          "data": {
            "text/plain": [
              "nan"
            ]
          },
          "metadata": {},
          "execution_count": 34
        }
      ]
    },
    {
      "cell_type": "code",
      "metadata": {
        "ExecuteTime": {
          "end_time": "2020-10-11T07:27:41.337311Z",
          "start_time": "2020-10-11T07:27:41.333311Z"
        },
        "id": "M8ZkfAeax4k3",
        "colab": {
          "base_uri": "https://localhost:8080/"
        },
        "outputId": "9d09397b-4b0d-497e-f180-f9cd778978cb"
      },
      "source": [
        "a ** b # возведение в степень, первый аргумент - основание, второй - степень."
      ],
      "execution_count": 35,
      "outputs": [
        {
          "output_type": "execute_result",
          "data": {
            "text/plain": [
              "array([     1,     30,   1600, 125000])"
            ]
          },
          "metadata": {},
          "execution_count": 35
        }
      ]
    },
    {
      "cell_type": "code",
      "metadata": {
        "ExecuteTime": {
          "end_time": "2020-10-11T07:27:41.390314Z",
          "start_time": "2020-10-11T07:27:41.386314Z"
        },
        "id": "FtKYI2czx4k3",
        "colab": {
          "base_uri": "https://localhost:8080/"
        },
        "outputId": "a2db0ca1-e551-44a5-d549-66ace0a9d760"
      },
      "source": [
        "a % b  # Взятие остатка от деления (при взятии остатка от деления на 0 возвращается 0)"
      ],
      "execution_count": 36,
      "outputs": [
        {
          "output_type": "stream",
          "name": "stderr",
          "text": [
            "<ipython-input-36-90e17d18130c>:1: RuntimeWarning: divide by zero encountered in remainder\n",
            "  a % b  # Взятие остатка от деления (при взятии остатка от деления на 0 возвращается 0)\n"
          ]
        },
        {
          "output_type": "execute_result",
          "data": {
            "text/plain": [
              "array([0, 0, 0, 2])"
            ]
          },
          "metadata": {},
          "execution_count": 36
        }
      ]
    },
    {
      "cell_type": "markdown",
      "metadata": {
        "id": "8J-OjPhdx4k4"
      },
      "source": [
        "Как мы уже отметили, формы массивов должны быть одинаковые (попробуйте что будет если нет).\n",
        "\n",
        "Но есть исключение - когда один из аргументов - скаляр. Тогда он автоматически будет применяться к каждому элементу массива."
      ]
    },
    {
      "cell_type": "code",
      "metadata": {
        "ExecuteTime": {
          "end_time": "2020-10-11T07:27:41.487320Z",
          "start_time": "2020-10-11T07:27:41.483320Z"
        },
        "id": "XP4XIj8mx4k4",
        "colab": {
          "base_uri": "https://localhost:8080/"
        },
        "outputId": "73ed43e5-18a5-4f5f-9392-3599aec37345"
      },
      "source": [
        "a + 1"
      ],
      "execution_count": 37,
      "outputs": [
        {
          "output_type": "execute_result",
          "data": {
            "text/plain": [
              "array([21, 31, 41, 51])"
            ]
          },
          "metadata": {},
          "execution_count": 37
        }
      ]
    },
    {
      "cell_type": "code",
      "metadata": {
        "ExecuteTime": {
          "end_time": "2020-10-11T07:27:41.539323Z",
          "start_time": "2020-10-11T07:27:41.535323Z"
        },
        "id": "21FCXQxgx4k4",
        "colab": {
          "base_uri": "https://localhost:8080/"
        },
        "outputId": "8846a9c8-9fc0-4c24-c189-225125360f97"
      },
      "source": [
        "1 + b"
      ],
      "execution_count": 38,
      "outputs": [
        {
          "output_type": "execute_result",
          "data": {
            "text/plain": [
              "array([1, 2, 3, 4])"
            ]
          },
          "metadata": {},
          "execution_count": 38
        }
      ]
    },
    {
      "cell_type": "code",
      "metadata": {
        "ExecuteTime": {
          "end_time": "2020-10-11T07:27:41.590326Z",
          "start_time": "2020-10-11T07:27:41.586326Z"
        },
        "id": "maMJ_dKDx4k5",
        "colab": {
          "base_uri": "https://localhost:8080/"
        },
        "outputId": "8e3e0901-84f5-4176-849b-db160352d68a"
      },
      "source": [
        "a ** 3"
      ],
      "execution_count": 39,
      "outputs": [
        {
          "output_type": "execute_result",
          "data": {
            "text/plain": [
              "array([  8000,  27000,  64000, 125000])"
            ]
          },
          "metadata": {},
          "execution_count": 39
        }
      ]
    },
    {
      "cell_type": "code",
      "metadata": {
        "ExecuteTime": {
          "end_time": "2020-10-11T07:27:41.647329Z",
          "start_time": "2020-10-11T07:27:41.643329Z"
        },
        "id": "q5Qan1P5x4k5",
        "colab": {
          "base_uri": "https://localhost:8080/"
        },
        "outputId": "caf4f02b-b1d2-4358-9e4f-ae849f00bf6d"
      },
      "source": [
        "2 ** b"
      ],
      "execution_count": 40,
      "outputs": [
        {
          "output_type": "execute_result",
          "data": {
            "text/plain": [
              "array([1, 2, 4, 8])"
            ]
          },
          "metadata": {},
          "execution_count": 40
        }
      ]
    },
    {
      "cell_type": "code",
      "source": [
        "a=np.ones((3,1))"
      ],
      "metadata": {
        "id": "KTJqLUH-N31G"
      },
      "execution_count": 41,
      "outputs": []
    },
    {
      "cell_type": "code",
      "source": [
        "b=2*np.transpose(a)"
      ],
      "metadata": {
        "id": "mrL8Yj4XOAeB"
      },
      "execution_count": 42,
      "outputs": []
    },
    {
      "cell_type": "code",
      "source": [
        "print(a.shape, b.shape)"
      ],
      "metadata": {
        "id": "Bc7y4XgZOJZW",
        "colab": {
          "base_uri": "https://localhost:8080/"
        },
        "outputId": "00a9ee79-88e9-489c-f8b7-0aa450374692"
      },
      "execution_count": 43,
      "outputs": [
        {
          "output_type": "stream",
          "name": "stdout",
          "text": [
            "(3, 1) (1, 3)\n"
          ]
        }
      ]
    },
    {
      "cell_type": "code",
      "source": [
        "a*b # ?????"
      ],
      "metadata": {
        "id": "HTIgcXNVOOwm",
        "colab": {
          "base_uri": "https://localhost:8080/"
        },
        "outputId": "b1a1327f-92ca-42db-dd9a-3a2efd152f02"
      },
      "execution_count": 44,
      "outputs": [
        {
          "output_type": "execute_result",
          "data": {
            "text/plain": [
              "array([[2., 2., 2.],\n",
              "       [2., 2., 2.],\n",
              "       [2., 2., 2.]])"
            ]
          },
          "metadata": {},
          "execution_count": 44
        }
      ]
    },
    {
      "cell_type": "markdown",
      "metadata": {
        "id": "QMfeT9c_x4k5"
      },
      "source": [
        "## Тригонометрия, округления\n",
        "В `numpy` как и в `math` реализованы многочисленные тригонометрические операции.\n",
        "\n",
        "Они работают с массивами поэлементно.\n",
        "\n",
        "Округлений гораздо больше, самых разных типов:\n",
        "`ceil()`, `floor()`, но и другие `round()` - округление до заданного числа знаков после запятой, `fix()` - округление до ближайшего целого со стороны нуля.\n",
        "\n",
        "Поупражняйтесь с разными способами округления, сравните.\n"
      ]
    },
    {
      "cell_type": "code",
      "metadata": {
        "ExecuteTime": {
          "end_time": "2020-10-11T07:27:41.749335Z",
          "start_time": "2020-10-11T07:27:41.745335Z"
        },
        "id": "gz1CRhbJx4k5",
        "colab": {
          "base_uri": "https://localhost:8080/"
        },
        "outputId": "18e52be2-4ffe-4f4e-d22f-f82257e2e1b6"
      },
      "source": [
        "np.cos(a) # косинус"
      ],
      "execution_count": 45,
      "outputs": [
        {
          "output_type": "execute_result",
          "data": {
            "text/plain": [
              "array([[0.54030231],\n",
              "       [0.54030231],\n",
              "       [0.54030231]])"
            ]
          },
          "metadata": {},
          "execution_count": 45
        }
      ]
    },
    {
      "cell_type": "code",
      "metadata": {
        "ExecuteTime": {
          "end_time": "2020-10-11T07:27:41.800338Z",
          "start_time": "2020-10-11T07:27:41.797338Z"
        },
        "id": "PWNCsk2fx4k6",
        "colab": {
          "base_uri": "https://localhost:8080/"
        },
        "outputId": "631b4511-23f7-4b54-9295-a40ddce1f40d"
      },
      "source": [
        "np.arctan(a) # арктангенс, название отличается от модуля math"
      ],
      "execution_count": 46,
      "outputs": [
        {
          "output_type": "execute_result",
          "data": {
            "text/plain": [
              "array([[0.78539816],\n",
              "       [0.78539816],\n",
              "       [0.78539816]])"
            ]
          },
          "metadata": {},
          "execution_count": 46
        }
      ]
    },
    {
      "cell_type": "code",
      "metadata": {
        "ExecuteTime": {
          "end_time": "2020-10-11T07:27:41.852341Z",
          "start_time": "2020-10-11T07:27:41.848341Z"
        },
        "id": "RbKWX1zdx4k6",
        "colab": {
          "base_uri": "https://localhost:8080/"
        },
        "outputId": "2265dffa-5c88-4a47-bcf8-fc300a7755eb"
      },
      "source": [
        "np.tanh(a) # гипертангенс"
      ],
      "execution_count": 47,
      "outputs": [
        {
          "output_type": "execute_result",
          "data": {
            "text/plain": [
              "array([[0.76159416],\n",
              "       [0.76159416],\n",
              "       [0.76159416]])"
            ]
          },
          "metadata": {},
          "execution_count": 47
        }
      ]
    },
    {
      "cell_type": "code",
      "metadata": {
        "ExecuteTime": {
          "end_time": "2020-10-11T07:27:41.903344Z",
          "start_time": "2020-10-11T07:27:41.899344Z"
        },
        "id": "hZZctLz6x4k6",
        "colab": {
          "base_uri": "https://localhost:8080/"
        },
        "outputId": "839ab0aa-51d3-4341-998f-a69e20c68359"
      },
      "source": [
        "c=5*np.cos(a) #\n",
        "c"
      ],
      "execution_count": 48,
      "outputs": [
        {
          "output_type": "execute_result",
          "data": {
            "text/plain": [
              "array([[2.70151153],\n",
              "       [2.70151153],\n",
              "       [2.70151153]])"
            ]
          },
          "metadata": {},
          "execution_count": 48
        }
      ]
    },
    {
      "cell_type": "code",
      "metadata": {
        "ExecuteTime": {
          "end_time": "2020-10-11T07:27:41.956347Z",
          "start_time": "2020-10-11T07:27:41.951346Z"
        },
        "id": "DxuPBXdDx4k7",
        "colab": {
          "base_uri": "https://localhost:8080/"
        },
        "outputId": "eb8c43e7-be79-4daf-df52-8a305778869c"
      },
      "source": [
        "np.round(c,2)"
      ],
      "execution_count": 49,
      "outputs": [
        {
          "output_type": "execute_result",
          "data": {
            "text/plain": [
              "array([[2.7],\n",
              "       [2.7],\n",
              "       [2.7]])"
            ]
          },
          "metadata": {},
          "execution_count": 49
        }
      ]
    },
    {
      "cell_type": "code",
      "metadata": {
        "ExecuteTime": {
          "end_time": "2020-10-11T07:27:42.006350Z",
          "start_time": "2020-10-11T07:27:42.002349Z"
        },
        "id": "dLLubtRax4k8",
        "colab": {
          "base_uri": "https://localhost:8080/"
        },
        "outputId": "ca5aa838-370b-49e9-8803-5553c2ff4b99"
      },
      "source": [
        "np.ceil(c)"
      ],
      "execution_count": 50,
      "outputs": [
        {
          "output_type": "execute_result",
          "data": {
            "text/plain": [
              "array([[3.],\n",
              "       [3.],\n",
              "       [3.]])"
            ]
          },
          "metadata": {},
          "execution_count": 50
        }
      ]
    },
    {
      "cell_type": "code",
      "metadata": {
        "ExecuteTime": {
          "end_time": "2020-10-11T07:27:42.058353Z",
          "start_time": "2020-10-11T07:27:42.054352Z"
        },
        "id": "ysalKI8Hx4k9",
        "colab": {
          "base_uri": "https://localhost:8080/"
        },
        "outputId": "679fdac6-d0b8-48bb-d6b8-2ab46f33868c"
      },
      "source": [
        "np.fix(c)"
      ],
      "execution_count": 51,
      "outputs": [
        {
          "output_type": "execute_result",
          "data": {
            "text/plain": [
              "array([[2.],\n",
              "       [2.],\n",
              "       [2.]])"
            ]
          },
          "metadata": {},
          "execution_count": 51
        }
      ]
    },
    {
      "cell_type": "markdown",
      "metadata": {
        "id": "-RWVR4_Px4k9"
      },
      "source": [
        "## Агрегирующие функции.\n",
        "Можно совместно обрабатывать все элементы массивов, а не каждый по отдельности. Такие функции называются агрегирующими."
      ]
    },
    {
      "cell_type": "code",
      "metadata": {
        "ExecuteTime": {
          "end_time": "2020-10-11T07:27:42.157358Z",
          "start_time": "2020-10-11T07:27:42.152358Z"
        },
        "colab": {
          "base_uri": "https://localhost:8080/"
        },
        "id": "g_WRzsLxx4k9",
        "outputId": "80a43837-ad0a-4407-f38d-1edce6626126"
      },
      "source": [
        "a = np.array([[1, 2, 3], [4, 5, 6]]) # создадим массив\n",
        "a"
      ],
      "execution_count": 52,
      "outputs": [
        {
          "output_type": "execute_result",
          "data": {
            "text/plain": [
              "array([[1, 2, 3],\n",
              "       [4, 5, 6]])"
            ]
          },
          "metadata": {},
          "execution_count": 52
        }
      ]
    },
    {
      "cell_type": "code",
      "metadata": {
        "ExecuteTime": {
          "end_time": "2020-10-11T07:27:42.209361Z",
          "start_time": "2020-10-11T07:27:42.205361Z"
        },
        "colab": {
          "base_uri": "https://localhost:8080/"
        },
        "id": "i1xMplKkx4k9",
        "outputId": "4defd0a1-fbe3-4bd8-da7b-0f88ae10aa1a"
      },
      "source": [
        "np.sum(a) # суммирование всех элементов массива между собой"
      ],
      "execution_count": 53,
      "outputs": [
        {
          "output_type": "execute_result",
          "data": {
            "text/plain": [
              "21"
            ]
          },
          "metadata": {},
          "execution_count": 53
        }
      ]
    },
    {
      "cell_type": "markdown",
      "metadata": {
        "id": "KW3_zEEwx4k9"
      },
      "source": [
        "или"
      ]
    },
    {
      "cell_type": "code",
      "metadata": {
        "ExecuteTime": {
          "end_time": "2020-10-11T07:27:42.305367Z",
          "start_time": "2020-10-11T07:27:42.301367Z"
        },
        "colab": {
          "base_uri": "https://localhost:8080/"
        },
        "id": "LJVJ1-k7x4k9",
        "outputId": "cf685bfe-f5cc-4215-cef9-25f74b03aa0f"
      },
      "source": [
        "a.sum() # другой способ вызова той же функции суммирования"
      ],
      "execution_count": null,
      "outputs": [
        {
          "output_type": "execute_result",
          "data": {
            "text/plain": [
              "21"
            ]
          },
          "metadata": {},
          "execution_count": 52
        }
      ]
    },
    {
      "cell_type": "code",
      "metadata": {
        "ExecuteTime": {
          "end_time": "2020-10-11T07:27:42.356370Z",
          "start_time": "2020-10-11T07:27:42.352369Z"
        },
        "colab": {
          "base_uri": "https://localhost:8080/"
        },
        "id": "qzggbxImx4k-",
        "outputId": "449df3dd-d71a-4fc6-e132-1a81b52b0d3d"
      },
      "source": [
        "a.min() # минимальный элемент массива"
      ],
      "execution_count": null,
      "outputs": [
        {
          "output_type": "execute_result",
          "data": {
            "text/plain": [
              "1"
            ]
          },
          "metadata": {},
          "execution_count": 53
        }
      ]
    },
    {
      "cell_type": "code",
      "metadata": {
        "ExecuteTime": {
          "end_time": "2020-10-11T07:27:42.409373Z",
          "start_time": "2020-10-11T07:27:42.405372Z"
        },
        "colab": {
          "base_uri": "https://localhost:8080/"
        },
        "id": "7G1_idHtx4k-",
        "outputId": "680c19b3-f09c-4945-914d-38349d981e36"
      },
      "source": [
        "a.max() # максимальный элемент массива"
      ],
      "execution_count": null,
      "outputs": [
        {
          "output_type": "execute_result",
          "data": {
            "text/plain": [
              "6"
            ]
          },
          "metadata": {},
          "execution_count": 54
        }
      ]
    },
    {
      "cell_type": "markdown",
      "metadata": {
        "id": "I6ZWH6CTx4k-"
      },
      "source": [
        "По умолчанию, эти операции применяются к массиву, как если бы он был списком чисел, независимо от его формы. Однако, указав параметр `axis`, можно применить операцию для указанной оси (размерности) массива. Оси нумеруются начиная с 0 (первая ось имеет номер ноль)."
      ]
    },
    {
      "cell_type": "code",
      "metadata": {
        "ExecuteTime": {
          "end_time": "2020-10-11T07:27:42.506378Z",
          "start_time": "2020-10-11T07:27:42.502378Z"
        },
        "colab": {
          "base_uri": "https://localhost:8080/"
        },
        "id": "9dkpTP17x4k-",
        "outputId": "1291fec6-441e-4593-ef1d-40bc3c057ce9"
      },
      "source": [
        "a.min(axis=1) # минимум по строкам для каждого столбца"
      ],
      "execution_count": null,
      "outputs": [
        {
          "output_type": "execute_result",
          "data": {
            "text/plain": [
              "array([1, 4])"
            ]
          },
          "metadata": {},
          "execution_count": 55
        }
      ]
    },
    {
      "cell_type": "code",
      "metadata": {
        "ExecuteTime": {
          "end_time": "2020-10-11T07:27:42.558381Z",
          "start_time": "2020-10-11T07:27:42.554381Z"
        },
        "colab": {
          "base_uri": "https://localhost:8080/"
        },
        "id": "lAZwSbXvx4k-",
        "outputId": "6910288b-8846-4ae8-a72e-d9152d745dba"
      },
      "source": [
        "a.min(axis=0) # минимум по столбцам для каждой строки"
      ],
      "execution_count": null,
      "outputs": [
        {
          "output_type": "execute_result",
          "data": {
            "text/plain": [
              "array([1, 2, 3])"
            ]
          },
          "metadata": {},
          "execution_count": 56
        }
      ]
    },
    {
      "cell_type": "markdown",
      "metadata": {
        "id": "QVRRrIbHx4k_"
      },
      "source": [
        "Вообще, указание осей (особенно в случае тензоров - многомерных массивов) очень важно для таких функций. Мы будем часто пользоваться этим, когда будем изучать нейронные сети."
      ]
    },
    {
      "cell_type": "markdown",
      "metadata": {
        "id": "ygNqJsx9x4k_"
      },
      "source": [
        "## Индексы, срезы, итерации\n",
        "\n",
        "До сих пор мы обрабатывали все элементы массива, которые в нем есть. Но часто нужно работать только с некоторыми из них. Для этого надо узнать эти элементы. Например, хотим узнать какой в матрице первый элемент. Для этого нужно обратиться к этому элементу по его индексу (номеру).\n",
        "В Python индексы начинаются с нуля, т.е. первый элемент имеет индекс 0.\n",
        "\n",
        "Обращение к элементам, или как говорят *индексация*, массива выполняется с помощью квадратных скобок [] внутри которых мы указываем __срез__ тех индексов элементов, к которым хотим обратиться. Вспомним что такое __срез__ из уроков по основам Python. Это последовательность целых чисел, которую можно задать, например, использую оператор __начало:конец:шаг__\n"
      ]
    },
    {
      "cell_type": "code",
      "metadata": {
        "ExecuteTime": {
          "end_time": "2020-10-11T07:27:42.700389Z",
          "start_time": "2020-10-11T07:27:42.696389Z"
        },
        "colab": {
          "base_uri": "https://localhost:8080/"
        },
        "id": "OfSq8lqtx4k_",
        "outputId": "b891772c-b288-409e-fdc7-ae9db34758ea"
      },
      "source": [
        "a = np.arange(10) ** 3 # создадим массив. Какая у него форма?\n",
        "a"
      ],
      "execution_count": 54,
      "outputs": [
        {
          "output_type": "execute_result",
          "data": {
            "text/plain": [
              "array([  0,   1,   8,  27,  64, 125, 216, 343, 512, 729])"
            ]
          },
          "metadata": {},
          "execution_count": 54
        }
      ]
    },
    {
      "cell_type": "code",
      "metadata": {
        "ExecuteTime": {
          "end_time": "2020-10-11T07:27:42.752392Z",
          "start_time": "2020-10-11T07:27:42.748392Z"
        },
        "colab": {
          "base_uri": "https://localhost:8080/"
        },
        "id": "JBL6_jxCx4k_",
        "outputId": "66a12320-8850-42bc-fb77-0f68ffa49bbb"
      },
      "source": [
        "a[4] # Посмотрим на первый элемент этого массива, помним что первый элемент имеет индекс 0."
      ],
      "execution_count": 55,
      "outputs": [
        {
          "output_type": "execute_result",
          "data": {
            "text/plain": [
              "64"
            ]
          },
          "metadata": {},
          "execution_count": 55
        }
      ]
    },
    {
      "cell_type": "code",
      "metadata": {
        "ExecuteTime": {
          "end_time": "2020-10-11T07:27:42.803395Z",
          "start_time": "2020-10-11T07:27:42.799395Z"
        },
        "colab": {
          "base_uri": "https://localhost:8080/"
        },
        "id": "c9H0m1u2x4lA",
        "outputId": "004975fd-0cfd-4b32-9110-5b78216ab3b7"
      },
      "source": [
        "a[3:5] # Посмотрим сразу на четвертый и пятый элементы. Помним что в срезах конец не входит в диапазон, поэтому шестой элемент мы не получим"
      ],
      "execution_count": 56,
      "outputs": [
        {
          "output_type": "execute_result",
          "data": {
            "text/plain": [
              "array([27, 64])"
            ]
          },
          "metadata": {},
          "execution_count": 56
        }
      ]
    },
    {
      "cell_type": "code",
      "source": [
        "a[[3,4]]"
      ],
      "metadata": {
        "colab": {
          "base_uri": "https://localhost:8080/"
        },
        "id": "eCiErIQrAD4D",
        "outputId": "a5745f1a-41a3-4a9c-c0e3-7e954c27f465"
      },
      "execution_count": 57,
      "outputs": [
        {
          "output_type": "execute_result",
          "data": {
            "text/plain": [
              "array([27, 64])"
            ]
          },
          "metadata": {},
          "execution_count": 57
        }
      ]
    },
    {
      "cell_type": "code",
      "source": [
        "a[[3,3]]"
      ],
      "metadata": {
        "colab": {
          "base_uri": "https://localhost:8080/"
        },
        "id": "gj7xrwQlSMkD",
        "outputId": "07f88ab5-f7af-4921-d95d-f9ddf9632607"
      },
      "execution_count": null,
      "outputs": [
        {
          "output_type": "execute_result",
          "data": {
            "text/plain": [
              "array([27, 27])"
            ]
          },
          "metadata": {},
          "execution_count": 61
        }
      ]
    },
    {
      "cell_type": "markdown",
      "metadata": {
        "id": "yMptqVWix4lA"
      },
      "source": [
        "изменим четвертый и пятый элементы. Вообще, при изменении формы объектов слева и справа от знака присвоения = должны быть одинаковые. Но для скаляра это исключение."
      ]
    },
    {
      "cell_type": "code",
      "metadata": {
        "ExecuteTime": {
          "end_time": "2020-10-11T07:27:42.899401Z",
          "start_time": "2020-10-11T07:27:42.895400Z"
        },
        "colab": {
          "base_uri": "https://localhost:8080/"
        },
        "id": "pv40XK_3x4lA",
        "outputId": "0389010f-d52b-40eb-ab50-8cfbe0486c27"
      },
      "source": [
        "a[3:5] = 2 # изменяем\n",
        "a"
      ],
      "execution_count": 58,
      "outputs": [
        {
          "output_type": "execute_result",
          "data": {
            "text/plain": [
              "array([  0,   1,   8,   2,   2, 125, 216, 343, 512, 729])"
            ]
          },
          "metadata": {},
          "execution_count": 58
        }
      ]
    },
    {
      "cell_type": "markdown",
      "metadata": {
        "id": "ldyGJEkox4lA"
      },
      "source": [
        "А если вот так сделать, что получится?"
      ]
    },
    {
      "cell_type": "code",
      "source": [
        "a[0.5]"
      ],
      "metadata": {
        "colab": {
          "base_uri": "https://localhost:8080/",
          "height": 198
        },
        "id": "tLeIHNyYAv1p",
        "outputId": "4bf3ca37-be24-4469-e8bb-a93ae16427d7"
      },
      "execution_count": null,
      "outputs": [
        {
          "output_type": "error",
          "ename": "IndexError",
          "evalue": "ignored",
          "traceback": [
            "\u001b[0;31m---------------------------------------------------------------------------\u001b[0m",
            "\u001b[0;31mIndexError\u001b[0m                                Traceback (most recent call last)",
            "\u001b[0;32m<ipython-input-63-a8837b92037c>\u001b[0m in \u001b[0;36m<cell line: 1>\u001b[0;34m()\u001b[0m\n\u001b[0;32m----> 1\u001b[0;31m \u001b[0ma\u001b[0m\u001b[0;34m[\u001b[0m\u001b[0;36m0.5\u001b[0m\u001b[0;34m]\u001b[0m\u001b[0;34m\u001b[0m\u001b[0;34m\u001b[0m\u001b[0m\n\u001b[0m",
            "\u001b[0;31mIndexError\u001b[0m: only integers, slices (`:`), ellipsis (`...`), numpy.newaxis (`None`) and integer or boolean arrays are valid indices"
          ]
        }
      ]
    },
    {
      "cell_type": "code",
      "metadata": {
        "ExecuteTime": {
          "end_time": "2020-10-11T07:27:42.994406Z",
          "start_time": "2020-10-11T07:27:42.990406Z"
        },
        "id": "wfaSP4lzx4lA"
      },
      "source": [
        "a[::-1] # Что здесь происходит?"
      ],
      "execution_count": null,
      "outputs": []
    },
    {
      "cell_type": "code",
      "source": [
        "a"
      ],
      "metadata": {
        "id": "u1IkGlLkTXgh"
      },
      "execution_count": null,
      "outputs": []
    },
    {
      "cell_type": "code",
      "source": [
        "a[-1]"
      ],
      "metadata": {
        "id": "jUjuxtcPXgr7"
      },
      "execution_count": null,
      "outputs": []
    },
    {
      "cell_type": "markdown",
      "metadata": {
        "id": "A5JqBaM3x4lB"
      },
      "source": [
        "Вспомнив,  как создаются срезы, понимаем, что здесь __начало, конец__ опущены, а значит будут использованы значения по умолчанию, а __шаг = -1__. В результате получили массив, в котором элементы переставлены в обратном порядке."
      ]
    },
    {
      "cell_type": "markdown",
      "metadata": {
        "id": "qzhjQbFMx4lB"
      },
      "source": [
        "У *многомерных* массивов на каждую ось приходится один индекс. Индексы передаются в виде последовательности чисел, разделенных запятыми (кортежами):"
      ]
    },
    {
      "cell_type": "code",
      "metadata": {
        "ExecuteTime": {
          "end_time": "2020-10-11T07:27:43.146415Z",
          "start_time": "2020-10-11T07:27:43.141415Z"
        },
        "id": "wGjK4BH8x4lC",
        "colab": {
          "base_uri": "https://localhost:8080/"
        },
        "outputId": "f69af6b0-909e-46bd-f5f2-47867a7dc8ff"
      },
      "source": [
        "b = np.array([[ 0,  1,  2,  3],\n",
        "...           [10, 11, 12, 13],\n",
        "...           [20, 21, 22, 23],\n",
        "...           [30, 31, 32, 33],\n",
        "...           [40, 41, 42, 43]]) # создадим двумерный массив\n",
        "b"
      ],
      "execution_count": 59,
      "outputs": [
        {
          "output_type": "execute_result",
          "data": {
            "text/plain": [
              "array([[ 0,  1,  2,  3],\n",
              "       [10, 11, 12, 13],\n",
              "       [20, 21, 22, 23],\n",
              "       [30, 31, 32, 33],\n",
              "       [40, 41, 42, 43]])"
            ]
          },
          "metadata": {},
          "execution_count": 59
        }
      ]
    },
    {
      "cell_type": "code",
      "metadata": {
        "ExecuteTime": {
          "end_time": "2020-10-11T07:27:43.205418Z",
          "start_time": "2020-10-11T07:27:43.202418Z"
        },
        "id": "W-EKr6xRx4lC",
        "colab": {
          "base_uri": "https://localhost:8080/"
        },
        "outputId": "61417447-1ea6-436b-fa45-0530ea261dac"
      },
      "source": [
        "b[2,3] # обратимся к элементу на третьей строке в четвертом столбце\n"
      ],
      "execution_count": 60,
      "outputs": [
        {
          "output_type": "execute_result",
          "data": {
            "text/plain": [
              "23"
            ]
          },
          "metadata": {},
          "execution_count": 60
        }
      ]
    },
    {
      "cell_type": "code",
      "source": [
        "b[[2,3],3]"
      ],
      "metadata": {
        "id": "PVt1dahOSbZF",
        "colab": {
          "base_uri": "https://localhost:8080/"
        },
        "outputId": "6ee3e19d-83d6-496e-dad6-85bd191bd5dd"
      },
      "execution_count": 61,
      "outputs": [
        {
          "output_type": "execute_result",
          "data": {
            "text/plain": [
              "array([23, 33])"
            ]
          },
          "metadata": {},
          "execution_count": 61
        }
      ]
    },
    {
      "cell_type": "markdown",
      "metadata": {
        "id": "lJ0XvGztx4lC"
      },
      "source": [
        "тоже самое можно получить и так:"
      ]
    },
    {
      "cell_type": "code",
      "metadata": {
        "ExecuteTime": {
          "end_time": "2020-10-11T07:27:43.309424Z",
          "start_time": "2020-10-11T07:27:43.305424Z"
        },
        "id": "jsmAKBs_x4lC",
        "colab": {
          "base_uri": "https://localhost:8080/"
        },
        "outputId": "bd3a2626-e60c-4967-9dd5-2d3c691ccd93"
      },
      "source": [
        "b[(2,3)]"
      ],
      "execution_count": 62,
      "outputs": [
        {
          "output_type": "execute_result",
          "data": {
            "text/plain": [
              "23"
            ]
          },
          "metadata": {},
          "execution_count": 62
        }
      ]
    },
    {
      "cell_type": "markdown",
      "metadata": {
        "id": "yN_Cr6mTx4lC"
      },
      "source": [
        "или даже так"
      ]
    },
    {
      "cell_type": "code",
      "source": [
        "b[2]"
      ],
      "metadata": {
        "id": "WM5jH0nLg9WH",
        "colab": {
          "base_uri": "https://localhost:8080/"
        },
        "outputId": "88cc993c-6f47-4486-91ce-143a97f03658"
      },
      "execution_count": 63,
      "outputs": [
        {
          "output_type": "execute_result",
          "data": {
            "text/plain": [
              "array([20, 21, 22, 23])"
            ]
          },
          "metadata": {},
          "execution_count": 63
        }
      ]
    },
    {
      "cell_type": "code",
      "metadata": {
        "ExecuteTime": {
          "end_time": "2020-10-11T07:27:43.413430Z",
          "start_time": "2020-10-11T07:27:43.410430Z"
        },
        "id": "b_YLI-ILx4lC",
        "colab": {
          "base_uri": "https://localhost:8080/"
        },
        "outputId": "d559b650-bf31-4031-fdb2-ef6ca9497737"
      },
      "source": [
        "b[2][3]"
      ],
      "execution_count": 64,
      "outputs": [
        {
          "output_type": "execute_result",
          "data": {
            "text/plain": [
              "23"
            ]
          },
          "metadata": {},
          "execution_count": 64
        }
      ]
    },
    {
      "cell_type": "markdown",
      "metadata": {
        "id": "DZGT_cYIx4lD"
      },
      "source": [
        "Но не следует путать"
      ]
    },
    {
      "cell_type": "code",
      "metadata": {
        "ExecuteTime": {
          "end_time": "2020-10-11T07:27:43.517436Z",
          "start_time": "2020-10-11T07:27:43.514436Z"
        },
        "id": "rPXDbL7wx4lD",
        "colab": {
          "base_uri": "https://localhost:8080/"
        },
        "outputId": "5af9ea44-595d-4708-b560-a472bc6d71f2"
      },
      "source": [
        "b[:,2] # это третий столбец целиком (все строки)"
      ],
      "execution_count": 65,
      "outputs": [
        {
          "output_type": "execute_result",
          "data": {
            "text/plain": [
              "array([ 2, 12, 22, 32, 42])"
            ]
          },
          "metadata": {},
          "execution_count": 65
        }
      ]
    },
    {
      "cell_type": "code",
      "source": [
        "b[:]"
      ],
      "metadata": {
        "id": "UX9G4micHb7F"
      },
      "execution_count": null,
      "outputs": []
    },
    {
      "cell_type": "markdown",
      "metadata": {
        "id": "yR91w6Dix4lD"
      },
      "source": [
        "и"
      ]
    },
    {
      "cell_type": "code",
      "metadata": {
        "ExecuteTime": {
          "end_time": "2020-10-11T07:27:43.627442Z",
          "start_time": "2020-10-11T07:27:43.623442Z"
        },
        "id": "Da5z8FGBx4lE",
        "colab": {
          "base_uri": "https://localhost:8080/"
        },
        "outputId": "3d886b1d-d900-4a80-e425-baed2e911972"
      },
      "source": [
        "b[: 2] # это первая и вторая строки массива"
      ],
      "execution_count": 66,
      "outputs": [
        {
          "output_type": "execute_result",
          "data": {
            "text/plain": [
              "array([[ 0,  1,  2,  3],\n",
              "       [10, 11, 12, 13]])"
            ]
          },
          "metadata": {},
          "execution_count": 66
        }
      ]
    },
    {
      "cell_type": "code",
      "source": [],
      "metadata": {
        "id": "28moJfOPH4wm"
      },
      "execution_count": null,
      "outputs": []
    },
    {
      "cell_type": "markdown",
      "metadata": {
        "id": "fDTwmZ2rx4lE"
      },
      "source": [
        "Тут мы запятую не поставили, и NumPy считает, что мы указываем только один индекс, самый первый - индекс строк. А для столбцов индекс (по умолчанию) - все.\n",
        "\n",
        "Теперь разгадайте вот такую индексацию:"
      ]
    },
    {
      "cell_type": "code",
      "metadata": {
        "ExecuteTime": {
          "end_time": "2020-10-11T07:27:43.727448Z",
          "start_time": "2020-10-11T07:27:43.723448Z"
        },
        "id": "8TdDpu1Cx4lF",
        "colab": {
          "base_uri": "https://localhost:8080/"
        },
        "outputId": "840ff329-b746-4c8e-a63d-4188f2fbdbea"
      },
      "source": [
        "b[1:3, : : ] # что это за смайлик?"
      ],
      "execution_count": 67,
      "outputs": [
        {
          "output_type": "execute_result",
          "data": {
            "text/plain": [
              "array([[10, 11, 12, 13],\n",
              "       [20, 21, 22, 23]])"
            ]
          },
          "metadata": {},
          "execution_count": 67
        }
      ]
    },
    {
      "cell_type": "markdown",
      "metadata": {
        "id": "qWG43FGWx4lF"
      },
      "source": [
        "Мы указали *два* индекса, один для строк: `1:3`, т.е. вторая и третья строки,\n",
        "\n",
        "другой для столбцов: ` : : ` здесь __начало, конец, шаг__ опущены и использованы значения по умолчанию. __начало = 0 , конец = \"длина объекта\" = 4 , шаг = 1__ т.е. первый, второй, третий и четвертый столбцы.\n",
        "\n",
        "А что будет, если обратиться к элементу номер 100? Проверьте."
      ]
    },
    {
      "cell_type": "code",
      "source": [
        "b"
      ],
      "metadata": {
        "id": "525QA1tcV-84"
      },
      "execution_count": null,
      "outputs": []
    },
    {
      "cell_type": "code",
      "source": [
        "b[2:3][0] #????"
      ],
      "metadata": {
        "id": "ozJ9PVWwWBY_"
      },
      "execution_count": null,
      "outputs": []
    },
    {
      "cell_type": "code",
      "source": [
        "e=np.ones((2,3,4,2,3,4))"
      ],
      "metadata": {
        "id": "jC2olia2X0Ft"
      },
      "execution_count": null,
      "outputs": []
    },
    {
      "cell_type": "code",
      "source": [
        "e[...,2] # даже такое работает, опустили все предыдущие индексы"
      ],
      "metadata": {
        "id": "IkRavghyX9st"
      },
      "execution_count": null,
      "outputs": []
    },
    {
      "cell_type": "markdown",
      "source": [
        "Еще больше информации и примеров по индексации можно найти в [документации](https://numpy.org/devdocs/user/basics.indexing.html)."
      ],
      "metadata": {
        "id": "E6Os6kNWY8zG"
      }
    },
    {
      "cell_type": "markdown",
      "metadata": {
        "id": "jOuRVpK-x4lF"
      },
      "source": [
        "### Итерирование массивов\n",
        "Зададим массив посложней. Узнаем его форму используя атрибут `shape`. Это трехмерный массив, 2 строки, 2 столбца, 3 третьих измерения (им не придумали названия)."
      ]
    },
    {
      "cell_type": "code",
      "source": [
        "import numpy as np"
      ],
      "metadata": {
        "id": "WZ988ampZZhe"
      },
      "execution_count": 68,
      "outputs": []
    },
    {
      "cell_type": "code",
      "metadata": {
        "ExecuteTime": {
          "end_time": "2020-10-11T07:27:43.867456Z",
          "start_time": "2020-10-11T07:27:43.864456Z"
        },
        "id": "02aLs6X-x4lF"
      },
      "source": [
        "a = np.array(([[0, 1, 2], [10, 12, 13]], [[100, 101, 102], [110, 112, 113]]))"
      ],
      "execution_count": 69,
      "outputs": []
    },
    {
      "cell_type": "code",
      "metadata": {
        "ExecuteTime": {
          "end_time": "2020-10-11T07:27:43.917459Z",
          "start_time": "2020-10-11T07:27:43.913459Z"
        },
        "colab": {
          "base_uri": "https://localhost:8080/"
        },
        "id": "fKU6QxArx4lF",
        "outputId": "132f9ac3-a8c5-481d-9ce6-bc483a403661"
      },
      "source": [
        "a"
      ],
      "execution_count": 70,
      "outputs": [
        {
          "output_type": "execute_result",
          "data": {
            "text/plain": [
              "array([[[  0,   1,   2],\n",
              "        [ 10,  12,  13]],\n",
              "\n",
              "       [[100, 101, 102],\n",
              "        [110, 112, 113]]])"
            ]
          },
          "metadata": {},
          "execution_count": 70
        }
      ]
    },
    {
      "cell_type": "code",
      "metadata": {
        "ExecuteTime": {
          "end_time": "2020-10-11T07:27:43.965462Z",
          "start_time": "2020-10-11T07:27:43.961461Z"
        },
        "colab": {
          "base_uri": "https://localhost:8080/"
        },
        "id": "ARNcedNGx4lG",
        "outputId": "1ca2b595-e23f-4aa0-c7b4-081843ddcc01"
      },
      "source": [
        "a.shape"
      ],
      "execution_count": 71,
      "outputs": [
        {
          "output_type": "execute_result",
          "data": {
            "text/plain": [
              "(2, 2, 3)"
            ]
          },
          "metadata": {},
          "execution_count": 71
        }
      ]
    },
    {
      "cell_type": "markdown",
      "metadata": {
        "id": "LDbXPrXEx4lG"
      },
      "source": [
        "Итерирование многомерных массивов ведется по первой оси (т.е. строкам).\n",
        "\n",
        "Изменяется номер строки, а все остальные индексы берутся \"все\".\n",
        "\n",
        "В результате выполнится __две__ итерации (число строк равно двум).\n",
        "\n",
        "Объект `row` будет массивом, который содержит:\n",
        "* на первой итерации элементы из первой строки, всех столбцов и всех третьих измерений массива __a__.\n",
        "* на второй итерации элементы из второй строки, всех столбцов и всех третьих измерений массива __a__."
      ]
    },
    {
      "cell_type": "code",
      "metadata": {
        "ExecuteTime": {
          "end_time": "2020-10-11T07:27:44.060467Z",
          "start_time": "2020-10-11T07:27:44.057467Z"
        },
        "colab": {
          "base_uri": "https://localhost:8080/"
        },
        "id": "Xb_p8R19x4lG",
        "outputId": "51079585-7662-4720-e31f-94bf391de811"
      },
      "source": [
        "for row in a:\n",
        "   print(row)\n",
        "   print(' ')\n"
      ],
      "execution_count": 72,
      "outputs": [
        {
          "output_type": "stream",
          "name": "stdout",
          "text": [
            "[[ 0  1  2]\n",
            " [10 12 13]]\n",
            " \n",
            "[[100 101 102]\n",
            " [110 112 113]]\n",
            " \n"
          ]
        }
      ]
    },
    {
      "cell_type": "markdown",
      "metadata": {
        "id": "rbaubSXzx4lG"
      },
      "source": [
        "Если нужно перебрать поэлементно весь массив, как если бы он был одномерным, для этого можно использовать `flat`. При этом наиболее быстро изменяется последний индекс, в нашем случае третий, потом второй (столбцы) и только в конце первый (строки).\n",
        "\n",
        "Значит первая половина результата - это элементы с первой строки. Вторая половина - элементы со второй строки.\n",
        "\n",
        "`flat` это итератор, он привязан к самому массиву, если изменим массив, то и его итератор поменяется, он _не_ делает копию массива. Если нужна копия объекта используйте `flatten` ."
      ]
    },
    {
      "cell_type": "code",
      "source": [
        "a.flat"
      ],
      "metadata": {
        "colab": {
          "base_uri": "https://localhost:8080/"
        },
        "id": "o4jztvpLD7l9",
        "outputId": "747fb9d1-2dfd-417e-81eb-325a23d746aa"
      },
      "execution_count": 73,
      "outputs": [
        {
          "output_type": "execute_result",
          "data": {
            "text/plain": [
              "<numpy.flatiter at 0x59ba1488d2b0>"
            ]
          },
          "metadata": {},
          "execution_count": 73
        }
      ]
    },
    {
      "cell_type": "code",
      "metadata": {
        "ExecuteTime": {
          "end_time": "2020-10-11T07:27:44.160473Z",
          "start_time": "2020-10-11T07:27:44.156473Z"
        },
        "colab": {
          "base_uri": "https://localhost:8080/"
        },
        "id": "EhYKKl8ux4lG",
        "outputId": "7f18fc25-d1ef-464a-8479-1d5806db609d"
      },
      "source": [
        "for el in a.flat:\n",
        "    print(el)\n"
      ],
      "execution_count": 74,
      "outputs": [
        {
          "output_type": "stream",
          "name": "stdout",
          "text": [
            "0\n",
            "1\n",
            "2\n",
            "10\n",
            "12\n",
            "13\n",
            "100\n",
            "101\n",
            "102\n",
            "110\n",
            "112\n",
            "113\n"
          ]
        }
      ]
    },
    {
      "cell_type": "code",
      "source": [
        "a\n"
      ],
      "metadata": {
        "colab": {
          "base_uri": "https://localhost:8080/"
        },
        "id": "LESEc6mJJV3v",
        "outputId": "54c856f4-8fa2-4419-aba0-e258b2590cef"
      },
      "execution_count": 75,
      "outputs": [
        {
          "output_type": "execute_result",
          "data": {
            "text/plain": [
              "array([[[  0,   1,   2],\n",
              "        [ 10,  12,  13]],\n",
              "\n",
              "       [[100, 101, 102],\n",
              "        [110, 112, 113]]])"
            ]
          },
          "metadata": {},
          "execution_count": 75
        }
      ]
    },
    {
      "cell_type": "markdown",
      "metadata": {
        "id": "5qcRo2PDx4lG"
      },
      "source": [
        "\n",
        "Форма массива может быть изменена с помощью различных команд, результаты некоторых привязаны к самому массиву, изменив его изменится и результат, копии массива не создаются."
      ]
    },
    {
      "cell_type": "code",
      "metadata": {
        "ExecuteTime": {
          "end_time": "2020-10-11T07:27:44.258478Z",
          "start_time": "2020-10-11T07:27:44.255478Z"
        },
        "colab": {
          "base_uri": "https://localhost:8080/"
        },
        "id": "wDBGhFsex4lG",
        "outputId": "75440edc-07a7-411b-b542-567bc0be2ff8"
      },
      "source": [
        "a.ravel()  # Делает массив плоским, но сам массив не изменяется\n"
      ],
      "execution_count": null,
      "outputs": [
        {
          "output_type": "execute_result",
          "data": {
            "text/plain": [
              "array([  0,   1,   2,  10,  12,  13, 100, 101, 102, 110, 112, 113])"
            ]
          },
          "metadata": {},
          "execution_count": 72
        }
      ]
    },
    {
      "cell_type": "code",
      "metadata": {
        "ExecuteTime": {
          "end_time": "2020-10-11T07:27:44.310481Z",
          "start_time": "2020-10-11T07:27:44.306481Z"
        },
        "colab": {
          "base_uri": "https://localhost:8080/"
        },
        "id": "K4esrvivx4lG",
        "outputId": "c54f4baf-a623-4b7a-ca3b-0829aabe4c8e"
      },
      "source": [
        "a"
      ],
      "execution_count": null,
      "outputs": [
        {
          "output_type": "execute_result",
          "data": {
            "text/plain": [
              "array([[[  0,   1,   2],\n",
              "        [ 10,  12,  13]],\n",
              "\n",
              "       [[100, 101, 102],\n",
              "        [110, 112, 113]]])"
            ]
          },
          "metadata": {},
          "execution_count": 73
        }
      ]
    },
    {
      "cell_type": "code",
      "metadata": {
        "ExecuteTime": {
          "end_time": "2020-10-11T07:27:44.363484Z",
          "start_time": "2020-10-11T07:27:44.359484Z"
        },
        "colab": {
          "base_uri": "https://localhost:8080/"
        },
        "id": "kbLyReHHx4lH",
        "outputId": "6e86ec8c-8b8a-4bfb-85f4-8d508437ada2"
      },
      "source": [
        "a.shape = (6, 2)  # Изменение формы, сам массив изменяется\n",
        "a\n"
      ],
      "execution_count": null,
      "outputs": [
        {
          "output_type": "execute_result",
          "data": {
            "text/plain": [
              "array([[  0,   1],\n",
              "       [  2,  10],\n",
              "       [ 12,  13],\n",
              "       [100, 101],\n",
              "       [102, 110],\n",
              "       [112, 113]])"
            ]
          },
          "metadata": {},
          "execution_count": 74
        }
      ]
    },
    {
      "cell_type": "code",
      "metadata": {
        "ExecuteTime": {
          "end_time": "2020-10-11T07:27:44.415487Z",
          "start_time": "2020-10-11T07:27:44.411487Z"
        },
        "colab": {
          "base_uri": "https://localhost:8080/"
        },
        "id": "MOJR2rr8x4lH",
        "outputId": "06e8a580-11ba-47d5-a229-133b7d102092"
      },
      "source": [
        "a.transpose()  # Транспонирование, сам массив не изменяется"
      ],
      "execution_count": null,
      "outputs": [
        {
          "output_type": "execute_result",
          "data": {
            "text/plain": [
              "array([[  0,   2,  12, 100, 102, 112],\n",
              "       [  1,  10,  13, 101, 110, 113]])"
            ]
          },
          "metadata": {},
          "execution_count": 75
        }
      ]
    },
    {
      "cell_type": "code",
      "metadata": {
        "ExecuteTime": {
          "end_time": "2020-10-11T07:27:44.467490Z",
          "start_time": "2020-10-11T07:27:44.463490Z"
        },
        "colab": {
          "base_uri": "https://localhost:8080/"
        },
        "id": "XlO-Bn2Hx4lI",
        "outputId": "b8c3aaef-2ffc-43a7-9cfb-850d3c49fdf7"
      },
      "source": [
        "a"
      ],
      "execution_count": null,
      "outputs": [
        {
          "output_type": "execute_result",
          "data": {
            "text/plain": [
              "array([[  0,   1],\n",
              "       [  2,  10],\n",
              "       [ 12,  13],\n",
              "       [100, 101],\n",
              "       [102, 110],\n",
              "       [112, 113]])"
            ]
          },
          "metadata": {},
          "execution_count": 76
        }
      ]
    },
    {
      "cell_type": "code",
      "metadata": {
        "ExecuteTime": {
          "end_time": "2020-10-11T07:27:44.518493Z",
          "start_time": "2020-10-11T07:27:44.514493Z"
        },
        "colab": {
          "base_uri": "https://localhost:8080/"
        },
        "id": "nrHfG5Uhx4lI",
        "outputId": "a924b880-c27b-4b08-e86b-0316f853411c"
      },
      "source": [
        "a.reshape((3, 4))  # Изменение формы, но сам массив не изменяется"
      ],
      "execution_count": null,
      "outputs": [
        {
          "output_type": "execute_result",
          "data": {
            "text/plain": [
              "array([[  0,   1,   2,  10],\n",
              "       [ 12,  13, 100, 101],\n",
              "       [102, 110, 112, 113]])"
            ]
          },
          "metadata": {},
          "execution_count": 77
        }
      ]
    },
    {
      "cell_type": "code",
      "metadata": {
        "ExecuteTime": {
          "end_time": "2020-10-11T07:27:44.569496Z",
          "start_time": "2020-10-11T07:27:44.565496Z"
        },
        "colab": {
          "base_uri": "https://localhost:8080/"
        },
        "id": "8W956boxx4lI",
        "outputId": "88d1f812-a147-4ef1-ec8c-bb21fa406f1b"
      },
      "source": [
        "a"
      ],
      "execution_count": null,
      "outputs": [
        {
          "output_type": "execute_result",
          "data": {
            "text/plain": [
              "array([[  0,   1],\n",
              "       [  2,  10],\n",
              "       [ 12,  13],\n",
              "       [100, 101],\n",
              "       [102, 110],\n",
              "       [112, 113]])"
            ]
          },
          "metadata": {},
          "execution_count": 78
        }
      ]
    },
    {
      "cell_type": "markdown",
      "metadata": {
        "id": "SF68Sk9hx4lI"
      },
      "source": [
        "### Объединение и разбиение массивов\n",
        "Несколько массивов могут быть объединены вместе вдоль разных осей с помощью функций `hstack` и `vstack`.\n",
        "\n",
        "`hstack()` — объединяет массивы по вторым осям (горизонтально),\n",
        "\n",
        "`vstack()` — по первым (вертикально).\n",
        "\n",
        "Есть функция `stack()` для объединения по любой оси и другие функции."
      ]
    },
    {
      "cell_type": "code",
      "metadata": {
        "ExecuteTime": {
          "end_time": "2020-10-11T07:27:44.668502Z",
          "start_time": "2020-10-11T07:27:44.664502Z"
        },
        "colab": {
          "base_uri": "https://localhost:8080/"
        },
        "id": "tDPfGMkvx4lI",
        "outputId": "3fe81d23-5ebd-4dab-86ba-ede4985bab3e"
      },
      "source": [
        "a = np.array([[1, 2], [3, 4]])\n",
        "a"
      ],
      "execution_count": null,
      "outputs": [
        {
          "output_type": "execute_result",
          "data": {
            "text/plain": [
              "array([[1, 2],\n",
              "       [3, 4]])"
            ]
          },
          "metadata": {},
          "execution_count": 79
        }
      ]
    },
    {
      "cell_type": "code",
      "metadata": {
        "ExecuteTime": {
          "end_time": "2020-10-11T07:27:44.721505Z",
          "start_time": "2020-10-11T07:27:44.716505Z"
        },
        "colab": {
          "base_uri": "https://localhost:8080/"
        },
        "id": "oOnMaXYTx4lI",
        "outputId": "94dc7e21-e31d-4a74-9c7e-3192bec59a65"
      },
      "source": [
        "b = np.array([[5, 6], [7, 8]])\n",
        "b"
      ],
      "execution_count": null,
      "outputs": [
        {
          "output_type": "execute_result",
          "data": {
            "text/plain": [
              "array([[5, 6],\n",
              "       [7, 8]])"
            ]
          },
          "metadata": {},
          "execution_count": 80
        }
      ]
    },
    {
      "cell_type": "code",
      "metadata": {
        "ExecuteTime": {
          "end_time": "2020-10-11T07:27:44.772508Z",
          "start_time": "2020-10-11T07:27:44.768508Z"
        },
        "colab": {
          "base_uri": "https://localhost:8080/"
        },
        "id": "B00Opa7Vx4lJ",
        "outputId": "a12a3713-3e9a-4988-e3f1-513f04d135a4"
      },
      "source": [
        "np.vstack((a, b))"
      ],
      "execution_count": null,
      "outputs": [
        {
          "output_type": "execute_result",
          "data": {
            "text/plain": [
              "array([[1, 2],\n",
              "       [3, 4],\n",
              "       [5, 6],\n",
              "       [7, 8]])"
            ]
          },
          "metadata": {},
          "execution_count": 81
        }
      ]
    },
    {
      "cell_type": "code",
      "metadata": {
        "ExecuteTime": {
          "end_time": "2020-10-11T07:27:44.823511Z",
          "start_time": "2020-10-11T07:27:44.819511Z"
        },
        "colab": {
          "base_uri": "https://localhost:8080/"
        },
        "id": "j9hMnnw1x4lJ",
        "outputId": "99ea49a8-adcc-4756-ea03-3463dd1bc579"
      },
      "source": [
        "np.hstack((a, b))\n"
      ],
      "execution_count": null,
      "outputs": [
        {
          "output_type": "execute_result",
          "data": {
            "text/plain": [
              "array([[1, 2, 5, 6],\n",
              "       [3, 4, 7, 8]])"
            ]
          },
          "metadata": {},
          "execution_count": 82
        }
      ]
    },
    {
      "cell_type": "code",
      "metadata": {
        "ExecuteTime": {
          "end_time": "2020-10-11T07:27:44.874514Z",
          "start_time": "2020-10-11T07:27:44.870513Z"
        },
        "colab": {
          "base_uri": "https://localhost:8080/"
        },
        "id": "THZqCPylx4lJ",
        "outputId": "4a12316d-bca5-40c7-9adf-90aaeb289424"
      },
      "source": [
        "np.column_stack((a, b))"
      ],
      "execution_count": null,
      "outputs": [
        {
          "output_type": "execute_result",
          "data": {
            "text/plain": [
              "array([[1, 2, 5, 6],\n",
              "       [3, 4, 7, 8]])"
            ]
          },
          "metadata": {},
          "execution_count": 83
        }
      ]
    },
    {
      "cell_type": "code",
      "metadata": {
        "ExecuteTime": {
          "end_time": "2020-10-11T07:27:44.927517Z",
          "start_time": "2020-10-11T07:27:44.923516Z"
        },
        "colab": {
          "base_uri": "https://localhost:8080/"
        },
        "id": "Hmfbp2-Fx4lK",
        "outputId": "8b082ed4-bbca-4771-e57d-0135ddbb9f16"
      },
      "source": [
        "np.row_stack((a, b))"
      ],
      "execution_count": null,
      "outputs": [
        {
          "output_type": "execute_result",
          "data": {
            "text/plain": [
              "array([[1, 2],\n",
              "       [3, 4],\n",
              "       [5, 6],\n",
              "       [7, 8]])"
            ]
          },
          "metadata": {},
          "execution_count": 84
        }
      ]
    },
    {
      "cell_type": "markdown",
      "metadata": {
        "id": "GpL08udBx4lK"
      },
      "source": [
        "Используя `hsplit()` можно разбить массив по горизонтальной (второй, столбцы) оси, указав либо число возвращаемых массивов одинаковой формы, либо номера столбцов, после которых массив разрезается \"ножницами\".\n",
        "\n",
        "Аналогично `vsplit()` разрезает массивы по вертикальной (первой, строки) оси."
      ]
    },
    {
      "cell_type": "code",
      "metadata": {
        "ExecuteTime": {
          "end_time": "2020-10-11T07:27:45.038523Z",
          "start_time": "2020-10-11T07:27:45.035523Z"
        },
        "id": "--7APviUx4lK"
      },
      "source": [
        "a = np.arange(12).reshape((2, 6))"
      ],
      "execution_count": null,
      "outputs": []
    },
    {
      "cell_type": "code",
      "metadata": {
        "ExecuteTime": {
          "end_time": "2020-10-11T07:27:45.088526Z",
          "start_time": "2020-10-11T07:27:45.085526Z"
        },
        "colab": {
          "base_uri": "https://localhost:8080/"
        },
        "id": "WgreWNBkx4lK",
        "outputId": "8872189a-a969-491b-d1d2-bebce117d9e4"
      },
      "source": [
        "a"
      ],
      "execution_count": null,
      "outputs": [
        {
          "output_type": "execute_result",
          "data": {
            "text/plain": [
              "array([[ 0,  1,  2,  3,  4,  5],\n",
              "       [ 6,  7,  8,  9, 10, 11]])"
            ]
          },
          "metadata": {},
          "execution_count": 86
        }
      ]
    },
    {
      "cell_type": "code",
      "metadata": {
        "ExecuteTime": {
          "end_time": "2020-10-11T07:27:45.139529Z",
          "start_time": "2020-10-11T07:27:45.134529Z"
        },
        "id": "cTHdnO6fx4lK"
      },
      "source": [
        "z1,z2,z3=np.hsplit(a, 3)  # Разбить на 3 части по столбцам"
      ],
      "execution_count": null,
      "outputs": []
    },
    {
      "cell_type": "code",
      "source": [
        "z1"
      ],
      "metadata": {
        "colab": {
          "base_uri": "https://localhost:8080/"
        },
        "id": "uEGib9HdLA-D",
        "outputId": "7d4c1be0-6d02-485a-b18f-a8902f823721"
      },
      "execution_count": null,
      "outputs": [
        {
          "output_type": "execute_result",
          "data": {
            "text/plain": [
              "array([[0, 1],\n",
              "       [6, 7]])"
            ]
          },
          "metadata": {},
          "execution_count": 88
        }
      ]
    },
    {
      "cell_type": "code",
      "metadata": {
        "ExecuteTime": {
          "end_time": "2020-10-11T07:27:45.190532Z",
          "start_time": "2020-10-11T07:27:45.186532Z"
        },
        "colab": {
          "base_uri": "https://localhost:8080/"
        },
        "id": "9r5MTV_Gx4lL",
        "outputId": "d75d01d5-bb3d-4040-9a64-f51efbaf26bd"
      },
      "source": [
        "np.hsplit(a, (3, 4))  # Разрезать a после третьего и четвёртого столбца"
      ],
      "execution_count": null,
      "outputs": [
        {
          "output_type": "execute_result",
          "data": {
            "text/plain": [
              "[array([[0, 1, 2],\n",
              "        [6, 7, 8]]),\n",
              " array([[3],\n",
              "        [9]]),\n",
              " array([[ 4,  5],\n",
              "        [10, 11]])]"
            ]
          },
          "metadata": {},
          "execution_count": 89
        }
      ]
    },
    {
      "cell_type": "code",
      "metadata": {
        "ExecuteTime": {
          "end_time": "2020-10-11T07:27:45.245535Z",
          "start_time": "2020-10-11T07:27:45.241535Z"
        },
        "colab": {
          "base_uri": "https://localhost:8080/"
        },
        "id": "ir_Qyv4nx4lM",
        "outputId": "15fb1084-4764-4ce2-f02f-8582f8aefc5a"
      },
      "source": [
        "np.vsplit(a, 2)  # Разбить на 2 части по строкам"
      ],
      "execution_count": null,
      "outputs": [
        {
          "output_type": "execute_result",
          "data": {
            "text/plain": [
              "[array([[0, 1, 2, 3, 4, 5]]), array([[ 6,  7,  8,  9, 10, 11]])]"
            ]
          },
          "metadata": {},
          "execution_count": 90
        }
      ]
    },
    {
      "cell_type": "markdown",
      "metadata": {
        "id": "BqyEQv9fx4lM"
      },
      "source": [
        "## Копии и представления"
      ]
    },
    {
      "cell_type": "markdown",
      "metadata": {
        "id": "SWt_JF96x4lM"
      },
      "source": [
        "Простое присваивание __не создает__ копии массива:"
      ]
    },
    {
      "cell_type": "code",
      "metadata": {
        "ExecuteTime": {
          "end_time": "2020-10-11T07:27:45.384543Z",
          "start_time": "2020-10-11T07:27:45.381543Z"
        },
        "id": "pGa9gTyPx4lM"
      },
      "source": [
        "a = np.arange(12)"
      ],
      "execution_count": null,
      "outputs": []
    },
    {
      "cell_type": "code",
      "metadata": {
        "ExecuteTime": {
          "end_time": "2020-10-11T07:27:45.436546Z",
          "start_time": "2020-10-11T07:27:45.432546Z"
        },
        "colab": {
          "base_uri": "https://localhost:8080/"
        },
        "id": "X1oWQf60x4lM",
        "outputId": "3f9122d6-10d4-48f1-ce24-e83f586280b1"
      },
      "source": [
        "a"
      ],
      "execution_count": null,
      "outputs": [
        {
          "output_type": "execute_result",
          "data": {
            "text/plain": [
              "array([ 0,  1,  2,  3,  4,  5,  6,  7,  8,  9, 10, 11])"
            ]
          },
          "metadata": {},
          "execution_count": 92
        }
      ]
    },
    {
      "cell_type": "code",
      "metadata": {
        "ExecuteTime": {
          "end_time": "2020-10-11T07:27:45.486549Z",
          "start_time": "2020-10-11T07:27:45.483549Z"
        },
        "id": "v9hmgMsQx4lM"
      },
      "source": [
        "b = a"
      ],
      "execution_count": null,
      "outputs": []
    },
    {
      "cell_type": "code",
      "metadata": {
        "ExecuteTime": {
          "end_time": "2020-10-11T07:27:45.538552Z",
          "start_time": "2020-10-11T07:27:45.534551Z"
        },
        "colab": {
          "base_uri": "https://localhost:8080/"
        },
        "id": "OhN0PfxSx4lM",
        "outputId": "00fcbbb9-e59a-451a-83df-31c22ce68d0b"
      },
      "source": [
        "b"
      ],
      "execution_count": null,
      "outputs": [
        {
          "output_type": "execute_result",
          "data": {
            "text/plain": [
              "array([ 0,  1,  2,  3,  4,  5,  6,  7,  8,  9, 10, 11])"
            ]
          },
          "metadata": {},
          "execution_count": 94
        }
      ]
    },
    {
      "cell_type": "markdown",
      "metadata": {
        "id": "SoWYM6Clx4lM"
      },
      "source": [
        "__a__ и __b__ это два имени для одного и того же объекта ndarray, нового объекта не было создано.\n",
        "\n",
        "Поменяв __a__, поменяется и __b__.\n",
        "\n",
        "Чтобы проверить что это один и тот же объект можно использовать команду `is`\n",
        "\n",
        "Она вернет *истину* (True) или *ложь* (False)"
      ]
    },
    {
      "cell_type": "code",
      "metadata": {
        "ExecuteTime": {
          "end_time": "2020-10-11T07:27:45.635557Z",
          "start_time": "2020-10-11T07:27:45.631557Z"
        },
        "colab": {
          "base_uri": "https://localhost:8080/"
        },
        "id": "3vFdj1tCx4lM",
        "outputId": "1c91cf16-41c1-4390-ff7a-f1b713bb2f3f"
      },
      "source": [
        "b is a # проверим что это один и тот же объект"
      ],
      "execution_count": null,
      "outputs": [
        {
          "output_type": "execute_result",
          "data": {
            "text/plain": [
              "True"
            ]
          },
          "metadata": {},
          "execution_count": 95
        }
      ]
    },
    {
      "cell_type": "code",
      "metadata": {
        "ExecuteTime": {
          "end_time": "2020-10-11T07:27:45.687560Z",
          "start_time": "2020-10-11T07:27:45.683560Z"
        },
        "colab": {
          "base_uri": "https://localhost:8080/"
        },
        "id": "Z-jcwTIrx4lN",
        "outputId": "16148fcc-cbe6-40dc-b1d5-c3628b5fc826"
      },
      "source": [
        "b.shape"
      ],
      "execution_count": null,
      "outputs": [
        {
          "output_type": "execute_result",
          "data": {
            "text/plain": [
              "(12,)"
            ]
          },
          "metadata": {},
          "execution_count": 96
        }
      ]
    },
    {
      "cell_type": "code",
      "metadata": {
        "ExecuteTime": {
          "end_time": "2020-10-11T07:27:45.738563Z",
          "start_time": "2020-10-11T07:27:45.736563Z"
        },
        "id": "fRgRQMqkx4lN"
      },
      "source": [
        "b.shape = (3,4) # изменим массив b"
      ],
      "execution_count": null,
      "outputs": []
    },
    {
      "cell_type": "code",
      "metadata": {
        "ExecuteTime": {
          "end_time": "2020-10-11T07:27:45.791566Z",
          "start_time": "2020-10-11T07:27:45.787566Z"
        },
        "colab": {
          "base_uri": "https://localhost:8080/"
        },
        "id": "nmjJ40fnx4lN",
        "outputId": "d2ddaed9-30bb-48a5-b081-c1516b7e833a"
      },
      "source": [
        "a.shape # при этом изменился и массив а"
      ],
      "execution_count": null,
      "outputs": [
        {
          "output_type": "execute_result",
          "data": {
            "text/plain": [
              "(3, 4)"
            ]
          },
          "metadata": {},
          "execution_count": 98
        }
      ]
    },
    {
      "cell_type": "markdown",
      "metadata": {
        "id": "LlhQ5Tidx4lN"
      },
      "source": [
        "`view()` создаст __представление__ массива __a__.\n",
        "\n",
        "Представление - это другой объект, он находится в другом месте памяти, но он связан с исходным массивом. Если поменяем массив __a__, то и его представление __c__ тоже поменяется.\n",
        "\n",
        "Себе вы можете представить это так, мы смотрим на стол одним глазом и другим. Глаза разные, находятся в разных местах, но если стол поменяется, то обоими глазами мы увидим эти изменения.\n",
        "\n"
      ]
    },
    {
      "cell_type": "code",
      "metadata": {
        "ExecuteTime": {
          "end_time": "2020-10-11T07:27:45.887572Z",
          "start_time": "2020-10-11T07:27:45.884571Z"
        },
        "id": "9fPw1L8ix4lN"
      },
      "source": [
        "c = a.view()"
      ],
      "execution_count": null,
      "outputs": []
    },
    {
      "cell_type": "code",
      "source": [
        "c"
      ],
      "metadata": {
        "colab": {
          "base_uri": "https://localhost:8080/"
        },
        "id": "zOw52qqnMI04",
        "outputId": "129910a0-8181-4186-d22a-8b1fbf4d9977"
      },
      "execution_count": null,
      "outputs": [
        {
          "output_type": "execute_result",
          "data": {
            "text/plain": [
              "array([[ 0,  1,  2,  3],\n",
              "       [ 4,  5,  6,  7],\n",
              "       [ 8,  9, 10, 11]])"
            ]
          },
          "metadata": {},
          "execution_count": 100
        }
      ]
    },
    {
      "cell_type": "code",
      "metadata": {
        "ExecuteTime": {
          "end_time": "2020-10-11T07:27:45.939575Z",
          "start_time": "2020-10-11T07:27:45.935574Z"
        },
        "colab": {
          "base_uri": "https://localhost:8080/"
        },
        "id": "28DCmJqYx4lN",
        "outputId": "5e9770b6-3f87-41c0-f8d9-a92481b6b890"
      },
      "source": [
        "c is a"
      ],
      "execution_count": null,
      "outputs": [
        {
          "output_type": "execute_result",
          "data": {
            "text/plain": [
              "False"
            ]
          },
          "metadata": {},
          "execution_count": 101
        }
      ]
    },
    {
      "cell_type": "code",
      "metadata": {
        "ExecuteTime": {
          "end_time": "2020-10-11T07:27:45.993578Z",
          "start_time": "2020-10-11T07:27:45.989577Z"
        },
        "colab": {
          "base_uri": "https://localhost:8080/"
        },
        "id": "irx-10Czx4lO",
        "outputId": "0d816631-574a-4357-e864-3b98b25c0e98"
      },
      "source": [
        "a[0,0]=100500 # изменим массив a\n",
        "c # изменилось и его представление c"
      ],
      "execution_count": null,
      "outputs": [
        {
          "output_type": "execute_result",
          "data": {
            "text/plain": [
              "array([[100500,      1,      2,      3],\n",
              "       [     4,      5,      6,      7],\n",
              "       [     8,      9,     10,     11]])"
            ]
          },
          "metadata": {},
          "execution_count": 102
        }
      ]
    },
    {
      "cell_type": "code",
      "metadata": {
        "ExecuteTime": {
          "end_time": "2020-10-11T07:27:46.047581Z",
          "start_time": "2020-10-11T07:27:46.043581Z"
        },
        "colab": {
          "base_uri": "https://localhost:8080/"
        },
        "id": "FQBga6yyx4lO",
        "outputId": "a92eacff-adf3-4d7f-ef8c-15ec923840cd"
      },
      "source": [
        "c[1,1]=-100500 # поменяем с\n",
        "c # оно конечно изменилось"
      ],
      "execution_count": null,
      "outputs": [
        {
          "output_type": "execute_result",
          "data": {
            "text/plain": [
              "array([[ 100500,       1,       2,       3],\n",
              "       [      4, -100500,       6,       7],\n",
              "       [      8,       9,      10,      11]])"
            ]
          },
          "metadata": {},
          "execution_count": 103
        }
      ]
    },
    {
      "cell_type": "code",
      "metadata": {
        "ExecuteTime": {
          "end_time": "2020-10-11T07:27:46.100584Z",
          "start_time": "2020-10-11T07:27:46.096584Z"
        },
        "colab": {
          "base_uri": "https://localhost:8080/"
        },
        "id": "Xl19kI9Fx4lO",
        "outputId": "33a3226a-bd35-4991-bbca-cd4ed07e7380"
      },
      "source": [
        "a # и а тоже изменилось"
      ],
      "execution_count": null,
      "outputs": [
        {
          "output_type": "execute_result",
          "data": {
            "text/plain": [
              "array([[ 100500,       1,       2,       3],\n",
              "       [      4, -100500,       6,       7],\n",
              "       [      8,       9,      10,      11]])"
            ]
          },
          "metadata": {},
          "execution_count": 104
        }
      ]
    },
    {
      "cell_type": "markdown",
      "metadata": {
        "id": "SnFM0QdNx4lP"
      },
      "source": [
        "Если нужно создать копию массива, которая будет независима от самого массива, но содержать те же данные, то используем `copy()`.\n"
      ]
    },
    {
      "cell_type": "code",
      "metadata": {
        "ExecuteTime": {
          "end_time": "2020-10-11T07:27:46.197589Z",
          "start_time": "2020-10-11T07:27:46.193589Z"
        },
        "colab": {
          "base_uri": "https://localhost:8080/"
        },
        "id": "djmqALDax4lP",
        "outputId": "c67c444d-573a-414b-ffa7-924e49ad834d"
      },
      "source": [
        "d = a.copy()  # создается новый объект массива\n",
        "d           # данные в нем такие же"
      ],
      "execution_count": null,
      "outputs": [
        {
          "output_type": "execute_result",
          "data": {
            "text/plain": [
              "array([[ 100500,       1,       2,       3],\n",
              "       [      4, -100500,       6,       7],\n",
              "       [      8,       9,      10,      11]])"
            ]
          },
          "metadata": {},
          "execution_count": 105
        }
      ]
    },
    {
      "cell_type": "code",
      "metadata": {
        "ExecuteTime": {
          "end_time": "2020-10-11T07:27:46.249592Z",
          "start_time": "2020-10-11T07:27:46.246592Z"
        },
        "colab": {
          "base_uri": "https://localhost:8080/"
        },
        "id": "gucb7lWrx4lP",
        "outputId": "c761197d-3a41-4bf2-ee0a-b604c909e73b"
      },
      "source": [
        "d is a # Это тот же объект? Нет"
      ],
      "execution_count": null,
      "outputs": [
        {
          "output_type": "execute_result",
          "data": {
            "text/plain": [
              "False"
            ]
          },
          "metadata": {},
          "execution_count": 106
        }
      ]
    },
    {
      "cell_type": "code",
      "metadata": {
        "ExecuteTime": {
          "end_time": "2020-10-11T07:27:46.304595Z",
          "start_time": "2020-10-11T07:27:46.300595Z"
        },
        "colab": {
          "base_uri": "https://localhost:8080/"
        },
        "id": "ozht6qwqx4lP",
        "outputId": "0cd077fc-2974-4264-e39a-81e0e9155a89"
      },
      "source": [
        "a[0,0]=-1 # изменим массив a\n",
        "a"
      ],
      "execution_count": null,
      "outputs": [
        {
          "output_type": "execute_result",
          "data": {
            "text/plain": [
              "array([[     -1,       1,       2,       3],\n",
              "       [      4, -100500,       6,       7],\n",
              "       [      8,       9,      10,      11]])"
            ]
          },
          "metadata": {},
          "execution_count": 107
        }
      ]
    },
    {
      "cell_type": "code",
      "metadata": {
        "ExecuteTime": {
          "end_time": "2020-10-11T07:27:46.357599Z",
          "start_time": "2020-10-11T07:27:46.353598Z"
        },
        "colab": {
          "base_uri": "https://localhost:8080/"
        },
        "id": "oloEwvKrx4lP",
        "outputId": "bf6d465f-c0a7-4d8d-9cf3-0fedccd2f76e"
      },
      "source": [
        "d        # изменился ли массив d? Нет."
      ],
      "execution_count": null,
      "outputs": [
        {
          "output_type": "execute_result",
          "data": {
            "text/plain": [
              "array([[ 100500,       1,       2,       3],\n",
              "       [      4, -100500,       6,       7],\n",
              "       [      8,       9,      10,      11]])"
            ]
          },
          "metadata": {},
          "execution_count": 108
        }
      ]
    },
    {
      "cell_type": "markdown",
      "metadata": {
        "id": "vQ7m_63Jx4lQ"
      },
      "source": [
        "### Случайные числа в numpy\n",
        "\n",
        "Очень часто для работы нужны *случайные* числа. Это числа, которые каждый раз принимают разные значения. Сегодня одно, завтра другое. На случайности построено много алгоритмов, а иногда качество такой случайности очень сильно влияет на работу.\n",
        "\n",
        "В обычных компьютерах нет настоящих случайных чисел, это слишком дорого. Поэтому все пользуются __псевдослучайными__ числами, которые похожи на случайные, но на самом деле были один раз записаны и сохранены. В компьютерах есть большие таблицы псевдослучайных чисел, из которых они и выбираются (таблицы могут создаваться специальными алгоритмами-генераторами, см. например, [Вихрь Мерсена]( https://ru.wikipedia.org/wiki/Вихрь_Мерсенна) ).\n",
        "\n",
        "Случайные числа описываются *распределением*, функцией, которая примерно показывает сколько разных случайных чисел каждого значения используется.\n",
        "\n",
        "* Равномерное распределение (на отрезке [0 , 1]) означает что есть примерно одинаковое количество чисел каждого значения из этого отрезка. Например, 1000 штук со значением 0, 1005 штук со значением 0.1, 998 штук со значением 0.2 и т.д.\n",
        "\n",
        "* Нормальное распределение  - если нарисовать функцию такого распределения, то она похожа на колокольчик, который расположен в нуле (точная формула нам сейчас не интересна). Это значит, что есть очень много чисел близких к нулю, но есть мало больших чисел, и чем больше число, тем меньше таких чисел в распределении.\n",
        "\n",
        "Случайные числа из распределений выбираются наугад.\n",
        "\n",
        "Для работы со случайными числами нам потребуются модули [`random`](https://pythonworld.ru/moduli/modul-random.html) и [`numpy.random`](https://pythonworld.ru/numpy/3.html).\n"
      ]
    },
    {
      "cell_type": "code",
      "metadata": {
        "ExecuteTime": {
          "end_time": "2020-10-11T07:27:46.458604Z",
          "start_time": "2020-10-11T07:27:46.456604Z"
        },
        "id": "GkbEUhzPx4lQ"
      },
      "source": [
        "import random"
      ],
      "execution_count": null,
      "outputs": []
    },
    {
      "cell_type": "code",
      "metadata": {
        "ExecuteTime": {
          "end_time": "2020-10-11T07:27:46.511607Z",
          "start_time": "2020-10-11T07:27:46.508607Z"
        },
        "id": "SN0fx5t3x4lQ"
      },
      "source": [
        "import numpy as np\n",
        "import numpy.random as rand"
      ],
      "execution_count": null,
      "outputs": []
    },
    {
      "cell_type": "markdown",
      "metadata": {
        "id": "yY_YWvA-x4lQ"
      },
      "source": [
        "Самый простой способ задать массив со случайными элементами - использовать функцию `sample()` (или `random()`, или `random_sample()`, или `ranf()` - это всё одна и та же функция). Ей мы сообщаем размеры массива, который хотим создать. Эта функция берет случайные числа из равномерного распределения на интервале [0, 1) (это значит, что ноль может выпасть, а единичка нет)\n",
        "\n",
        "Позапускайте код ниже несколько раз, каждый раз будут другие числа возвращаться.\n",
        "\n",
        "Если нужны случайные числа из другого диапазона, то их нужно сделать из этих. Сместить, растянуть диапазон."
      ]
    },
    {
      "cell_type": "code",
      "metadata": {
        "ExecuteTime": {
          "end_time": "2020-10-11T07:27:46.611613Z",
          "start_time": "2020-10-11T07:27:46.606613Z"
        },
        "colab": {
          "base_uri": "https://localhost:8080/"
        },
        "id": "1jN-g9Oex4lQ",
        "outputId": "ff0adb55-ba49-4401-ec9c-d7fe99f910b7"
      },
      "source": [
        "np.random.sample() # одно случайное число"
      ],
      "execution_count": null,
      "outputs": [
        {
          "output_type": "execute_result",
          "data": {
            "text/plain": [
              "0.74353941459214"
            ]
          },
          "metadata": {},
          "execution_count": 133
        }
      ]
    },
    {
      "cell_type": "code",
      "metadata": {
        "ExecuteTime": {
          "end_time": "2020-10-11T07:27:46.664616Z",
          "start_time": "2020-10-11T07:27:46.660616Z"
        },
        "colab": {
          "base_uri": "https://localhost:8080/"
        },
        "id": "x14CMhFHx4lR",
        "outputId": "22dcec16-1d81-4bf8-caff-a3276c147433"
      },
      "source": [
        "a=-3\n",
        "b=5\n",
        "a+(b-a)*np.random.sample() # одно случайное число из диапазона [a,b)"
      ],
      "execution_count": null,
      "outputs": [
        {
          "output_type": "execute_result",
          "data": {
            "text/plain": [
              "4.621155193772334"
            ]
          },
          "metadata": {},
          "execution_count": 136
        }
      ]
    },
    {
      "cell_type": "code",
      "metadata": {
        "ExecuteTime": {
          "end_time": "2020-10-11T07:27:46.718619Z",
          "start_time": "2020-10-11T07:27:46.714619Z"
        },
        "colab": {
          "base_uri": "https://localhost:8080/"
        },
        "id": "maoPkimvx4lR",
        "outputId": "2880a9d2-d7ce-47c2-f37a-5de09c37dc2f"
      },
      "source": [
        "np.random.sample(5) # Массив из 5 случайных чисел"
      ],
      "execution_count": null,
      "outputs": [
        {
          "output_type": "execute_result",
          "data": {
            "text/plain": [
              "array([0.70668719, 0.36187707, 0.0351059 , 0.85505825, 0.65725351])"
            ]
          },
          "metadata": {},
          "execution_count": 138
        }
      ]
    },
    {
      "cell_type": "code",
      "metadata": {
        "ExecuteTime": {
          "end_time": "2020-10-11T07:27:46.771622Z",
          "start_time": "2020-10-11T07:27:46.766622Z"
        },
        "colab": {
          "base_uri": "https://localhost:8080/"
        },
        "id": "11TB-CTSx4lR",
        "outputId": "8c024629-59cc-4278-fbe4-1d8c332b390e"
      },
      "source": [
        "np.random.sample((1, 1, 4)) # 4 случайных числа в трехмерном массиве"
      ],
      "execution_count": null,
      "outputs": [
        {
          "output_type": "execute_result",
          "data": {
            "text/plain": [
              "array([[[0.0104217 , 0.07455674, 0.24462921, 0.13330475]]])"
            ]
          },
          "metadata": {},
          "execution_count": 140
        }
      ]
    },
    {
      "cell_type": "markdown",
      "metadata": {
        "id": "jPuk1iWQx4lR"
      },
      "source": [
        "С помощью функции `randint()` или `random_integers()` можно создать массив из __целых__ случайных чисел.\n",
        "Указываем аргументы: `low`, `high`, `size`: от какого `low`, до какого `high` числа (`randint` не включает в себя это число, а `random_integers` включает), и `size` - размеры массива."
      ]
    },
    {
      "cell_type": "code",
      "metadata": {
        "ExecuteTime": {
          "end_time": "2020-10-11T07:27:46.866628Z",
          "start_time": "2020-10-11T07:27:46.861627Z"
        },
        "colab": {
          "base_uri": "https://localhost:8080/"
        },
        "id": "ojdbGpVEx4lS",
        "outputId": "60494f35-541b-4a14-ae21-6cb879fca4da"
      },
      "source": [
        "np.random.randint(0, 3, 10)# массив из 10 случайных целых чисел от 0 до 2 (3 не включается)"
      ],
      "execution_count": null,
      "outputs": [
        {
          "output_type": "execute_result",
          "data": {
            "text/plain": [
              "array([2, 1, 2, 2, 1, 1, 0, 1, 2, 1])"
            ]
          },
          "metadata": {},
          "execution_count": 144
        }
      ]
    },
    {
      "cell_type": "code",
      "metadata": {
        "ExecuteTime": {
          "end_time": "2020-10-11T07:27:46.919631Z",
          "start_time": "2020-10-11T07:27:46.912630Z"
        },
        "colab": {
          "base_uri": "https://localhost:8080/"
        },
        "id": "Puhqw8tWx4lS",
        "outputId": "33602f39-c53e-4f64-be95-299ff6a4cf80"
      },
      "source": [
        "np.random.random_integers(0, 3, 10)# массив из 10 случайных целых чисел от 0 до 3 (3 включается)"
      ],
      "execution_count": null,
      "outputs": [
        {
          "output_type": "stream",
          "name": "stderr",
          "text": [
            "<ipython-input-145-b8d9942d7909>:1: DeprecationWarning: This function is deprecated. Please call randint(0, 3 + 1) instead\n",
            "  np.random.random_integers(0, 3, 10)# массив из 10 случайных целых чисел от 0 до 3 (3 включается)\n"
          ]
        },
        {
          "output_type": "execute_result",
          "data": {
            "text/plain": [
              "array([2, 0, 3, 3, 3, 2, 3, 0, 3, 1])"
            ]
          },
          "metadata": {},
          "execution_count": 145
        }
      ]
    },
    {
      "cell_type": "code",
      "metadata": {
        "ExecuteTime": {
          "end_time": "2020-10-11T07:27:46.968633Z",
          "start_time": "2020-10-11T07:27:46.964633Z"
        },
        "colab": {
          "base_uri": "https://localhost:8080/"
        },
        "id": "9FpdTLM8x4lS",
        "outputId": "8e5f963c-7f67-4535-deb5-1ee441f178d1"
      },
      "source": [
        "np.random.randint(0, 3, (2, 10))# двумерный массив случайных чисел от 0 до 2."
      ],
      "execution_count": null,
      "outputs": [
        {
          "output_type": "execute_result",
          "data": {
            "text/plain": [
              "array([[0, 1, 1, 1, 1, 2, 0, 0, 1, 2],\n",
              "       [0, 1, 2, 1, 1, 2, 1, 1, 0, 1]])"
            ]
          },
          "metadata": {},
          "execution_count": 146
        }
      ]
    },
    {
      "cell_type": "markdown",
      "metadata": {
        "id": "06g8Urtlx4lT"
      },
      "source": [
        "Можно генерировать числа согласно различным распределениям (Гаусса, Парето и другие). Если понадобятся - см. документацию.\n",
        "\n",
        "Чаще всего нужно равномерное распределение, которое можно получить с помощь функции `uniform()` , смысл аргументов такой же как у `random_integers`, начало и конец могут быть дробными."
      ]
    },
    {
      "cell_type": "code",
      "metadata": {
        "ExecuteTime": {
          "end_time": "2020-10-11T07:27:47.066639Z",
          "start_time": "2020-10-11T07:27:47.061639Z"
        },
        "colab": {
          "base_uri": "https://localhost:8080/"
        },
        "id": "W2B_r5o4x4lT",
        "outputId": "474c51b5-2346-4c85-f3a3-7ced3521248f"
      },
      "source": [
        "np.random.uniform(2, 8, (2, 10)) # двумерный массив со случайными числами от 2 до 8"
      ],
      "execution_count": null,
      "outputs": [
        {
          "output_type": "execute_result",
          "data": {
            "text/plain": [
              "array([[6.08695162, 5.25066755, 2.79699494, 3.51923381, 4.66313356,\n",
              "        5.35249944, 6.88318613, 3.90697002, 4.38227056, 7.34100949],\n",
              "       [6.95249725, 2.6401225 , 2.95865525, 5.90731585, 5.41438528,\n",
              "        7.90450204, 6.49495408, 6.81439779, 3.36985928, 5.11228068]])"
            ]
          },
          "metadata": {},
          "execution_count": 149
        }
      ]
    },
    {
      "cell_type": "markdown",
      "metadata": {
        "id": "MjzF7Wdjx4lT"
      },
      "source": [
        "Случайно перемешать массив можно с помощью функции `shuffle()`. Изменится сам массив."
      ]
    },
    {
      "cell_type": "code",
      "metadata": {
        "ExecuteTime": {
          "end_time": "2020-10-11T07:27:47.158644Z",
          "start_time": "2020-10-11T07:27:47.155644Z"
        },
        "id": "5_lcaYDFx4lT"
      },
      "source": [
        "a = np.arange(10)"
      ],
      "execution_count": null,
      "outputs": []
    },
    {
      "cell_type": "code",
      "source": [
        "a=np.random.randint(0,5,(2,3))"
      ],
      "metadata": {
        "id": "yyXtD5Cu-NoC"
      },
      "execution_count": null,
      "outputs": []
    },
    {
      "cell_type": "code",
      "metadata": {
        "ExecuteTime": {
          "end_time": "2020-10-11T07:27:47.208647Z",
          "start_time": "2020-10-11T07:27:47.204647Z"
        },
        "colab": {
          "base_uri": "https://localhost:8080/"
        },
        "id": "A8F05-W1x4lT",
        "outputId": "9a53c0bc-2a1a-4091-c26b-45a2c6fa1fc9"
      },
      "source": [
        "a"
      ],
      "execution_count": null,
      "outputs": [
        {
          "output_type": "execute_result",
          "data": {
            "text/plain": [
              "array([0, 1, 2, 3, 4, 5, 6, 7, 8, 9])"
            ]
          },
          "metadata": {},
          "execution_count": 152
        }
      ]
    },
    {
      "cell_type": "code",
      "metadata": {
        "ExecuteTime": {
          "end_time": "2020-10-11T07:27:47.258650Z",
          "start_time": "2020-10-11T07:27:47.255650Z"
        },
        "id": "U5Xh_rd5x4lU"
      },
      "source": [
        "np.random.shuffle(a)"
      ],
      "execution_count": null,
      "outputs": []
    },
    {
      "cell_type": "code",
      "metadata": {
        "ExecuteTime": {
          "end_time": "2020-10-11T07:27:47.309653Z",
          "start_time": "2020-10-11T07:27:47.305653Z"
        },
        "colab": {
          "base_uri": "https://localhost:8080/"
        },
        "id": "zBzWCVIDx4lV",
        "outputId": "8854faa5-ca31-45ca-fb3d-5ff5b2d9c2c7"
      },
      "source": [
        "a"
      ],
      "execution_count": null,
      "outputs": [
        {
          "output_type": "execute_result",
          "data": {
            "text/plain": [
              "array([2, 0, 7, 5, 4, 9, 3, 6, 8, 1])"
            ]
          },
          "metadata": {},
          "execution_count": 156
        }
      ]
    },
    {
      "cell_type": "markdown",
      "metadata": {
        "id": "X933AJoax4lV"
      },
      "source": [
        "#### Инициализация генератора случайных чисел\n",
        "\n",
        "Случайные числа берутся из таблицы случайных чисел, можно принудительно заставить компьютер брать случайные числа из одной и той же части таблицы, или из разных.\n",
        "\n",
        "Первое может понадобиться, когда хотим, чтобы вычисления были одинаковыми.\n",
        "\n",
        "Установить, с какого места таблицы начинать брать случайные числа можно с помощью `random.seed()`\n",
        "\n",
        "Попробуйте сделать одинаковые и разные места и сравните результаты.\n",
        "\n",
        "Увеличивайте число `seed` в 100 раз, пока не возникнет ошибка, так примерно узнаете какой размер таблицы."
      ]
    },
    {
      "cell_type": "code",
      "metadata": {
        "ExecuteTime": {
          "end_time": "2020-10-11T07:27:47.408659Z",
          "start_time": "2020-10-11T07:27:47.404658Z"
        },
        "colab": {
          "base_uri": "https://localhost:8080/"
        },
        "id": "d93oxv4zx4lV",
        "outputId": "f50f7efc-529c-4830-dd21-c8b300b86d1d"
      },
      "source": [
        "np.random.seed(42) # начинаем с места №1000\n",
        "\n",
        "np.random.random(10) # берем 10 случайных чисел"
      ],
      "execution_count": null,
      "outputs": [
        {
          "output_type": "execute_result",
          "data": {
            "text/plain": [
              "array([0.37454012, 0.95071431, 0.73199394, 0.59865848, 0.15601864,\n",
              "       0.15599452, 0.05808361, 0.86617615, 0.60111501, 0.70807258])"
            ]
          },
          "metadata": {},
          "execution_count": 167
        }
      ]
    },
    {
      "cell_type": "code",
      "metadata": {
        "ExecuteTime": {
          "end_time": "2020-10-11T07:27:47.461662Z",
          "start_time": "2020-10-11T07:27:47.457661Z"
        },
        "colab": {
          "base_uri": "https://localhost:8080/"
        },
        "id": "uLPoX9rpx4lV",
        "outputId": "902af71a-7c78-4f7f-eeb9-311337e5ec96"
      },
      "source": [
        "np.random.seed(100) # Начинаем с другого места №100\n",
        "\n",
        "np.random.random(10) # Берем 10 случайных чисел, они другие"
      ],
      "execution_count": null,
      "outputs": [
        {
          "output_type": "execute_result",
          "data": {
            "text/plain": [
              "array([0.54340494, 0.27836939, 0.42451759, 0.84477613, 0.00471886,\n",
              "       0.12156912, 0.67074908, 0.82585276, 0.13670659, 0.57509333])"
            ]
          },
          "metadata": {},
          "execution_count": 164
        }
      ]
    },
    {
      "cell_type": "code",
      "metadata": {
        "ExecuteTime": {
          "end_time": "2020-10-11T07:27:47.517665Z",
          "start_time": "2020-10-11T07:27:47.513665Z"
        },
        "colab": {
          "base_uri": "https://localhost:8080/"
        },
        "id": "mM7cGUyXx4lV",
        "outputId": "fde94b94-bc19-42e0-ae18-fd971c2a02b8"
      },
      "source": [
        "np.random.seed(1000) # Начинаем с того же места №1000\n",
        "\n",
        "np.random.random(10) # Берем 10 случайных чисел, они такие же как в первом варианте"
      ],
      "execution_count": null,
      "outputs": [
        {
          "output_type": "execute_result",
          "data": {
            "text/plain": [
              "array([0.65358959, 0.11500694, 0.95028286, 0.4821914 , 0.87247454,\n",
              "       0.21233268, 0.04070962, 0.39719446, 0.2331322 , 0.84174072])"
            ]
          },
          "metadata": {},
          "execution_count": 165
        }
      ]
    },
    {
      "cell_type": "markdown",
      "metadata": {
        "id": "h9qFV6mNx4lV"
      },
      "source": [
        "## Пример из будущих уроков\n",
        "Мы будем часто выполнять операции с массивами, чтобы подготовить данные для наших расчетов.\n",
        "Ниже кусок кода, который нам еще не раз встретится, который показывает как правильно формировать данные для расчетов.\n",
        "\n",
        "Попробуйте по шагам объяснить, что тут происходит.\n",
        "\n",
        "Не получится - не беда, узнаем позже."
      ]
    },
    {
      "cell_type": "code",
      "metadata": {
        "ExecuteTime": {
          "end_time": "2020-10-11T07:27:47.626671Z",
          "start_time": "2020-10-11T07:27:47.622671Z"
        },
        "id": "4ad2mKHZx4lV"
      },
      "source": [
        "batchsize, maps, h, w = 1, 1, 3, 3\n",
        "data = (np.arange(batchsize * maps * h * w).reshape(batchsize, maps, h, w).astype(np.float32))"
      ],
      "execution_count": null,
      "outputs": []
    },
    {
      "cell_type": "code",
      "metadata": {
        "ExecuteTime": {
          "end_time": "2020-10-11T07:27:47.681674Z",
          "start_time": "2020-10-11T07:27:47.677674Z"
        },
        "colab": {
          "base_uri": "https://localhost:8080/"
        },
        "id": "UHEx2Khpx4lW",
        "outputId": "dfa7db26-9273-4ae7-91a5-a371d0947809"
      },
      "source": [
        "data"
      ],
      "execution_count": null,
      "outputs": [
        {
          "output_type": "execute_result",
          "data": {
            "text/plain": [
              "array([[[[0., 1., 2.],\n",
              "         [3., 4., 5.],\n",
              "         [6., 7., 8.]]]], dtype=float32)"
            ]
          },
          "metadata": {},
          "execution_count": 128
        }
      ]
    },
    {
      "cell_type": "code",
      "metadata": {
        "id": "Ypl2z6gFx4lW"
      },
      "source": [],
      "execution_count": null,
      "outputs": []
    }
  ]
}