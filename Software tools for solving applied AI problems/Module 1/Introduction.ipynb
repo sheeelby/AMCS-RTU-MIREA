{
  "cells": [
    {
      "cell_type": "markdown",
      "id": "3e795a55-67f0-42ea-ba08-191dd17c8834",
      "metadata": {
        "id": "3e795a55-67f0-42ea-ba08-191dd17c8834"
      },
      "source": [
        "# Основы Python\n",
        "На первых порах для простоты мы будем писать все Python-программы в среде Jupyter. В ней уже все настроено и доступно из браузера - поэтому установка Python себе на компьютер не будет сейчас отвлекать. Текст, который ты читаешь, был написан в \"ячейке\" (англ. _cell_). \"Ячейка\" - это неразделимый кусок текста или кода, который Jupyter выполняет целиком.\n",
        "\n",
        "Ячейка создается нажатием кнопки `+` выше в панельке. Попробуй создать новую ячейку, кликнуть на ее (появится курсор), написать в ней:\n",
        "```python\n",
        "1 + 5\n",
        "```\n",
        "и \"выполнить\" ее нажатием `Ctrl + Enter`. Внизу под ячейкой выведется число 6 - этот результат был подсчитан на Python.\n",
        "\n",
        "Ячейки дают возможность сразу увидеть результат выполнения - этим они и удобны.\n",
        "\n",
        "Знакомство с Python начнем с базовых конструкций языка."
      ]
    },
    {
      "cell_type": "markdown",
      "id": "0e565f3b-1e42-4df1-9ed4-6b6750b0998a",
      "metadata": {
        "id": "0e565f3b-1e42-4df1-9ed4-6b6750b0998a"
      },
      "source": [
        "## Базовые операции\n",
        "Посмотрим на основные операции, которые используются любым программистом на Python."
      ]
    },
    {
      "cell_type": "code",
      "execution_count": null,
      "id": "b0d3526a-8035-4a0b-a42e-f74cf1401c2a",
      "metadata": {
        "ExecuteTime": {
          "end_time": "2021-12-13T17:01:41.135287Z",
          "start_time": "2021-12-13T17:01:41.121870Z"
        },
        "id": "b0d3526a-8035-4a0b-a42e-f74cf1401c2a"
      },
      "outputs": [],
      "source": [
        "# Это комментарий. Питон игнорирует все, что написано после симовола # до конца строки\n",
        "# А редактор это подсвечивает серым\n",
        "\n",
        "# Пустые строки тоже игнорируются и никакого смысла не несут\n",
        "\n",
        "# Знак = (равно) - это присваивание. Мы сейчас попросим записать в переменную \"a\" значение 5\n",
        "a = 5"
      ]
    },
    {
      "cell_type": "code",
      "execution_count": null,
      "id": "3c3a7c1b-a07a-4622-81df-dc450113ed24",
      "metadata": {
        "ExecuteTime": {
          "end_time": "2021-12-13T17:02:02.067614Z",
          "start_time": "2021-12-13T17:02:02.034233Z"
        },
        "id": "3c3a7c1b-a07a-4622-81df-dc450113ed24",
        "outputId": "808d0cc9-3f1d-4f3c-e052-22445f5e6ef5"
      },
      "outputs": [
        {
          "data": {
            "text/plain": [
              "5"
            ]
          },
          "execution_count": 2,
          "metadata": {},
          "output_type": "execute_result"
        }
      ],
      "source": [
        "# Теперь по имени \"a\" можно вытащить его значение - сейчас это 5. Jupyter нам это покажет\n",
        "a"
      ]
    },
    {
      "cell_type": "code",
      "execution_count": null,
      "id": "1eebc30c-13c0-49d4-829b-586a63b543be",
      "metadata": {
        "ExecuteTime": {
          "end_time": "2021-12-13T17:02:37.699522Z",
          "start_time": "2021-12-13T17:02:37.694261Z"
        },
        "id": "1eebc30c-13c0-49d4-829b-586a63b543be",
        "outputId": "eae25263-8f97-456b-d69b-7e5ab063b58a"
      },
      "outputs": [
        {
          "data": {
            "text/plain": [
              "55"
            ]
          },
          "execution_count": 4,
          "metadata": {},
          "output_type": "execute_result"
        }
      ],
      "source": [
        "# Арифметические операции можно делать как с числами\n",
        "5 * 11"
      ]
    },
    {
      "cell_type": "code",
      "execution_count": null,
      "id": "8c52c8e8-1e92-45d2-be87-8cc2abc89424",
      "metadata": {
        "ExecuteTime": {
          "end_time": "2021-12-13T17:02:44.126658Z",
          "start_time": "2021-12-13T17:02:44.120077Z"
        },
        "id": "8c52c8e8-1e92-45d2-be87-8cc2abc89424",
        "outputId": "60952f6b-5478-4dd2-9609-782045794894"
      },
      "outputs": [
        {
          "data": {
            "text/plain": [
              "55"
            ]
          },
          "execution_count": 5,
          "metadata": {},
          "output_type": "execute_result"
        }
      ],
      "source": [
        "# Так и с участием переменных\n",
        "11 * a"
      ]
    },
    {
      "cell_type": "code",
      "execution_count": null,
      "id": "5e75d5e1-5189-4fd1-8df6-dab293bf9d4d",
      "metadata": {
        "ExecuteTime": {
          "end_time": "2021-12-13T17:03:56.789035Z",
          "start_time": "2021-12-13T17:03:56.786264Z"
        },
        "id": "5e75d5e1-5189-4fd1-8df6-dab293bf9d4d",
        "outputId": "deacc077-9904-4a57-8165-4ed76c839994"
      },
      "outputs": [
        {
          "name": "stdout",
          "output_type": "stream",
          "text": [
            "5\n"
          ]
        }
      ],
      "source": [
        "# Можно явно просить написать строку - это делается функцией print\n",
        "# как в математке f(x) - функция f принимает аргумент x и делает над ним определенные действия\n",
        "print(a)\n",
        "# в нашем случае - печатает его"
      ]
    },
    {
      "cell_type": "code",
      "execution_count": null,
      "id": "c3f926bd-8be4-4d40-98c3-1ddfb1801a39",
      "metadata": {
        "ExecuteTime": {
          "end_time": "2021-12-13T17:05:43.544791Z",
          "start_time": "2021-12-13T17:05:43.541621Z"
        },
        "id": "c3f926bd-8be4-4d40-98c3-1ddfb1801a39",
        "outputId": "2fc63345-e1ab-4db5-8fc0-9adee02fed20"
      },
      "outputs": [
        {
          "name": "stdout",
          "output_type": "stream",
          "text": [
            "4 1 hello 5\n"
          ]
        }
      ],
      "source": [
        "# print может принимать любое количество аргументов (делается через запятую)\n",
        "# он распечатает их всех через пробел\n",
        "print(4, 1, 'hello', a)"
      ]
    },
    {
      "cell_type": "code",
      "execution_count": null,
      "id": "f7b4ff0d-10c2-4291-8f81-e04bea47803c",
      "metadata": {
        "ExecuteTime": {
          "end_time": "2021-12-13T17:06:46.850559Z",
          "start_time": "2021-12-13T17:06:46.841477Z"
        },
        "id": "f7b4ff0d-10c2-4291-8f81-e04bea47803c",
        "outputId": "4b6057ec-486c-437f-bca7-12c69fbcd8fc"
      },
      "outputs": [
        {
          "data": {
            "text/plain": [
              "2"
            ]
          },
          "execution_count": 9,
          "metadata": {},
          "output_type": "execute_result"
        }
      ],
      "source": [
        "# Можно делть нацело, отбрасывая дробную часть\n",
        "5 // 2"
      ]
    },
    {
      "cell_type": "code",
      "execution_count": null,
      "id": "1509a63d-f8c4-4b63-905a-ea280b3755b5",
      "metadata": {
        "ExecuteTime": {
          "end_time": "2021-12-13T17:07:23.163200Z",
          "start_time": "2021-12-13T17:07:23.157345Z"
        },
        "id": "1509a63d-f8c4-4b63-905a-ea280b3755b5",
        "outputId": "33b55eb8-33da-447d-fed9-153f8622f163"
      },
      "outputs": [
        {
          "data": {
            "text/plain": [
              "1"
            ]
          },
          "execution_count": 10,
          "metadata": {},
          "output_type": "execute_result"
        }
      ],
      "source": [
        "# Остаток от деления берется через символ %\n",
        "5 % 2"
      ]
    },
    {
      "cell_type": "code",
      "execution_count": null,
      "id": "c2ce8054-5b11-4b56-9a9a-43bd8039121e",
      "metadata": {
        "ExecuteTime": {
          "end_time": "2021-12-13T17:09:03.485664Z",
          "start_time": "2021-12-13T17:09:03.482475Z"
        },
        "id": "c2ce8054-5b11-4b56-9a9a-43bd8039121e",
        "outputId": "fd3af3a3-9000-4807-8030-302dfab25aa5"
      },
      "outputs": [
        {
          "name": "stdout",
          "output_type": "stream",
          "text": [
            "5.0\n",
            "2.0\n"
          ]
        }
      ],
      "source": [
        "# Переменная может менять свое значение по ходу выполнения программы - отсюда и название\n",
        "a = 10\n",
        "print(a / 2)\n",
        "a = 4\n",
        "print(a / 2)"
      ]
    },
    {
      "cell_type": "markdown",
      "id": "6c19f52e-73f0-48c8-a0ed-8fed7c71cf3e",
      "metadata": {
        "id": "6c19f52e-73f0-48c8-a0ed-8fed7c71cf3e"
      },
      "source": [
        "Из примера выше видно, что в одну ячейку можно положить несколько команд - Jupyter выполнит их последовательно. При этом Python ожидает, что каждая команда пишется с новой строки."
      ]
    },
    {
      "cell_type": "markdown",
      "id": "71631b14-3a35-4802-ae60-3fa16bd914fa",
      "metadata": {
        "id": "71631b14-3a35-4802-ae60-3fa16bd914fa"
      },
      "source": [
        "### Зачем нужны переменные?\n",
        "У переменных два преимущества:\n",
        "1. Делают логику независимой от чисел.\n",
        "2. Делают преобразования данных читаемыми.\n",
        "\n",
        "Приведем пример.\n",
        "Представим, что мы хотим подсчитать доход через 5 лет по банковскому вкладу в разных банках. У нас есть 100 рублей и 2 банка с разными процентами:\n",
        "1. Банк \"Весна\" дает 3% годовых.\n",
        "2. Банк \"Осень\" дает 2% годовых, но более надежен.\n",
        "\n",
        "Посчитаем, сколько будет денег через 5 лет:"
      ]
    },
    {
      "cell_type": "code",
      "execution_count": null,
      "id": "81e4668c",
      "metadata": {
        "ExecuteTime": {
          "end_time": "2021-12-13T17:12:43.976458Z",
          "start_time": "2021-12-13T17:12:43.969892Z"
        },
        "id": "81e4668c",
        "outputId": "ef21593c-ce23-415c-e094-8fa8ac0c7919"
      },
      "outputs": [
        {
          "data": {
            "text/plain": [
              "27"
            ]
          },
          "execution_count": 15,
          "metadata": {},
          "output_type": "execute_result"
        }
      ],
      "source": [
        "3 ** 3  # 3 * 3 * 3"
      ]
    },
    {
      "cell_type": "code",
      "execution_count": null,
      "id": "8e0932ab-f07b-4e73-b8bf-28b473ec1d67",
      "metadata": {
        "ExecuteTime": {
          "end_time": "2021-12-13T17:13:07.557427Z",
          "start_time": "2021-12-13T17:13:07.551383Z"
        },
        "id": "8e0932ab-f07b-4e73-b8bf-28b473ec1d67",
        "outputId": "0baf8317-2b9f-48c4-9b5e-492521d224c3"
      },
      "outputs": [
        {
          "data": {
            "text/plain": [
              "115.92740743"
            ]
          },
          "execution_count": 16,
          "metadata": {},
          "output_type": "execute_result"
        }
      ],
      "source": [
        "# Две звездочки - это оператор возведения в степень\n",
        "# Обратите внимание на скобки - они указывают порядок операций\n",
        "100 * ((100 + 3) / 100)**5"
      ]
    },
    {
      "cell_type": "code",
      "execution_count": null,
      "id": "65f578cc-09d3-499d-ab2e-2571ee3c0da4",
      "metadata": {
        "ExecuteTime": {
          "end_time": "2021-12-13T17:13:09.277600Z",
          "start_time": "2021-12-13T17:13:09.271538Z"
        },
        "id": "65f578cc-09d3-499d-ab2e-2571ee3c0da4",
        "outputId": "c4b3b2fa-21c7-493b-c212-e9bf2c73c2c0",
        "colab": {
          "base_uri": "https://localhost:8080/"
        }
      },
      "outputs": [
        {
          "output_type": "execute_result",
          "data": {
            "text/plain": [
              "110.40808032"
            ]
          },
          "metadata": {},
          "execution_count": 1
        }
      ],
      "source": [
        "# Кстати, пробелы между операторами тоже игнорируются\n",
        "100 * ((100 + 2) / 100) ** 5"
      ]
    },
    {
      "cell_type": "markdown",
      "id": "9dce6726-fc0f-4b0e-816f-a45485d9d0a5",
      "metadata": {
        "id": "9dce6726-fc0f-4b0e-816f-a45485d9d0a5"
      },
      "source": [
        "Сходу глядя на код, не очень ясно, что означает первое число 100 и второе.\n",
        "Нужно знать исходную задачу.\n",
        "\n",
        "Давайте перепишем с использованием переменных."
      ]
    },
    {
      "cell_type": "code",
      "execution_count": null,
      "id": "f8145aaf-281c-4b72-8532-5858f0d34eab",
      "metadata": {
        "ExecuteTime": {
          "end_time": "2021-12-13T17:15:09.893509Z",
          "start_time": "2021-12-13T17:15:09.888956Z"
        },
        "id": "f8145aaf-281c-4b72-8532-5858f0d34eab",
        "outputId": "a1d73be8-63f2-4f08-d140-7d7b18af379a",
        "colab": {
          "base_uri": "https://localhost:8080/"
        }
      },
      "outputs": [
        {
          "output_type": "execute_result",
          "data": {
            "text/plain": [
              "115.92740743"
            ]
          },
          "metadata": {},
          "execution_count": 2
        }
      ],
      "source": [
        "initial_sum = 100\n",
        "interest_rate = 3\n",
        "years = 5\n",
        "# Теперь из кода сразу ясно, как считается сумма в конце для любых входных данных\n",
        "end_sum = initial_sum * ((100 + interest_rate) / 100)**years\n",
        "end_sum"
      ]
    },
    {
      "cell_type": "markdown",
      "id": "040bdc05-d5d7-42db-9a52-5ae7fd9ba56e",
      "metadata": {
        "id": "040bdc05-d5d7-42db-9a52-5ae7fd9ba56e"
      },
      "source": [
        "А еще можно легко пересчитать под другой процент, поменяв только вторую строчку - ту, что задает `interest_rate`."
      ]
    },
    {
      "cell_type": "markdown",
      "id": "0872bd6d-3688-4d25-8c39-5d1f2f956c2f",
      "metadata": {
        "id": "0872bd6d-3688-4d25-8c39-5d1f2f956c2f"
      },
      "source": [
        "### Другие типы переменных\n",
        "В переменные можно класть не только числа! Есть строки, числа с дробной частью (в программировании их называют _числа с плавающей точкой_, англ. _float_) и многое другое.\n",
        "#### Строки"
      ]
    },
    {
      "cell_type": "code",
      "execution_count": null,
      "id": "75a735c9-c3bf-49fa-8b6d-4f70c3d6c2be",
      "metadata": {
        "ExecuteTime": {
          "end_time": "2021-12-13T17:17:18.033429Z",
          "start_time": "2021-12-13T17:17:18.029936Z"
        },
        "id": "75a735c9-c3bf-49fa-8b6d-4f70c3d6c2be",
        "outputId": "75325ca8-69b8-40a8-d2c8-33526af8bcc5"
      },
      "outputs": [
        {
          "name": "stdout",
          "output_type": "stream",
          "text": [
            "John\n",
            "Smith\n"
          ]
        }
      ],
      "source": [
        "# Строки заключаются в кавычки\n",
        "# Двойные\n",
        "name = \"John\"\n",
        "# Или одинарные - разницы никакой\n",
        "surname = 'Smith'\n",
        "print(name)\n",
        "print(surname)"
      ]
    },
    {
      "cell_type": "code",
      "execution_count": null,
      "id": "7cdc2cf7",
      "metadata": {
        "ExecuteTime": {
          "end_time": "2021-12-13T17:19:04.896914Z",
          "start_time": "2021-12-13T17:19:04.891691Z"
        },
        "id": "7cdc2cf7",
        "outputId": "0f03113a-4086-4875-d489-26191e85a460"
      },
      "outputs": [
        {
          "name": "stdout",
          "output_type": "stream",
          "text": [
            "32\n"
          ]
        }
      ],
      "source": [
        "print(2 ** 5)"
      ]
    },
    {
      "cell_type": "markdown",
      "id": "800c3b62-b3f2-44b5-a9bd-eff61d483145",
      "metadata": {
        "id": "800c3b62-b3f2-44b5-a9bd-eff61d483145"
      },
      "source": [
        "В ячейке выше исполнилось 4 команды. Давай разберемся, что конкретно произошло:\n",
        "1. Мы попросили записать в переменную `name` строку `John`\n",
        "2. Мы попросили записать в переменную `surname` строку `Smith`\n",
        "3. Мы попросили вызвать функцию `print` и передали аргументом ей переменную. Питон выполнил подстановку значения переменной и фактически вызвал функцию `print(\"John\")`, которая, в свою очередь, распечатала строку `John`.\n",
        "4. То же самое, что п.3, только передали переменную `surname`. После подстановки вызвалась `print(\"Smith\")` и распечаталась строка `Smith`."
      ]
    },
    {
      "cell_type": "code",
      "execution_count": null,
      "id": "305f10e8-7ec1-4c45-99f7-f9af587a3040",
      "metadata": {
        "ExecuteTime": {
          "end_time": "2021-12-13T17:21:56.963489Z",
          "start_time": "2021-12-13T17:21:56.958136Z"
        },
        "scrolled": true,
        "id": "305f10e8-7ec1-4c45-99f7-f9af587a3040",
        "outputId": "2351e23d-f4ae-41eb-83f8-b676d0ac7aeb",
        "colab": {
          "base_uri": "https://localhost:8080/"
        }
      },
      "outputs": [
        {
          "output_type": "stream",
          "name": "stdout",
          "text": [
            "<class 'dict'>\n",
            "{}\n",
            "<class 'int'>\n",
            "2\n"
          ]
        }
      ],
      "source": [
        "# На деле, у каждой переменной есть тип, просто Python его определяет сам\n",
        "hello = {}\n",
        "# Распечатаем тип\n",
        "print(type(hello))\n",
        "print(hello)\n",
        "\n",
        "# Python даже дает возможность менять тип на ходу! Не все языки программирования так щедры\n",
        "hello = 2\n",
        "print(type(hello))\n",
        "print(hello)"
      ]
    },
    {
      "cell_type": "markdown",
      "id": "0e3840b3",
      "metadata": {
        "id": "0e3840b3"
      },
      "source": [
        "#### Boolean"
      ]
    },
    {
      "cell_type": "code",
      "execution_count": null,
      "id": "70dc4ea5",
      "metadata": {
        "ExecuteTime": {
          "end_time": "2021-12-13T17:24:54.680152Z",
          "start_time": "2021-12-13T17:24:54.674225Z"
        },
        "id": "70dc4ea5",
        "outputId": "7842f9a8-1be5-4b58-9e78-87fa947956e9"
      },
      "outputs": [
        {
          "data": {
            "text/plain": [
              "False"
            ]
          },
          "execution_count": 24,
          "metadata": {},
          "output_type": "execute_result"
        }
      ],
      "source": [
        "# Булевый (англ. boolean) тип - это одно из слов \"да\" или \"нет\"\n",
        "# Только Python предпочитает слова True и False :)\n",
        "# Активно используется в проверке условий\n",
        "my_bool = ('5' == 5)  # False, потому что сравнение учитывает типы\n",
        "my_bool"
      ]
    },
    {
      "cell_type": "code",
      "execution_count": null,
      "id": "350c42e2",
      "metadata": {
        "ExecuteTime": {
          "end_time": "2021-12-13T17:26:57.942223Z",
          "start_time": "2021-12-13T17:26:57.938141Z"
        },
        "id": "350c42e2",
        "outputId": "92700aec-f787-4b5e-ac0a-ef873440c771"
      },
      "outputs": [
        {
          "data": {
            "text/plain": [
              "True"
            ]
          },
          "execution_count": 26,
          "metadata": {},
          "output_type": "execute_result"
        }
      ],
      "source": [
        "my_bool_2 = ('el' in 'hello')  # True, потому что \"hello\" содержит подстроку \"el\"\n",
        "my_bool_2"
      ]
    },
    {
      "cell_type": "code",
      "execution_count": null,
      "id": "73537bd5",
      "metadata": {
        "ExecuteTime": {
          "end_time": "2021-12-13T17:28:29.969713Z",
          "start_time": "2021-12-13T17:28:29.962846Z"
        },
        "id": "73537bd5",
        "outputId": "a8f3db44-3981-494a-e55b-ecf469f98f21"
      },
      "outputs": [
        {
          "data": {
            "text/plain": [
              "True"
            ]
          },
          "execution_count": 28,
          "metadata": {},
          "output_type": "execute_result"
        }
      ],
      "source": [
        "# Над булевыми типами есть операторы and, or, not\n",
        "# Есть и другие, но на практике чаще использует эти три\n",
        "# and требует, чтобы оба значения были True\n",
        "a = 3\n",
        "# == - это оператор равенства (не путайте с присваиванием!)\n",
        "# проверяет, что значения слева и справа равны\n",
        "(5 == 5) and (a == 3)"
      ]
    },
    {
      "cell_type": "code",
      "execution_count": null,
      "id": "c56cc23e",
      "metadata": {
        "ExecuteTime": {
          "end_time": "2021-12-13T17:29:30.116545Z",
          "start_time": "2021-12-13T17:29:30.110565Z"
        },
        "id": "c56cc23e",
        "outputId": "9a36acb8-25d1-448f-e6c4-2cb9030b82c5"
      },
      "outputs": [
        {
          "data": {
            "text/plain": [
              "True"
            ]
          },
          "execution_count": 29,
          "metadata": {},
          "output_type": "execute_result"
        }
      ],
      "source": [
        "# or требует, чтобы хотя бы одно значение было True\n",
        "(5 == 3) or (a == 3)"
      ]
    },
    {
      "cell_type": "code",
      "execution_count": null,
      "id": "ca254034",
      "metadata": {
        "ExecuteTime": {
          "end_time": "2021-12-13T17:30:13.148031Z",
          "start_time": "2021-12-13T17:30:13.140768Z"
        },
        "id": "ca254034",
        "outputId": "0ff12896-69ff-439c-a1ac-33770b615ff5"
      },
      "outputs": [
        {
          "data": {
            "text/plain": [
              "True"
            ]
          },
          "execution_count": 30,
          "metadata": {},
          "output_type": "execute_result"
        }
      ],
      "source": [
        "# not просто берет обратное значение\n",
        "not (5 == 3)"
      ]
    },
    {
      "cell_type": "code",
      "execution_count": null,
      "id": "7e9292b3",
      "metadata": {
        "ExecuteTime": {
          "end_time": "2021-12-13T17:31:22.230144Z",
          "start_time": "2021-12-13T17:31:22.225799Z"
        },
        "id": "7e9292b3",
        "outputId": "79db154b-3bee-4141-fc3a-311fd0465ed8"
      },
      "outputs": [
        {
          "data": {
            "text/plain": [
              "True"
            ]
          },
          "execution_count": 31,
          "metadata": {},
          "output_type": "execute_result"
        }
      ],
      "source": [
        "# Обычно это все используется для сложной логики\n",
        "my_name = 'Sasha'\n",
        "(a == 3) or (my_name == 'Aleksei')"
      ]
    },
    {
      "cell_type": "markdown",
      "id": "f093fe36",
      "metadata": {
        "id": "f093fe36"
      },
      "source": [
        "Порядок вычисления такой:\n",
        "\n",
        "1. Скобки\n",
        "2. `not`\n",
        "3. `and`\n",
        "4. `or`"
      ]
    },
    {
      "cell_type": "code",
      "execution_count": null,
      "id": "5c3f0ed8",
      "metadata": {
        "ExecuteTime": {
          "end_time": "2021-12-13T17:35:07.025829Z",
          "start_time": "2021-12-13T17:35:07.020450Z"
        },
        "id": "5c3f0ed8",
        "outputId": "b9a9178b-6eea-46b3-e7c0-742ec3604379"
      },
      "outputs": [
        {
          "name": "stdout",
          "output_type": "stream",
          "text": [
            "True\n"
          ]
        },
        {
          "data": {
            "text/plain": [
              "True"
            ]
          },
          "execution_count": 32,
          "metadata": {},
          "output_type": "execute_result"
        }
      ],
      "source": [
        "# помимо == есть и другие операторы для сравнения\n",
        "# больше либо равно\n",
        "5 >= 2\n",
        "# строго больше\n",
        "print(5 > 2)  # булево значение можно передавать в функцию, как любое другое значение\n",
        "# меньше либо равно (знак = в нем всегда идет вторым)\n",
        "3 <= 1\n",
        "# не равно\n",
        "'hi' != 'bye'  # not (3 == 1)"
      ]
    },
    {
      "cell_type": "markdown",
      "id": "9c1b2003-65a2-4878-8388-a12e2f2280fe",
      "metadata": {
        "id": "9c1b2003-65a2-4878-8388-a12e2f2280fe"
      },
      "source": [
        "## List, tuple, set\n",
        "Часто в переменную имеет смысл положить не одно значение, а несколько.\n",
        "Например, если мы захотим проводить анализ списка клиентов интернет-магазина за последний месяц, то имеет смысл держать их всех в одном месте, чтобы можно было удобно работать сразу со всеми элементами.\n",
        "\n",
        "В Python для работы с набором данных есть несколько типов:\n",
        "- list\n",
        "- tuple\n",
        "- set\n",
        "\n",
        "Будем знакомиться по-отдельности с каждым.\n",
        "### List\n",
        "Набор элементов, в который можно класть объекты, доставать их и удалять.\n",
        "Запоминает порядок, в котором элементы были добавлены."
      ]
    },
    {
      "cell_type": "code",
      "execution_count": null,
      "id": "9c96da20-e619-43d2-a5f2-0ba8d5df210e",
      "metadata": {
        "ExecuteTime": {
          "end_time": "2021-12-13T17:38:28.935099Z",
          "start_time": "2021-12-13T17:38:28.930291Z"
        },
        "id": "9c96da20-e619-43d2-a5f2-0ba8d5df210e",
        "outputId": "7c4d0c40-e852-4a50-df82-a6107c9dede6"
      },
      "outputs": [
        {
          "data": {
            "text/plain": [
              "[1, 2, 3, 5]"
            ]
          },
          "execution_count": 34,
          "metadata": {},
          "output_type": "execute_result"
        }
      ],
      "source": [
        "# Объявляется через квадратные скобки и содержимое отделяется запятой\n",
        "my_list = [1, 2, 3, 5]\n",
        "my_list"
      ]
    },
    {
      "cell_type": "code",
      "execution_count": null,
      "id": "97456a2c-dba6-4e74-8efd-b4ac9065ea29",
      "metadata": {
        "ExecuteTime": {
          "end_time": "2021-12-13T17:39:30.896400Z",
          "start_time": "2021-12-13T17:39:30.891402Z"
        },
        "id": "97456a2c-dba6-4e74-8efd-b4ac9065ea29",
        "outputId": "cd6d524c-c053-4a33-c7a3-43816ec99177"
      },
      "outputs": [
        {
          "data": {
            "text/plain": [
              "2"
            ]
          },
          "execution_count": 35,
          "metadata": {},
          "output_type": "execute_result"
        }
      ],
      "source": [
        "# Можно обратиться к элементу по порядку через квадратные скобки\n",
        "# Заметьте, нумерация начинается с нуля\n",
        "my_list[1]  # второй элемент в списке"
      ]
    },
    {
      "cell_type": "code",
      "execution_count": null,
      "id": "a4d47306-5052-4a37-bf92-275ad2fa317a",
      "metadata": {
        "ExecuteTime": {
          "end_time": "2021-12-13T17:39:51.022934Z",
          "start_time": "2021-12-13T17:39:51.018704Z"
        },
        "id": "a4d47306-5052-4a37-bf92-275ad2fa317a",
        "outputId": "078675ed-abdb-4413-d118-681085af7118"
      },
      "outputs": [
        {
          "data": {
            "text/plain": [
              "4"
            ]
          },
          "execution_count": 36,
          "metadata": {},
          "output_type": "execute_result"
        }
      ],
      "source": [
        "len(my_list)  # запросим длину"
      ]
    },
    {
      "cell_type": "code",
      "execution_count": null,
      "id": "0211e6a0-6db9-4bc9-937a-e90059e11278",
      "metadata": {
        "ExecuteTime": {
          "end_time": "2021-12-13T17:40:35.014035Z",
          "start_time": "2021-12-13T17:40:35.006033Z"
        },
        "id": "0211e6a0-6db9-4bc9-937a-e90059e11278",
        "outputId": "b7b6f493-aa29-4540-f10c-6ad44e9da7e9"
      },
      "outputs": [
        {
          "name": "stdout",
          "output_type": "stream",
          "text": [
            "['a', 1, 3.14, [1, 2]]\n"
          ]
        }
      ],
      "source": [
        "# Элементы списка не обязаны быть одного типа\n",
        "# можно даже класть в список другой список\n",
        "my_list = ['a', 1, 3.14, [1, 2]]\n",
        "print(my_list)"
      ]
    },
    {
      "cell_type": "code",
      "execution_count": null,
      "id": "3334055d-ae36-4ab5-bd99-2081b4604127",
      "metadata": {
        "ExecuteTime": {
          "end_time": "2021-12-13T17:41:32.398769Z",
          "start_time": "2021-12-13T17:41:32.389363Z"
        },
        "id": "3334055d-ae36-4ab5-bd99-2081b4604127",
        "outputId": "2f652404-ce6d-4f10-fd91-5af26fbc9207"
      },
      "outputs": [
        {
          "data": {
            "text/plain": [
              "['a', 1, 3.14, [1, 2], 'h', 'e', 'l', 'l', 'o']"
            ]
          },
          "execution_count": 38,
          "metadata": {},
          "output_type": "execute_result"
        }
      ],
      "source": [
        "# К списку можно \"прибавить\" другой список - один список добавится к концу другого\n",
        "new_list = my_list + ['h', 'e', 'l', 'l', 'o']\n",
        "new_list"
      ]
    },
    {
      "cell_type": "code",
      "execution_count": null,
      "id": "4b2018e0-aa7c-43de-b216-7bd2df4e5baf",
      "metadata": {
        "ExecuteTime": {
          "end_time": "2021-12-13T17:44:40.110496Z",
          "start_time": "2021-12-13T17:44:40.105879Z"
        },
        "id": "4b2018e0-aa7c-43de-b216-7bd2df4e5baf",
        "outputId": "28c7ca43-c810-4687-ac54-147eeb7750b2"
      },
      "outputs": [
        {
          "data": {
            "text/plain": [
              "['a', 1, 3.14, [1, 2], 'h', 'e', 'l', 'l', 'o', 'g', 'g', 'g']"
            ]
          },
          "execution_count": 41,
          "metadata": {},
          "output_type": "execute_result"
        }
      ],
      "source": [
        "# Можно добавлять через функцию append\n",
        "new_list.append('g')\n",
        "new_list\n",
        "# Выполните несколько раз эту ячейку - каждый раз append будет добавлять в список"
      ]
    },
    {
      "cell_type": "code",
      "execution_count": null,
      "id": "20624b09-9b5b-4e17-9b37-7b1da6673ab1",
      "metadata": {
        "ExecuteTime": {
          "end_time": "2021-12-13T17:47:42.077190Z",
          "start_time": "2021-12-13T17:47:42.071661Z"
        },
        "id": "20624b09-9b5b-4e17-9b37-7b1da6673ab1",
        "outputId": "7d4707cf-e0a8-4e3e-d346-e4b3da004c8e"
      },
      "outputs": [
        {
          "name": "stdout",
          "output_type": "stream",
          "text": [
            "1\n",
            "g\n"
          ]
        }
      ],
      "source": [
        "# Можно удалять элемент, зная его индекс (0 - начало массива, 1 - второй элемент и т.д.)\n",
        "# Удалит первый элемент (позиция 0)\n",
        "deleted_item = new_list.pop(0)\n",
        "print(deleted_item)\n",
        "# pop() без аргументов удалит последний элемент\n",
        "print(new_list.pop())\n",
        "# Если много раз выполнить, можно опустошить весь список :)"
      ]
    },
    {
      "cell_type": "code",
      "execution_count": null,
      "id": "7f35b2bb",
      "metadata": {
        "ExecuteTime": {
          "end_time": "2021-12-13T17:47:54.290479Z",
          "start_time": "2021-12-13T17:47:54.286563Z"
        },
        "id": "7f35b2bb",
        "outputId": "a4af1279-0d26-47de-c54e-391222bf04fa"
      },
      "outputs": [
        {
          "data": {
            "text/plain": [
              "[3.14, [1, 2], 'h', 'e', 'l', 'l', 'o', 'g']"
            ]
          },
          "execution_count": 45,
          "metadata": {},
          "output_type": "execute_result"
        }
      ],
      "source": [
        "new_list"
      ]
    },
    {
      "cell_type": "code",
      "execution_count": null,
      "id": "07e49f66-0c88-48c7-b4ac-de98efb10011",
      "metadata": {
        "ExecuteTime": {
          "end_time": "2021-12-13T17:49:08.861682Z",
          "start_time": "2021-12-13T17:49:08.858103Z"
        },
        "id": "07e49f66-0c88-48c7-b4ac-de98efb10011",
        "outputId": "ea19f64f-d8b5-4377-a3b6-88e88252f86d"
      },
      "outputs": [
        {
          "name": "stdout",
          "output_type": "stream",
          "text": [
            "[3.14, [1, 2], 'h', 'e', 'l', 'l', 'o', 'g']\n",
            "[3.14, [1, 2], 'e', 'l', 'l', 'o', 'g']\n"
          ]
        }
      ],
      "source": [
        "# Можно удалять по значению, а не индексу\n",
        "# Если элемента не найдется, то вылезет ошибка\n",
        "print(new_list)\n",
        "new_list.remove('h')\n",
        "print(new_list)"
      ]
    },
    {
      "cell_type": "markdown",
      "id": "984038ee-82f3-4a7b-961a-d8c0f78745f2",
      "metadata": {
        "id": "984038ee-82f3-4a7b-961a-d8c0f78745f2"
      },
      "source": [
        "#### Когда применять\n",
        "Когда хотим класть много данных в одно логическое место. Например, список заказов одного клиента.\n",
        "\n",
        "Если хотим добавлять элементы, следить за их взаимным порядком и удалять - самое то."
      ]
    },
    {
      "cell_type": "markdown",
      "id": "9717c559-ebcf-46f6-8ce3-4fe712b6455e",
      "metadata": {
        "id": "9717c559-ebcf-46f6-8ce3-4fe712b6455e"
      },
      "source": [
        "### Tuple (по-русски \"кортеж\")\n",
        "Точно такой же, как `list` - только нет `append` и `remove` (т.е. в существующий `tuple` не получится положить еще элемент или же удалить его). Это из-за того, что объект tuple, будучи созданным, не может быть изменен (а добавление элемента в tuple - это его изменение)."
      ]
    },
    {
      "cell_type": "code",
      "execution_count": null,
      "id": "6a93dfcf-6f18-45db-b2b6-dbdabeb61678",
      "metadata": {
        "ExecuteTime": {
          "end_time": "2021-12-13T17:52:51.624453Z",
          "start_time": "2021-12-13T17:52:51.617067Z"
        },
        "id": "6a93dfcf-6f18-45db-b2b6-dbdabeb61678",
        "outputId": "4e1d4ea6-efca-430e-a655-038ead66be6f"
      },
      "outputs": [
        {
          "data": {
            "text/plain": [
              "(1, 2, 3)"
            ]
          },
          "execution_count": 50,
          "metadata": {},
          "output_type": "execute_result"
        }
      ],
      "source": [
        "my_tuple = (1, 2, 3)\n",
        "my_tuple"
      ]
    },
    {
      "cell_type": "code",
      "execution_count": null,
      "id": "7f1d1574",
      "metadata": {
        "ExecuteTime": {
          "end_time": "2021-12-13T17:53:06.545283Z",
          "start_time": "2021-12-13T17:53:06.535873Z"
        },
        "id": "7f1d1574",
        "outputId": "4848c015-8a05-40cb-ad8e-1a9d5fd643cf"
      },
      "outputs": [
        {
          "data": {
            "text/plain": [
              "2"
            ]
          },
          "execution_count": 51,
          "metadata": {},
          "output_type": "execute_result"
        }
      ],
      "source": [
        "my_tuple[1]"
      ]
    },
    {
      "cell_type": "code",
      "execution_count": null,
      "id": "ff1f0b96-e35e-4540-93dc-c3103c44a64d",
      "metadata": {
        "ExecuteTime": {
          "end_time": "2021-12-13T17:53:38.780755Z",
          "start_time": "2021-12-13T17:53:38.773865Z"
        },
        "id": "ff1f0b96-e35e-4540-93dc-c3103c44a64d",
        "outputId": "d85e85bd-b72e-459d-f02b-59f89135c43b"
      },
      "outputs": [
        {
          "data": {
            "text/plain": [
              "(1, 2, 3, 5, 5)"
            ]
          },
          "execution_count": 52,
          "metadata": {},
          "output_type": "execute_result"
        }
      ],
      "source": [
        "# Можно складывать, как и list\n",
        "# при этом создастся новый (!) tuple, куда копируется сначала первый, потом второй\n",
        "my_tuple + (5, 5)"
      ]
    },
    {
      "cell_type": "code",
      "execution_count": null,
      "id": "fbc0852c-7e2d-4857-a8b0-456f5f05f0d2",
      "metadata": {
        "ExecuteTime": {
          "end_time": "2021-12-13T17:54:15.880142Z",
          "start_time": "2021-12-13T17:54:15.875703Z"
        },
        "id": "fbc0852c-7e2d-4857-a8b0-456f5f05f0d2",
        "outputId": "263c93fa-7f4b-4456-c717-1ff63ac50649"
      },
      "outputs": [
        {
          "data": {
            "text/plain": [
              "(5, 5, 1, 2, 3)"
            ]
          },
          "execution_count": 53,
          "metadata": {},
          "output_type": "execute_result"
        }
      ],
      "source": [
        "(5, 5) + my_tuple"
      ]
    },
    {
      "cell_type": "code",
      "execution_count": null,
      "id": "47cc334e-c115-4223-89e8-f2f2d056b5af",
      "metadata": {
        "ExecuteTime": {
          "end_time": "2021-12-13T17:54:25.610364Z",
          "start_time": "2021-12-13T17:54:25.603220Z"
        },
        "id": "47cc334e-c115-4223-89e8-f2f2d056b5af",
        "outputId": "48755f1a-5f40-42cc-c998-d209a21d6f12"
      },
      "outputs": [
        {
          "data": {
            "text/plain": [
              "6"
            ]
          },
          "execution_count": 54,
          "metadata": {},
          "output_type": "execute_result"
        }
      ],
      "source": [
        "len(my_tuple + (1, 3, 'aaa',))"
      ]
    },
    {
      "cell_type": "code",
      "execution_count": null,
      "id": "080c519f",
      "metadata": {
        "ExecuteTime": {
          "end_time": "2021-12-13T17:54:36.817087Z",
          "start_time": "2021-12-13T17:54:36.812991Z"
        },
        "id": "080c519f",
        "outputId": "b1a5208f-3d28-4725-d332-36ec41f21be4"
      },
      "outputs": [
        {
          "data": {
            "text/plain": [
              "2"
            ]
          },
          "execution_count": 55,
          "metadata": {},
          "output_type": "execute_result"
        }
      ],
      "source": [
        "# В остальном - похож на list\n",
        "my_tuple[1]"
      ]
    },
    {
      "cell_type": "markdown",
      "id": "f811ccea-6f75-47f3-b788-40cdd18ffff0",
      "metadata": {
        "id": "f811ccea-6f75-47f3-b788-40cdd18ffff0"
      },
      "source": [
        "#### Когда применять\n",
        "Когда требуются удобства list, но и в то же время неизменяемость. Подробнее об этом поговорим далее"
      ]
    },
    {
      "cell_type": "markdown",
      "id": "c6ad5714-0695-47a3-b587-561737d0d02f",
      "metadata": {
        "id": "c6ad5714-0695-47a3-b587-561737d0d02f"
      },
      "source": [
        "### Set\n",
        "Близок к \"множествам\" из математики. Особенен тем, что хранит уникальные элементы.\n",
        "\n",
        "Не запоминает порядок элементов."
      ]
    },
    {
      "cell_type": "code",
      "execution_count": null,
      "id": "1e06881e-0b19-4a70-ac24-fe2a16c74aa2",
      "metadata": {
        "ExecuteTime": {
          "end_time": "2021-12-13T17:56:50.829581Z",
          "start_time": "2021-12-13T17:56:50.825161Z"
        },
        "id": "1e06881e-0b19-4a70-ac24-fe2a16c74aa2",
        "outputId": "a68b339c-8952-4875-c463-87e9ca1dd36f"
      },
      "outputs": [
        {
          "data": {
            "text/plain": [
              "{2, 3.14, 'a'}"
            ]
          },
          "execution_count": 56,
          "metadata": {},
          "output_type": "execute_result"
        }
      ],
      "source": [
        "a = {2, 'a', 3.14}\n",
        "a"
      ]
    },
    {
      "cell_type": "code",
      "execution_count": null,
      "id": "8abd0bd2",
      "metadata": {
        "ExecuteTime": {
          "end_time": "2021-12-13T17:57:25.437124Z",
          "start_time": "2021-12-13T17:57:25.432992Z"
        },
        "id": "8abd0bd2",
        "outputId": "057b3c91-8289-4776-ab05-4d115f4bbfec"
      },
      "outputs": [
        {
          "data": {
            "text/plain": [
              "set()"
            ]
          },
          "execution_count": 58,
          "metadata": {},
          "output_type": "execute_result"
        }
      ],
      "source": [
        "b = set()\n",
        "b"
      ]
    },
    {
      "cell_type": "code",
      "execution_count": null,
      "id": "455ce1f5-8ee9-4466-87be-56e81dff26b3",
      "metadata": {
        "ExecuteTime": {
          "end_time": "2021-12-13T17:58:01.547207Z",
          "start_time": "2021-12-13T17:58:01.543284Z"
        },
        "id": "455ce1f5-8ee9-4466-87be-56e81dff26b3",
        "outputId": "7122aaf2-48d7-4e19-d5a6-46de8beaa437"
      },
      "outputs": [
        {
          "data": {
            "text/plain": [
              "{2, 3, 3.14, 'a'}"
            ]
          },
          "execution_count": 61,
          "metadata": {},
          "output_type": "execute_result"
        }
      ],
      "source": [
        "# Добавим элемент\n",
        "a.add(3)\n",
        "a"
      ]
    },
    {
      "cell_type": "code",
      "execution_count": null,
      "id": "6955c09f-ea77-415c-a3c7-b2bbab02e5c6",
      "metadata": {
        "ExecuteTime": {
          "end_time": "2021-11-17T18:21:07.143573Z",
          "start_time": "2021-11-17T18:21:07.139356Z"
        },
        "id": "6955c09f-ea77-415c-a3c7-b2bbab02e5c6"
      },
      "outputs": [],
      "source": [
        "# Еще раз добавим - вот только он не добавится\n",
        "# В set никогда не дублируются элементы - если элемент уже есть, он его не добавит\n",
        "a.add(3)\n",
        "a"
      ]
    },
    {
      "cell_type": "code",
      "execution_count": null,
      "id": "d49d47e3-479d-4bc1-9a69-f2ba4a6b33a8",
      "metadata": {
        "ExecuteTime": {
          "end_time": "2021-12-13T17:59:05.974332Z",
          "start_time": "2021-12-13T17:59:05.963801Z"
        },
        "id": "d49d47e3-479d-4bc1-9a69-f2ba4a6b33a8",
        "outputId": "4bbca848-5a42-44bf-9739-553ffc8dcf08"
      },
      "outputs": [
        {
          "data": {
            "text/plain": [
              "{2, 3, 'a'}"
            ]
          },
          "execution_count": 62,
          "metadata": {},
          "output_type": "execute_result"
        }
      ],
      "source": [
        "# Можно удалить. Если элемента нет, то вылезет ошибка, надо за этим следить\n",
        "a.remove(3.14)\n",
        "a"
      ]
    },
    {
      "cell_type": "code",
      "execution_count": null,
      "id": "1ef31282",
      "metadata": {
        "id": "1ef31282"
      },
      "outputs": [],
      "source": [
        "# a[0] - так нельзя"
      ]
    },
    {
      "cell_type": "markdown",
      "id": "be4f0c80-c3e5-4921-8bd4-f3ca47ddbfc2",
      "metadata": {
        "id": "be4f0c80-c3e5-4921-8bd4-f3ca47ddbfc2"
      },
      "source": [
        "В `set` можно добавлять **только** неизменяемые объекты!\n",
        "Это связано с его внутренним строением.\n",
        "Так, создать множество вида `{2, \"hello\", []}` не получится, т.к. третий элемент имеет тип `list`, а он изменяемый.\n",
        "\n",
        "Можно брать пересечения множеств, объединение, симметричную разность:\n",
        "- `a.intersection(b)`\n",
        "- `a.union(b)`\n",
        "- `a.symmetric_difference(b)`"
      ]
    },
    {
      "cell_type": "code",
      "execution_count": null,
      "id": "d5b55b3a-f679-4b41-8b66-d27d7ac464a1",
      "metadata": {
        "ExecuteTime": {
          "end_time": "2021-12-13T18:02:05.480886Z",
          "start_time": "2021-12-13T18:02:05.476402Z"
        },
        "id": "d5b55b3a-f679-4b41-8b66-d27d7ac464a1",
        "outputId": "40c4d6a5-a013-40cf-ed6e-1bb18b38694c"
      },
      "outputs": [
        {
          "data": {
            "text/plain": [
              "{(1, 2), 3}"
            ]
          },
          "execution_count": 63,
          "metadata": {},
          "output_type": "execute_result"
        }
      ],
      "source": [
        "a = {'a', (1, 2), 3}\n",
        "b = {3, (1, 2), 'unique'}\n",
        "a.intersection(b)"
      ]
    },
    {
      "cell_type": "code",
      "execution_count": null,
      "id": "78b30172-2889-48a8-b6bc-e23330fbb5c8",
      "metadata": {
        "ExecuteTime": {
          "end_time": "2021-12-13T18:02:45.560201Z",
          "start_time": "2021-12-13T18:02:45.555876Z"
        },
        "id": "78b30172-2889-48a8-b6bc-e23330fbb5c8",
        "outputId": "1e36d270-ef91-49ca-aab5-eeb2c06a9680"
      },
      "outputs": [
        {
          "data": {
            "text/plain": [
              "{(1, 2), 3, 'a', 'unique'}"
            ]
          },
          "execution_count": 64,
          "metadata": {},
          "output_type": "execute_result"
        }
      ],
      "source": [
        "a.union(b)"
      ]
    },
    {
      "cell_type": "code",
      "execution_count": null,
      "id": "bb2665d8-5cf8-4f11-8147-8a18d6f26bde",
      "metadata": {
        "ExecuteTime": {
          "end_time": "2021-12-13T18:03:44.781909Z",
          "start_time": "2021-12-13T18:03:44.776932Z"
        },
        "id": "bb2665d8-5cf8-4f11-8147-8a18d6f26bde",
        "outputId": "a8f5855b-226f-4d08-9575-12c90d793e01"
      },
      "outputs": [
        {
          "data": {
            "text/plain": [
              "{'a', 'unique'}"
            ]
          },
          "execution_count": 65,
          "metadata": {},
          "output_type": "execute_result"
        }
      ],
      "source": [
        "a.symmetric_difference(b)"
      ]
    },
    {
      "cell_type": "code",
      "execution_count": null,
      "id": "ab18b195",
      "metadata": {
        "ExecuteTime": {
          "end_time": "2021-12-13T18:05:25.178852Z",
          "start_time": "2021-12-13T18:05:25.174812Z"
        },
        "id": "ab18b195",
        "outputId": "d74f8944-a4d9-4c07-c5e2-0de7ee859bf1"
      },
      "outputs": [
        {
          "data": {
            "text/plain": [
              "{'a'}"
            ]
          },
          "execution_count": 66,
          "metadata": {},
          "output_type": "execute_result"
        }
      ],
      "source": [
        "a - b"
      ]
    },
    {
      "cell_type": "code",
      "execution_count": null,
      "id": "30a5957b",
      "metadata": {
        "ExecuteTime": {
          "end_time": "2021-12-13T18:05:38.896946Z",
          "start_time": "2021-12-13T18:05:38.892952Z"
        },
        "id": "30a5957b",
        "outputId": "eb00c4c0-33b2-4305-a446-915912ecc754"
      },
      "outputs": [
        {
          "data": {
            "text/plain": [
              "{'unique'}"
            ]
          },
          "execution_count": 67,
          "metadata": {},
          "output_type": "execute_result"
        }
      ],
      "source": [
        "b - a"
      ]
    },
    {
      "cell_type": "markdown",
      "id": "ba949ea9-4372-4c06-a3fa-13955d742bc4",
      "metadata": {
        "id": "ba949ea9-4372-4c06-a3fa-13955d742bc4"
      },
      "source": [
        "#### Когда применять\n",
        "1. Если нужно получить только уникальные элементы и порядок элементов не важен. Самый частый на практике кейс.\n",
        "2. Если нужно узнать пересечение и прочие операции над множествами."
      ]
    },
    {
      "cell_type": "markdown",
      "id": "98cdbc88-b8e8-4ca4-8dc8-8036a6996041",
      "metadata": {
        "id": "98cdbc88-b8e8-4ca4-8dc8-8036a6996041"
      },
      "source": [
        "## Словарь\n",
        "Хорошо, мы можем собрать список клиентов в одном месте, сохранить в переменную с удобным именем и иметь возможность дальше обращаться к переменной.\n",
        "\n",
        "Но что, если мы захотим для каждого клиента хранить еще его номер телефона? Скажем, иметь что-то в духе адресной книги:\n",
        "\n",
        "\n",
        "| Имя     | Номер             |\n",
        "|---------|-------------------|\n",
        "| Алексей | +7 123 123-12-34  |\n",
        "| Никита  | +43 321 321-32-10 |\n",
        "\n",
        "В Python для этого используются _словари_ (англ. _dict_, сокращенно от _dictionary_). Давайте посмотрим на пример:"
      ]
    },
    {
      "cell_type": "code",
      "execution_count": null,
      "id": "ecc6ef24-3112-4bd1-a625-b79d43f23bd7",
      "metadata": {
        "ExecuteTime": {
          "end_time": "2021-12-13T18:09:04.246914Z",
          "start_time": "2021-12-13T18:09:04.243584Z"
        },
        "id": "ecc6ef24-3112-4bd1-a625-b79d43f23bd7",
        "outputId": "cbf41d7e-7bd3-4d23-e139-ebc7ac48ec5b"
      },
      "outputs": [
        {
          "name": "stdout",
          "output_type": "stream",
          "text": [
            "{'Алексей': '+7 123 123-12-34', 'Никита': '+43 321-32-10'}\n"
          ]
        }
      ],
      "source": [
        "# ключами может быть любой неизменяемый объект (строка, int, tuple) - как в set\n",
        "name_to_number = {\n",
        "    'Алексей': '+7 123 123-12-34',\n",
        "    'Никита': '+43 321-32-10'\n",
        "}\n",
        "print(name_to_number)"
      ]
    },
    {
      "cell_type": "code",
      "execution_count": null,
      "id": "c02b8a40-d663-4fbe-920c-86569bed079c",
      "metadata": {
        "ExecuteTime": {
          "end_time": "2021-12-13T18:09:54.956079Z",
          "start_time": "2021-12-13T18:09:54.948751Z"
        },
        "id": "c02b8a40-d663-4fbe-920c-86569bed079c",
        "outputId": "270fec70-a47c-408e-bb08-9784d44b2ff0"
      },
      "outputs": [
        {
          "data": {
            "text/plain": [
              "'+7 123 123-12-34'"
            ]
          },
          "execution_count": 69,
          "metadata": {},
          "output_type": "execute_result"
        }
      ],
      "source": [
        "# По ключу можно вытащить значение\n",
        "name_to_number['Алексей']"
      ]
    },
    {
      "cell_type": "code",
      "execution_count": null,
      "id": "ff6be354-df67-4b19-b2de-1c380e17e605",
      "metadata": {
        "ExecuteTime": {
          "end_time": "2021-12-13T18:11:56.326604Z",
          "start_time": "2021-12-13T18:11:56.323326Z"
        },
        "id": "ff6be354-df67-4b19-b2de-1c380e17e605",
        "outputId": "d5212c5a-b4e7-4468-803d-5be6fea64c42"
      },
      "outputs": [
        {
          "name": "stdout",
          "output_type": "stream",
          "text": [
            "+43 321-32-10\n",
            "no info\n"
          ]
        }
      ],
      "source": [
        "# При этом, если ключа нет, то вылезет ошибка\n",
        "# Можно сделать без ошибки: попросить возвращать некое значение по-умолчанию, если ключ не найден\n",
        "print(name_to_number.get('Никита', 'no info'))\n",
        "# Выведет +43 321-32-10, т.к. ключ \"Никита\" присутствует в словаре\n",
        "\n",
        "print(name_to_number.get('Мария', 'no info'))\n",
        "# Выведет \"no info\", т.к. ключа \"Мария\" нет в словаре"
      ]
    },
    {
      "cell_type": "code",
      "execution_count": null,
      "id": "23d106f6-af97-42cf-b533-2575fa04a25a",
      "metadata": {
        "ExecuteTime": {
          "end_time": "2021-12-13T18:12:58.183143Z",
          "start_time": "2021-12-13T18:12:58.178010Z"
        },
        "id": "23d106f6-af97-42cf-b533-2575fa04a25a",
        "outputId": "d6d09941-7a5f-409d-e5d9-b1f40b56a826"
      },
      "outputs": [
        {
          "name": "stdout",
          "output_type": "stream",
          "text": [
            "+1 111 111-11-11\n"
          ]
        },
        {
          "data": {
            "text/plain": [
              "True"
            ]
          },
          "execution_count": 71,
          "metadata": {},
          "output_type": "execute_result"
        }
      ],
      "source": [
        "# В словарь легко добавлять элементы через оператор присваивания\n",
        "name_to_number['Владимир'] = '+1 111 111-11-11'\n",
        "print(name_to_number['Владимир'])\n",
        "# через оператор in можно узнать, есть ли ключ в словаре\n",
        "'Владимир' in name_to_number"
      ]
    },
    {
      "cell_type": "code",
      "execution_count": null,
      "id": "67079117",
      "metadata": {
        "ExecuteTime": {
          "end_time": "2021-12-13T18:14:26.483369Z",
          "start_time": "2021-12-13T18:14:26.479619Z"
        },
        "id": "67079117",
        "outputId": "9e05dd01-ee29-44c4-fc1a-70aae9d51970"
      },
      "outputs": [
        {
          "data": {
            "text/plain": [
              "{'Алексей': '+7 123 123-12-34',\n",
              " 'Никита': '+43 321-32-10',\n",
              " 'Владимир': 'hidden'}"
            ]
          },
          "execution_count": 74,
          "metadata": {},
          "output_type": "execute_result"
        }
      ],
      "source": [
        "name_to_number"
      ]
    },
    {
      "cell_type": "code",
      "execution_count": null,
      "id": "495edbc6-1e5d-4c82-8c5b-10a37a9fa51f",
      "metadata": {
        "ExecuteTime": {
          "end_time": "2021-12-13T18:14:14.184332Z",
          "start_time": "2021-12-13T18:14:14.176871Z"
        },
        "id": "495edbc6-1e5d-4c82-8c5b-10a37a9fa51f",
        "outputId": "ba19917b-1062-4853-be91-51f0416d2ff9"
      },
      "outputs": [
        {
          "data": {
            "text/plain": [
              "'hidden'"
            ]
          },
          "execution_count": 73,
          "metadata": {},
          "output_type": "execute_result"
        }
      ],
      "source": [
        "# И точно также можно редактировать через присваиваение\n",
        "name_to_number['Владимир'] = 'hidden'\n",
        "name_to_number['Владимир']"
      ]
    },
    {
      "cell_type": "markdown",
      "id": "4a698587-54d4-4b1b-9a7e-ff14313d66f4",
      "metadata": {
        "id": "4a698587-54d4-4b1b-9a7e-ff14313d66f4"
      },
      "source": [
        "## Условия и циклы\n",
        "Отлично, мы можем хранить много объектов в списках, хранить соответствия между объектами в словаре.\n",
        "\n",
        "Но вместе с кучей объектов приходит вопрос: как их обрабатывать? Писать код на обработку каждого элемента - занятие неблагодарное.\n",
        "К счастью, в Python есть _циклы_, которые позволяют применять набор операций к каждому элементу из списка.\n",
        "\n",
        "### Цикл for\n",
        "Пробегает по всем элементам и выполняет набор операций. Пример:"
      ]
    },
    {
      "cell_type": "code",
      "execution_count": null,
      "id": "66ab8be5-aaab-4b7a-8ffd-8f06eca7fa13",
      "metadata": {
        "ExecuteTime": {
          "end_time": "2021-12-13T18:27:05.364641Z",
          "start_time": "2021-12-13T18:27:05.361427Z"
        },
        "id": "66ab8be5-aaab-4b7a-8ffd-8f06eca7fa13",
        "outputId": "24df435b-4534-4402-8bb7-53d58360b4f0"
      },
      "outputs": [
        {
          "name": "stdout",
          "output_type": "stream",
          "text": [
            "считаем в цикле\n",
            "4.0\n",
            "считаем в цикле\n",
            "5.0\n",
            "считаем в цикле\n",
            "6.0\n",
            "Пишем один раз\n"
          ]
        }
      ],
      "source": [
        "for a in [9, 16, 25]:\n",
        "    print('считаем в цикле')\n",
        "    print(a ** 0.5 + 1)\n",
        "print('Пишем один раз')"
      ]
    },
    {
      "cell_type": "markdown",
      "id": "ac7a30d5-6858-416e-9897-3398a3d58396",
      "metadata": {
        "id": "ac7a30d5-6858-416e-9897-3398a3d58396"
      },
      "source": [
        "Цикл пишется по простому синтаксису:\n",
        "```python\n",
        "for один_элемент in список_или_tuple_или_set:\n",
        "    операция_1\n",
        "    операция_2\n",
        "```\n",
        "В _один_элемент_ на каждом прогоне (или _итерации_) один за другим будут записываться объекты из списка.\n",
        "\n",
        "Обратите внимание на двоеточие в конце строки (:) и отбивку табуляцией (или 4-мя пробелами) - это требования синтаксиса.\n",
        "Через отбивку пробелами Python \"понимает\", какие команды надо повторять в цикле, а какие нет. При этом команды, которые цикл будет повторять раз за разом, называются _телом цикла_.\n",
        "\n",
        "В примере выше первые два `print` идут в цикле, а последний - нет, поэтому он исполняется только один раз. Попробуте добавить в список `[9, 16, 25]` еще несколько значений и посмотрите, как поменяется вывод.\n",
        "\n",
        "Давайте посмотрим, как это может применяться на практике:"
      ]
    },
    {
      "cell_type": "code",
      "execution_count": null,
      "id": "8d02f714-19c1-44f5-a192-222842504ad9",
      "metadata": {
        "ExecuteTime": {
          "end_time": "2021-12-13T18:28:10.312310Z",
          "start_time": "2021-12-13T18:28:10.308599Z"
        },
        "id": "8d02f714-19c1-44f5-a192-222842504ad9",
        "outputId": "99bbc25f-b480-49b1-ee34-f7549ded97bf"
      },
      "outputs": [
        {
          "name": "stdout",
          "output_type": "stream",
          "text": [
            "0\n",
            "1\n",
            "2\n",
            "3\n",
            "4\n"
          ]
        }
      ],
      "source": [
        "# range(n) сгенерирует все числа от 0 до n-1 (последний не входит!)\n",
        "# range очень часто встречается на практике, на нем остановимся детальнее\n",
        "for i in range(5):\n",
        "    print(i)"
      ]
    },
    {
      "cell_type": "code",
      "execution_count": null,
      "id": "519bcc5e-e5e4-42f6-a0fb-656288e97c87",
      "metadata": {
        "ExecuteTime": {
          "end_time": "2021-12-13T18:30:46.848660Z",
          "start_time": "2021-12-13T18:30:46.845498Z"
        },
        "id": "519bcc5e-e5e4-42f6-a0fb-656288e97c87",
        "outputId": "016a0b21-cdb9-490d-cf7d-12026726e7cd"
      },
      "outputs": [
        {
          "name": "stdout",
          "output_type": "stream",
          "text": [
            "Квадрат числа 1 есть 1\n",
            "Квадрат числа 2 есть 4\n",
            "Квадрат числа 3 есть 9\n",
            "Квадрат числа 4 есть 16\n",
            "Квадрат числа 5 есть 25\n",
            "Квадрат числа 6 есть 36\n"
          ]
        }
      ],
      "source": [
        "# range(start, stop) сгенерирует все числа от start до stop - 1\n",
        "for i in range(1, 7):\n",
        "    # f\"что-то\" называется f-string\n",
        "    # через него можно подставить значение Python-выражения прямо в строку\n",
        "    print(f'Квадрат числа {i} есть {i * i}')"
      ]
    },
    {
      "cell_type": "code",
      "execution_count": null,
      "id": "e28bd8b2-eb3f-4391-8875-9327c1fefd86",
      "metadata": {
        "ExecuteTime": {
          "end_time": "2021-12-13T18:33:25.046190Z",
          "start_time": "2021-12-13T18:33:25.042331Z"
        },
        "id": "e28bd8b2-eb3f-4391-8875-9327c1fefd86",
        "outputId": "4677be47-6d1a-4ce5-cf2e-932940390dc2"
      },
      "outputs": [
        {
          "name": "stdout",
          "output_type": "stream",
          "text": [
            "Генерируем четные числа\n",
            "[0, 2, 4, 6, 8, 10, 12]\n"
          ]
        }
      ],
      "source": [
        "print('Генерируем четные числа')\n",
        "# range(start, stop, step) генерирует от start до (stop - 1) с шагом step\n",
        "even_numbers = []\n",
        "for i in range(0, 14, 2):\n",
        "    even_numbers.append(i)\n",
        "print(even_numbers)"
      ]
    },
    {
      "cell_type": "markdown",
      "id": "82e54531-7eeb-4f0e-be8f-ce18d99e3262",
      "metadata": {
        "tags": [],
        "id": "82e54531-7eeb-4f0e-be8f-ce18d99e3262"
      },
      "source": [
        "### Цикл while\n",
        "Если цикл `for` бегал по элементам из набора, то циклу `while` не нужны никакие списки.\n",
        "Он просто прогоняет код в своем _теле цикла_ до тех пор, пока верно некое утверждение.\n",
        "\n",
        "Давайте посмотрим, как это может работать:"
      ]
    },
    {
      "cell_type": "code",
      "execution_count": null,
      "id": "4f4f626c-70ba-46c3-9c3f-a8801dad7f4e",
      "metadata": {
        "ExecuteTime": {
          "end_time": "2021-12-13T18:36:39.429689Z",
          "start_time": "2021-12-13T18:36:39.424281Z"
        },
        "id": "4f4f626c-70ba-46c3-9c3f-a8801dad7f4e",
        "outputId": "89729773-7293-487e-9549-4eeb1f2d485c"
      },
      "outputs": [
        {
          "name": "stdout",
          "output_type": "stream",
          "text": [
            "делится на 2, делим\n",
            "делится на 2, делим\n",
            "делится на 2, делим\n",
            "делится на 2, делим\n",
            "делится на 2, делим\n",
            "делится на 2, делим\n",
            "541\n"
          ]
        }
      ],
      "source": [
        "# Представим, что нас попросили подсчитать, сколько раз число делится на 2\n",
        "number = 34624\n",
        "\n",
        "# Мы заранее не можем знать, сколько раз число поделится на 2 - тут и выручает while\n",
        "while number % 2 == 0:  # кстати, number % 2 == 0 - имеет булевый тип\n",
        "    print('делится на 2, делим')\n",
        "    number //= 2 # то же самое, что number = number // 2\n",
        "print(number)"
      ]
    },
    {
      "cell_type": "markdown",
      "id": "7f6f9762-e842-44d2-8ccc-325b8ca53c7a",
      "metadata": {
        "id": "7f6f9762-e842-44d2-8ccc-325b8ca53c7a"
      },
      "source": [
        "Что делает `==`? Это оператор, проверящий на равенство: `number % 2 == 0` проверяет, равен ли остаток от деления на два нулю (проверка на четность). Если это так, то все конструкция обратится в `True` - это увидит `while` и войдет внутрь цикла.\n",
        "\n",
        "Как только `number % 2 == 0` станет `False` (т.е. остаток перестанет быть нулем), цикл `while` \"увидит\" это и воспримет как сигнал завершения - больше внутрь цикла заходить не будет. После этого выполнится `print(number)`."
      ]
    },
    {
      "cell_type": "markdown",
      "id": "150a07f6-f08c-40ce-9e51-a4c1e00803e8",
      "metadata": {
        "tags": [],
        "id": "150a07f6-f08c-40ce-9e51-a4c1e00803e8"
      },
      "source": [
        "### Условный оператор: `if`\n",
        "\n",
        "Представим ситуацию, когда нам дан на входе список балансов на счетах клиентов и нам надо вывести все счета с отрицательным балансом.\n",
        "В голову приходит сравнивать баланс с нулем и если он меньше нуля, то записать в ответ. Но как объяснить Питону это \"если\"?\n",
        "\n",
        "На помощь приходит оператор `if`:"
      ]
    },
    {
      "cell_type": "code",
      "execution_count": null,
      "id": "5a70cee3-2bb2-4f67-8ddc-58e3831a1167",
      "metadata": {
        "ExecuteTime": {
          "end_time": "2021-12-13T18:42:30.841105Z",
          "start_time": "2021-12-13T18:42:30.837961Z"
        },
        "id": "5a70cee3-2bb2-4f67-8ddc-58e3831a1167",
        "outputId": "4dac0ce2-196f-41b6-e1a4-f5e869815a24"
      },
      "outputs": [
        {
          "name": "stdout",
          "output_type": "stream",
          "text": [
            "число четное\n"
          ]
        }
      ],
      "source": [
        "# Простой пример для затравки: в зависимости от четности пишем разные сообщения\n",
        "number = 4\n",
        "if number % 2 == 0:\n",
        "    print('число четное')\n",
        "else:\n",
        "    print('Число нечетное')"
      ]
    },
    {
      "cell_type": "code",
      "execution_count": null,
      "id": "5711bab4-bd04-4543-8a65-06359d2bef5d",
      "metadata": {
        "ExecuteTime": {
          "end_time": "2021-12-13T18:44:31.808703Z",
          "start_time": "2021-12-13T18:44:31.801201Z"
        },
        "id": "5711bab4-bd04-4543-8a65-06359d2bef5d",
        "outputId": "ca7bd17b-29ae-49cb-e87f-d59f1cc7af6c"
      },
      "outputs": [
        {
          "name": "stdout",
          "output_type": "stream",
          "text": [
            "закончили обрабатывать баланс 1482.0\n",
            "закончили обрабатывать баланс 28182.12\n",
            "-124.42 отрицателен, записываем в ответ\n",
            "закончили обрабатывать баланс -124.42\n",
            "закончили обрабатывать баланс 85.3\n",
            "-23.5 отрицателен, записываем в ответ\n",
            "закончили обрабатывать баланс -23.5\n",
            "закончили обрабатывать баланс 82\n",
            "Отрицательные балансы: [-124.42, -23.5]\n"
          ]
        }
      ],
      "source": [
        "# А теперь поищем счета с отрицательным балансом\n",
        "accounts_balance = [1482.0, 28182.12, -124.42, 85.3, -23.5, 82]  # входные данные\n",
        "\n",
        "# сюда запишем ответ\n",
        "negative_accounts = []\n",
        "# проходимся по всем элементам во входных данных\n",
        "for balance in accounts_balance:\n",
        "    # если значение текущего элемента < 0, то идем во внутрь `if`\n",
        "    if balance < 0:\n",
        "        print(f'{balance} отрицателен, записываем в ответ')\n",
        "        negative_accounts.append(balance)\n",
        "    # выполнится в любом случае, т.к. не находится под властью `if` (отступы важны!)\n",
        "    print(f'закончили обрабатывать баланс {balance}')\n",
        "\n",
        "print(f'Отрицательные балансы: {negative_accounts}')"
      ]
    },
    {
      "cell_type": "markdown",
      "id": "48ce3e26-304c-46e1-ad6d-7d841d78e5ba",
      "metadata": {
        "id": "48ce3e26-304c-46e1-ad6d-7d841d78e5ba"
      },
      "source": [
        "Сразу посмотрим на коснструкцию `if`. Ничего не напоминает? Синтаксис точно такой же, как у `while` - и это не спроста: в Python `for`, `while` и `if` являются _блочными_ конструкциями: они формируют блоки и каким-то образом их контролируют (`for` и `while` формируют блок повторяющихся операций, а `if` формирует блок, который выполнится при определенном условии).\n",
        "\n",
        "`if` достаточно умен, чтобы обрабатывать сразу несколько случаев:"
      ]
    },
    {
      "cell_type": "code",
      "execution_count": null,
      "id": "d0415f18-75c0-452e-b45a-e5096ccd9001",
      "metadata": {
        "ExecuteTime": {
          "end_time": "2021-12-13T18:51:21.658466Z",
          "start_time": "2021-12-13T18:51:12.571897Z"
        },
        "id": "d0415f18-75c0-452e-b45a-e5096ccd9001",
        "outputId": "d3c1e082-f07d-4d6e-eaa3-9f9e8b355379"
      },
      "outputs": [
        {
          "name": "stdout",
          "output_type": "stream",
          "text": [
            "Норвегия\n",
            "Неизвестно\n"
          ]
        }
      ],
      "source": [
        "# input() - это запрос ввода от пользователя\n",
        "# У вас появится внизу строка, куда можно ввести что угодно и это запишется в `name`\n",
        "# Попробуйте ввести в строку \"Москва\" и \"Лондон\" без кавычек (запустите ячейку два раза)\n",
        "name = input()\n",
        "if name == 'Москва':\n",
        "    print('Столица России')\n",
        "# else if\n",
        "elif name == 'Лондон':\n",
        "    print('Столица Великобритании')\n",
        "else:\n",
        "    print('Неизвестно')"
      ]
    },
    {
      "cell_type": "markdown",
      "id": "8f129b45-e6c0-490a-b95f-cd34845e7d35",
      "metadata": {
        "id": "8f129b45-e6c0-490a-b95f-cd34845e7d35"
      },
      "source": [
        "Работает следующим образом: если условие после `if` не выполнено, то идут проверяться условия после `elif` в том порядке, в каком они записаны в коде. Отбирается первое правильное - и в его блок исполняется. Если ничего не нашлось, то выполняется код из `else`.\n",
        "\n",
        "\n",
        "### break, continue\n",
        "Расскажем напоследок про два важных дополнения к `for` и `while`: это команды `break` и `continue`. Оба дают возможность выйти из цикла раньше задуманного:"
      ]
    },
    {
      "cell_type": "code",
      "execution_count": null,
      "id": "d3c07fbf-26b9-4b9b-9674-2230b0c07b03",
      "metadata": {
        "ExecuteTime": {
          "end_time": "2021-12-13T18:53:07.469600Z",
          "start_time": "2021-12-13T18:53:07.463309Z"
        },
        "tags": [],
        "id": "d3c07fbf-26b9-4b9b-9674-2230b0c07b03",
        "outputId": "707302b4-8d7d-4b91-9b88-ca7e3ae830b3"
      },
      "outputs": [
        {
          "name": "stdout",
          "output_type": "stream",
          "text": [
            "see\n",
            "this\n",
            "long\n",
            "sentence\n"
          ]
        }
      ],
      "source": [
        "words = ['see', 'this', 'long', 'sentence', 'here', 'no-show', 'no-show']\n",
        "for i in range(len(words)):\n",
        "    # Если треье слово - вылезаем досрочно\n",
        "    print(words[i])\n",
        "    if i > 2:\n",
        "        # Выведет досрочно из цикла\n",
        "        break"
      ]
    },
    {
      "cell_type": "code",
      "execution_count": null,
      "id": "428672d7-24e4-4e74-976f-27aef8f826df",
      "metadata": {
        "ExecuteTime": {
          "end_time": "2021-12-13T18:59:58.622096Z",
          "start_time": "2021-12-13T18:59:58.617650Z"
        },
        "id": "428672d7-24e4-4e74-976f-27aef8f826df",
        "outputId": "ce442dc4-ffe8-417c-c2d8-830b7253f22f"
      },
      "outputs": [
        {
          "name": "stdout",
          "output_type": "stream",
          "text": [
            "0 0\n",
            "0 1\n",
            "0 2\n",
            "0 3\n",
            "увеличиваем i\n",
            "1 0\n",
            "1 1\n",
            "1 2\n",
            "1 3\n",
            "увеличиваем i\n",
            "2 0\n",
            "2 1\n",
            "2 2\n",
            "2 3\n",
            "увеличиваем i\n",
            "3 0\n",
            "3 1\n",
            "3 2\n",
            "3 3\n",
            "увеличиваем i\n",
            "4 0\n",
            "4 1\n",
            "4 2\n",
            "4 3\n",
            "увеличиваем i\n"
          ]
        }
      ],
      "source": [
        "for i in range(5):\n",
        "    for j in range(7):\n",
        "        print(i, j)\n",
        "        if j > 2:\n",
        "            # Выкинет только из внутреннего цикла\n",
        "            # Увидим, что i в выводе принимает значения 3, 4\n",
        "            # это ожидаемо: break происходит после print(i, j) и одна итерация \"просачивается\"\n",
        "            break\n",
        "    print('увеличиваем i')"
      ]
    },
    {
      "cell_type": "markdown",
      "id": "a5b3885c-1d86-4488-8786-e53cdc37843e",
      "metadata": {
        "id": "a5b3885c-1d86-4488-8786-e53cdc37843e"
      },
      "source": [
        "`continue` работает схожим образом, только не выходит целиком из цикла, а пропускает одну итерацию:"
      ]
    },
    {
      "cell_type": "code",
      "execution_count": null,
      "id": "74ee1b81-40df-473f-a71d-784dc607231f",
      "metadata": {
        "ExecuteTime": {
          "end_time": "2021-12-13T19:01:45.304141Z",
          "start_time": "2021-12-13T19:01:45.297828Z"
        },
        "id": "74ee1b81-40df-473f-a71d-784dc607231f",
        "outputId": "d776e5e5-3fcf-436b-fe5a-8d59cbb08d24"
      },
      "outputs": [
        {
          "name": "stdout",
          "output_type": "stream",
          "text": [
            "starting action: make sandwitch\n",
            "Coffee machine is broken, skipping :(\n",
            "starting action: watch TV\n",
            "starting action: wash plate\n"
          ]
        }
      ],
      "source": [
        "for feature in ['make sandwitch', 'make coffee', 'watch TV', 'wash plate']:\n",
        "    if feature == 'make coffee':\n",
        "        # Пропустим одну итерацию в цикле\n",
        "        print('Coffee machine is broken, skipping :(')\n",
        "        continue\n",
        "    # else уже не нужен - если условие не истинно\n",
        "    # то все равно выйдем на print ниже\n",
        "    # а если истинно - continue гарантирует, что дальше цикл выполняться не будет\n",
        "    print(f'starting action: {feature}')"
      ]
    },
    {
      "cell_type": "markdown",
      "id": "760b3826-e787-48ea-b04f-6b53a74eea14",
      "metadata": {
        "id": "760b3826-e787-48ea-b04f-6b53a74eea14"
      },
      "source": [
        "Для чего это может быть нужно? Иногда в логике цикла бывают отклонения: скажем, определенную комбинацию параметров нельзя обрабатывать циклом - тогда используем `continue`.\n",
        "\n",
        "`break` чаще всего используется в циклах `while` как уточнение, когда останвливать цикл.\n",
        "Пример: в машинном обучении есть алгоритм градиентного спуска, который \"учит\" модель на данных. Процесс \"обучения\" идет по шагам, и часто процесс надо прервать, если новый шаг не привел к улучшению модели - в таких случаях можно применить `break` для выхода."
      ]
    },
    {
      "cell_type": "code",
      "source": [],
      "metadata": {
        "id": "2ezpBszxMrY1"
      },
      "id": "2ezpBszxMrY1",
      "execution_count": null,
      "outputs": []
    },
    {
      "cell_type": "markdown",
      "metadata": {
        "id": "9102949e-c1ba-49fb-99d0-515c2149a898"
      },
      "source": [
        "# Функции, обработка ошибок. Ссылочная модель данных, изменяемые типы. Срезы и работа со строками\n",
        "\n",
        "После изучения функций мы увидим, как вся последующая работа станет проще и структурированнее.\n",
        "\n",
        "Затем мы заглянем немного глубже в структуры, которые изучали. Такие знания здорово выручают: на практике часто совершаются досадные ошибки из-за незнания тех или иных деталей конструкций. Более конкретно, мы узнаем, что такое срезы списка, ссылочная модель, изменяемые и не изменяемые типы данных. Наконец, применим эти знания для продвинутой работы со строками."
      ],
      "id": "9102949e-c1ba-49fb-99d0-515c2149a898"
    },
    {
      "cell_type": "markdown",
      "metadata": {
        "tags": [],
        "id": "3591cb4a-eccf-4dd0-917a-e753d0977c30"
      },
      "source": [
        "## Функции\n",
        "### Зачем нужны функции\n",
        "Функции в Python выполняют схожую функцию, что и указания в устной речи.\n",
        "Когда мы говорим \"Возьми на столе список покупок и сходи за ними в магазин\", человек сразу понимает набор действий, который надо совершить:\n",
        "1. Взять листик со стола и положить себе (листик был бы _аргументом_ функции).\n",
        "2. Сходить в магазин.\n",
        "3. Для каждого товара из листика - найти в магазине и положить в корзину.\n",
        "4. Подойти к кассе и рассчитаться.\n",
        "5. Вернуться домой.\n",
        "6. Отдать покупки (покупки были бы _возвращаемым значением_ функции).\n",
        "\n",
        "При этом человеку не надо каждый раз объяснять, как ходить в магазин - достаточно один раз (обычно это происходит в возрасте 6-7 лет) объяснить, как покупать в магазине.\n",
        "\n",
        "Сохранение действий в одно имя может здорово помочь в разработке:\n",
        "1. Оно уменьшает количество строк кода. Если один раз человеку объяснить, как ходить в магазин, то потом не нужно снова тратить на это слова.\n",
        "2. Оно разбивает код на логические блоки, каждый из которых четко говорит, что он делает. Если мы видим в тексте, что идет описание \"как ходить в магазин\", то мы можем пропустить это описание, если уже знаем, как ходят в магазин, либо же читать только этот кусок, если хотим разобраться. Главное - нам не придется читать весь текст вместе с другими командами и пытаться понять целиком и сразу, что там делается.\n",
        "\n",
        "Давайте рассмотрим игрушечный пример:"
      ],
      "id": "3591cb4a-eccf-4dd0-917a-e753d0977c30"
    },
    {
      "cell_type": "code",
      "execution_count": null,
      "metadata": {
        "ExecuteTime": {
          "end_time": "2021-12-20T17:02:50.736832Z",
          "start_time": "2021-12-20T17:02:31.209509Z"
        },
        "id": "c863aa04-ea61-40bd-bf43-872acf0a6db2",
        "outputId": "7a0ce717-d7a0-45f4-c6e3-899682c1b5f4"
      },
      "outputs": [
        {
          "name": "stdout",
          "output_type": "stream",
          "text": [
            "Please enter your name:Алексей\n",
            "Hello, Алексей\n"
          ]
        }
      ],
      "source": [
        "def say_hello(name):\n",
        "    print(f'Hello, {name}')\n",
        "\n",
        "user_name = input('Please enter your name:')  # в input() можно передать строку - ее Питон выведет, когда будет просить ввести строку\n",
        "say_hello(user_name)"
      ],
      "id": "c863aa04-ea61-40bd-bf43-872acf0a6db2"
    },
    {
      "cell_type": "markdown",
      "metadata": {
        "tags": [],
        "id": "686a99ea-83cc-46b9-abc4-8964e613bb86"
      },
      "source": [
        "В функции мы попросили выполнить ровно одно действие: напечатать `Hello, {name}` с подстановкой значения переменной `name` (для подстановки использовали f-strings, о которых говорили в первой лекции).\n",
        "\n",
        "**Важный момент**: мы нигде до этого не объявляли переменную `name`, но тем не менее уже используем ее в коде функции. Почему так можно, разберемся немного позже, пока только подметим.\n",
        "\n",
        "### Как работать с функциями\n",
        "Жизнь функции состоит из двух этапов: объявления и вызова.\n",
        "Объявление функции - это описание имени функции, всех входных значений, всех совершаемых функцией действий и возвращаемого результата (_в примере отсутствует_, будет ниже).\n",
        "Функция объявляется через слово `def`. Его синтаксис такой:\n",
        "```python\n",
        "def function_name(argument_1, argument_2, ...):\n",
        "    action_1\n",
        "    action_2\n",
        "    ...\n",
        "    return value_to_return\n",
        "```"
      ],
      "id": "686a99ea-83cc-46b9-abc4-8964e613bb86"
    },
    {
      "cell_type": "code",
      "execution_count": null,
      "metadata": {
        "ExecuteTime": {
          "end_time": "2021-12-20T17:08:46.680520Z",
          "start_time": "2021-12-20T17:08:46.674922Z"
        },
        "id": "e531dc3b-352d-4089-ac04-b454ec8f1a67",
        "outputId": "77c638f8-a393-4c81-e7bd-c1d3aa995afd"
      },
      "outputs": [
        {
          "name": "stdout",
          "output_type": "stream",
          "text": [
            "True\n",
            "False\n"
          ]
        }
      ],
      "source": [
        "# Учим Python определять, четное число или нет\n",
        "def is_even(number):  # объявляем по синтаксису выше. Обратите внимание на двоеточие в конце - оно обязательно\n",
        "    # Все команды внутри функции пишутся через табуляцию - как и в циклах.\n",
        "    # Это не удивительно, поскольку команды, которые выполняет функция,\n",
        "    # формируют блок - точно такой же блок, что мы видели в циклах и условиях if\n",
        "    if number % 2 == 0:\n",
        "        return True\n",
        "    else:\n",
        "        return False\n",
        "\n",
        "\n",
        "print(is_even(2))  # вызываем функцию, передавая на вход один аргумент 2\n",
        "print(is_even(9))"
      ],
      "id": "e531dc3b-352d-4089-ac04-b454ec8f1a67"
    },
    {
      "cell_type": "markdown",
      "metadata": {
        "id": "ec23b480-46da-47f0-9038-1b9be1d6e324"
      },
      "source": [
        "Почему же функция \"видит\" переменную под другим именем?\n",
        "\n",
        "Дело в том, что при вызове функций в нее передаются _аргументы_, которые внутри функции будут видны как переменные.\n",
        "В примере выше функция `is_even` принимает один _аргумент_ `number` (такое имя мы указали на этапе _объявления_ функции) и теперь внутри `is_even` (и только там!) можно писать код, считая переменную `number` заданной.\n",
        "Когда мы далее _вызываем функцию_, ей будет передано число `2` как первый аргумент - и далее функция будет \"видеть\" число `2` как переменную с именем `number`.\n",
        "\n",
        "Кстати, мы ранее вызывали функцию `print()` по схожим правилам :)"
      ],
      "id": "ec23b480-46da-47f0-9038-1b9be1d6e324"
    },
    {
      "cell_type": "markdown",
      "metadata": {
        "tags": [],
        "id": "0a8c4692-915e-47e2-98f7-a37bda50acb3"
      },
      "source": [
        "### Чем функции отличаются от циклов\n",
        "На первый взгляд кажется, что для набора повторяющихся операций уже есть циклы.\n",
        "Но функции несколько про другое: вместо того, что повторять набор операций сразу, они \"сохраняют\" этот набор под некоторым именем, чтобы дальше можно было по этому имени выполнить набор целиком. В примере с магазином мы все 6 операций сохранили бы под именем \"сходи в магазин\" и затем периодически бы вызывали этот набор через фразу \"сходи в магазин\"."
      ],
      "id": "0a8c4692-915e-47e2-98f7-a37bda50acb3"
    },
    {
      "cell_type": "code",
      "execution_count": null,
      "metadata": {
        "ExecuteTime": {
          "end_time": "2021-12-20T17:20:13.890573Z",
          "start_time": "2021-12-20T17:20:13.885975Z"
        },
        "id": "82c2a65a-bfb4-4b0c-8800-18b11ff3dd4b"
      },
      "outputs": [],
      "source": [
        "# Попробуем подсчитать прибыль по вкладу, как это делали в первом занятии, но через функции\n",
        "\n",
        "def balance_after_a_year(init_sum, interest_rate):\n",
        "    \"\"\"\n",
        "    Через тройные кавычки (одинарные или двойные - без разницы, но рекомендуют двойные)\n",
        "    можно писать комментарии к функции, по которым потом можно генерировать документацию через сторонние инструменты.\n",
        "    Про документацию мы еще поговорим, а пока что запомним, что сюда лучше писать, что делает функция.\n",
        "\n",
        "    Подсчет баланса через 1 год\n",
        "    \"\"\"\n",
        "    return init_sum * (100 + interest_rate) / 100\n",
        "\n",
        "def full_profit(init_sum, interest_rate, years):\n",
        "    \"\"\"Подсчет баланса через years лет\"\"\"\n",
        "    final_sum = init_sum\n",
        "    for i in range(years):\n",
        "        final_sum = balance_after_a_year(final_sum, interest_rate)\n",
        "    return final_sum - init_sum"
      ],
      "id": "82c2a65a-bfb4-4b0c-8800-18b11ff3dd4b"
    },
    {
      "cell_type": "code",
      "execution_count": null,
      "metadata": {
        "ExecuteTime": {
          "end_time": "2021-12-20T17:20:17.936897Z",
          "start_time": "2021-12-20T17:20:17.922393Z"
        },
        "id": "854687dc-f1a9-45af-88f2-55d29ba2591d",
        "outputId": "eb11f509-4338-4003-a2a4-dc8861ec1e98"
      },
      "outputs": [
        {
          "data": {
            "text/plain": [
              "102.5"
            ]
          },
          "execution_count": 5,
          "metadata": {},
          "output_type": "execute_result"
        }
      ],
      "source": [
        "full_profit(1000, 5, 2)"
      ],
      "id": "854687dc-f1a9-45af-88f2-55d29ba2591d"
    },
    {
      "cell_type": "markdown",
      "metadata": {
        "id": "095f02e5-8985-4370-91b3-966dbb811448"
      },
      "source": [
        "### Аргументы по-умолчанию\n",
        "В примере с балансом выше мы объявили в функции `full_profit`, что она принимает три аргумента.\n",
        "Но это одновременно стало и обузой: теперь этой функции надо передавать обязательно три аргумента.\n",
        "\n",
        "Смотрите сами, сейчас мы получим ошибку:"
      ],
      "id": "095f02e5-8985-4370-91b3-966dbb811448"
    },
    {
      "cell_type": "code",
      "execution_count": null,
      "metadata": {
        "ExecuteTime": {
          "end_time": "2021-12-20T17:24:16.999041Z",
          "start_time": "2021-12-20T17:24:16.991903Z"
        },
        "id": "73cbc59e-4200-4e44-ae30-ca543210b0f5",
        "outputId": "07f41399-6423-442f-ce85-64ef4c4200fb"
      },
      "outputs": [
        {
          "ename": "TypeError",
          "evalue": "full_profit() missing 1 required positional argument: 'years'",
          "output_type": "error",
          "traceback": [
            "\u001b[0;31m---------------------------------------------------------------------------\u001b[0m",
            "\u001b[0;31mTypeError\u001b[0m                                 Traceback (most recent call last)",
            "\u001b[0;32m<ipython-input-8-e14632d4dbd3>\u001b[0m in \u001b[0;36m<module>\u001b[0;34m\u001b[0m\n\u001b[0;32m----> 1\u001b[0;31m \u001b[0mfull_profit\u001b[0m\u001b[0;34m(\u001b[0m\u001b[0;36m1000\u001b[0m\u001b[0;34m,\u001b[0m \u001b[0;36m5\u001b[0m\u001b[0;34m)\u001b[0m\u001b[0;34m\u001b[0m\u001b[0;34m\u001b[0m\u001b[0m\n\u001b[0m",
            "\u001b[0;31mTypeError\u001b[0m: full_profit() missing 1 required positional argument: 'years'"
          ]
        }
      ],
      "source": [
        "full_profit(1000, 5)"
      ],
      "id": "73cbc59e-4200-4e44-ae30-ca543210b0f5"
    },
    {
      "cell_type": "markdown",
      "metadata": {
        "id": "542df40d-2d0e-42b1-8634-3a5eb79180ff"
      },
      "source": [
        "Не пугайтесь красного цвета, все не так плохо! Вы только что увидели свою первую ошибку (или _исключение_, как их могут называть в других языках программирования).\n",
        "\n",
        "В ошибке пишут обычно ее имя (это `TypeError` в последней строке, выделено красным), затем через двоеточие пишут текст ошибки, который должен помочь понять, что пошло не так. У нас это `full_profit() missing 1 required positional argument: 'years'` - функции `full_profit` не хватает одного аргумента `years` (мы передали 2 аргумента, а ожидается 3).\n",
        "\n",
        "К ошибкам надо привыкать, на первых порах они будут у вас встречаться сплошь и рядом :)\n",
        "Не бойтесь читать ошибки, в нх очень часто прячется подсказка, как ее исправить! Обычно самая информативная часть находится в конце текста ошибки, начинать лучше оттуда.\n",
        "\n",
        "Но как же нам быть, если мы хотим вызывать `full_profit` с двумя аргументами? Можно задать _значение по-умолчанию_. Скажем, если `years` не указано, то пусть будет 1 год."
      ],
      "id": "542df40d-2d0e-42b1-8634-3a5eb79180ff"
    },
    {
      "cell_type": "code",
      "execution_count": null,
      "metadata": {
        "ExecuteTime": {
          "end_time": "2021-12-20T17:24:54.703521Z",
          "start_time": "2021-12-20T17:24:54.699920Z"
        },
        "id": "c11df1d2-615c-49c9-9c1f-0ab4b40e9652"
      },
      "outputs": [],
      "source": [
        "# Посмотрите на years=1 - это единственное изменение\n",
        "def full_profit(init_sum, interest_rate, years=1):\n",
        "    \"\"\"Подсчет баланса через years лет\"\"\"\n",
        "    final_sum = init_sum\n",
        "    for i in range(years):\n",
        "        final_sum = balance_after_a_year(final_sum, interest_rate)\n",
        "    return final_sum - init_sum"
      ],
      "id": "c11df1d2-615c-49c9-9c1f-0ab4b40e9652"
    },
    {
      "cell_type": "code",
      "execution_count": null,
      "metadata": {
        "ExecuteTime": {
          "end_time": "2021-12-20T17:25:13.602790Z",
          "start_time": "2021-12-20T17:25:13.598114Z"
        },
        "id": "507c1d52-aaef-4e59-a9b5-dd48aadecb6d",
        "outputId": "54a97b48-1a65-46b5-abd6-94d08b205ec7"
      },
      "outputs": [
        {
          "data": {
            "text/plain": [
              "50.0"
            ]
          },
          "execution_count": 12,
          "metadata": {},
          "output_type": "execute_result"
        }
      ],
      "source": [
        "full_profit(1000, 5)"
      ],
      "id": "507c1d52-aaef-4e59-a9b5-dd48aadecb6d"
    },
    {
      "cell_type": "markdown",
      "metadata": {
        "id": "4a6dbf15-085c-411a-aff6-cd9cf219c657"
      },
      "source": [
        "Значения по-умолчанию можно выставить хоть всем аргументам. Но учтите, что если вы начали с какой-то переменной раздавать значения по-умолчанию, то теперь придется это делать для всех (такая особенность Python)."
      ],
      "id": "4a6dbf15-085c-411a-aff6-cd9cf219c657"
    },
    {
      "cell_type": "code",
      "execution_count": null,
      "metadata": {
        "ExecuteTime": {
          "end_time": "2021-12-20T17:27:47.937218Z",
          "start_time": "2021-12-20T17:27:47.932978Z"
        },
        "id": "a3a36018-1cec-4822-9ae1-0c19b405f522",
        "outputId": "3e895b09-4b59-402e-fe2f-73166f58436c"
      },
      "outputs": [
        {
          "name": "stdout",
          "output_type": "stream",
          "text": [
            "Здравствуйте, Василий Иванович\n",
            "Здравствуйте, Иван Николаевич\n"
          ]
        }
      ],
      "source": [
        "def official_greeting(first_name='Василий', middle_name='Иванович'):\n",
        "    print(f'Здравствуйте, {first_name} {middle_name}')\n",
        "\n",
        "\n",
        "# Тройные кавычки обозначают многострочный комментарий - их можно не только для документации функции использовать\n",
        "# Таким способом можно изолировать \"опасный\" код\n",
        "# Попробуйте убрать тройные кавычки и посмотрите, как возникает ошибка.\n",
        "# Не забудьте вернуть кавычки :)\n",
        "\"\"\"\n",
        "# Код ниже не работает, т.к. middle_name должно иметь значение по-умолчанию, поскольку fist_name перед ним уже имеет\n",
        "# Напишет ошибку \"non-default argument follows default argument\"\n",
        "def official_greeting(first_name=\"Василий\", middle_name):\n",
        "    print(\"Этот код не работает\")\n",
        "\"\"\"\n",
        "\n",
        "official_greeting()\n",
        "official_greeting(\"Иван\", \"Николаевич\")"
      ],
      "id": "a3a36018-1cec-4822-9ae1-0c19b405f522"
    },
    {
      "cell_type": "markdown",
      "metadata": {
        "id": "7f5b4e2a"
      },
      "source": [
        "### Вызов в вызове и call stack\n",
        "Одна функция может в ходе выполнения вызвать другую функцию.\n",
        "В этом случае выполнение \"внешней\" функции приостановится, Python запомнит ее состояние и уйдет выполнять \"внутреннюю\" функцию.\n",
        "Когда внутренняя функция закончит выполняться, Python вернется ко \"внешней\" функции и продолжит ее выполнять с того места, где остановился."
      ],
      "id": "7f5b4e2a"
    },
    {
      "cell_type": "code",
      "execution_count": null,
      "metadata": {
        "ExecuteTime": {
          "end_time": "2021-12-20T17:34:58.959065Z",
          "start_time": "2021-12-20T17:34:58.954488Z"
        },
        "id": "5fcf020a",
        "outputId": "2b981af7-e989-48fb-8c8b-34f1f5646852"
      },
      "outputs": [
        {
          "name": "stdout",
          "output_type": "stream",
          "text": [
            "22\n",
            "входим во внутреннюю функцию\n",
            "считаем a\n",
            "возращаем a\n",
            "печатаем k\n",
            "121 22\n"
          ]
        }
      ],
      "source": [
        "def inner_func(m):\n",
        "    print('считаем a')\n",
        "    a = m // 2\n",
        "    a = a * a\n",
        "    print('возращаем a')\n",
        "    return a\n",
        "\n",
        "def outer_func(num):\n",
        "    num += 2\n",
        "    print(num)\n",
        "    print('входим во внутреннюю функцию')\n",
        "    k = inner_func(num)\n",
        "    print('печатаем k')\n",
        "    print(k, num)\n",
        "\n",
        "outer_func(20)\n",
        "# call stack"
      ],
      "id": "5fcf020a"
    },
    {
      "cell_type": "markdown",
      "metadata": {
        "id": "05bc6968-f1bb-40a0-9118-6e2d00b80554"
      },
      "source": [
        "## Ошибки: как с ними дружить\n",
        "Мы уже встречались с ошибками, но пока только умеем их читать глазами.\n",
        "Уметь обрабатывать ошибки важно, когда речь заходит о построении надежных программ - каждый случай должен быть рассмотрен и программа не должна вылетать с необработанными ошибками.\n",
        "\n",
        "В принципе, exceptions в Python не являются \"ошибками\" в обычном понимании. Это скорее исключительные ситуации - когда программа не знает, что делать в возникшей ситуации, она выбрасывает исключение и прекращает свое выполнение, чтобы не навредить системе дальнейшими командами. Отсюда и название exception (с англ. _исключение_).\n",
        "\n",
        "Как же работать над ошибками в Python?\n",
        "\n",
        "### Базовый синтаксис\n",
        "Ошибки можно и нужно обрабатывать. Для этого в Python есть конструкция `try/except`:"
      ],
      "id": "05bc6968-f1bb-40a0-9118-6e2d00b80554"
    },
    {
      "cell_type": "code",
      "execution_count": null,
      "metadata": {
        "ExecuteTime": {
          "end_time": "2021-12-20T17:46:34.372047Z",
          "start_time": "2021-12-20T17:46:34.368760Z"
        },
        "id": "7b85b5bf-e76b-45ab-9754-494b9cfa0f8d",
        "outputId": "5189db43-9198-4323-bcb9-a31fa3783a83"
      },
      "outputs": [
        {
          "name": "stdout",
          "output_type": "stream",
          "text": [
            "Попытались делить на ноль, я поймал ошибку и не дал пройти дальше\n",
            "Пишем строку после опасного кода, т.к. программа не упала\n"
          ]
        }
      ],
      "source": [
        "try:  # двоеточие в конце обязательно\n",
        "    1 / 0  # табом отбиваем \"опасные\" команды\n",
        "except ZeroDivisionError:  # после except пишем имя ошибки. Встроенных ошибок много, их надо искать в документации\n",
        "    print('Попытались делить на ноль, я поймал ошибку и не дал пройти дальше')\n",
        "\n",
        "print('Пишем строку после опасного кода, т.к. программа не упала')"
      ],
      "id": "7b85b5bf-e76b-45ab-9754-494b9cfa0f8d"
    },
    {
      "cell_type": "markdown",
      "metadata": {
        "id": "9d6a6d6d-e83f-4052-984b-a077ae661a3d"
      },
      "source": [
        "Обратите внимание: опять блоки, обозначенные табами. Почему блоки? Давайте по порядку.\n",
        "\n",
        "`try` определяет блок из \"опасных\" операций - тех, что могут выкинуть ошибку.\n",
        "Затем идет `except` (его нельзя пропустить), в котором пишется имя ошибки, которую он будет \"ловить\", а затем начинается блок операций, которые будут выполнены при поимке _именно этой же_ ошибки. В примере блок `except` ловит ошибку `ZeroDivisionError` и только ее.\n",
        "\n",
        "Список встроенных в Python названий ошибок можно найти в [документации](https://docs.python.org/3/library/exceptions.html#concrete-exceptions).\n",
        "\n",
        "### Обработка нескольких ошибок\n",
        "Как видите, `except` ловит одну ошибку. Что же делать, если ошибок может вылететь несколько? Объявлять несколько блоков `except`:"
      ],
      "id": "9d6a6d6d-e83f-4052-984b-a077ae661a3d"
    },
    {
      "cell_type": "code",
      "execution_count": null,
      "metadata": {
        "ExecuteTime": {
          "end_time": "2021-12-20T17:52:07.109635Z",
          "start_time": "2021-12-20T17:52:07.105394Z"
        },
        "id": "b679011d-eb39-42e8-b46e-346d76d3e405",
        "outputId": "5ff80777-5387-4ef4-b674-9de0bbc1a52a"
      },
      "outputs": [
        {
          "name": "stdout",
          "output_type": "stream",
          "text": [
            "Где-то делят на 0\n"
          ]
        }
      ],
      "source": [
        "a = [1, 0, 3]  # в пустом списке нет a[2], a[1], a[0] - никого из них\n",
        "# В try/except ловится первая вылетевшая ошибка. Раскомментируйте пример ниже\n",
        "# a = [0, 1]  # тут все ок со вторым print, но a[2] не существует, поэтому получим IndexError\n",
        "# А тут уже не ок с ZeroDivisionError, поэтому первый print пройдет, а второй - нет\n",
        "# a = [1, 0, 1]\n",
        "try:\n",
        "    # Если элемента нет, то вылетит ошибка\n",
        "    # ошибка зовется IndexError, очень часто встречается на практике\n",
        "    print(a[2])\n",
        "    print(a[0] / a[1])\n",
        "except IndexError:\n",
        "    print('такого элемента нет')\n",
        "except ZeroDivisionError:\n",
        "    print('Где-то делят на 0')"
      ],
      "id": "b679011d-eb39-42e8-b46e-346d76d3e405"
    },
    {
      "cell_type": "markdown",
      "metadata": {
        "tags": [],
        "id": "466e90a3-2928-43c8-b46c-616f432a4e8f"
      },
      "source": [
        "Как видите, если в `try` закинуть много кода, то часть может пройти, а часть нет - и неясно будет, где конкретно что упало.\n",
        "Поэтому есть рекомендация оборачивать в `try/except` минимальный объем кода - только тот, который действительно может упасть.\n",
        "\n",
        "\n",
        "### Ленивый вариант (не рекомендуется)\n",
        "В `except` есть возможность не указывать ошибку. Но делать так **крайне не рекомендуется**, потому что может привести к очень неочевидным ошибкам дальше в программе. Если вылетит ошибка, которую вы никак не ожидали на этапе разработки, то она просто \"проглотится\" такой конструкцией `except` и программа будет дальше выполняться как ни в чем не бывало - даже если ошибка критична и дальнейшее выполнение может причинить вред аппаратуре, людям, частной информации и т.п."
      ],
      "id": "466e90a3-2928-43c8-b46c-616f432a4e8f"
    },
    {
      "cell_type": "code",
      "execution_count": null,
      "metadata": {
        "ExecuteTime": {
          "end_time": "2021-12-20T17:55:14.242469Z",
          "start_time": "2021-12-20T17:55:14.239607Z"
        },
        "id": "21f2bb88-2e01-4d7c-bb81-b2a91ee07593",
        "outputId": "923262c4-f41b-446b-d4fc-1de09c65c9e7"
      },
      "outputs": [
        {
          "name": "stdout",
          "output_type": "stream",
          "text": [
            "Произошла какая-то ошибка\n"
          ]
        }
      ],
      "source": [
        "try:\n",
        "    1 / 0\n",
        "except:  # не нужно так делать, стоит всегда указывать ошибку, которую ловим\n",
        "    print('Произошла какая-то ошибка')"
      ],
      "id": "21f2bb88-2e01-4d7c-bb81-b2a91ee07593"
    },
    {
      "cell_type": "markdown",
      "metadata": {
        "id": "7e6d0246-c0af-4ebb-87fe-5c526f7422de"
      },
      "source": [
        "Обработку ошибок можно комбинировать с функциями, циклам и другими блоками"
      ],
      "id": "7e6d0246-c0af-4ebb-87fe-5c526f7422de"
    },
    {
      "cell_type": "code",
      "execution_count": null,
      "metadata": {
        "ExecuteTime": {
          "end_time": "2021-12-20T17:59:04.928888Z",
          "start_time": "2021-12-20T17:59:04.924622Z"
        },
        "id": "70adc16f-dbcf-45b1-9e67-b30df10683f1",
        "outputId": "a103b16e-743f-4eea-b210-8816aad1529e"
      },
      "outputs": [
        {
          "name": "stdout",
          "output_type": "stream",
          "text": [
            "Коррректный вызов: вернул 2\n",
            "### Элемент не найден, печатаю все значения для разбора причин: ###\n",
            "### 1 ###\n",
            "Некорректный вызов: вернул None\n"
          ]
        }
      ],
      "source": [
        "def get_second_element(array):\n",
        "    try:\n",
        "        return array[1]\n",
        "    except IndexError:\n",
        "        print('### Элемент не найден, печатаю все значения для разбора причин: ###')\n",
        "        for elem in array:\n",
        "            print(f'### {elem} ###')\n",
        "        return None\n",
        "\n",
        "print(f'Коррректный вызов: вернул {get_second_element((1, 2, 3))}')\n",
        "print(f'Некорректный вызов: вернул {get_second_element([1])}')\n",
        "# Сначала print изнутри функции, потом снаружи - ведь мы должны подсчитать get_second_element([1]), прежде чем его отдать в print()"
      ],
      "id": "70adc16f-dbcf-45b1-9e67-b30df10683f1"
    },
    {
      "cell_type": "markdown",
      "metadata": {
        "id": "e3e3c866-2fba-44c8-ac5a-6119ced96ec0"
      },
      "source": [
        "## Ссылочная модель данных\n",
        "Хорошо, функции могут принимать значения из других переменных себе на вход и проделывать какие-то операции над ними.\n",
        "Предположим, мы редактируем переменную внутри функции. Что будет с нашими изменениями \"снаружи\" функции?\n",
        "\n",
        "Ошибки из-за незнания этого очень легко совершить на начальных этапах. Давайте разбираться на примерах.\n",
        "\n",
        "### Пример с изменением переменной внутри функции\n",
        "Практический пример: в банке, где мы работаем, клиент может установить лимит трат на месяц. Пусть у нас есть список уже понесенных трат за месяц. Выставим проверку на каждую покупку клиента: в момент совершения покупки мысленно добавим ее сумму к списку трат, подсчитаем сумму и сравнивим с лимитом. Если получилось меньше - даем добро, иначе отклоняем. Подчеркнем: пока что покупка не совершена, это только прикидка."
      ],
      "id": "e3e3c866-2fba-44c8-ac5a-6119ced96ec0"
    },
    {
      "cell_type": "code",
      "execution_count": null,
      "metadata": {
        "ExecuteTime": {
          "end_time": "2021-12-20T18:04:49.971274Z",
          "start_time": "2021-12-20T18:04:49.966868Z"
        },
        "id": "d024c205-b96e-4ea2-a739-c0d336f3ed45",
        "outputId": "890ba04c-f8d9-4023-e7af-28c4bd02c83e"
      },
      "outputs": [
        {
          "name": "stdout",
          "output_type": "stream",
          "text": [
            "True\n",
            "False\n"
          ]
        }
      ],
      "source": [
        "def can_purchase(amount, history, limit):\n",
        "    # Добавим в history покупку\n",
        "    history.append(amount)\n",
        "    # Затем просуммируем все элементы в history, сравним с limit и вернем True или False\n",
        "    return sum(history) <= limit\n",
        "\n",
        "\n",
        "# Кажется, что обе функции одинаковы. Но так ли это?\n",
        "limit = 100\n",
        "history = [50, 40]\n",
        "\n",
        "# Приходит параллельно два запроса на покупки (ни одну еще не совершил по факту)\n",
        "# Должно дать добро на покупку, т.к. 90 + 4 <= 100\n",
        "print(can_purchase(4, history, limit))\n",
        "# Тоже должно дать добро, т.к. 90 + 7 <= 100\n",
        "print(can_purchase(7, history, limit))"
      ],
      "id": "d024c205-b96e-4ea2-a739-c0d336f3ed45"
    },
    {
      "cell_type": "markdown",
      "metadata": {
        "id": "06e1214a-ab96-4875-8106-8de7d0388f52"
      },
      "source": [
        "Второй вызов вернул `False`, это что-то не то.\n",
        "Если посмотреть внимательно, то можно увидеть, что 90 + 4 + 7 уже больше 100 - ошибка может быть в этом.\n",
        "\n",
        "Давайте выведем список:"
      ],
      "id": "06e1214a-ab96-4875-8106-8de7d0388f52"
    },
    {
      "cell_type": "code",
      "execution_count": null,
      "metadata": {
        "ExecuteTime": {
          "end_time": "2021-12-20T18:07:55.053649Z",
          "start_time": "2021-12-20T18:07:55.048286Z"
        },
        "id": "c8a4f9e1-bee1-43a4-839e-8d85da4013f2",
        "outputId": "8be0ca21-65d1-48cd-d0a8-813b94886702"
      },
      "outputs": [
        {
          "name": "stdout",
          "output_type": "stream",
          "text": [
            "[50, 40, 4]\n",
            "True\n",
            "[50, 40, 4, 7]\n",
            "False\n"
          ]
        }
      ],
      "source": [
        "def can_purchase(amount, history, limit, do_print=False):\n",
        "    history.append(amount)\n",
        "    if do_print:\n",
        "        print(history)\n",
        "    return sum(history) <= limit\n",
        "\n",
        "\n",
        "limit = 100\n",
        "client_history = [50, 40]\n",
        "\n",
        "print(can_purchase(4, client_history, limit, do_print=True))  # Аргументы можно передавать по имени: явно говорим, что do_print будет равно True\n",
        "print(can_purchase(7, client_history, limit, do_print=True))"
      ],
      "id": "c8a4f9e1-bee1-43a4-839e-8d85da4013f2"
    },
    {
      "cell_type": "markdown",
      "metadata": {
        "id": "92d7ee41-01ea-4da8-a0dd-a126c0004565"
      },
      "source": [
        "Наша догадка подтвердилась: во втором вызове функции список содержал покупку из первого.\n",
        "\n",
        "Хм, а если написать так?"
      ],
      "id": "92d7ee41-01ea-4da8-a0dd-a126c0004565"
    },
    {
      "cell_type": "code",
      "execution_count": null,
      "metadata": {
        "ExecuteTime": {
          "end_time": "2021-12-20T18:08:51.838987Z",
          "start_time": "2021-12-20T18:08:51.833854Z"
        },
        "id": "3c684cf0-4cef-4de9-851b-8fd481458e5d",
        "outputId": "c18d63d2-c7e1-47f8-bb93-92307712b1c7"
      },
      "outputs": [
        {
          "name": "stdout",
          "output_type": "stream",
          "text": [
            "[50, 40, 4]\n",
            "True\n",
            "[50, 40, 7]\n",
            "True\n"
          ]
        }
      ],
      "source": [
        "def can_purchase(amount, history, limit, do_print=False):\n",
        "    local_copy = history.copy()  # работаем с копией history\n",
        "    local_copy.append(amount)\n",
        "    if do_print:\n",
        "        print(local_copy)\n",
        "    return sum(local_copy) <= limit\n",
        "\n",
        "\n",
        "limit = 100\n",
        "client_history = [50, 40]\n",
        "\n",
        "print(can_purchase(4, client_history, limit, do_print=True))\n",
        "print(can_purchase(7, client_history, limit, do_print=True))"
      ],
      "id": "3c684cf0-4cef-4de9-851b-8fd481458e5d"
    },
    {
      "cell_type": "markdown",
      "metadata": {
        "id": "4bb34716-a059-41b0-ad93-6c5b17fc5027"
      },
      "source": [
        "Все стало хорошо! Как же помогло использование `.copy()`?\n",
        "\n",
        "\n",
        "### Модель памяти в Python\n",
        "Придется немного обратиться к модели памяти в Python. Начнем с того, что память компьютера _линейна_ - это значит, что данные в ней лежат длинным сплошным списком из нулей и единиц. Никаких двумерных матриц.\n",
        "Но мы уже знаем, что переменная позволяет записать некоторый объект в определенное имя, не задумываясь об устройстве памяти.\n",
        "Так, мы записали в `history` список `[50, 40]`. Мы можем в него добавлять элементы, удалять их - и не думать о линейности памяти и ее внутреннем устройстве. Как же достигается эта магия?\n",
        "\n",
        "В Python для достижения такого удобства оператор присваивания работает в две стадии (упрощенно):\n",
        "1. Где-то в памяти компьютера резервируется большое место под список и в нем создается список `[50, 40]`.\n",
        "2. Где-то еще в памяти компьютера резервируется маленькое место под имя переменной и в него кладется два значения: имя переменной и адрес в памяти, где должно лежать ее фактическое значения. В адрес памяти кладется фактический адрес созданного в п.1 списка.\n",
        "\n",
        "В результате наша переменная `history` сама по себе не является списком - она является _ссылкой_ на список. Это похоже на ссылки в Интернете: они не содержат в себе сам сайт, но знают его адрес и по ним можно этот сайт открыть.\n",
        "\n",
        "Теперь разберем наш пример.\n",
        "Когда мы на входе функции принимали аргумент `history`, мы по факту принимали указатель на список, который уже заранее был создан.\n",
        "Вызывая `.append()`, мы изменяли список \"на месте\" - добавляли элемент в тот же объект. После такого объект, на который ссылается `history`, изменяется навсегда - он был `[50, 40]`, а становится `[50, 40, 4]`. И следующий вызов функции уже будет получать на вход ссылку, указывающую на список `[50, 40, 4]`.\n",
        "\n",
        "Когда же мы делали `.copy()`, то фактически создавали новый объект в другом месте памяти, куда ушли все значения из `history`, и делали все изменения в новом объекте. Когда функция `can_purchase` завершилась, копия `history` уничтожилась - **в конце выполнения функции все созданные в ней переменные уничтожаются**.\n",
        "\n",
        "### Создать и сразу использовать\n",
        "Есть третий вариант, который свободен от проблем выше. Оператор `+` не изменяет список - он создает новый, куда входят сначала элементы из списка слева, потом элементы из списка справа. Раз мы не меняем ничего, то и ошибки быть не должно.\n",
        "Этот новый объект удалится, как только мы выйдем из функции.\n",
        "\n",
        "\"Создать объект и тут же применить над ним операцию, минуя присваивание\" - хорошая техника в программировании. Только следите за тем, что результат расчета действительно используется только один раз."
      ],
      "id": "4bb34716-a059-41b0-ad93-6c5b17fc5027"
    },
    {
      "cell_type": "code",
      "execution_count": null,
      "metadata": {
        "ExecuteTime": {
          "end_time": "2021-12-20T18:21:04.874232Z",
          "start_time": "2021-12-20T18:21:04.870372Z"
        },
        "id": "7c0300fa-6d88-44cc-8414-827e5002e808",
        "outputId": "27fee935-898a-46a3-d1b2-856192926e05"
      },
      "outputs": [
        {
          "name": "stdout",
          "output_type": "stream",
          "text": [
            "True\n",
            "True\n"
          ]
        }
      ],
      "source": [
        "def can_purchase(amount, history, limit):\n",
        "    # Через + добавим к списку history список из 1 элемент [amount], просуммируем и сравним с limit\n",
        "    # Результат никуда не сохраняем, а сразу используем\n",
        "    return sum(history + [amount]) <= limit\n",
        "\n",
        "limit = 100\n",
        "client_history = [50, 40]\n",
        "\n",
        "print(can_purchase(4, client_history, limit))\n",
        "print(can_purchase(7, client_history, limit))"
      ],
      "id": "7c0300fa-6d88-44cc-8414-827e5002e808"
    },
    {
      "cell_type": "markdown",
      "metadata": {
        "id": "95625bdf-31f0-4bee-a74d-241fdbf45441"
      },
      "source": [
        "## Изменяемые и неизменяемые типы данных\n",
        "В примере выше мы почуяли, что `.append()` изменяет само место в памяти, где лежит список - он добавляет к нему элемент.\n",
        "\n",
        "Такую операцию над своими данными поддерживают не все типы. Некоторые типы данных не дают себя менять - как вы их создали в памяти, такими они и останутся до конца. Такие типы данных называются **неизменяемыми** (англ. _immutable_). Их противоположность - изменяемый объект (англ. _mutable object_).\n",
        "\n",
        "Чтобы сделать изменение в неизменяемых объектах, надо создать новый объект в памяти и положить туда все значения, которые останутся после предлагаемых изменений.\n",
        "\n",
        "### Сложение через копирование\n",
        "К примеру, строки в Python неизменяемые, но тем не менее их можно складывать:"
      ],
      "id": "95625bdf-31f0-4bee-a74d-241fdbf45441"
    },
    {
      "cell_type": "code",
      "execution_count": null,
      "metadata": {
        "ExecuteTime": {
          "end_time": "2021-12-20T18:26:00.509922Z",
          "start_time": "2021-12-20T18:26:00.505632Z"
        },
        "id": "46e1c2c0-bcd4-48a1-9b82-6db97280821e",
        "outputId": "b66612d9-f3f1-4f90-ffad-b09905758995"
      },
      "outputs": [
        {
          "data": {
            "text/plain": [
              "'ab'"
            ]
          },
          "execution_count": 47,
          "metadata": {},
          "output_type": "execute_result"
        }
      ],
      "source": [
        "sum_string = 'a' + 'b'\n",
        "sum_string"
      ],
      "id": "46e1c2c0-bcd4-48a1-9b82-6db97280821e"
    },
    {
      "cell_type": "markdown",
      "metadata": {
        "id": "bd237036-05df-459b-84cd-bb5573a31b5d"
      },
      "source": [
        "Под капотом это работает так: в памяти выделяется место под новую строку, после чего в это место сначала копируется целиком левая строка, потом правая, и ссылка на результат записывается в `sum_string`.\n",
        "Поэтому складывать строки не рекомендуется - вы будете тратить лишние вычисления на копирования внутри памяти.\n",
        "\n",
        "Обычно неизменяемые типы данных не имеют каких-либо функцию или операторов, изменяющих значения, чтобы не путать людей, но могут быть операторы `+` для их сложения (через копирование, как описано выше).\n",
        "\n",
        "Например, кортеж (_tuple_) неизменяем - и у него нет `.append()`, `.delete()`, `.pop()`. Но складывать их можно: как и со строками, создатся копия, состоящия из объектов слева и справа."
      ],
      "id": "bd237036-05df-459b-84cd-bb5573a31b5d"
    },
    {
      "cell_type": "code",
      "execution_count": null,
      "metadata": {
        "ExecuteTime": {
          "end_time": "2021-12-20T18:28:01.081402Z",
          "start_time": "2021-12-20T18:28:01.076842Z"
        },
        "id": "d1f72bfe-9c08-4624-938d-bb4ab4d9805f",
        "outputId": "d18c9fef-2219-474e-8580-e36c64642455"
      },
      "outputs": [
        {
          "data": {
            "text/plain": [
              "(1, 3, 2, 5, 8)"
            ]
          },
          "execution_count": 58,
          "metadata": {},
          "output_type": "execute_result"
        }
      ],
      "source": [
        "(1, 3) + (2, 5, 8)"
      ],
      "id": "d1f72bfe-9c08-4624-938d-bb4ab4d9805f"
    },
    {
      "cell_type": "markdown",
      "metadata": {
        "id": "b02c27a8-2802-4910-94c9-8c6d566e8bc1"
      },
      "source": [
        "На первый вгляд такие знания кажутся тонкостью, но в реальной разработке незнание этих фактов может привести к просадке в производительности из-за необдуманных копирований.\n",
        "\n",
        "### Хэш\n",
        "Есть еще одна причина, почему неизменяемость важна.\n",
        "Для всех встроенных в Python неизменяемых объектов можно **подсчитать хэш**. Это свойство называется _hashable_, т.е. верно утверждение \"tuple is hashable\".\n",
        "\n",
        "Хэш - это некая функция, которая берет на вход объект и считает одно число, причем для разных объектов это число разное.\n",
        "У хэш-функции есть два главных свойства:\n",
        "1. Она быстро считается.\n",
        "2. При малейшем изменении объекта хэш-функция меняется лавинообразно.\n",
        "\n",
        "Хэш-функции позволяют организовать быстрый поиск и быстрое обращение по элементу, поэтому их использует \"под капотом\" _словарь_ и _множество_.\n",
        "Собственно, из-за этого ключом в словаре не может выступать изменяемый объект (например, `list`) - для него нельзя подсчитать хэш.\n"
      ],
      "id": "b02c27a8-2802-4910-94c9-8c6d566e8bc1"
    },
    {
      "cell_type": "markdown",
      "metadata": {
        "id": "2291e6ec-a91a-4816-a425-48dac83a152d"
      },
      "source": [
        "## Срезы\n",
        "Срез - это кусок из списка или кортежа (вообще всего, что имеет упорядоченные индексы).\n",
        "\n",
        "Проще показать:"
      ],
      "id": "2291e6ec-a91a-4816-a425-48dac83a152d"
    },
    {
      "cell_type": "code",
      "execution_count": null,
      "metadata": {
        "ExecuteTime": {
          "end_time": "2021-12-20T18:37:39.020318Z",
          "start_time": "2021-12-20T18:37:39.015778Z"
        },
        "id": "9573cea8-902f-4865-8508-92ba52a4dd5a",
        "outputId": "a0063b99-5295-4443-a786-f0da794a79a1"
      },
      "outputs": [
        {
          "data": {
            "text/plain": [
              "[8, 3]"
            ]
          },
          "execution_count": 59,
          "metadata": {},
          "output_type": "execute_result"
        }
      ],
      "source": [
        "a = [1, 5, 8, 3, 4]\n",
        "a[2:4]  # забрать элементы с третьего по пятый НЕ включительно (третий, четвертый)"
      ],
      "id": "9573cea8-902f-4865-8508-92ba52a4dd5a"
    },
    {
      "cell_type": "code",
      "execution_count": null,
      "metadata": {
        "ExecuteTime": {
          "end_time": "2021-12-20T18:38:12.960593Z",
          "start_time": "2021-12-20T18:38:12.956391Z"
        },
        "id": "45d5d258-8dd5-4aec-80a1-c433f244312d",
        "outputId": "311fbc33-86d5-4996-f486-2f4a57048f90"
      },
      "outputs": [
        {
          "data": {
            "text/plain": [
              "[1, 5, 8, 3]"
            ]
          },
          "execution_count": 61,
          "metadata": {},
          "output_type": "execute_result"
        }
      ],
      "source": [
        "# если опустить первый аргумент, то будет от начала списка\n",
        "a[:4]  # по пятый НЕ включительно"
      ],
      "id": "45d5d258-8dd5-4aec-80a1-c433f244312d"
    },
    {
      "cell_type": "code",
      "execution_count": null,
      "metadata": {
        "ExecuteTime": {
          "end_time": "2021-12-20T18:38:29.451366Z",
          "start_time": "2021-12-20T18:38:29.446260Z"
        },
        "id": "9fdaac31-248f-4dd3-a105-00b28736be9a",
        "outputId": "4a47e724-a1df-40af-d19a-9a290e46d114"
      },
      "outputs": [
        {
          "data": {
            "text/plain": [
              "[8, 3, 4]"
            ]
          },
          "execution_count": 62,
          "metadata": {},
          "output_type": "execute_result"
        }
      ],
      "source": [
        "# если опустить второй аргумент, то будет до конца списка\n",
        "a[2:]"
      ],
      "id": "9fdaac31-248f-4dd3-a105-00b28736be9a"
    },
    {
      "cell_type": "code",
      "execution_count": null,
      "metadata": {
        "ExecuteTime": {
          "end_time": "2021-12-20T18:40:39.418994Z",
          "start_time": "2021-12-20T18:40:39.415235Z"
        },
        "id": "0e4c2d35-af5a-4b69-818c-ec342071d216",
        "outputId": "9096d360-1b52-43da-dbca-5fbd0f8c66d0"
      },
      "outputs": [
        {
          "data": {
            "text/plain": [
              "[5, 8, 3]"
            ]
          },
          "execution_count": 70,
          "metadata": {},
          "output_type": "execute_result"
        }
      ],
      "source": [
        "# нумеровать можно отрицательными числами\n",
        "# ниже описывается пример, как это будет считаться\n",
        "# [1, 5, 8, 3, 4]\n",
        "#  0  1  2  3  4\n",
        "# -5 -4 -3 -2 -1\n",
        "#a[1:len(a)-1]\n",
        "a[1:-1]  # правый конец не включается, поэтому отдаст список со второго по предпоследний элемент"
      ],
      "id": "0e4c2d35-af5a-4b69-818c-ec342071d216"
    },
    {
      "cell_type": "code",
      "execution_count": null,
      "metadata": {
        "ExecuteTime": {
          "end_time": "2021-12-20T18:41:51.864815Z",
          "start_time": "2021-12-20T18:41:51.861281Z"
        },
        "id": "38bed538-d8f6-466b-984c-5fd384ac1fc5",
        "outputId": "6bab1543-4d2a-4147-925a-59f9f4180e34"
      },
      "outputs": [
        {
          "data": {
            "text/plain": [
              "[]"
            ]
          },
          "execution_count": 72,
          "metadata": {},
          "output_type": "execute_result"
        }
      ],
      "source": [
        "# Может ничего не попасть\n",
        "a[-1:-2]"
      ],
      "id": "38bed538-d8f6-466b-984c-5fd384ac1fc5"
    },
    {
      "cell_type": "code",
      "execution_count": null,
      "metadata": {
        "ExecuteTime": {
          "end_time": "2021-12-20T18:42:19.695777Z",
          "start_time": "2021-12-20T18:42:19.692081Z"
        },
        "id": "48cc9f10-8411-403b-bdf1-d442fe36114f",
        "outputId": "47780da1-e5fa-423c-acae-1bfdda82ea95"
      },
      "outputs": [
        {
          "data": {
            "text/plain": [
              "[3]"
            ]
          },
          "execution_count": 73,
          "metadata": {},
          "output_type": "execute_result"
        }
      ],
      "source": [
        "a[-2:-1]"
      ],
      "id": "48cc9f10-8411-403b-bdf1-d442fe36114f"
    },
    {
      "cell_type": "code",
      "execution_count": null,
      "metadata": {
        "ExecuteTime": {
          "end_time": "2021-12-20T18:43:09.433201Z",
          "start_time": "2021-12-20T18:43:09.429538Z"
        },
        "id": "072bfd85-8716-4f6a-ab85-5338ed0eaa0e",
        "outputId": "e58d8f00-9950-4693-c87e-0ad85208fd04"
      },
      "outputs": [
        {
          "data": {
            "text/plain": [
              "[5, 3]"
            ]
          },
          "execution_count": 75,
          "metadata": {},
          "output_type": "execute_result"
        }
      ],
      "source": [
        "# Есть еще третий аргумент - это шаг. Его можно пропустить\n",
        "a[1:4:2]"
      ],
      "id": "072bfd85-8716-4f6a-ab85-5338ed0eaa0e"
    },
    {
      "cell_type": "code",
      "execution_count": null,
      "metadata": {
        "ExecuteTime": {
          "end_time": "2021-12-20T18:44:03.308416Z",
          "start_time": "2021-12-20T18:44:03.304476Z"
        },
        "id": "2b2afd93-5ef2-4377-b47d-1964e1d5ecc3",
        "outputId": "cd271b4b-4ae2-4c00-dffc-87fe1ab4f455"
      },
      "outputs": [
        {
          "data": {
            "text/plain": [
              "[1, 8, 4]"
            ]
          },
          "execution_count": 76,
          "metadata": {},
          "output_type": "execute_result"
        }
      ],
      "source": [
        "a[::2]  # выдаст первый, третий и т.д."
      ],
      "id": "2b2afd93-5ef2-4377-b47d-1964e1d5ecc3"
    },
    {
      "cell_type": "code",
      "execution_count": null,
      "metadata": {
        "ExecuteTime": {
          "end_time": "2021-12-20T18:44:49.963244Z",
          "start_time": "2021-12-20T18:44:49.959372Z"
        },
        "id": "ec8d7628-4603-4be4-af15-a1548dfee0d6",
        "outputId": "211b753a-93ff-4350-cebf-84102a5d1c02"
      },
      "outputs": [
        {
          "data": {
            "text/plain": [
              "[4, 3, 8, 5, 1]"
            ]
          },
          "execution_count": 77,
          "metadata": {},
          "output_type": "execute_result"
        }
      ],
      "source": [
        "a[::-1]  # каждый \"минус первый\" - это каждый первый, только в обратном порядке, т.е. просто развернет лист"
      ],
      "id": "ec8d7628-4603-4be4-af15-a1548dfee0d6"
    },
    {
      "cell_type": "code",
      "execution_count": null,
      "metadata": {
        "ExecuteTime": {
          "end_time": "2021-12-20T18:45:17.552519Z",
          "start_time": "2021-12-20T18:45:17.548594Z"
        },
        "id": "29ecc8a5-601d-4c26-947d-109e06eb7d05",
        "outputId": "2531c6cf-5662-4cd4-8e63-a409c1a82a83"
      },
      "outputs": [
        {
          "data": {
            "text/plain": [
              "[4, 8, 1]"
            ]
          },
          "execution_count": 78,
          "metadata": {},
          "output_type": "execute_result"
        }
      ],
      "source": [
        "# развернет и через один\n",
        "a[::-2]"
      ],
      "id": "29ecc8a5-601d-4c26-947d-109e06eb7d05"
    },
    {
      "cell_type": "code",
      "execution_count": null,
      "metadata": {
        "ExecuteTime": {
          "end_time": "2021-12-20T18:46:00.170165Z",
          "start_time": "2021-12-20T18:46:00.165901Z"
        },
        "id": "f49d24bb-a1ca-4c19-942c-877a2b5e0743",
        "outputId": "af3e9c45-ce5b-44b3-8faa-d51ab1a6baf8"
      },
      "outputs": [
        {
          "data": {
            "text/plain": [
              "[3, 8]"
            ]
          },
          "execution_count": 79,
          "metadata": {},
          "output_type": "execute_result"
        }
      ],
      "source": [
        "a[3:1:-1]  # учтите, что в квадратных скобках индексы задаются от неразвернутого листа\n",
        "# тут левый конец больше правого - при обратном порядке это нормально"
      ],
      "id": "f49d24bb-a1ca-4c19-942c-877a2b5e0743"
    },
    {
      "cell_type": "code",
      "execution_count": null,
      "metadata": {
        "ExecuteTime": {
          "end_time": "2021-12-20T18:46:20.790574Z",
          "start_time": "2021-12-20T18:46:20.786948Z"
        },
        "id": "836d9563-210a-42d0-929f-602dc45670c1",
        "outputId": "e2d7b3cd-3027-4567-efc5-818ca511f055"
      },
      "outputs": [
        {
          "data": {
            "text/plain": [
              "[]"
            ]
          },
          "execution_count": 81,
          "metadata": {},
          "output_type": "execute_result"
        }
      ],
      "source": [
        "# но при прямом это не сработает (от четвертого элемента до второго при движении вправо нет ничего)\n",
        "a[3:1]"
      ],
      "id": "836d9563-210a-42d0-929f-602dc45670c1"
    },
    {
      "cell_type": "markdown",
      "metadata": {
        "id": "c26d138f-1708-4479-be67-970ebdb256bf"
      },
      "source": [
        "Срезы работают над кортежами и строками:"
      ],
      "id": "c26d138f-1708-4479-be67-970ebdb256bf"
    },
    {
      "cell_type": "code",
      "execution_count": null,
      "metadata": {
        "ExecuteTime": {
          "end_time": "2021-12-20T18:46:49.718134Z",
          "start_time": "2021-12-20T18:46:49.714242Z"
        },
        "id": "b3efc6ef-3967-49e5-b932-9af29f692def",
        "outputId": "0371cbcf-f9af-4342-e798-3861a00d0436"
      },
      "outputs": [
        {
          "data": {
            "text/plain": [
              "(5, 9)"
            ]
          },
          "execution_count": 82,
          "metadata": {},
          "output_type": "execute_result"
        }
      ],
      "source": [
        "(1, 5, 9)[1:]"
      ],
      "id": "b3efc6ef-3967-49e5-b932-9af29f692def"
    },
    {
      "cell_type": "code",
      "execution_count": null,
      "metadata": {
        "ExecuteTime": {
          "end_time": "2021-12-20T18:46:52.915610Z",
          "start_time": "2021-12-20T18:46:52.911427Z"
        },
        "id": "fe3fc11a-de83-4637-a51f-8b5fbafa799c",
        "outputId": "445d7f75-798f-449f-ea56-518d4a19e900"
      },
      "outputs": [
        {
          "data": {
            "text/plain": [
              "'oll'"
            ]
          },
          "execution_count": 83,
          "metadata": {},
          "output_type": "execute_result"
        }
      ],
      "source": [
        "'hello'[:1:-1]"
      ],
      "id": "fe3fc11a-de83-4637-a51f-8b5fbafa799c"
    },
    {
      "cell_type": "markdown",
      "metadata": {
        "id": "284606bb-bbba-4874-b123-e97bc7906729"
      },
      "source": [
        "## Продвинутая работа со строками\n",
        "В оставшемся куске рассмотрим приемы со строками, которые часто используются на практике."
      ],
      "id": "284606bb-bbba-4874-b123-e97bc7906729"
    },
    {
      "cell_type": "code",
      "execution_count": null,
      "metadata": {
        "ExecuteTime": {
          "end_time": "2021-12-20T18:49:52.217668Z",
          "start_time": "2021-12-20T18:49:52.214040Z"
        },
        "id": "62798679-6528-4dbe-a224-decc1935b08a",
        "outputId": "a65399cd-ab4a-4e04-94bd-841f7ebff19b"
      },
      "outputs": [
        {
          "data": {
            "text/plain": [
              "True"
            ]
          },
          "execution_count": 87,
          "metadata": {},
          "output_type": "execute_result"
        }
      ],
      "source": [
        "# проверка символа\n",
        "'l' in 'hello'"
      ],
      "id": "62798679-6528-4dbe-a224-decc1935b08a"
    },
    {
      "cell_type": "code",
      "execution_count": null,
      "metadata": {
        "ExecuteTime": {
          "end_time": "2021-12-20T18:50:00.158095Z",
          "start_time": "2021-12-20T18:50:00.155253Z"
        },
        "id": "0da00f2c-0b01-4ee1-a9da-7785d7ecf72a",
        "outputId": "4c9da982-a71e-4570-a305-e58cb5279188"
      },
      "outputs": [
        {
          "name": "stdout",
          "output_type": "stream",
          "text": [
            "True\n",
            "False\n"
          ]
        }
      ],
      "source": [
        "# проверка подстроки\n",
        "print('ll' in 'hello')\n",
        "print('wl' in 'hello')"
      ],
      "id": "0da00f2c-0b01-4ee1-a9da-7785d7ecf72a"
    },
    {
      "cell_type": "code",
      "execution_count": null,
      "metadata": {
        "ExecuteTime": {
          "end_time": "2021-12-20T18:50:42.283922Z",
          "start_time": "2021-12-20T18:50:42.281341Z"
        },
        "id": "994ad14a-4fd0-4b6f-8979-5a2c816631b7",
        "outputId": "46e4447d-960a-4bb8-d62c-b122babe8c3f"
      },
      "outputs": [
        {
          "name": "stdout",
          "output_type": "stream",
          "text": [
            "hello\n",
            "HELLO\n"
          ]
        }
      ],
      "source": [
        "# регистр\n",
        "print('HeLlO'.lower())\n",
        "print('hello'.upper())"
      ],
      "id": "994ad14a-4fd0-4b6f-8979-5a2c816631b7"
    },
    {
      "cell_type": "code",
      "execution_count": null,
      "metadata": {
        "ExecuteTime": {
          "end_time": "2021-12-20T18:52:32.752934Z",
          "start_time": "2021-12-20T18:52:32.750004Z"
        },
        "id": "139e282a-cc37-4a43-8367-9b5c57533b42",
        "outputId": "cb2e0f1c-e927-41be-8b73-39a5d7c065c3"
      },
      "outputs": [
        {
          "name": "stdout",
          "output_type": "stream",
          "text": [
            "True\n",
            "False\n"
          ]
        }
      ],
      "source": [
        "# В нижнем ли регистре\n",
        "print('hello'.islower())\n",
        "print('Hello'.islower())"
      ],
      "id": "139e282a-cc37-4a43-8367-9b5c57533b42"
    },
    {
      "cell_type": "code",
      "execution_count": null,
      "metadata": {
        "ExecuteTime": {
          "end_time": "2021-12-20T18:52:47.898471Z",
          "start_time": "2021-12-20T18:52:47.895203Z"
        },
        "id": "73bfa9a8-2da5-4ec1-a3da-652398372ea5",
        "outputId": "ecb4f6be-a447-47c2-f894-e29283b71ab5"
      },
      "outputs": [
        {
          "name": "stdout",
          "output_type": "stream",
          "text": [
            "True\n"
          ]
        }
      ],
      "source": [
        "# В верхнем ли регистре\n",
        "print('HELLO'.isupper())"
      ],
      "id": "73bfa9a8-2da5-4ec1-a3da-652398372ea5"
    },
    {
      "cell_type": "code",
      "execution_count": null,
      "metadata": {
        "ExecuteTime": {
          "end_time": "2021-12-20T18:53:36.746085Z",
          "start_time": "2021-12-20T18:53:36.742348Z"
        },
        "id": "7ab1e67e-a4af-4e26-9afe-e11d50136670",
        "outputId": "911d47b3-1545-4b31-85d7-ed588b9a4868"
      },
      "outputs": [
        {
          "data": {
            "text/plain": [
              "'hemmo mmevo'"
            ]
          },
          "execution_count": 93,
          "metadata": {},
          "output_type": "execute_result"
        }
      ],
      "source": [
        "# Поменять все найденные куски\n",
        "# .replace(кого, на_что)\n",
        "'hello llevo'.replace('ll', 'mm')"
      ],
      "id": "7ab1e67e-a4af-4e26-9afe-e11d50136670"
    },
    {
      "cell_type": "code",
      "execution_count": null,
      "metadata": {
        "ExecuteTime": {
          "end_time": "2021-12-20T18:54:00.897933Z",
          "start_time": "2021-12-20T18:54:00.894147Z"
        },
        "id": "5698b685-4598-4093-99f3-a467639b2d33",
        "outputId": "93a2888a-9e3c-45ed-c86f-0815ec07b11e"
      },
      "outputs": [
        {
          "data": {
            "text/plain": [
              "'abra'"
            ]
          },
          "execution_count": 94,
          "metadata": {},
          "output_type": "execute_result"
        }
      ],
      "source": [
        "'abra'.replace('zz', 'ww')  # если не нашел, то ничего не делает"
      ],
      "id": "5698b685-4598-4093-99f3-a467639b2d33"
    },
    {
      "cell_type": "code",
      "execution_count": null,
      "metadata": {
        "ExecuteTime": {
          "end_time": "2021-12-20T18:54:48.778973Z",
          "start_time": "2021-12-20T18:54:48.774890Z"
        },
        "id": "6f5da3af-304e-4c75-adf0-8afed4e535fd",
        "outputId": "5df15db4-b000-46af-e1c0-0d58d8728d31"
      },
      "outputs": [
        {
          "data": {
            "text/plain": [
              "['Сегодня', 'чудесный', 'день']"
            ]
          },
          "execution_count": 95,
          "metadata": {},
          "output_type": "execute_result"
        }
      ],
      "source": [
        "# Разбить строку по пробелам\n",
        "'Сегодня чудесный день'.split()"
      ],
      "id": "6f5da3af-304e-4c75-adf0-8afed4e535fd"
    },
    {
      "cell_type": "code",
      "execution_count": null,
      "metadata": {
        "ExecuteTime": {
          "end_time": "2021-12-20T18:58:45.407452Z",
          "start_time": "2021-12-20T18:58:42.069266Z"
        },
        "id": "5bd6be61",
        "outputId": "ce73954b-7bd1-4f82-c41e-d545953af849"
      },
      "outputs": [
        {
          "name": "stdout",
          "output_type": "stream",
          "text": [
            "Алексей Кожарин\n"
          ]
        }
      ],
      "source": [
        "name, surname = input().split()"
      ],
      "id": "5bd6be61"
    },
    {
      "cell_type": "code",
      "execution_count": null,
      "metadata": {
        "ExecuteTime": {
          "end_time": "2021-12-20T18:58:47.111355Z",
          "start_time": "2021-12-20T18:58:47.107622Z"
        },
        "id": "b7ab5c94",
        "outputId": "6e401623-e027-45bc-f690-11a51e3195c5"
      },
      "outputs": [
        {
          "data": {
            "text/plain": [
              "'Алексей'"
            ]
          },
          "execution_count": 101,
          "metadata": {},
          "output_type": "execute_result"
        }
      ],
      "source": [
        "name"
      ],
      "id": "b7ab5c94"
    },
    {
      "cell_type": "code",
      "execution_count": null,
      "metadata": {
        "ExecuteTime": {
          "end_time": "2021-12-20T18:58:47.667309Z",
          "start_time": "2021-12-20T18:58:47.660736Z"
        },
        "id": "53436104",
        "outputId": "45bc933e-5720-4b9b-fa64-e5cfeb64bebc"
      },
      "outputs": [
        {
          "data": {
            "text/plain": [
              "'Кожарин'"
            ]
          },
          "execution_count": 102,
          "metadata": {},
          "output_type": "execute_result"
        }
      ],
      "source": [
        "surname"
      ],
      "id": "53436104"
    },
    {
      "cell_type": "code",
      "execution_count": null,
      "metadata": {
        "ExecuteTime": {
          "end_time": "2021-12-20T18:59:42.087788Z",
          "start_time": "2021-12-20T18:59:42.084156Z"
        },
        "id": "2b7609cb-7eee-4154-8978-5328d7809370",
        "outputId": "b510066e-93a2-403e-f348-57baf730b340"
      },
      "outputs": [
        {
          "data": {
            "text/plain": [
              "'После опознания текста много    пробелов'"
            ]
          },
          "execution_count": 103,
          "metadata": {},
          "output_type": "execute_result"
        }
      ],
      "source": [
        "# Убрать мусорные пробелы вокруг строки (но не внутри!)\n",
        "'   После опознания текста много    пробелов     '.strip()"
      ],
      "id": "2b7609cb-7eee-4154-8978-5328d7809370"
    },
    {
      "cell_type": "code",
      "execution_count": null,
      "metadata": {
        "ExecuteTime": {
          "end_time": "2021-12-20T19:02:01.398555Z",
          "start_time": "2021-12-20T19:02:01.393842Z"
        },
        "id": "ef69ea12-b210-48a5-8186-7042d41b232a",
        "outputId": "7159ef89-0ee0-4f5e-f980-b0d3018f2278"
      },
      "outputs": [
        {
          "data": {
            "text/plain": [
              "['После', 'опознания', 'текста', 'много', 'пробелов']"
            ]
          },
          "execution_count": 107,
          "metadata": {},
          "output_type": "execute_result"
        }
      ],
      "source": [
        "# Хорошо комбинировать split() и strip()\n",
        "bad_string = '   После опознания текста много    пробелов     '\n",
        "result = []\n",
        "for word in (bad_string.strip()).split():\n",
        "    result.append(word)\n",
        "\n",
        "result"
      ],
      "id": "ef69ea12-b210-48a5-8186-7042d41b232a"
    },
    {
      "cell_type": "markdown",
      "metadata": {
        "id": "75e3b0eb"
      },
      "source": [
        "Запомните `split()` и `strip()` - с ними часто приходится иметь дело на практике."
      ],
      "id": "75e3b0eb"
    },
    {
      "cell_type": "code",
      "source": [],
      "metadata": {
        "id": "vJzEG3GaN_-l"
      },
      "id": "vJzEG3GaN_-l",
      "execution_count": null,
      "outputs": []
    },
    {
      "cell_type": "markdown",
      "metadata": {
        "id": "c714d313"
      },
      "source": [
        "# Сторонние библиотеки\n",
        "Мы уже много узнали про встроенные структуры данных (`list`, `dict`, `set`, `tuple`) и про функции над ними.\n",
        "Но Python не стал бы таким популярным, если бы не написанные к нему библиотеки :)\n",
        "\n",
        "Сейчас мы рассмотрим, как импортировать библиотеки и потыкаем несколько встроенных в Python библиотек.\n",
        "\n",
        "\n",
        "## Что такое библиотека\n",
        "Библиотека - это набор готовых функций и переменных, которые можно использовать в своем коде. В Python уже есть несколько встроенных библиотек, которые мы уже можем использовать.\n",
        "\n",
        "Библиотеки могут также называть _пакетами_. В повествовании мы будем иногда их так называть, не пугайтесь - это одно и то же.\n",
        "\n",
        "### Простой импорт на примере `datetime`\n",
        "Практический пример: в анализе данных часто приходится иметь дело с датами. Давайте посмотрим, как работать с ними через библиотеку `datetime`:"
      ],
      "id": "c714d313"
    },
    {
      "cell_type": "code",
      "execution_count": null,
      "metadata": {
        "ExecuteTime": {
          "end_time": "2021-12-28T16:05:59.848071Z",
          "start_time": "2021-12-28T16:05:59.826500Z"
        },
        "id": "22a78c2e"
      },
      "outputs": [],
      "source": [
        "# просим подключить библиотеку под названием datetime\n",
        "import datetime\n",
        "\n",
        "# синтаксис простой\n",
        "\n",
        "# import название_библиотеки"
      ],
      "id": "22a78c2e"
    },
    {
      "cell_type": "code",
      "execution_count": null,
      "metadata": {
        "ExecuteTime": {
          "end_time": "2021-12-28T16:07:50.826262Z",
          "start_time": "2021-12-28T16:07:50.815012Z"
        },
        "id": "3413c723",
        "outputId": "a5d3f7ff-c09c-45ab-e342-7a2779d94f09"
      },
      "outputs": [
        {
          "name": "stdout",
          "output_type": "stream",
          "text": [
            "2022-01-07\n"
          ]
        }
      ],
      "source": [
        "# теперь можно обращаться к библиотеке через ее название и точку\n",
        "# вызовем date() из библиотеки datetime\n",
        "christmas_day = datetime.date(year=2022, month=1, day=7)  # явно передаем имя аргумента, не привязываясь к порядку\n",
        "print(christmas_day)"
      ],
      "id": "3413c723"
    },
    {
      "cell_type": "code",
      "execution_count": null,
      "metadata": {
        "ExecuteTime": {
          "end_time": "2021-12-28T16:14:39.353742Z",
          "start_time": "2021-12-28T16:14:39.348353Z"
        },
        "id": "240f6621",
        "outputId": "d4748036-b5e7-4e0e-e655-0bd5031e0343"
      },
      "outputs": [
        {
          "name": "stdout",
          "output_type": "stream",
          "text": [
            "Месяц 3\n",
            "День 4\n",
            "Час 13\n",
            "Минута 55\n",
            "Секунда 34\n"
          ]
        }
      ],
      "source": [
        "# в datetime куча полезностей для работы со временем.\n",
        "# Например, можно писать точную дату и время\n",
        "# для этого вызовем datetime() из библиотеки datetime (да, такая тавтология)\n",
        "# она вернет объект с датой и временем\n",
        "some_time = datetime.datetime(2022, 3, 4, 13, 55, 34)\n",
        "\n",
        "print(f'Месяц {some_time.month}')\n",
        "print(f'День {some_time.day}')\n",
        "print(f'Час {some_time.hour}')\n",
        "print(f'Минута {some_time.minute}')\n",
        "print(f'Секунда {some_time.second}')"
      ],
      "id": "240f6621"
    },
    {
      "cell_type": "code",
      "execution_count": null,
      "metadata": {
        "ExecuteTime": {
          "end_time": "2021-12-28T16:17:19.297302Z",
          "start_time": "2021-12-28T16:17:19.292789Z"
        },
        "id": "cfe24e24",
        "outputId": "d6a821bc-e42b-435e-d1c6-ef8e2c1ede2e"
      },
      "outputs": [
        {
          "name": "stdout",
          "output_type": "stream",
          "text": [
            "2021-05-11\n"
          ]
        }
      ],
      "source": [
        "# Сложение и вычитание дат/веремени делается через timedelta\n",
        "delta_1 = datetime.timedelta(days=60)\n",
        "\n",
        "# Прибавляем 60 дней к дате 2021-03-12\n",
        "print(datetime.date(2021, 3, 12) + delta_1)"
      ],
      "id": "cfe24e24"
    },
    {
      "cell_type": "markdown",
      "metadata": {
        "id": "abc33387"
      },
      "source": [
        "В пакете `datetime` (иногда пакеты называют _модулями_, хотя это не совсем корректно) есть много другого.\n",
        "Подробнее про `datetime` можно прочитать в [блоге pythonworld.ru](https://pythonworld.ru/moduli/modul-datetime.html)."
      ],
      "id": "abc33387"
    },
    {
      "cell_type": "markdown",
      "metadata": {
        "id": "c8b7da11"
      },
      "source": [
        "### Импорт через `from` на примере  `collections`\n",
        "`collections` - еще одна полезная встроенная библиотека.\n",
        "Содержит дополнительные структуры данных, упрощающие жизнь.\n",
        "\n",
        "На практике часто используются `defaultdict` и `Counter`.\n",
        "#### `defaultdict`"
      ],
      "id": "c8b7da11"
    },
    {
      "cell_type": "code",
      "execution_count": null,
      "metadata": {
        "ExecuteTime": {
          "end_time": "2021-12-28T16:24:38.616360Z",
          "start_time": "2021-12-28T16:24:38.611864Z"
        },
        "id": "58a578d4",
        "outputId": "c75f8b6c-1b6e-44bb-8691-32d58f5be65b"
      },
      "outputs": [
        {
          "name": "stdout",
          "output_type": "stream",
          "text": [
            "defaultdict(<class 'int'>, {})\n",
            "0\n",
            "defaultdict(<class 'int'>, {'this key does not exist': 0})\n"
          ]
        }
      ],
      "source": [
        "# можно подключать не всю библиотеку, а отдельные объекты из нее\n",
        "# подключим defaultdict и Counter из библиотеки collections\n",
        "from collections import defaultdict, Counter\n",
        "\n",
        "# общий синтаксис:\n",
        "\n",
        "# from название_библиотеки import объект_1, объект_2, объект_3\n",
        "\n",
        "\"\"\"\n",
        "defaultdict - это обычный словарь, но при обращению к несуществующему элементу\n",
        "он не выбрасывает ошибку, а создает его\n",
        "\"\"\"\n",
        "d = defaultdict(int)  # говорим, чтобы создавалось число 0 при остутствии элемента\n",
        "# Почему defaultdict(int), а не defaultdict(0) - поговорим позже\n",
        "print(d)\n",
        "print(d[\"this key does not exist\"])\n",
        "print(d)"
      ],
      "id": "58a578d4"
    },
    {
      "cell_type": "markdown",
      "metadata": {
        "id": "ba9bbe97"
      },
      "source": [
        "Видим, что при обращении к элементу `\"this key does not exist\"` он создался в словаре со значением `int()` - это нуль (убедитесь сами).\n",
        "Обычный `dict` в этом случае бы выбросил ошибку.\n",
        "\n",
        "####  `Counter`\n",
        "`Counter` принимает на вход список, считает в нем элементы и возвращает словарь с результатом"
      ],
      "id": "ba9bbe97"
    },
    {
      "cell_type": "code",
      "execution_count": null,
      "metadata": {
        "ExecuteTime": {
          "end_time": "2021-12-28T16:29:42.891359Z",
          "start_time": "2021-12-28T16:29:42.885611Z"
        },
        "id": "ac757308",
        "outputId": "9105713f-0c9b-445f-a57e-77dab4b106e4"
      },
      "outputs": [
        {
          "data": {
            "text/plain": [
              "Counter({1: 2, 3: 3, 'a': 1, 'm': 1, None: 1, (): 1})"
            ]
          },
          "execution_count": 12,
          "metadata": {},
          "output_type": "execute_result"
        }
      ],
      "source": [
        "array = [1, 3, 'a', 'm', 1, None, 3, 3, ()]\n",
        "\n",
        "c = Counter(array)\n",
        "c"
      ],
      "id": "ac757308"
    },
    {
      "cell_type": "markdown",
      "metadata": {
        "id": "fdac6ab1"
      },
      "source": [
        "Число `1` встретилось два раза, число `3` встретилось 3 раза, остальные элементы - по одному разу.\n",
        "\n",
        "Обратите внимание: ключами в словаре могут быть только неизменяемые объекты.\n",
        "Поэтому на вход в `Counter()` могут поступать только списки с неизменяемыми объектами."
      ],
      "id": "fdac6ab1"
    },
    {
      "cell_type": "code",
      "execution_count": null,
      "metadata": {
        "ExecuteTime": {
          "end_time": "2021-12-28T16:31:08.189111Z",
          "start_time": "2021-12-28T16:31:08.181794Z"
        },
        "id": "18bbdf26",
        "outputId": "175d2d2c-0b1f-4d29-a71d-45cf8e5a6205"
      },
      "outputs": [
        {
          "name": "stdout",
          "output_type": "stream",
          "text": [
            "Counter({1: 3, 3: 3, 'a': 1, 'm': 1, None: 1, (): 1})\n",
            "Counter({1: 3, 3: 3, 'a': None, 'm': 1, None: 1, (): 1})\n"
          ]
        }
      ],
      "source": [
        "# Counter - это такой же словарь, как и dict\n",
        "c[1] += 1\n",
        "print(c)\n",
        "\n",
        "c['a'] = None\n",
        "print(c)"
      ],
      "id": "18bbdf26"
    },
    {
      "cell_type": "markdown",
      "metadata": {
        "id": "dabae385"
      },
      "source": [
        "### Импорт через `as` на примере\n",
        "Конструкция `as` позволяет обращаться к пакету по другому имени в коде.\n",
        "Это полезно, когда название пакета длинное и не хочется его полностью писать каждый раз.\n",
        "\n",
        "Мы чуть позже сталкнемся с полезными примерами, пока что рассмотрим искусственный:"
      ],
      "id": "dabae385"
    },
    {
      "cell_type": "code",
      "execution_count": null,
      "metadata": {
        "ExecuteTime": {
          "end_time": "2021-12-28T16:35:47.972371Z",
          "start_time": "2021-12-28T16:35:47.966916Z"
        },
        "id": "1506a30e",
        "outputId": "a2dd01c4-867a-4816-91af-1fccf68aded8"
      },
      "outputs": [
        {
          "data": {
            "text/plain": [
              "'{\"a\": true}'"
            ]
          },
          "execution_count": 18,
          "metadata": {},
          "output_type": "execute_result"
        }
      ],
      "source": [
        "import json as j\n",
        "\n",
        "# Преобразует словарь в JSON-формат\n",
        "j.dumps({'a': True})"
      ],
      "id": "1506a30e"
    },
    {
      "cell_type": "markdown",
      "metadata": {
        "id": "85389f1a"
      },
      "source": [
        "Этот код равносилен коду:"
      ],
      "id": "85389f1a"
    },
    {
      "cell_type": "code",
      "execution_count": null,
      "metadata": {
        "ExecuteTime": {
          "end_time": "2021-12-28T16:35:59.595845Z",
          "start_time": "2021-12-28T16:35:59.590598Z"
        },
        "id": "e0d39208",
        "outputId": "c332ce8f-7b25-412b-88fd-8642b01bda51"
      },
      "outputs": [
        {
          "data": {
            "text/plain": [
              "'{\"a\": true}'"
            ]
          },
          "execution_count": 19,
          "metadata": {},
          "output_type": "execute_result"
        }
      ],
      "source": [
        "import json\n",
        "json.dumps({'a': True})"
      ],
      "id": "e0d39208"
    },
    {
      "cell_type": "markdown",
      "metadata": {
        "id": "ec79bfc1"
      },
      "source": [
        "# Обзор jupyter, numpy, pandas, matplotlib\n",
        "\n",
        "Наших знаний достаточно, чтобы наконец познакомиться с главными инструментами в арсенале DS: `numpy`, `pandas`, `matplotlib`.\n",
        "Более того, мы достаточно освоились в Jupyter Notebook, чтобы пользоваться его продвинутыми командами.\n",
        "\n",
        "Почему изучать именно эти библиотеки?\n",
        "Без `pandas` не проходит и дня в работе DS: он используется для исследования данных, их преобразования, проверки гипотез, загрузки/выгрузки и много другого.\n",
        "`pandas` очень шустро работает, намного быстрее встренных в Python возможностей.\n",
        "\n",
        "Высокая скорость обработки в `pandas` дарит нам библиотека `numpy`. Хотя `numpy` сам по себе используется чуть реже в анализе данных, он очень важен - многие библиотеки для ML \"под капотом\" используют `numpy` для быстрых вычислений. О нем более подробно поговорим в блоке про машинное обучение.\n",
        "\n",
        "Наконец, для любого хорошего отчета необходима визуализация результатов. Для построения графиков чаще всего используется `matplotlib` и основнные на ней библиотеки (`seaborn`, к примеру). Про визуализацию подробнее поговорим в модуле \"Машинное обучение\".\n",
        "\n",
        "Поехали! Сначала разберемся с плюшками Jupyter Notebook, затем обзорно пройдемся по `numpy`, `pandas` и `matplotib`. В таком порядке будет удобнее знакомиться с каждым инструментом.\n",
        "\n",
        "## Jupyter: продвинутые команды"
      ],
      "id": "ec79bfc1"
    },
    {
      "cell_type": "markdown",
      "metadata": {
        "id": "5bab6e07"
      },
      "source": [
        "### Ячейки\n",
        "Весь Jupyter notebook состоит из _ячеек_ (англ. _cell_).\n",
        "\n",
        "Ячейки в ноутбуке бывают трех типов:\n",
        "1. `code` - содержат Python-код, который Jupyter выполнит.\n",
        "2. `text` - содержат текст в разметке Markdown.\n",
        "3. `raw` - содержат любые символы, которые Jupyter не будет пытаться как-либо выполнить (на практике используется редко).\n",
        "\n",
        "Эта ячейка имеет тип `text`, и в ней написан текст. Если вы кликнете по ней два раза, то откроется исходный код текста - он станет немного другим.\n",
        "Все дело в разметке: Markdown использует специальные символы для обозначения привычных вещей в тексте. Попробуйте кликнуть два раза по этому тексту и посмотрите на результат.\n",
        "\n",
        "Чтобы выйти из исходного кода, можно нажать `Esc` (фон текста станет серее), но текст при этом останется некрасивым (или, корректнее, без применения разметки) - jupyter не прогонит его через себя и не превратит в красивый текст. Чтобы попросить Jupyter применить разметку, надо кликнуть на ячейку и нажать `Ctrl + Enter`.\n",
        "\n",
        "Разметка Markdown проста и очень рекомендуется к изучению. Многие программные проекты используют ее для ведения документации (можно сказать, он так же часто используется для текстов в программирвании, как Word в бухгалтерии).\n",
        "[Начать можно отсюда](https://www.markdownguide.org/getting-started/)."
      ],
      "id": "5bab6e07"
    },
    {
      "cell_type": "markdown",
      "metadata": {
        "id": "62437843"
      },
      "source": [
        "### Горячие клавиши\n",
        "В Jupyter notebook много горячих клавиш (англ. _hotkey_). Это такие кнопки наподобие `Ctrl + C`, которые делают определенное действие.\n",
        "\n",
        "Чтобы пользоваться горячими клавишами, надо выйти из режима редактирования текста - нажать `esc`. Курсор в тексте должен пропасть.\n",
        "Горячих клавиш много, поэтому дадим список самых популярных:\n",
        "\n",
        "- `esc` - выйти из режима редактирования ячейки\n",
        "- `b` (как _below_) - создать ячейку внизу с типом `code`\n",
        "- `a` (как _above_) - создать ячейку сверху с типом `code`\n",
        "- `y` - сделать выбранной ячейке (это ячейка, вокруг которой зеленая рамка) тип `code`\n",
        "- `m` (как _markdown_) - сделать выбранной ячейке тип `text`\n",
        "- `dd` (как _delete_, только дважды) - удалить выбранную ячейку\n",
        "- `x` - удалить ячейку и сохранить во временную память (не `Ctrl + C` - у jupyter на ячейки отдельный буфер обмена)\n",
        "- `c` - скопировать ячейку и сохранить во временную память\n",
        "- `v` - вставить ячейку из временной памяти _под_ текущей\n",
        "- `V` (`shift + v`) - вставить ячейку из временной памяти _над_ текущей\n",
        "- стрелка вниз - выбрать ячейку ниже\n",
        "- стрелка вверх - выбрать ячейку выше\n",
        "- `Ctrl + Enter` - исполнить текущую ячейку\n",
        "- `Shift + Enter` - исполнить текущую ячейку и выбрать ячейку ниже\n",
        "\n",
        "Попробуйте поиграть с этой ячейкой:\n",
        "1. Создать под ней ячейку, превратить в тип `text` и написать туда, что вы ели сегодня на завтрак.\n",
        "2. Скопиривать ячейку с завтраком, вставить _над_ ней, дать тип `code` и отредактировать в `print('hello')`.\n",
        "3. Перейти на ячейку с завтраком и вырезать ее.\n",
        "4. Вставить ячейку с завтраком.\n",
        "\n",
        "Использования hotkeys неплохо экономит время на практике."
      ],
      "id": "62437843"
    },
    {
      "cell_type": "markdown",
      "metadata": {
        "id": "0a2bc3bd"
      },
      "source": [
        "### Магические команды\n",
        "\n",
        "Магические команды (англ. _magic commands_) - это дополнительная функциональность Jupyter, которая дает возможность менять поведение кода, добавлять подсчеты и чуть-чуть упрощает работу.\n",
        "Давайте посмотрим на пример:"
      ],
      "id": "0a2bc3bd"
    },
    {
      "cell_type": "code",
      "execution_count": null,
      "metadata": {
        "ExecuteTime": {
          "end_time": "2022-01-17T16:59:46.254976Z",
          "start_time": "2022-01-17T16:59:46.247415Z"
        },
        "id": "f2d78bd1",
        "outputId": "5e517c71-463f-4227-f90a-de258a191b87"
      },
      "outputs": [
        {
          "name": "stdout",
          "output_type": "stream",
          "text": [
            "CPU times: user 2 µs, sys: 1e+03 ns, total: 3 µs\n",
            "Wall time: 5.72 µs\n"
          ]
        },
        {
          "data": {
            "text/plain": [
              "1000000000000.0"
            ]
          },
          "execution_count": 8,
          "metadata": {},
          "output_type": "execute_result"
        }
      ],
      "source": [
        "%time 1e6 ** 2"
      ],
      "id": "f2d78bd1"
    },
    {
      "cell_type": "code",
      "execution_count": null,
      "metadata": {
        "ExecuteTime": {
          "end_time": "2022-01-17T17:05:30.879754Z",
          "start_time": "2022-01-17T17:05:25.036108Z"
        },
        "id": "4df22b61",
        "outputId": "0cf38bf4-9fc4-415b-b76a-72ee2fb6fb22"
      },
      "outputs": [
        {
          "name": "stdout",
          "output_type": "stream",
          "text": [
            "CPU times: user 5.71 s, sys: 59.7 ms, total: 5.77 s\n",
            "Wall time: 5.84 s\n"
          ]
        }
      ],
      "source": [
        "%%time\n",
        "# Все magic commands начинаются с символа % и далее идет название\n",
        "# Эта магия подсчитает время выполнения одной команды под ней\n",
        "import numpy as np\n",
        "for i in range(int(1e7)):\n",
        "    i**2"
      ],
      "id": "4df22b61"
    },
    {
      "cell_type": "markdown",
      "metadata": {
        "id": "5976cd4a"
      },
      "source": [
        "Магия с двумя `%%` будет действовать на всю ячейку, но должна быть поддержка со стороны magic command.\n",
        "`%time` по-умолчанию не работает с `%%`, надо ставить расширение на jupyter."
      ],
      "id": "5976cd4a"
    },
    {
      "cell_type": "code",
      "execution_count": null,
      "metadata": {
        "ExecuteTime": {
          "end_time": "2022-01-17T17:08:59.431109Z",
          "start_time": "2022-01-17T17:08:55.820755Z"
        },
        "scrolled": true,
        "id": "77bb351d",
        "outputId": "a2f36d03-3e4e-45c4-eb56-fce09a82ba47"
      },
      "outputs": [
        {
          "name": "stdout",
          "output_type": "stream",
          "text": [
            "Requirement already satisfied: notebook in /Users/ruapyyj/.pyenv/versions/3.9.5/Library/Frameworks/Python.framework/Versions/3.9/lib/python3.9/site-packages (6.4.0)\n",
            "Requirement already satisfied: terminado>=0.8.3 in /Users/ruapyyj/.pyenv/versions/3.9.5/Library/Frameworks/Python.framework/Versions/3.9/lib/python3.9/site-packages (from notebook) (0.10.0)\n",
            "Requirement already satisfied: pyzmq>=17 in /Users/ruapyyj/.pyenv/versions/3.9.5/Library/Frameworks/Python.framework/Versions/3.9/lib/python3.9/site-packages (from notebook) (22.1.0)\n",
            "Requirement already satisfied: jinja2 in /Users/ruapyyj/.pyenv/versions/3.9.5/Library/Frameworks/Python.framework/Versions/3.9/lib/python3.9/site-packages (from notebook) (3.0.1)\n",
            "Requirement already satisfied: ipykernel in /Users/ruapyyj/.pyenv/versions/3.9.5/Library/Frameworks/Python.framework/Versions/3.9/lib/python3.9/site-packages (from notebook) (5.5.5)\n",
            "Requirement already satisfied: tornado>=6.1 in /Users/ruapyyj/.pyenv/versions/3.9.5/Library/Frameworks/Python.framework/Versions/3.9/lib/python3.9/site-packages (from notebook) (6.1)\n",
            "Requirement already satisfied: nbconvert in /Users/ruapyyj/.pyenv/versions/3.9.5/Library/Frameworks/Python.framework/Versions/3.9/lib/python3.9/site-packages (from notebook) (6.0.7)\n",
            "Requirement already satisfied: jupyter-core>=4.6.1 in /Users/ruapyyj/.pyenv/versions/3.9.5/Library/Frameworks/Python.framework/Versions/3.9/lib/python3.9/site-packages (from notebook) (4.7.1)\n",
            "Requirement already satisfied: Send2Trash>=1.5.0 in /Users/ruapyyj/.pyenv/versions/3.9.5/Library/Frameworks/Python.framework/Versions/3.9/lib/python3.9/site-packages (from notebook) (1.5.0)\n",
            "Requirement already satisfied: ipython-genutils in /Users/ruapyyj/.pyenv/versions/3.9.5/Library/Frameworks/Python.framework/Versions/3.9/lib/python3.9/site-packages (from notebook) (0.2.0)\n",
            "Requirement already satisfied: prometheus-client in /Users/ruapyyj/.pyenv/versions/3.9.5/Library/Frameworks/Python.framework/Versions/3.9/lib/python3.9/site-packages (from notebook) (0.10.1)\n",
            "Requirement already satisfied: nbformat in /Users/ruapyyj/.pyenv/versions/3.9.5/Library/Frameworks/Python.framework/Versions/3.9/lib/python3.9/site-packages (from notebook) (5.1.3)\n",
            "Requirement already satisfied: traitlets>=4.2.1 in /Users/ruapyyj/.pyenv/versions/3.9.5/Library/Frameworks/Python.framework/Versions/3.9/lib/python3.9/site-packages (from notebook) (5.0.5)\n",
            "Requirement already satisfied: jupyter-client>=5.3.4 in /Users/ruapyyj/.pyenv/versions/3.9.5/Library/Frameworks/Python.framework/Versions/3.9/lib/python3.9/site-packages (from notebook) (6.1.12)\n",
            "Requirement already satisfied: argon2-cffi in /Users/ruapyyj/.pyenv/versions/3.9.5/Library/Frameworks/Python.framework/Versions/3.9/lib/python3.9/site-packages (from notebook) (20.1.0)\n",
            "Requirement already satisfied: python-dateutil>=2.1 in /Users/ruapyyj/.pyenv/versions/3.9.5/Library/Frameworks/Python.framework/Versions/3.9/lib/python3.9/site-packages (from jupyter-client>=5.3.4->notebook) (2.8.1)\n",
            "Requirement already satisfied: ptyprocess in /Users/ruapyyj/.pyenv/versions/3.9.5/Library/Frameworks/Python.framework/Versions/3.9/lib/python3.9/site-packages (from terminado>=0.8.3->notebook) (0.7.0)\n",
            "Requirement already satisfied: cffi>=1.0.0 in /Users/ruapyyj/.pyenv/versions/3.9.5/Library/Frameworks/Python.framework/Versions/3.9/lib/python3.9/site-packages (from argon2-cffi->notebook) (1.14.5)\n",
            "Requirement already satisfied: six in /Users/ruapyyj/.pyenv/versions/3.9.5/Library/Frameworks/Python.framework/Versions/3.9/lib/python3.9/site-packages (from argon2-cffi->notebook) (1.16.0)\n",
            "Requirement already satisfied: appnope in /Users/ruapyyj/.pyenv/versions/3.9.5/Library/Frameworks/Python.framework/Versions/3.9/lib/python3.9/site-packages (from ipykernel->notebook) (0.1.2)\n",
            "Requirement already satisfied: ipython>=5.0.0 in /Users/ruapyyj/.pyenv/versions/3.9.5/Library/Frameworks/Python.framework/Versions/3.9/lib/python3.9/site-packages (from ipykernel->notebook) (7.24.0)\n",
            "Requirement already satisfied: MarkupSafe>=2.0 in /Users/ruapyyj/.pyenv/versions/3.9.5/Library/Frameworks/Python.framework/Versions/3.9/lib/python3.9/site-packages (from jinja2->notebook) (2.0.1)\n",
            "Requirement already satisfied: testpath in /Users/ruapyyj/.pyenv/versions/3.9.5/Library/Frameworks/Python.framework/Versions/3.9/lib/python3.9/site-packages (from nbconvert->notebook) (0.5.0)\n",
            "Requirement already satisfied: pygments>=2.4.1 in /Users/ruapyyj/.pyenv/versions/3.9.5/Library/Frameworks/Python.framework/Versions/3.9/lib/python3.9/site-packages (from nbconvert->notebook) (2.9.0)\n",
            "Requirement already satisfied: mistune<2,>=0.8.1 in /Users/ruapyyj/.pyenv/versions/3.9.5/Library/Frameworks/Python.framework/Versions/3.9/lib/python3.9/site-packages (from nbconvert->notebook) (0.8.4)\n",
            "Requirement already satisfied: bleach in /Users/ruapyyj/.pyenv/versions/3.9.5/Library/Frameworks/Python.framework/Versions/3.9/lib/python3.9/site-packages (from nbconvert->notebook) (3.3.0)\n",
            "Requirement already satisfied: pandocfilters>=1.4.1 in /Users/ruapyyj/.pyenv/versions/3.9.5/Library/Frameworks/Python.framework/Versions/3.9/lib/python3.9/site-packages (from nbconvert->notebook) (1.4.3)\n",
            "Requirement already satisfied: nbclient<0.6.0,>=0.5.0 in /Users/ruapyyj/.pyenv/versions/3.9.5/Library/Frameworks/Python.framework/Versions/3.9/lib/python3.9/site-packages (from nbconvert->notebook) (0.5.3)\n",
            "Requirement already satisfied: jupyterlab-pygments in /Users/ruapyyj/.pyenv/versions/3.9.5/Library/Frameworks/Python.framework/Versions/3.9/lib/python3.9/site-packages (from nbconvert->notebook) (0.1.2)\n",
            "Requirement already satisfied: entrypoints>=0.2.2 in /Users/ruapyyj/.pyenv/versions/3.9.5/Library/Frameworks/Python.framework/Versions/3.9/lib/python3.9/site-packages (from nbconvert->notebook) (0.3)\n",
            "Requirement already satisfied: defusedxml in /Users/ruapyyj/.pyenv/versions/3.9.5/Library/Frameworks/Python.framework/Versions/3.9/lib/python3.9/site-packages (from nbconvert->notebook) (0.7.1)\n",
            "Requirement already satisfied: jsonschema!=2.5.0,>=2.4 in /Users/ruapyyj/.pyenv/versions/3.9.5/Library/Frameworks/Python.framework/Versions/3.9/lib/python3.9/site-packages (from nbformat->notebook) (3.2.0)\n",
            "Requirement already satisfied: pycparser in /Users/ruapyyj/.pyenv/versions/3.9.5/Library/Frameworks/Python.framework/Versions/3.9/lib/python3.9/site-packages (from cffi>=1.0.0->argon2-cffi->notebook) (2.20)\n",
            "Requirement already satisfied: prompt-toolkit!=3.0.0,!=3.0.1,<3.1.0,>=2.0.0 in /Users/ruapyyj/.pyenv/versions/3.9.5/Library/Frameworks/Python.framework/Versions/3.9/lib/python3.9/site-packages (from ipython>=5.0.0->ipykernel->notebook) (3.0.18)\n",
            "Requirement already satisfied: jedi>=0.16 in /Users/ruapyyj/.pyenv/versions/3.9.5/Library/Frameworks/Python.framework/Versions/3.9/lib/python3.9/site-packages (from ipython>=5.0.0->ipykernel->notebook) (0.18.0)\n",
            "Requirement already satisfied: matplotlib-inline in /Users/ruapyyj/.pyenv/versions/3.9.5/Library/Frameworks/Python.framework/Versions/3.9/lib/python3.9/site-packages (from ipython>=5.0.0->ipykernel->notebook) (0.1.2)\n",
            "Requirement already satisfied: backcall in /Users/ruapyyj/.pyenv/versions/3.9.5/Library/Frameworks/Python.framework/Versions/3.9/lib/python3.9/site-packages (from ipython>=5.0.0->ipykernel->notebook) (0.2.0)\n",
            "Requirement already satisfied: pexpect>4.3 in /Users/ruapyyj/.pyenv/versions/3.9.5/Library/Frameworks/Python.framework/Versions/3.9/lib/python3.9/site-packages (from ipython>=5.0.0->ipykernel->notebook) (4.8.0)\n",
            "Requirement already satisfied: setuptools>=18.5 in /Users/ruapyyj/.pyenv/versions/3.9.5/Library/Frameworks/Python.framework/Versions/3.9/lib/python3.9/site-packages (from ipython>=5.0.0->ipykernel->notebook) (56.0.0)\n",
            "Requirement already satisfied: decorator in /Users/ruapyyj/.pyenv/versions/3.9.5/Library/Frameworks/Python.framework/Versions/3.9/lib/python3.9/site-packages (from ipython>=5.0.0->ipykernel->notebook) (5.0.9)\n",
            "Requirement already satisfied: pickleshare in /Users/ruapyyj/.pyenv/versions/3.9.5/Library/Frameworks/Python.framework/Versions/3.9/lib/python3.9/site-packages (from ipython>=5.0.0->ipykernel->notebook) (0.7.5)\n",
            "Requirement already satisfied: attrs>=17.4.0 in /Users/ruapyyj/.pyenv/versions/3.9.5/Library/Frameworks/Python.framework/Versions/3.9/lib/python3.9/site-packages (from jsonschema!=2.5.0,>=2.4->nbformat->notebook) (21.2.0)\n",
            "Requirement already satisfied: pyrsistent>=0.14.0 in /Users/ruapyyj/.pyenv/versions/3.9.5/Library/Frameworks/Python.framework/Versions/3.9/lib/python3.9/site-packages (from jsonschema!=2.5.0,>=2.4->nbformat->notebook) (0.17.3)\n",
            "Requirement already satisfied: async-generator in /Users/ruapyyj/.pyenv/versions/3.9.5/Library/Frameworks/Python.framework/Versions/3.9/lib/python3.9/site-packages (from nbclient<0.6.0,>=0.5.0->nbconvert->notebook) (1.10)\n",
            "Requirement already satisfied: nest-asyncio in /Users/ruapyyj/.pyenv/versions/3.9.5/Library/Frameworks/Python.framework/Versions/3.9/lib/python3.9/site-packages (from nbclient<0.6.0,>=0.5.0->nbconvert->notebook) (1.5.1)\n",
            "Requirement already satisfied: webencodings in /Users/ruapyyj/.pyenv/versions/3.9.5/Library/Frameworks/Python.framework/Versions/3.9/lib/python3.9/site-packages (from bleach->nbconvert->notebook) (0.5.1)\n",
            "Requirement already satisfied: packaging in /Users/ruapyyj/.pyenv/versions/3.9.5/Library/Frameworks/Python.framework/Versions/3.9/lib/python3.9/site-packages (from bleach->nbconvert->notebook) (20.9)\n",
            "Requirement already satisfied: parso<0.9.0,>=0.8.0 in /Users/ruapyyj/.pyenv/versions/3.9.5/Library/Frameworks/Python.framework/Versions/3.9/lib/python3.9/site-packages (from jedi>=0.16->ipython>=5.0.0->ipykernel->notebook) (0.8.2)\n",
            "Requirement already satisfied: wcwidth in /Users/ruapyyj/.pyenv/versions/3.9.5/Library/Frameworks/Python.framework/Versions/3.9/lib/python3.9/site-packages (from prompt-toolkit!=3.0.0,!=3.0.1,<3.1.0,>=2.0.0->ipython>=5.0.0->ipykernel->notebook) (0.2.5)\n",
            "Requirement already satisfied: pyparsing>=2.0.2 in /Users/ruapyyj/.pyenv/versions/3.9.5/Library/Frameworks/Python.framework/Versions/3.9/lib/python3.9/site-packages (from packaging->bleach->nbconvert->notebook) (2.4.7)\n"
          ]
        }
      ],
      "source": [
        "# Через ! можно сказать jupyter, что вся команду надо выполнить\n",
        "# в терминале системы\n",
        "# Jupyter поймет, что это не Python код\n",
        "!pip install notebook"
      ],
      "id": "77bb351d"
    },
    {
      "cell_type": "code",
      "execution_count": null,
      "metadata": {
        "ExecuteTime": {
          "end_time": "2022-01-17T17:16:26.223165Z",
          "start_time": "2022-01-17T17:16:20.473418Z"
        },
        "id": "b689dc17",
        "outputId": "19f53989-c8e1-4c8f-b9b9-e80f3c559d1a"
      },
      "outputs": [
        {
          "name": "stdout",
          "output_type": "stream",
          "text": [
            "719 ms ± 48.1 ms per loop (mean ± std. dev. of 7 runs, 1 loop each)\n"
          ]
        }
      ],
      "source": [
        "import numpy as np\n",
        "%timeit np.array([i**2 for i in range(int(1e6))])"
      ],
      "id": "b689dc17"
    },
    {
      "cell_type": "markdown",
      "metadata": {
        "id": "054d86ef"
      },
      "source": [
        "Обратите внимание: когда ячейка выполняется, она выглядит вот так:\n",
        "```\n",
        "In [*]:\n",
        "```\n",
        "а когда ячейка выполнена, она выглядит как\n",
        "```\n",
        "In [14]:\n",
        "```\n",
        "\n",
        "Это отличительный знак: когда Jupyter ждет выполнения ячейки, он выставляет в `In [...]` звездочку."
      ],
      "id": "054d86ef"
    },
    {
      "cell_type": "code",
      "execution_count": null,
      "metadata": {
        "ExecuteTime": {
          "end_time": "2022-01-17T17:20:18.624796Z",
          "start_time": "2022-01-17T17:20:18.618351Z"
        },
        "id": "df3207e8",
        "outputId": "34bc4273-9c74-4e6f-fe1e-4c3c86dcb012"
      },
      "outputs": [
        {
          "data": {
            "application/json": {
              "cell": {
                "!": "OSMagics",
                "HTML": "Other",
                "SVG": "Other",
                "bash": "Other",
                "capture": "ExecutionMagics",
                "debug": "ExecutionMagics",
                "file": "Other",
                "html": "DisplayMagics",
                "javascript": "DisplayMagics",
                "js": "DisplayMagics",
                "latex": "DisplayMagics",
                "markdown": "DisplayMagics",
                "perl": "Other",
                "prun": "ExecutionMagics",
                "pypy": "Other",
                "python": "Other",
                "python2": "Other",
                "python3": "Other",
                "ruby": "Other",
                "script": "ScriptMagics",
                "sh": "Other",
                "svg": "DisplayMagics",
                "sx": "OSMagics",
                "system": "OSMagics",
                "time": "ExecutionMagics",
                "timeit": "ExecutionMagics",
                "writefile": "OSMagics"
              },
              "line": {
                "alias": "OSMagics",
                "alias_magic": "BasicMagics",
                "autoawait": "AsyncMagics",
                "autocall": "AutoMagics",
                "automagic": "AutoMagics",
                "autosave": "KernelMagics",
                "bookmark": "OSMagics",
                "cat": "Other",
                "cd": "OSMagics",
                "clear": "KernelMagics",
                "colors": "BasicMagics",
                "conda": "PackagingMagics",
                "config": "ConfigMagics",
                "connect_info": "KernelMagics",
                "cp": "Other",
                "debug": "ExecutionMagics",
                "dhist": "OSMagics",
                "dirs": "OSMagics",
                "doctest_mode": "BasicMagics",
                "ed": "Other",
                "edit": "KernelMagics",
                "env": "OSMagics",
                "gui": "BasicMagics",
                "hist": "Other",
                "history": "HistoryMagics",
                "killbgscripts": "ScriptMagics",
                "ldir": "Other",
                "less": "KernelMagics",
                "lf": "Other",
                "lk": "Other",
                "ll": "Other",
                "load": "CodeMagics",
                "load_ext": "ExtensionMagics",
                "loadpy": "CodeMagics",
                "logoff": "LoggingMagics",
                "logon": "LoggingMagics",
                "logstart": "LoggingMagics",
                "logstate": "LoggingMagics",
                "logstop": "LoggingMagics",
                "ls": "Other",
                "lsmagic": "BasicMagics",
                "lx": "Other",
                "macro": "ExecutionMagics",
                "magic": "BasicMagics",
                "man": "KernelMagics",
                "matplotlib": "PylabMagics",
                "mkdir": "Other",
                "more": "KernelMagics",
                "mv": "Other",
                "notebook": "BasicMagics",
                "page": "BasicMagics",
                "pastebin": "CodeMagics",
                "pdb": "ExecutionMagics",
                "pdef": "NamespaceMagics",
                "pdoc": "NamespaceMagics",
                "pfile": "NamespaceMagics",
                "pinfo": "NamespaceMagics",
                "pinfo2": "NamespaceMagics",
                "pip": "PackagingMagics",
                "popd": "OSMagics",
                "pprint": "BasicMagics",
                "precision": "BasicMagics",
                "prun": "ExecutionMagics",
                "psearch": "NamespaceMagics",
                "psource": "NamespaceMagics",
                "pushd": "OSMagics",
                "pwd": "OSMagics",
                "pycat": "OSMagics",
                "pylab": "PylabMagics",
                "qtconsole": "KernelMagics",
                "quickref": "BasicMagics",
                "recall": "HistoryMagics",
                "rehashx": "OSMagics",
                "reload_ext": "ExtensionMagics",
                "rep": "Other",
                "rerun": "HistoryMagics",
                "reset": "NamespaceMagics",
                "reset_selective": "NamespaceMagics",
                "rm": "Other",
                "rmdir": "Other",
                "run": "ExecutionMagics",
                "save": "CodeMagics",
                "sc": "OSMagics",
                "set_env": "OSMagics",
                "store": "StoreMagics",
                "sx": "OSMagics",
                "system": "OSMagics",
                "tb": "ExecutionMagics",
                "time": "ExecutionMagics",
                "timeit": "ExecutionMagics",
                "unalias": "OSMagics",
                "unload_ext": "ExtensionMagics",
                "who": "NamespaceMagics",
                "who_ls": "NamespaceMagics",
                "whos": "NamespaceMagics",
                "xdel": "NamespaceMagics",
                "xmode": "BasicMagics"
              }
            },
            "text/plain": [
              "Available line magics:\n",
              "%alias  %alias_magic  %autoawait  %autocall  %automagic  %autosave  %bookmark  %cat  %cd  %clear  %colors  %conda  %config  %connect_info  %cp  %debug  %dhist  %dirs  %doctest_mode  %ed  %edit  %env  %gui  %hist  %history  %killbgscripts  %ldir  %less  %lf  %lk  %ll  %load  %load_ext  %loadpy  %logoff  %logon  %logstart  %logstate  %logstop  %ls  %lsmagic  %lx  %macro  %magic  %man  %matplotlib  %mkdir  %more  %mv  %notebook  %page  %pastebin  %pdb  %pdef  %pdoc  %pfile  %pinfo  %pinfo2  %pip  %popd  %pprint  %precision  %prun  %psearch  %psource  %pushd  %pwd  %pycat  %pylab  %qtconsole  %quickref  %recall  %rehashx  %reload_ext  %rep  %rerun  %reset  %reset_selective  %rm  %rmdir  %run  %save  %sc  %set_env  %store  %sx  %system  %tb  %time  %timeit  %unalias  %unload_ext  %who  %who_ls  %whos  %xdel  %xmode\n",
              "\n",
              "Available cell magics:\n",
              "%%!  %%HTML  %%SVG  %%bash  %%capture  %%debug  %%file  %%html  %%javascript  %%js  %%latex  %%markdown  %%perl  %%prun  %%pypy  %%python  %%python2  %%python3  %%ruby  %%script  %%sh  %%svg  %%sx  %%system  %%time  %%timeit  %%writefile\n",
              "\n",
              "Automagic is ON, % prefix IS NOT needed for line magics."
            ]
          },
          "execution_count": 35,
          "metadata": {},
          "output_type": "execute_result"
        }
      ],
      "source": [
        "# Посмотрим, какая магия нам доступна\n",
        "%lsmagic"
      ],
      "id": "df3207e8"
    },
    {
      "cell_type": "code",
      "execution_count": null,
      "metadata": {
        "ExecuteTime": {
          "end_time": "2022-01-17T17:22:13.342527Z",
          "start_time": "2022-01-17T17:22:12.732190Z"
        },
        "id": "102cc822",
        "outputId": "0f9650f4-e0ee-4520-fd50-57aa5753c17d"
      },
      "outputs": [
        {
          "name": "stdout",
          "output_type": "stream",
          "text": [
            "CPU times: user 600 ms, sys: 7.75 ms, total: 608 ms\n",
            "Wall time: 606 ms\n"
          ]
        }
      ],
      "source": [
        "%%time\n",
        "# Cell magic - это магия, которая действует на всю ячейку\n",
        "# cell magic обязательно должна быть первой строкой в ячейке\n",
        "for i in range(int(1e6)):\n",
        "    a = i**2"
      ],
      "id": "102cc822"
    },
    {
      "cell_type": "code",
      "execution_count": null,
      "metadata": {
        "ExecuteTime": {
          "end_time": "2022-01-17T17:26:21.213394Z",
          "start_time": "2022-01-17T17:26:21.190896Z"
        },
        "id": "05a1dd59",
        "outputId": "ef289528-0973-461f-b8ce-c4544e7927fc"
      },
      "outputs": [
        {
          "name": "stdout",
          "output_type": "stream",
          "text": [
            "The autoreload extension is already loaded. To reload it, use:\n",
            "  %reload_ext autoreload\n"
          ]
        }
      ],
      "source": [
        "%load_ext autoreload\n",
        "%autoreload 2\n",
        "# autoreload делает так, чтобы все модули пере-импортировались перед тем,\n",
        "# как запускать код.\n",
        "# По умолчанию Python так не делает: если модуль уже импортирован,\n",
        "# он просто игнорирует импорт.\n",
        "# Если вы меняете исходный код модуля,\n",
        "# изменения не подтянутся - autoreload как раз решает эту проблему."
      ],
      "id": "05a1dd59"
    },
    {
      "cell_type": "markdown",
      "metadata": {
        "id": "3c0e3fbc"
      },
      "source": [
        "На практике чаще всего используют `%%time` для замера скорости ячейки, `%time` для замера скорости операции и `%autoreload` при разработке Python-пакета.\n",
        "\n",
        "Оставим ссылки на документацию (не бойтесь ее читать!):\n",
        "\n",
        "[Документация на magic](https://ipython.readthedocs.io/en/stable/interactive/magics.html) (IPython - это почти то же самое, что Jupyter)\n",
        "\n",
        "[Документация на autoreload](https://ipython.org/ipython-doc/3/config/extensions/autoreload.html)\n",
        "\n",
        "[Хорошая статья с полезными magic-командами](https://towardsdatascience.com/top-8-magic-commands-in-jupyter-notebook-c1582e813560)"
      ],
      "id": "3c0e3fbc"
    },
    {
      "cell_type": "markdown",
      "metadata": {
        "id": "653017f0"
      },
      "source": [
        "### Kernel\n",
        "\n",
        "В Jupyter можно выполнять не только Python-коды, но и коды на других языках! Мы этим пользоваться не будем, но про возможность полезно знать.\n",
        "\n",
        "За выполнение кода Python в Jupyter отвечает _ядро_ (англ. _kernel_). Нам здесь нужно знать две вещи: ядро можно менять на другое (скажем, то, где больше установленных пакетов) и ядро может зависать.\n",
        "\n",
        "Ранее мы видели, `In [*]` означает, что ячейка считается.\n",
        "На деле, эта запись означает другое: она говорит, что ядро занято.\n",
        "\n",
        "Если ядро зависло или команда выполняется слишком долго, можно его _прервать_ (англ. _interrupt_). Для этого на панели наверху есть кнопка с изображением квадратика.\n",
        "\n",
        "![image.png](attachment:405cae3f-6d7d-4507-84dc-dfc6d0f12ecb.png)\n",
        "\n",
        "Ядро содержит в ОЗУ все когда-либо объявленные переменные ноутбука и может \"жить\" долго.\n",
        "В больших проектах это может привести к тому, что ядро станет занимать очень много ОЗУ.\n",
        "\n",
        "Если вам кажется, что ядро \"раздулось\", до больших размеров, то его можно перезапустить кнопкой, находящейся справа от кнопки _прерывания_.\n",
        "Перезапуск ядра приведет к тому, что все переменные удалятся и все расчеты потеряются. Будьте готовы.\n",
        "\n",
        "Кстати, на панельке сверху есть немало операций, которые мы изучили в секции \"Горячие клавиши\"."
      ],
      "id": "653017f0"
    },
    {
      "cell_type": "code",
      "execution_count": null,
      "metadata": {
        "ExecuteTime": {
          "end_time": "2022-01-17T16:17:49.513648Z",
          "start_time": "2022-01-17T16:17:49.497646Z"
        },
        "id": "0097afca"
      },
      "outputs": [],
      "source": [
        "# сымитируем ситуацию, когда ядро зависает\n",
        "# while True:\n",
        "#     continue"
      ],
      "id": "0097afca"
    },
    {
      "cell_type": "markdown",
      "metadata": {
        "id": "fe795a2d"
      },
      "source": [
        "## Numpy\n",
        "\n",
        "Библиотека для работы с матрицами. [Оффициальный сайт](https://numpy.org). Название происходит от **Num**eric **Py**thon.\n",
        "\"Под капотом\" написана на C++ (это такой язык программирования, очень быстрый в умелых руках), а то, что видим в Python - это лишь \"рычаги управления\".\n",
        "\n",
        "Используется как фундамент для построения популярных библиотек в ML: `pandas`, `scikit-learn` и т.п. Вы познакомитесь с `numpy` поближе в модуле \"Машинное обучение\", а пока мы обзорно посмотрим на его возможности."
      ],
      "id": "fe795a2d"
    },
    {
      "cell_type": "code",
      "execution_count": null,
      "metadata": {
        "ExecuteTime": {
          "end_time": "2022-01-17T17:41:53.954430Z",
          "start_time": "2022-01-17T17:41:53.935267Z"
        },
        "id": "ed6f0947",
        "outputId": "46561345-5334-4f5d-82b3-6eb394c4c7ac"
      },
      "outputs": [
        {
          "data": {
            "text/plain": [
              "array([[ 1,  2,  3],\n",
              "       [ 4,  5,  6],\n",
              "       [ 7,  8,  9],\n",
              "       [10, 11, 12]])"
            ]
          },
          "execution_count": 15,
          "metadata": {},
          "output_type": "execute_result"
        }
      ],
      "source": [
        "import numpy as np\n",
        "\n",
        "# Создаем матрцы\n",
        "a = np.array([[1, 2, 3], [4, 5, 6], [7, 8, 9], [10, 11, 12]])\n",
        "a"
      ],
      "id": "ed6f0947"
    },
    {
      "cell_type": "code",
      "execution_count": null,
      "metadata": {
        "ExecuteTime": {
          "end_time": "2022-01-17T17:44:33.927315Z",
          "start_time": "2022-01-17T17:44:33.905316Z"
        },
        "id": "a6d143cb",
        "outputId": "af2d1fb1-1215-4028-a73b-b98fda55187d"
      },
      "outputs": [
        {
          "data": {
            "text/plain": [
              "array([[ 1,  4,  7, 10],\n",
              "       [ 2,  5,  8, 11],\n",
              "       [ 3,  6,  9, 12]])"
            ]
          },
          "execution_count": 18,
          "metadata": {},
          "output_type": "execute_result"
        }
      ],
      "source": [
        "# Матрицу можно транспонировать (\"повернуть на бок\")\n",
        "a.T"
      ],
      "id": "a6d143cb"
    },
    {
      "cell_type": "code",
      "execution_count": null,
      "metadata": {
        "ExecuteTime": {
          "end_time": "2022-01-17T17:46:39.176992Z",
          "start_time": "2022-01-17T17:46:39.154728Z"
        },
        "id": "bbd40111",
        "outputId": "361e1cd2-d526-4324-9326-1f84905b2f3b"
      },
      "outputs": [
        {
          "data": {
            "text/plain": [
              "array([14, 32, 50, 68])"
            ]
          },
          "execution_count": 22,
          "metadata": {},
          "output_type": "execute_result"
        }
      ],
      "source": [
        "# Можно считать скалярные произведения\n",
        "np.dot(a, np.array([1, 2, 3]))"
      ],
      "id": "bbd40111"
    },
    {
      "cell_type": "code",
      "execution_count": null,
      "metadata": {
        "ExecuteTime": {
          "end_time": "2022-01-17T17:47:57.469279Z",
          "start_time": "2022-01-17T17:47:57.450232Z"
        },
        "id": "6d474052",
        "outputId": "ef8a1acd-835f-4e08-b960-e2049a711545"
      },
      "outputs": [
        {
          "data": {
            "text/plain": [
              "array([[  -1,   -4,   -9],\n",
              "       [ -16,  -25,  -36],\n",
              "       [ -49,  -64,  -81],\n",
              "       [-100, -121, -144]])"
            ]
          },
          "execution_count": 24,
          "metadata": {},
          "output_type": "execute_result"
        }
      ],
      "source": [
        "# Обычные умножения делаются поэлементно. Немного непривычно для математиков\n",
        "b = np.array([[-1, -2, -3], [-4, -5, -6], [-7, -8, -9], [-10, -11, -12]])\n",
        "a * b"
      ],
      "id": "6d474052"
    },
    {
      "cell_type": "code",
      "execution_count": null,
      "metadata": {
        "ExecuteTime": {
          "end_time": "2022-01-17T17:47:58.157167Z",
          "start_time": "2022-01-17T17:47:58.135373Z"
        },
        "id": "72c48564",
        "outputId": "80ea2e5c-a369-42ea-c712-5b93f26d2417"
      },
      "outputs": [
        {
          "data": {
            "text/plain": [
              "array([[  -1,   -4,   -9],\n",
              "       [ -16,  -25,  -36],\n",
              "       [ -49,  -64,  -81],\n",
              "       [-100, -121, -144]])"
            ]
          },
          "execution_count": 25,
          "metadata": {},
          "output_type": "execute_result"
        }
      ],
      "source": [
        "b * a"
      ],
      "id": "72c48564"
    },
    {
      "cell_type": "code",
      "execution_count": null,
      "metadata": {
        "ExecuteTime": {
          "end_time": "2022-01-17T17:48:38.843028Z",
          "start_time": "2022-01-17T17:48:38.819382Z"
        },
        "id": "f21e037e",
        "outputId": "4912b8ad-815f-4a9c-832a-c09067ae63c0"
      },
      "outputs": [
        {
          "data": {
            "text/plain": [
              "array([[ -14,  -32,  -50,  -68],\n",
              "       [ -32,  -77, -122, -167],\n",
              "       [ -50, -122, -194, -266],\n",
              "       [ -68, -167, -266, -365]])"
            ]
          },
          "execution_count": 26,
          "metadata": {},
          "output_type": "execute_result"
        }
      ],
      "source": [
        "# матричные умножения делаются через np.dot\n",
        "np.dot(a, b.T)"
      ],
      "id": "f21e037e"
    },
    {
      "cell_type": "code",
      "execution_count": null,
      "metadata": {
        "ExecuteTime": {
          "end_time": "2022-01-17T17:49:14.034792Z",
          "start_time": "2022-01-17T17:49:14.014012Z"
        },
        "id": "27cf102c",
        "outputId": "b489575a-c4e1-45d9-aa57-507325af8cbb"
      },
      "outputs": [
        {
          "data": {
            "text/plain": [
              "(4, 3)"
            ]
          },
          "execution_count": 30,
          "metadata": {},
          "output_type": "execute_result"
        }
      ],
      "source": [
        "# можно вытащить размерность через .shape - строки x столбцы\n",
        "a.shape"
      ],
      "id": "27cf102c"
    },
    {
      "cell_type": "markdown",
      "metadata": {
        "id": "7bf52b70"
      },
      "source": [
        "## Pandas\n",
        "Библиотека для работы с табличными данным. Познакомимся обзорно."
      ],
      "id": "7bf52b70"
    },
    {
      "cell_type": "code",
      "execution_count": null,
      "metadata": {
        "ExecuteTime": {
          "end_time": "2022-01-17T17:51:59.612330Z",
          "start_time": "2022-01-17T17:51:58.988464Z"
        },
        "id": "e1d12662",
        "outputId": "a6ecf034-ec88-4686-a7b8-5001b74ccd67"
      },
      "outputs": [
        {
          "data": {
            "text/html": [
              "<div>\n",
              "<style scoped>\n",
              "    .dataframe tbody tr th:only-of-type {\n",
              "        vertical-align: middle;\n",
              "    }\n",
              "\n",
              "    .dataframe tbody tr th {\n",
              "        vertical-align: top;\n",
              "    }\n",
              "\n",
              "    .dataframe thead th {\n",
              "        text-align: right;\n",
              "    }\n",
              "</style>\n",
              "<table border=\"1\" class=\"dataframe\">\n",
              "  <thead>\n",
              "    <tr style=\"text-align: right;\">\n",
              "      <th></th>\n",
              "      <th>block</th>\n",
              "      <th>lessons</th>\n",
              "    </tr>\n",
              "  </thead>\n",
              "  <tbody>\n",
              "    <tr>\n",
              "      <th>0</th>\n",
              "      <td>Python</td>\n",
              "      <td>6</td>\n",
              "    </tr>\n",
              "    <tr>\n",
              "      <th>1</th>\n",
              "      <td>Python</td>\n",
              "      <td>8</td>\n",
              "    </tr>\n",
              "    <tr>\n",
              "      <th>2</th>\n",
              "      <td>ML</td>\n",
              "      <td>20</td>\n",
              "    </tr>\n",
              "  </tbody>\n",
              "</table>\n",
              "</div>"
            ],
            "text/plain": [
              "    block  lessons\n",
              "0  Python        6\n",
              "1  Python        8\n",
              "2      ML       20"
            ]
          },
          "execution_count": 31,
          "metadata": {},
          "output_type": "execute_result"
        }
      ],
      "source": [
        "import pandas as pd  # чаще всего импортируют под именем pd\n",
        "\n",
        "df = pd.DataFrame([(\"Python\", 6), (\"Python\", 8), (\"ML\", 20)],\n",
        "                  columns=['block', 'lessons'])\n",
        "df"
      ],
      "id": "e1d12662"
    },
    {
      "cell_type": "code",
      "execution_count": null,
      "metadata": {
        "ExecuteTime": {
          "end_time": "2022-01-17T17:55:56.126365Z",
          "start_time": "2022-01-17T17:55:56.091616Z"
        },
        "id": "73f642fd",
        "outputId": "c9439014-d094-4f30-bb2e-a1cbcc0dd059"
      },
      "outputs": [
        {
          "data": {
            "text/html": [
              "<div>\n",
              "<style scoped>\n",
              "    .dataframe tbody tr th:only-of-type {\n",
              "        vertical-align: middle;\n",
              "    }\n",
              "\n",
              "    .dataframe tbody tr th {\n",
              "        vertical-align: top;\n",
              "    }\n",
              "\n",
              "    .dataframe thead th {\n",
              "        text-align: right;\n",
              "    }\n",
              "</style>\n",
              "<table border=\"1\" class=\"dataframe\">\n",
              "  <thead>\n",
              "    <tr style=\"text-align: right;\">\n",
              "      <th></th>\n",
              "      <th>block</th>\n",
              "      <th>lessons</th>\n",
              "    </tr>\n",
              "  </thead>\n",
              "  <tbody>\n",
              "    <tr>\n",
              "      <th>0</th>\n",
              "      <td>Python</td>\n",
              "      <td>6</td>\n",
              "    </tr>\n",
              "    <tr>\n",
              "      <th>1</th>\n",
              "      <td>Python</td>\n",
              "      <td>8</td>\n",
              "    </tr>\n",
              "  </tbody>\n",
              "</table>\n",
              "</div>"
            ],
            "text/plain": [
              "    block  lessons\n",
              "0  Python        6\n",
              "1  Python        8"
            ]
          },
          "execution_count": 35,
          "metadata": {},
          "output_type": "execute_result"
        }
      ],
      "source": [
        "# Можно фильтровать записи через логические условия\n",
        "df[df['block'] == 'Python']"
      ],
      "id": "73f642fd"
    },
    {
      "cell_type": "code",
      "execution_count": null,
      "metadata": {
        "ExecuteTime": {
          "end_time": "2022-01-17T17:59:25.939681Z",
          "start_time": "2022-01-17T17:59:25.905594Z"
        },
        "id": "3d02a630",
        "outputId": "6117d3a4-1a89-41a2-dc12-b780a14a67ad"
      },
      "outputs": [
        {
          "data": {
            "text/html": [
              "<div>\n",
              "<style scoped>\n",
              "    .dataframe tbody tr th:only-of-type {\n",
              "        vertical-align: middle;\n",
              "    }\n",
              "\n",
              "    .dataframe tbody tr th {\n",
              "        vertical-align: top;\n",
              "    }\n",
              "\n",
              "    .dataframe thead th {\n",
              "        text-align: right;\n",
              "    }\n",
              "</style>\n",
              "<table border=\"1\" class=\"dataframe\">\n",
              "  <thead>\n",
              "    <tr style=\"text-align: right;\">\n",
              "      <th></th>\n",
              "      <th>block</th>\n",
              "      <th>lessons</th>\n",
              "      <th>#</th>\n",
              "    </tr>\n",
              "  </thead>\n",
              "  <tbody>\n",
              "    <tr>\n",
              "      <th>0</th>\n",
              "      <td>Python</td>\n",
              "      <td>6</td>\n",
              "      <td>course_1</td>\n",
              "    </tr>\n",
              "    <tr>\n",
              "      <th>1</th>\n",
              "      <td>Python</td>\n",
              "      <td>8</td>\n",
              "      <td>course_2</td>\n",
              "    </tr>\n",
              "    <tr>\n",
              "      <th>2</th>\n",
              "      <td>ML</td>\n",
              "      <td>20</td>\n",
              "      <td>course_3</td>\n",
              "    </tr>\n",
              "  </tbody>\n",
              "</table>\n",
              "</div>"
            ],
            "text/plain": [
              "    block  lessons         #\n",
              "0  Python        6  course_1\n",
              "1  Python        8  course_2\n",
              "2      ML       20  course_3"
            ]
          },
          "execution_count": 43,
          "metadata": {},
          "output_type": "execute_result"
        }
      ],
      "source": [
        "# создавать колонки\n",
        "result = []\n",
        "for i in range(1, df.shape[0] + 1):\n",
        "    result.append(f'course_{i}')\n",
        "# df['#'] = [f\"course_{i}\" for i in range(1, df.shape[0] + 1)]\n",
        "df['#'] = result\n",
        "df"
      ],
      "id": "3d02a630"
    },
    {
      "cell_type": "code",
      "execution_count": null,
      "metadata": {
        "ExecuteTime": {
          "end_time": "2022-01-17T18:01:16.724622Z",
          "start_time": "2022-01-17T18:01:16.690883Z"
        },
        "id": "727346f7",
        "outputId": "ab1f7ee0-faa9-41ec-fbbb-d01cb003d125"
      },
      "outputs": [
        {
          "data": {
            "text/html": [
              "<div>\n",
              "<style scoped>\n",
              "    .dataframe tbody tr th:only-of-type {\n",
              "        vertical-align: middle;\n",
              "    }\n",
              "\n",
              "    .dataframe tbody tr th {\n",
              "        vertical-align: top;\n",
              "    }\n",
              "\n",
              "    .dataframe thead th {\n",
              "        text-align: right;\n",
              "    }\n",
              "</style>\n",
              "<table border=\"1\" class=\"dataframe\">\n",
              "  <thead>\n",
              "    <tr style=\"text-align: right;\">\n",
              "      <th></th>\n",
              "      <th>lessons</th>\n",
              "    </tr>\n",
              "    <tr>\n",
              "      <th>block</th>\n",
              "      <th></th>\n",
              "    </tr>\n",
              "  </thead>\n",
              "  <tbody>\n",
              "    <tr>\n",
              "      <th>ML</th>\n",
              "      <td>20</td>\n",
              "    </tr>\n",
              "    <tr>\n",
              "      <th>Python</th>\n",
              "      <td>14</td>\n",
              "    </tr>\n",
              "  </tbody>\n",
              "</table>\n",
              "</div>"
            ],
            "text/plain": [
              "        lessons\n",
              "block          \n",
              "ML           20\n",
              "Python       14"
            ]
          },
          "execution_count": 44,
          "metadata": {},
          "output_type": "execute_result"
        }
      ],
      "source": [
        "# Сгруппировать по колонке \"block\" и вывести сумму в пределах группы для каждой колонки\n",
        "df.groupby('block').sum()"
      ],
      "id": "727346f7"
    },
    {
      "cell_type": "code",
      "execution_count": null,
      "metadata": {
        "ExecuteTime": {
          "end_time": "2022-01-17T18:07:11.075512Z",
          "start_time": "2022-01-17T18:07:11.036613Z"
        },
        "id": "f1752fc0",
        "outputId": "75c1e51e-3583-4879-fcf6-bae9f1393182"
      },
      "outputs": [
        {
          "data": {
            "text/html": [
              "<div>\n",
              "<style scoped>\n",
              "    .dataframe tbody tr th:only-of-type {\n",
              "        vertical-align: middle;\n",
              "    }\n",
              "\n",
              "    .dataframe tbody tr th {\n",
              "        vertical-align: top;\n",
              "    }\n",
              "\n",
              "    .dataframe thead th {\n",
              "        text-align: right;\n",
              "    }\n",
              "</style>\n",
              "<table border=\"1\" class=\"dataframe\">\n",
              "  <thead>\n",
              "    <tr style=\"text-align: right;\">\n",
              "      <th></th>\n",
              "      <th>lessons</th>\n",
              "      <th>#</th>\n",
              "    </tr>\n",
              "    <tr>\n",
              "      <th>block</th>\n",
              "      <th></th>\n",
              "      <th></th>\n",
              "    </tr>\n",
              "  </thead>\n",
              "  <tbody>\n",
              "    <tr>\n",
              "      <th>Python</th>\n",
              "      <td>6</td>\n",
              "      <td>course_1</td>\n",
              "    </tr>\n",
              "    <tr>\n",
              "      <th>Python</th>\n",
              "      <td>8</td>\n",
              "      <td>course_2</td>\n",
              "    </tr>\n",
              "    <tr>\n",
              "      <th>ML</th>\n",
              "      <td>20</td>\n",
              "      <td>course_3</td>\n",
              "    </tr>\n",
              "  </tbody>\n",
              "</table>\n",
              "</div>"
            ],
            "text/plain": [
              "        lessons         #\n",
              "block                    \n",
              "Python        6  course_1\n",
              "Python        8  course_2\n",
              "ML           20  course_3"
            ]
          },
          "execution_count": 52,
          "metadata": {},
          "output_type": "execute_result"
        }
      ],
      "source": [
        "# Сохраним результат в файл\n",
        "df.to_csv('1.csv', index=False)\n",
        "\n",
        "# Прочитаем файл\n",
        "df_1 = pd.read_csv('1.csv', index_col=0)\n",
        "df_1"
      ],
      "id": "f1752fc0"
    },
    {
      "cell_type": "markdown",
      "metadata": {
        "id": "29a54819"
      },
      "source": [
        "## Matplotlib\n",
        "Популярная библиотека для визуализации данных. Тесно интегрируется с `numpy`.\n",
        "\n"
      ],
      "id": "29a54819"
    },
    {
      "cell_type": "code",
      "execution_count": null,
      "metadata": {
        "ExecuteTime": {
          "end_time": "2022-01-17T18:14:10.644742Z",
          "start_time": "2022-01-17T18:14:10.387213Z"
        },
        "id": "21c9819d",
        "outputId": "699171e7-501a-466f-e2e1-6d61bafc2119"
      },
      "outputs": [
        {
          "data": {
            "text/plain": [
              "[<matplotlib.lines.Line2D at 0x10b2aa5e0>]"
            ]
          },
          "execution_count": 56,
          "metadata": {},
          "output_type": "execute_result"
        },
        {
          "data": {
            "image/png": "[encoded data removed]",
            "text/plain": [
              "<Figure size 1152x648 with 1 Axes>"
            ]
          },
          "metadata": {
            "needs_background": "light"
          },
          "output_type": "display_data"
        }
      ],
      "source": [
        "import matplotlib.pyplot as plt\n",
        "\n",
        "# попросим размер графика (16, 9)\n",
        "plt.figure(figsize=(16, 9))\n",
        "# Простые линии\n",
        "\n",
        "x = np.arange(-10, 11, 0.5)  # это range(-10, 11), только вернет тип np.array\n",
        "y = x**2  # np.array вот так умеет - это возведет каждый элемент в квадрат\n",
        "plt.plot(x, y)"
      ],
      "id": "21c9819d"
    },
    {
      "cell_type": "code",
      "execution_count": null,
      "metadata": {
        "ExecuteTime": {
          "end_time": "2022-01-17T18:16:01.208130Z",
          "start_time": "2022-01-17T18:16:00.936069Z"
        },
        "id": "90948785",
        "outputId": "4bbb1e94-c414-4ac9-a110-095493dd1986"
      },
      "outputs": [
        {
          "data": {
            "image/png": "[encoded data removed]",
            "text/plain": [
              "<Figure size 1152x648 with 1 Axes>"
            ]
          },
          "metadata": {
            "needs_background": "light"
          },
          "output_type": "display_data"
        }
      ],
      "source": [
        "plt.figure(figsize=(16, 9))\n",
        "plt.plot(x, y)\n",
        "# Сетка добавляется через последующий вызов функции plt.grid()\n",
        "plt.grid()"
      ],
      "id": "90948785"
    },
    {
      "cell_type": "code",
      "execution_count": null,
      "metadata": {
        "ExecuteTime": {
          "end_time": "2022-01-17T18:19:08.152417Z",
          "start_time": "2022-01-17T18:19:07.628372Z"
        },
        "id": "dcda916a",
        "outputId": "0f349120-aaae-45c2-d155-52755ec383c3"
      },
      "outputs": [
        {
          "data": {
            "image/png": "[encoded data removed]",
            "text/plain": [
              "<Figure size 1152x648 with 1 Axes>"
            ]
          },
          "metadata": {
            "needs_background": "light"
          },
          "output_type": "display_data"
        }
      ],
      "source": [
        "plt.figure(figsize=(16, 9))\n",
        "plt.plot(x, y)\n",
        "plt.grid()\n",
        "plt.title('График $y=x^2$')\n",
        "# есть ограниченная поддержка latex, в основном для уравнений\n",
        "plt.xlabel('x')\n",
        "plt.ylabel('y')\n",
        "plt.savefig('1.pdf')"
      ],
      "id": "dcda916a"
    },
    {
      "cell_type": "code",
      "execution_count": null,
      "metadata": {
        "ExecuteTime": {
          "end_time": "2022-01-17T18:21:06.592284Z",
          "start_time": "2022-01-17T18:21:06.278434Z"
        },
        "id": "2c8bc9dc",
        "outputId": "42cea518-0c4e-43b5-ab86-9005c42f7318"
      },
      "outputs": [
        {
          "data": {
            "text/plain": [
              "Text(0, 0.5, 'y')"
            ]
          },
          "execution_count": 64,
          "metadata": {},
          "output_type": "execute_result"
        },
        {
          "data": {
            "image/png": "[encoded data removed]",
            "text/plain": [
              "<Figure size 1152x648 with 1 Axes>"
            ]
          },
          "metadata": {
            "needs_background": "light"
          },
          "output_type": "display_data"
        }
      ],
      "source": [
        "plt.figure(figsize=(16, 9))\n",
        "# Можно рисовать точки\n",
        "plt.scatter(x, y)\n",
        "# Можно и график рядом\n",
        "# plt.plot(x, y)\n",
        "\n",
        "plt.grid()\n",
        "plt.title('График $y=x^2$')\n",
        "# есть ограниченная поддержка latex, в основном для уравнений\n",
        "plt.xlabel('x')\n",
        "plt.ylabel('y')"
      ],
      "id": "2c8bc9dc"
    },
    {
      "cell_type": "code",
      "execution_count": null,
      "metadata": {
        "ExecuteTime": {
          "end_time": "2022-01-17T18:24:15.339357Z",
          "start_time": "2022-01-17T18:24:14.901032Z"
        },
        "id": "dfdd0347",
        "outputId": "5545bd49-7822-4b77-fbca-bd3f87c486f7"
      },
      "outputs": [
        {
          "data": {
            "image/png": "[encoded data removed]",
            "text/plain": [
              "<Figure size 1152x648 with 1 Axes>"
            ]
          },
          "metadata": {
            "needs_background": "light"
          },
          "output_type": "display_data"
        }
      ],
      "source": [
        "# И гистограммы\n",
        "plt.figure(figsize=(16, 9))\n",
        "plt.hist([1, 1, 2, 3, 5, 5], bins=50)\n",
        "# bins - число столбиков. Если много, будут тонкими\n",
        "plt.grid()"
      ],
      "id": "dfdd0347"
    },
    {
      "cell_type": "code",
      "source": [],
      "metadata": {
        "id": "X2VPQcS7RDtR"
      },
      "id": "X2VPQcS7RDtR",
      "execution_count": null,
      "outputs": []
    },
    {
      "cell_type": "markdown",
      "source": [
        "# ООП"
      ],
      "metadata": {
        "id": "DSG_mdr5QxMG"
      },
      "id": "DSG_mdr5QxMG"
    },
    {
      "cell_type": "markdown",
      "metadata": {
        "toc": true,
        "id": "a26a11c8"
      },
      "source": [
        "<h1>Содержание<span class=\"tocSkip\"></span></h1>\n",
        "<div class=\"toc\"><ul class=\"toc-item\"><li><span><a href=\"#ООП\" data-toc-modified-id=\"ООП-1\"><span class=\"toc-item-num\">1&nbsp;&nbsp;</span>ООП</a></span><ul class=\"toc-item\"><li><span><a href=\"#Объекты-и-их-взаимосвязи\" data-toc-modified-id=\"Объекты-и-их-взаимосвязи-1.1\"><span class=\"toc-item-num\">1.1&nbsp;&nbsp;</span>Объекты и их взаимосвязи</a></span><ul class=\"toc-item\"><li><span><a href=\"#Пример-с-авто\" data-toc-modified-id=\"Пример-с-авто-1.1.1\"><span class=\"toc-item-num\">1.1.1&nbsp;&nbsp;</span>Пример с авто</a></span></li><li><span><a href=\"#Класс-и-объект\" data-toc-modified-id=\"Класс-и-объект-1.1.2\"><span class=\"toc-item-num\">1.1.2&nbsp;&nbsp;</span>Класс и объект</a></span></li></ul></li><li><span><a href=\"#Классы-в-Python\" data-toc-modified-id=\"Классы-в-Python-1.2\"><span class=\"toc-item-num\">1.2&nbsp;&nbsp;</span>Классы в Python</a></span><ul class=\"toc-item\"><li><span><a href=\"#Простой-класс-со-свойствами\" data-toc-modified-id=\"Простой-класс-со-свойствами-1.2.1\"><span class=\"toc-item-num\">1.2.1&nbsp;&nbsp;</span>Простой класс со свойствами</a></span></li><li><span><a href=\"#Говорим,-что-объект-умеет-делать:-методы\" data-toc-modified-id=\"Говорим,-что-объект-умеет-делать:-методы-1.2.2\"><span class=\"toc-item-num\">1.2.2&nbsp;&nbsp;</span>Говорим, что объект умеет делать: методы</a></span></li></ul></li><li><span><a href=\"#Главное-откровение\" data-toc-modified-id=\"Главное-откровение-1.3\"><span class=\"toc-item-num\">1.3&nbsp;&nbsp;</span>Главное откровение</a></span></li><li><span><a href=\"#Наследование\" data-toc-modified-id=\"Наследование-1.4\"><span class=\"toc-item-num\">1.4&nbsp;&nbsp;</span>Наследование</a></span></li><li><span><a href=\"#Инверсия-зависимостей\" data-toc-modified-id=\"Инверсия-зависимостей-1.5\"><span class=\"toc-item-num\">1.5&nbsp;&nbsp;</span>Инверсия зависимостей</a></span></li><li><span><a href=\"#Перегрузка\" data-toc-modified-id=\"Перегрузка-1.6\"><span class=\"toc-item-num\">1.6&nbsp;&nbsp;</span>Перегрузка</a></span></li><li><span><a href=\"#Полиморфизм\" data-toc-modified-id=\"Полиморфизм-1.7\"><span class=\"toc-item-num\">1.7&nbsp;&nbsp;</span>Полиморфизм</a></span></li><li><span><a href=\"#Магические-методы\" data-toc-modified-id=\"Магические-методы-1.8\"><span class=\"toc-item-num\">1.8&nbsp;&nbsp;</span>Магические методы</a></span></li><li><span><a href=\"#Множественное-наследование\" data-toc-modified-id=\"Множественное-наследование-1.9\"><span class=\"toc-item-num\">1.9&nbsp;&nbsp;</span>Множественное наследование</a></span></li><li><span><a href=\"#Интерфейс\" data-toc-modified-id=\"Интерфейс-1.10\"><span class=\"toc-item-num\">1.10&nbsp;&nbsp;</span>Интерфейс</a></span></li><li><span><a href=\"#SOLID-принципы\" data-toc-modified-id=\"SOLID-принципы-1.11\"><span class=\"toc-item-num\">1.11&nbsp;&nbsp;</span>SOLID-принципы</a></span></li></ul></li></ul></div>"
      ],
      "id": "a26a11c8"
    },
    {
      "cell_type": "markdown",
      "metadata": {
        "id": "8d74ca87"
      },
      "source": [
        "\n",
        "Мы уже много работали со странным синтаксисом вызова функций через точку. Например, для списка писали:\n",
        "```python\n",
        "sample_data = [1, 5., 3., -12]\n",
        "sample_data.append(-4.5)  # вызов .append\n",
        "```\n",
        "\n",
        "При этом не было до конца ясно, почему мы вызываем именно `sample_data.append(-4.5)`, а не `append(sample_data, 4.5)`. Сейчас мы раскроем данную загадку :)\n",
        "\n",
        "Нам понадобится сделать небольшой шаг назад, в теорию.\n",
        "\n",
        "## Объекты и их взаимосвязи\n",
        "### Пример с авто\n",
        "Представьте себе, что вы устроились программистом в Volkswagen. Вам поставили задачу написать код, описывающий марки автомобили - как свои, так и конкурентов. Марки бывают разные и могут иметь разные функциональности: каждая имеет свой цвет, тип топлива и т.п. Словом, все машины имеют разный набор характеристик. Но в то же время все автомобили описываются схожим образом, словно по трафарету.\n",
        "\n",
        "Вы думаете, как же лучше всего это все собрать воедино. С одной стороны, для общих характеристик хочется иметь единое название: скажем, если вы обозначите цвет за `color`, то эта переменная должна так же называться и в других моделях (даже тех, которые будет писать другой программист). С другой стороны, нужно как-то делать свой код расширяемым, чтобы в будущем можно было без труда дописать код под новые марки авто  и с новыми характеристиками - в этом смысле навязать всем один строгий набор переменных будет плохой мыслью.\n",
        "\n",
        "Вы могли бы создать что-то в духе\n",
        "```python\n",
        "# (цвет, производитель, марка, тип топлива)\n",
        "car_1 = ('green', 'Ford', 'Mustang', 'Gasoline')\n",
        "car_2 = ('Blue', 'Volkswagen', 'Golf', 'Diesel')\n",
        "```\n",
        "но согласитесь, тяжело сходу понять, какое число что значит. Да и легко ошибиться: кто-нибудь может сделать кортеж длины 5 и это уже будет неверная запись. Более того, если появится новая характеристика, то неясно, как ее аккуратно добавить с такую структуру.\n",
        "\n",
        "### Класс и объект\n",
        "На помощь приходят классы. Давайте посмотрим на задачу вот с такой стороны:\n",
        "1. Есть некое общее описание \"Машина\", которая имеет характеристику: `color`, `manufacturer`, `series`, `fuel_type`.\n",
        "2. По этому общему описанию клепаются конкретные объекты - например, машина с определенной маркой.\n",
        "\n",
        "В такой постановке становится удобнее жить: мы выносим описание \"Машины\" в некую сущность, а конкретные чисал будут в конкретных представителях этой сущности.\n",
        "Поздравляю, мы с вами пришли к концепции класса.\n",
        "\n",
        "**Класс** - это некоторое объединение свойств объекта и действий, которые этот объект может совершать. Класс является некоторым шаблоном, по которому клепаются _объекты_. Например, по _классу_ \"Машина\" можно создавать конкретные _экземпляры_ (или _объекты_) машины - конкретные марки.\n",
        "\n",
        "## Классы в Python\n",
        "### Простой класс со свойствами\n",
        "Давайте реализуем это в коде:"
      ],
      "id": "8d74ca87"
    },
    {
      "cell_type": "code",
      "execution_count": null,
      "metadata": {
        "ExecuteTime": {
          "end_time": "2022-01-30T15:17:38.536055Z",
          "start_time": "2022-01-30T15:17:38.529975Z"
        },
        "id": "a745035c"
      },
      "outputs": [],
      "source": [
        "from dataclasses import dataclass  # упрощает создание класса в нашем случае\n",
        "\n",
        "# Классы объявляются (т.е. создаются) через ключевое слово class\n",
        "# далее идет имя. Принято писать с заглавной буквы\n",
        "@dataclass\n",
        "class Auto:\n",
        "    color: str\n",
        "    manufacturer: str\n",
        "    series: str\n",
        "    fuel_type: str"
      ],
      "id": "a745035c"
    },
    {
      "cell_type": "code",
      "execution_count": null,
      "metadata": {
        "ExecuteTime": {
          "end_time": "2022-01-30T15:19:00.864577Z",
          "start_time": "2022-01-30T15:19:00.855132Z"
        },
        "id": "9a54ed61",
        "outputId": "c1682edd-77c5-4013-df5c-c4cec617420e"
      },
      "outputs": [
        {
          "data": {
            "text/plain": [
              "Auto(color='green', manufacturer='Ford', series='Mustang', fuel_type='Gasoline')"
            ]
          },
          "execution_count": 4,
          "metadata": {},
          "output_type": "execute_result"
        }
      ],
      "source": [
        "car_1 = Auto('green', 'Ford', 'Mustang', 'Gasoline')\n",
        "car_2 = Auto('blue', 'Volkswagen', 'Golf', 'Diesel')\n",
        "car_1"
      ],
      "id": "9a54ed61"
    },
    {
      "cell_type": "code",
      "execution_count": null,
      "metadata": {
        "ExecuteTime": {
          "end_time": "2022-01-30T15:24:33.204625Z",
          "start_time": "2022-01-30T15:24:33.199817Z"
        },
        "id": "a2eaa302"
      },
      "outputs": [],
      "source": [
        "# конструктор - что делать, когда создаем объект\n",
        "# имена класса пишутся в CamelCase с первой заглавной буквой\n",
        "# ТоЕстьСловаСлитноБольшаяБукваНаСлово\n",
        "class AutoShort:\n",
        "    # функция внутри класса с таким названием будет вызываться каждый\n",
        "    # раз, когда мы попросим создать новый объект.\n",
        "    # Задает, что нужно принимать на вход для создания объекта\n",
        "    def __init__(self, color):  # self - это сам объект, который будет создан\n",
        "        self.color = color  # создаваемому объекту задаем переменную color"
      ],
      "id": "a2eaa302"
    },
    {
      "cell_type": "code",
      "execution_count": null,
      "metadata": {
        "ExecuteTime": {
          "end_time": "2022-01-30T15:24:33.689491Z",
          "start_time": "2022-01-30T15:24:33.681744Z"
        },
        "id": "c1dfd7b7",
        "outputId": "935a5921-4f2b-4a8a-af30-f1a2eacf1017"
      },
      "outputs": [
        {
          "data": {
            "text/plain": [
              "'red'"
            ]
          },
          "execution_count": 12,
          "metadata": {},
          "output_type": "execute_result"
        }
      ],
      "source": [
        "colored_car = AutoShort('red')\n",
        "colored_car.color  # наш синтаксис с точкой"
      ],
      "id": "c1dfd7b7"
    },
    {
      "cell_type": "code",
      "execution_count": null,
      "metadata": {
        "ExecuteTime": {
          "end_time": "2022-01-30T15:25:05.896402Z",
          "start_time": "2022-01-30T15:25:05.890519Z"
        },
        "id": "4fe691c7",
        "outputId": "d9cf70a9-17ed-4f66-9953-5dbd5a9f418b"
      },
      "outputs": [
        {
          "data": {
            "text/plain": [
              "'blue'"
            ]
          },
          "execution_count": 13,
          "metadata": {},
          "output_type": "execute_result"
        }
      ],
      "source": [
        "colored_car.color = 'blue'  # можно менять переменную внутри объекта\n",
        "colored_car.color"
      ],
      "id": "4fe691c7"
    },
    {
      "cell_type": "markdown",
      "metadata": {
        "id": "ee1504c8"
      },
      "source": [
        "### Говорим, что объект умеет делать: методы\n",
        "Объект может не только иметь свойства, но уметь что-то делать. Давайте посмотрим:"
      ],
      "id": "ee1504c8"
    },
    {
      "cell_type": "code",
      "execution_count": null,
      "metadata": {
        "ExecuteTime": {
          "end_time": "2022-01-30T15:33:23.842203Z",
          "start_time": "2022-01-30T15:33:23.835460Z"
        },
        "id": "6fd04806"
      },
      "outputs": [],
      "source": [
        "class AutoWithAlarm:\n",
        "    # через name: type можно делать подсказки типа\n",
        "    def __init__(self, color, alarm_sound: str):\n",
        "        self.color = color\n",
        "        self.alarm_sound = alarm_sound\n",
        "\n",
        "    # эта функция уйдет в каждый объект класса, он будет уметь ее вызывать\n",
        "    def alarm(self):\n",
        "        # внутри этой функции можем обращаться к свойствам объекта\n",
        "        print(self.alarm_sound)"
      ],
      "id": "6fd04806"
    },
    {
      "cell_type": "code",
      "execution_count": null,
      "metadata": {
        "ExecuteTime": {
          "end_time": "2022-01-30T15:33:24.974750Z",
          "start_time": "2022-01-30T15:33:24.971453Z"
        },
        "id": "737e5f2b"
      },
      "outputs": [],
      "source": [
        "my_new_car = AutoWithAlarm('red', 'beep-beep-beeeeeep')"
      ],
      "id": "737e5f2b"
    },
    {
      "cell_type": "code",
      "execution_count": null,
      "metadata": {
        "ExecuteTime": {
          "end_time": "2022-01-30T15:33:25.420967Z",
          "start_time": "2022-01-30T15:33:25.414668Z"
        },
        "id": "aebb3c94",
        "outputId": "eb9889bd-6cdc-43e5-c2b5-fa4d494ea8d9"
      },
      "outputs": [
        {
          "data": {
            "text/plain": [
              "'red'"
            ]
          },
          "execution_count": 25,
          "metadata": {},
          "output_type": "execute_result"
        }
      ],
      "source": [
        "# проверяем цвет\n",
        "my_new_car.color"
      ],
      "id": "aebb3c94"
    },
    {
      "cell_type": "code",
      "execution_count": null,
      "metadata": {
        "ExecuteTime": {
          "end_time": "2022-01-30T15:33:25.999094Z",
          "start_time": "2022-01-30T15:33:25.994223Z"
        },
        "id": "ebb6338e",
        "outputId": "aae850b2-33e1-4258-be76-74c0294e5253"
      },
      "outputs": [
        {
          "name": "stdout",
          "output_type": "stream",
          "text": [
            "beep-beep-beeeeeep\n"
          ]
        }
      ],
      "source": [
        "my_new_car.alarm()"
      ],
      "id": "ebb6338e"
    },
    {
      "cell_type": "markdown",
      "metadata": {
        "id": "b8025288"
      },
      "source": [
        "Давайте еще раз задумаемся над примером. Мы создали класс как шаблон объектов, затем начали создавать объекты по образу и подобию этого класса.\n",
        "\n",
        "Такой подход называется ООП - _объектно-ориентированное программированием_. В ООП вы строите свой код через классы, объекты и их взаимодействие. Объектом может быть что угодно: особый список, подключение к базе данных, датафрейм и т.п.\n",
        "\n",
        "Каждая переменная в классе называется _полем_ или _свойством_, каждая функция - _методом_.\n",
        "\n",
        "## Главное откровение\n",
        "Все в Python является объектами. Датафреймы, списки, модули (даже они), функции (и они тоже), подключения к БД - все это есть объекты некоторых классов. Именно поэтому они имели свои функции (как `[1, 2].append(3)`), которые мы вызывали через синтаксис с точкой.\n",
        "\n",
        "## Наследование\n",
        "Классы обладают интересной возможностью: вы можете создавать класс не с нуля, а позаимствовать свойства и методы из другого класса. Такой прием называется _наследованием_."
      ],
      "id": "b8025288"
    },
    {
      "cell_type": "code",
      "execution_count": null,
      "metadata": {
        "ExecuteTime": {
          "end_time": "2022-01-30T15:43:45.661967Z",
          "start_time": "2022-01-30T15:43:45.654364Z"
        },
        "id": "b63ceb10"
      },
      "outputs": [],
      "source": [
        "# Очень простое описание авто\n",
        "class Auto:\n",
        "    color = ''  # можно заранее создать поля, можно делать в __init__\n",
        "    name = ''   # в этом примере сделаем и там, и там\n",
        "    alarm_sound = ''\n",
        "\n",
        "    def __init__(self, color: str, name: str, alarm_sound: str):\n",
        "        self.name = name\n",
        "        self.color = color\n",
        "        self.alarm_sound = alarm_sound  #\n",
        "\n",
        "    def beep(self):\n",
        "        print(self.alarm_sound)\n",
        "\n",
        "# Мы захотели его расширить: добавить звуковой сигнал\n",
        "# синтаксис: после имени класса в круглых скобках пишем, от кого наследуемся\n",
        "class AutoWithAlarm(Auto):\n",
        "    # добавляем новый функционал\n",
        "    def alarm(self):\n",
        "        print('piy-piy')"
      ],
      "id": "b63ceb10"
    },
    {
      "cell_type": "code",
      "execution_count": null,
      "metadata": {
        "ExecuteTime": {
          "end_time": "2022-01-30T15:45:30.177521Z",
          "start_time": "2022-01-30T15:45:30.172539Z"
        },
        "id": "e2291411",
        "outputId": "1d532c78-7704-4fc0-ff52-586c47b19961"
      },
      "outputs": [
        {
          "name": "stdout",
          "output_type": "stream",
          "text": [
            "piy-piy\n"
          ]
        }
      ],
      "source": [
        "car_sound = AutoWithAlarm('red', 'Polo', 'bepe')\n",
        "car_sound.alarm()"
      ],
      "id": "e2291411"
    },
    {
      "cell_type": "code",
      "execution_count": null,
      "metadata": {
        "ExecuteTime": {
          "end_time": "2022-01-30T15:45:44.064742Z",
          "start_time": "2022-01-30T15:45:44.059062Z"
        },
        "id": "349a970b",
        "outputId": "164fa781-d4eb-4ed0-dee0-27011dd42732"
      },
      "outputs": [
        {
          "name": "stdout",
          "output_type": "stream",
          "text": [
            "bepe\n"
          ]
        }
      ],
      "source": [
        "car_sound.beep()"
      ],
      "id": "349a970b"
    },
    {
      "cell_type": "markdown",
      "metadata": {
        "id": "3ba2dc5d"
      },
      "source": [
        "Класс `AutoWithAlarm` зовется _дочерним_, `Auto` для него будет _родительским_ классом (или _базовым_ классом).\n",
        "\n",
        "При наследовании надо соблюдать несколько простых правил:\n",
        "1. Наследуемый класс (`AutoWithAlarm`) по логике должен расширять базовый класс, а не перечеркивать его поведение и делать по-своему.\n",
        "2. Код должен продолжать работать, если заменить в нем базовый класс на какой-то из его наследников ([принцип Барбары Лисков](https://ru.wikipedia.org/wiki/Принцип_подстановки_Барбары_Лисков))."
      ],
      "id": "3ba2dc5d"
    },
    {
      "cell_type": "markdown",
      "metadata": {
        "id": "24f104f4"
      },
      "source": [
        "## Перегрузка\n",
        "\n",
        "Класс-наследник может переопределить поведение родительской функции:"
      ],
      "id": "24f104f4"
    },
    {
      "cell_type": "code",
      "execution_count": null,
      "metadata": {
        "ExecuteTime": {
          "end_time": "2022-01-30T16:07:26.081353Z",
          "start_time": "2022-01-30T16:07:26.066554Z"
        },
        "id": "a39dd347"
      },
      "outputs": [],
      "source": [
        "class Auto:\n",
        "    color = ''\n",
        "    name = ''\n",
        "    alarm_sound = ''\n",
        "\n",
        "    def __init__(self, color: str, name: str, alarm_sound: str):\n",
        "        self.name = name\n",
        "        self.color = color\n",
        "        self.alarm_sound = alarm_sound  #\n",
        "\n",
        "    def beep(self):\n",
        "        print(self.alarm_sound)\n",
        "\n",
        "\n",
        "class AutoWithCustomBeep(Auto):\n",
        "    # берем и нагло меняем поведение - переопределяем метод родителя\n",
        "    def beep(self):\n",
        "        # кстати, можно использовать родительскую версию\n",
        "        # super().beep()\n",
        "        print('beep broke, sorry')"
      ],
      "id": "a39dd347"
    },
    {
      "cell_type": "code",
      "execution_count": null,
      "metadata": {
        "ExecuteTime": {
          "end_time": "2022-01-30T16:07:28.313992Z",
          "start_time": "2022-01-30T16:07:28.309677Z"
        },
        "id": "6ef93027",
        "outputId": "c9b37cbe-d8b9-4123-dd5b-4e5918bbbac0"
      },
      "outputs": [
        {
          "name": "stdout",
          "output_type": "stream",
          "text": [
            "beep broke, sorry\n"
          ]
        }
      ],
      "source": [
        "car_broken = AutoWithCustomBeep('red', 'Volvo', 'beep123')\n",
        "car_broken.beep()"
      ],
      "id": "6ef93027"
    },
    {
      "cell_type": "markdown",
      "metadata": {
        "id": "a6ada465"
      },
      "source": [
        "Такое переопределение называется _перегрузкой_ (_override_) метода. Оно часто применяется, когда в наследнике необходимо поменять некоторое поведение родителя.\n",
        "\n",
        "Кстати, если вы переопределите свойства, то все обращения к ней тоже переопределятся!"
      ],
      "id": "a6ada465"
    },
    {
      "cell_type": "markdown",
      "metadata": {
        "id": "4e046f9a"
      },
      "source": [
        "## Полиморфизм\n",
        "Для Python особо не актуален, поскольку в Python динамическая типизация. Расскажем коротко.\n",
        "\n",
        "Полиморфизм - это возможность создавать _один и тот же метод_ в классе, работающий с данными разного _типа_.\n",
        "\n",
        "Например\n",
        "```python\n",
        "class NumberPrinter:\n",
        "    def print_number(self, num: int):\n",
        "        print(f'integer, {num}')\n",
        "    def print_number(self, num: float):\n",
        "        print(f'float, {num}')\n",
        "```\n",
        "Достигнется разное поведение на разных типах.\n",
        "\n",
        "В Python этот пример **не будет** работать, он только лишь возьмет последнюю реализацию функции.\n",
        "\n",
        "[Подробнее про полиморфизм для заинтересованных](https://habr.com/ru/post/552922/)."
      ],
      "id": "4e046f9a"
    },
    {
      "cell_type": "code",
      "execution_count": null,
      "metadata": {
        "ExecuteTime": {
          "end_time": "2022-01-30T16:10:53.832235Z",
          "start_time": "2022-01-30T16:10:53.827445Z"
        },
        "id": "69d98e9b"
      },
      "outputs": [],
      "source": [
        "# В других языках этот пример бы сработал, но не в Python\n",
        "# из-за дин. типизации\n",
        "class NumberPrinter:\n",
        "    # для int\n",
        "    def print_number(self, num: int):\n",
        "        print(f'integer, {num}')\n",
        "\n",
        "    # для float\n",
        "    def print_number(self, num: float):\n",
        "        print(f'float, {num}')"
      ],
      "id": "69d98e9b"
    },
    {
      "cell_type": "code",
      "execution_count": null,
      "metadata": {
        "ExecuteTime": {
          "end_time": "2022-01-30T16:11:32.351806Z",
          "start_time": "2022-01-30T16:11:32.346551Z"
        },
        "id": "4a424e61",
        "outputId": "d134166f-bde6-47a6-faf9-a2db905d3b01"
      },
      "outputs": [
        {
          "name": "stdout",
          "output_type": "stream",
          "text": [
            "float, 5.5\n",
            "float, 5\n"
          ]
        }
      ],
      "source": [
        "NumberPrinter().print_number(5.5)\n",
        "NumberPrinter().print_number(5)"
      ],
      "id": "4a424e61"
    },
    {
      "cell_type": "markdown",
      "metadata": {
        "id": "da8b161e"
      },
      "source": [
        "## Магические методы\n",
        "В классе можно объявить методы с особыми названиями, которые дадут объектам класса особую функциональность. Такие методы называются _magic methods_."
      ],
      "id": "da8b161e"
    },
    {
      "cell_type": "code",
      "execution_count": null,
      "metadata": {
        "ExecuteTime": {
          "end_time": "2022-01-30T16:18:17.372294Z",
          "start_time": "2022-01-30T16:18:17.367427Z"
        },
        "id": "a85ba588"
      },
      "outputs": [],
      "source": [
        "class Vector3D:\n",
        "    def __init__(self, x, y, z):\n",
        "        self.x, self.y, self.z = x, y, z\n",
        "\n",
        "    # Добавит возможность складывать объекты\n",
        "    def __add__(self, other):\n",
        "        return Vector3D(self.x + other.x, self.y + other.y, self.z + other.z)"
      ],
      "id": "a85ba588"
    },
    {
      "cell_type": "code",
      "execution_count": null,
      "metadata": {
        "ExecuteTime": {
          "end_time": "2022-01-30T16:18:32.669933Z",
          "start_time": "2022-01-30T16:18:32.664729Z"
        },
        "scrolled": true,
        "id": "9d1f1d1f",
        "outputId": "8a77e1b8-33e1-42c3-dfd9-be229c3df357"
      },
      "outputs": [
        {
          "name": "stdout",
          "output_type": "stream",
          "text": [
            "<__main__.Vector3D object at 0x103875160>\n"
          ]
        }
      ],
      "source": [
        "vec_1 = Vector3D(1, 3, 5)\n",
        "vec_2 = Vector3D(-5, -3, 1)\n",
        "sum_vec = vec_1 + vec_2\n",
        "print(sum_vec)   # некрасивый вывод"
      ],
      "id": "9d1f1d1f"
    },
    {
      "cell_type": "code",
      "execution_count": null,
      "metadata": {
        "ExecuteTime": {
          "end_time": "2022-01-30T16:19:19.634600Z",
          "start_time": "2022-01-30T16:19:19.627402Z"
        },
        "id": "ce3ca2a5",
        "outputId": "dfce6d0d-4159-4870-e475-8e357e272cdd"
      },
      "outputs": [
        {
          "data": {
            "text/plain": [
              "6"
            ]
          },
          "execution_count": 49,
          "metadata": {},
          "output_type": "execute_result"
        }
      ],
      "source": [
        "sum_vec.z"
      ],
      "id": "ce3ca2a5"
    },
    {
      "cell_type": "code",
      "execution_count": null,
      "metadata": {
        "ExecuteTime": {
          "end_time": "2022-01-30T16:20:16.416162Z",
          "start_time": "2022-01-30T16:20:16.408486Z"
        },
        "id": "830b87a1"
      },
      "outputs": [],
      "source": [
        "class Vector3D:\n",
        "    def __init__(self, x, y, z):\n",
        "        self.x, self.y, self.z = x, y, z\n",
        "\n",
        "    def __add__(self, other):\n",
        "        return Vector3D(self.x + other.x, self.y + other.y, self.z + other.z)\n",
        "\n",
        "    # добавит красивую печать\n",
        "    def __str__(self):\n",
        "        return f'({self.x}, {self.y}, {self.z})'"
      ],
      "id": "830b87a1"
    },
    {
      "cell_type": "code",
      "execution_count": null,
      "metadata": {
        "ExecuteTime": {
          "end_time": "2022-01-30T16:20:30.619691Z",
          "start_time": "2022-01-30T16:20:30.614841Z"
        },
        "id": "542f58a1",
        "outputId": "0e276ac3-3008-4891-de16-883128f98c74"
      },
      "outputs": [
        {
          "name": "stdout",
          "output_type": "stream",
          "text": [
            "(-4, 0, 6)\n"
          ]
        }
      ],
      "source": [
        "vec_1 = Vector3D(1, 3, 5)\n",
        "vec_2 = Vector3D(-5, -3, 1)\n",
        "print(vec_1 + vec_2)"
      ],
      "id": "542f58a1"
    },
    {
      "cell_type": "code",
      "execution_count": null,
      "metadata": {
        "ExecuteTime": {
          "end_time": "2022-01-30T16:22:47.493372Z",
          "start_time": "2022-01-30T16:22:47.489149Z"
        },
        "id": "3092ab45"
      },
      "outputs": [],
      "source": [
        "# еще один трюк: можно добавить возможность вызывать объект как функцию!\n",
        "class TriangleCalculator:\n",
        "    def __init__(self, a):\n",
        "        self.a = a\n",
        "\n",
        "    # дает возможность вызывать объект, как функцию\n",
        "    def __call__(self, b):\n",
        "        return (self.a ** 2 + b ** 2) ** 0.5"
      ],
      "id": "3092ab45"
    },
    {
      "cell_type": "code",
      "execution_count": null,
      "metadata": {
        "ExecuteTime": {
          "end_time": "2022-01-30T16:25:04.724661Z",
          "start_time": "2022-01-30T16:25:04.719025Z"
        },
        "id": "a0bf65a9",
        "outputId": "39ede5fc-8554-47ad-b6d8-59efd6879b71"
      },
      "outputs": [
        {
          "data": {
            "text/plain": [
              "5"
            ]
          },
          "execution_count": 61,
          "metadata": {},
          "output_type": "execute_result"
        }
      ],
      "source": [
        "calc = TriangleCalculator(a=5)\n",
        "# можно забирать поля\n",
        "calc.a"
      ],
      "id": "a0bf65a9"
    },
    {
      "cell_type": "code",
      "execution_count": null,
      "metadata": {
        "ExecuteTime": {
          "end_time": "2022-01-30T16:25:16.614451Z",
          "start_time": "2022-01-30T16:25:16.608277Z"
        },
        "id": "3cc20f91",
        "outputId": "1057b68a-49d4-4af1-da33-9817900e575d"
      },
      "outputs": [
        {
          "data": {
            "text/plain": [
              "6.4031242374328485"
            ]
          },
          "execution_count": 62,
          "metadata": {},
          "output_type": "execute_result"
        }
      ],
      "source": [
        "# а можно использовать как функцию\n",
        "calc(4)"
      ],
      "id": "3cc20f91"
    },
    {
      "cell_type": "markdown",
      "metadata": {
        "id": "4636fe07"
      },
      "source": [
        "Такие волшебные методы часто используются при разработке библиотек. Более подробно про них можно почитать [здесь](https://www.tutorialsteacher.com/python/magic-methods-in-python)."
      ],
      "id": "4636fe07"
    },
    {
      "cell_type": "markdown",
      "metadata": {
        "id": "60263f7e"
      },
      "source": [
        "## Множественное наследование\n",
        "В Python можно наследоваться не только от одного класса, а от нескольких. Для этого надо перечислять родителей через запятую:"
      ],
      "id": "60263f7e"
    },
    {
      "cell_type": "code",
      "execution_count": null,
      "metadata": {
        "ExecuteTime": {
          "end_time": "2022-01-30T16:29:30.545183Z",
          "start_time": "2022-01-30T16:29:30.539183Z"
        },
        "id": "43833617"
      },
      "outputs": [],
      "source": [
        "class Printable:\n",
        "    # обращаемся к переменной \"a\", хотя не объявили\n",
        "    def __str__(self):\n",
        "        print('__str__ is called')\n",
        "        return f'{self.a}'\n",
        "\n",
        "class Divisable:\n",
        "    def __truediv__(self, b: int):\n",
        "        print('__truediv__ is called')\n",
        "        return self.a / b\n",
        "\n",
        "\n",
        "class NumberKeeper(Printable, Divisable):\n",
        "    def __init__(self, a):\n",
        "        # Вот тут появится a\n",
        "        self.a = a"
      ],
      "id": "43833617"
    },
    {
      "cell_type": "code",
      "execution_count": null,
      "metadata": {
        "ExecuteTime": {
          "end_time": "2022-01-30T16:29:34.522147Z",
          "start_time": "2022-01-30T16:29:34.512701Z"
        },
        "id": "45c394de",
        "outputId": "fbb49af1-1196-475a-95be-05c1523d13a9"
      },
      "outputs": [
        {
          "name": "stdout",
          "output_type": "stream",
          "text": [
            "__truediv__ is called\n"
          ]
        },
        {
          "data": {
            "text/plain": [
              "2.5"
            ]
          },
          "execution_count": 67,
          "metadata": {},
          "output_type": "execute_result"
        }
      ],
      "source": [
        "keeper = NumberKeeper(5)\n",
        "keeper / 2"
      ],
      "id": "45c394de"
    },
    {
      "cell_type": "code",
      "execution_count": null,
      "metadata": {
        "ExecuteTime": {
          "end_time": "2022-01-30T16:29:39.347228Z",
          "start_time": "2022-01-30T16:29:39.342030Z"
        },
        "id": "22c513e9",
        "outputId": "0da25eab-031d-4262-c101-4a3544ef1ce9"
      },
      "outputs": [
        {
          "name": "stdout",
          "output_type": "stream",
          "text": [
            "__str__ is called\n",
            "5\n"
          ]
        }
      ],
      "source": [
        "print(keeper)"
      ],
      "id": "22c513e9"
    },
    {
      "cell_type": "markdown",
      "metadata": {
        "id": "d02cf7db"
      },
      "source": [
        "## Интерфейс\n",
        "Классы позволяют проводить еще один трюк. Допустим, вы разрабатываете библиотеку для подключения к различным типам СУБД: к PostgreSQL, к ClickHouse, к MySQL и т.п.\n",
        "\n",
        "Как главный разработчик, вы принимаете решение писать по классу на каждый тип СУБД и при этом обязать всех программистов реализовать функцию `.connect()` в этих классах. С помощью ООП можно наложить это обязательство не только словами, но и кодом:"
      ],
      "id": "d02cf7db"
    },
    {
      "cell_type": "code",
      "execution_count": null,
      "metadata": {
        "ExecuteTime": {
          "end_time": "2022-01-30T14:35:01.693842Z",
          "start_time": "2022-01-30T14:35:01.687527Z"
        },
        "id": "89095a64"
      },
      "outputs": [],
      "source": [
        "import time\n",
        "\n",
        "# Создаем класс с функцией, которую требуется реализовать\n",
        "class Connectable:\n",
        "    def connect(conn_uri: str):\n",
        "        raise NotImplemented(\"you should override this method\")\n",
        "\n",
        "# И наследуемся от нее во всех классах\n",
        "class PostgresqlConnection(Connectable):\n",
        "    # теперь мы получили в наследство неисправную функцию\n",
        "    # надо ее переопределить на исправную версию\n",
        "    def connect(conn_uri: str):\n",
        "        print('connecting to postgres')\n",
        "        time.sleep(3)  # имитируем подключение к postgres :)\n",
        "        print('connection done')"
      ],
      "id": "89095a64"
    },
    {
      "cell_type": "markdown",
      "metadata": {
        "id": "93da17b3"
      },
      "source": [
        "Класс `Connectable` в этом случае будет называться _интерфейсом_. Грубо говоря, интерфейс - это класс, который ничего не делает по существу и только дает обязательства на реализацию того или иного метода.\n",
        "\n",
        "Интерфейсы используются, чтобы напоминать другим разработчикам, какие методы они должны реализовать для нормальной работы класса в остальной системе :)"
      ],
      "id": "93da17b3"
    },
    {
      "cell_type": "markdown",
      "metadata": {
        "id": "ce4eae1f"
      },
      "source": [
        "## SOLID-принципы\n",
        "Пять принципов, по которым стоит строить классы. Не обязательно их всех запомнить, но лучше держать в голове и потихоньку к ним приближаться :)\n",
        "1. Принцип единственной ответственности (single responsibility principle)\n",
        "2. Программные сущности должны быть открыты для расширения, но закрыты для модификации».\n",
        "3. Объекты в программе должны быть заменяемыми на экземпляры их подтипов без изменения правильности выполнения программы\n",
        "4. Много интерфейсов, специально предназначенных для клиентов, лучше, чем один интерфейс общего назначения.\n",
        "5. Зависимость на Абстракциях."
      ],
      "id": "ce4eae1f"
    },
    {
      "cell_type": "code",
      "source": [
        "Благодарности за материалы Анатолию Карпову"
      ],
      "metadata": {
        "id": "EyZfcsKlR3-U"
      },
      "id": "EyZfcsKlR3-U",
      "execution_count": null,
      "outputs": []
    },
    {
      "cell_type": "markdown",
      "source": [
        "# Версионирование"
      ],
      "metadata": {
        "id": "VHJ6xzt7Rgcb"
      },
      "id": "VHJ6xzt7Rgcb"
    },
    {
      "cell_type": "markdown",
      "metadata": {
        "toc": true,
        "id": "23b43c98"
      },
      "source": [
        "<h1>Содержание<span class=\"tocSkip\"></span></h1>\n",
        "<div class=\"toc\"><ul class=\"toc-item\"><li><span><a href=\"#Версионирование\" data-toc-modified-id=\"Версионирование-1\"><span class=\"toc-item-num\">1&nbsp;&nbsp;</span>Версионирование</a></span><ul class=\"toc-item\"><li><span><a href=\"#Мотивация\" data-toc-modified-id=\"Мотивация-1.1\"><span class=\"toc-item-num\">1.1&nbsp;&nbsp;</span>Мотивация</a></span></li><li><span><a href=\"#git:-основы\" data-toc-modified-id=\"git:-основы-1.2\"><span class=\"toc-item-num\">1.2&nbsp;&nbsp;</span>git: основы</a></span><ul class=\"toc-item\"><li><span><a href=\"#Коммиты\" data-toc-modified-id=\"Коммиты-1.2.1\"><span class=\"toc-item-num\">1.2.1&nbsp;&nbsp;</span>Коммиты</a></span></li><li><span><a href=\"#Принцип-работы-с-git\" data-toc-modified-id=\"Принцип-работы-с-git-1.2.2\"><span class=\"toc-item-num\">1.2.2&nbsp;&nbsp;</span>Принцип работы с git</a></span></li></ul></li><li><span><a href=\"#Ветки-и-теги-git\" data-toc-modified-id=\"Ветки-и-теги-git-1.3\"><span class=\"toc-item-num\">1.3&nbsp;&nbsp;</span>Ветки и теги git</a></span><ul class=\"toc-item\"><li><span><a href=\"#Ветка\" data-toc-modified-id=\"Ветка-1.3.1\"><span class=\"toc-item-num\">1.3.1&nbsp;&nbsp;</span>Ветка</a></span></li><li><span><a href=\"#Тег\" data-toc-modified-id=\"Тег-1.3.2\"><span class=\"toc-item-num\">1.3.2&nbsp;&nbsp;</span>Тег</a></span></li><li><span><a href=\"#HEAD\" data-toc-modified-id=\"HEAD-1.3.3\"><span class=\"toc-item-num\">1.3.3&nbsp;&nbsp;</span>HEAD</a></span></li></ul></li><li><span><a href=\"#Merge:-объединяем-изменения\" data-toc-modified-id=\"Merge:-объединяем-изменения-1.4\"><span class=\"toc-item-num\">1.4&nbsp;&nbsp;</span>Merge: объединяем изменения</a></span><ul class=\"toc-item\"><li><span><a href=\"#Простой-сценарий\" data-toc-modified-id=\"Простой-сценарий-1.4.1\"><span class=\"toc-item-num\">1.4.1&nbsp;&nbsp;</span>Простой сценарий</a></span></li><li><span><a href=\"#Сложный-сценарий:-конфликт-при-слиянии\" data-toc-modified-id=\"Сложный-сценарий:-конфликт-при-слиянии-1.4.2\"><span class=\"toc-item-num\">1.4.2&nbsp;&nbsp;</span>Сложный сценарий: конфликт при слиянии</a></span></li></ul></li><li><span><a href=\"#Стратегии-ветвления\" data-toc-modified-id=\"Стратегии-ветвления-1.5\"><span class=\"toc-item-num\">1.5&nbsp;&nbsp;</span>Стратегии ветвления</a></span><ul class=\"toc-item\"><li><span><a href=\"#master,-dev-и-тематическая-ветка-(GitFlow)\" data-toc-modified-id=\"master,-dev-и-тематическая-ветка-(GitFlow)-1.5.1\"><span class=\"toc-item-num\">1.5.1&nbsp;&nbsp;</span>master, dev и тематическая ветка (GitFlow)</a></span></li><li><span><a href=\"#Trunk-based-development\" data-toc-modified-id=\"Trunk-based-development-1.5.2\"><span class=\"toc-item-num\">1.5.2&nbsp;&nbsp;</span>Trunk based development</a></span></li></ul></li><li><span><a href=\"#Remote:-выходим-в-Интернет\" data-toc-modified-id=\"Remote:-выходим-в-Интернет-1.6\"><span class=\"toc-item-num\">1.6&nbsp;&nbsp;</span>Remote: выходим в Интернет</a></span><ul class=\"toc-item\"><li><span><a href=\"#clone\" data-toc-modified-id=\"clone-1.6.1\"><span class=\"toc-item-num\">1.6.1&nbsp;&nbsp;</span>clone</a></span></li><li><span><a href=\"#pull-и-push\" data-toc-modified-id=\"pull-и-push-1.6.2\"><span class=\"toc-item-num\">1.6.2&nbsp;&nbsp;</span>pull и push</a></span></li><li><span><a href=\"#remote:-что-это-и-как-добавлять\" data-toc-modified-id=\"remote:-что-это-и-как-добавлять-1.6.3\"><span class=\"toc-item-num\">1.6.3&nbsp;&nbsp;</span>remote: что это и как добавлять</a></span></li></ul></li><li><span><a href=\"#Практические-советы-по-git\" data-toc-modified-id=\"Практические-советы-по-git-1.7\"><span class=\"toc-item-num\">1.7&nbsp;&nbsp;</span>Практические советы по git</a></span><ul class=\"toc-item\"><li><span><a href=\"#Не-стесняйтесь-создавать-ветки\" data-toc-modified-id=\"Не-стесняйтесь-создавать-ветки-1.7.1\"><span class=\"toc-item-num\">1.7.1&nbsp;&nbsp;</span>Не стесняйтесь создавать ветки</a></span></li><li><span><a href=\"#Старайтесь-делать-коммиты-только-исправного-кода\" data-toc-modified-id=\"Старайтесь-делать-коммиты-только-исправного-кода-1.7.2\"><span class=\"toc-item-num\">1.7.2&nbsp;&nbsp;</span>Старайтесь делать коммиты только исправного кода</a></span></li><li><span><a href=\"#Делайте-коммиты-как-можно-более-точечными\" data-toc-modified-id=\"Делайте-коммиты-как-можно-более-точечными-1.7.3\"><span class=\"toc-item-num\">1.7.3&nbsp;&nbsp;</span>Делайте коммиты как можно более точечными</a></span></li><li><span><a href=\"#Следите-внимательно-за-тем,-что-коммитите\" data-toc-modified-id=\"Следите-внимательно-за-тем,-что-коммитите-1.7.4\"><span class=\"toc-item-num\">1.7.4&nbsp;&nbsp;</span>Следите внимательно за тем, что коммитите</a></span></li><li><span><a href=\"#Начинайте-рабочий-день-с-git-pull\" data-toc-modified-id=\"Начинайте-рабочий-день-с-git-pull-1.7.5\"><span class=\"toc-item-num\">1.7.5&nbsp;&nbsp;</span>Начинайте рабочий день с <code>git pull</code></a></span></li><li><span><a href=\"#Не-редактируйте-лишнего\" data-toc-modified-id=\"Не-редактируйте-лишнего-1.7.6\"><span class=\"toc-item-num\">1.7.6&nbsp;&nbsp;</span>Не редактируйте лишнего</a></span></li></ul></li></ul></li></ul></div>"
      ],
      "id": "23b43c98"
    },
    {
      "cell_type": "markdown",
      "metadata": {
        "id": "e913e744"
      },
      "source": [
        "\n",
        "_Ноутбук написан по замечательному руководству от [git-scm](https://git-scm.com/book/en/v2/Git-Branching-Branches-in-a-Nutshell)_. Советуем заглянуть туда после прочтения ноутбука. Картинки взяты оттуда же.\n",
        "## Мотивация\n",
        "Часто при работе с меняющимися файлами необходимо хранить старую копию. Классический пример: у вас был проект в папке \"проект Python\", затем вы хотите попробовать новую версию кода, но не хотите терять старый.\n",
        "\n",
        "Обычно в таком случае создают папку \"проект Python_новый\", потом \"проект Python_новый (1)\", потом \"проект Python_новый FINAL\" и т.п.\n",
        "\n",
        "Кажется, что это не очень хорошее решение. Что будет, если мы хотим иметь сотни разных версий кода? А если захотим легко и быстро переключаться между версиями, да еще и иметь небольшое описание каждого состояния?\n",
        "\n",
        "Вариант с папками не подойдет. Для таких целей созданы _системы контроля версий_ (англ. _VCS_ - version control system). VCS дают возможность удобно хранить разные версии, аннотировать и легко переключаться между ними.\n",
        "\n",
        "## git: основы\n",
        "Самая популярная система контроля версий на сегодняшний день. Была разработана Линусом Торвальдсом для разработки ядра Linux (автора не устроили существовавшие на тот момент VCS).\n",
        "\n",
        "`git` имеет некоторый порог вхождения, так как опрерирует определенными абстракциями. Давайте постепенно разбираться.\n",
        "\n",
        "Во-первых, `git` работает в папке. Он отслеживает файлы, за которыми вы попросите его следить, и сохраняет снимки состояния.\n",
        "\n",
        "### Коммиты\n",
        "**Коммит** (англ. _commit_) - слепок всех отслеживаемых гитом (_индексированных_) файлов. Коммиты являются кирпичиками git: по сути, большая часть функциональности git сводится к возможности переключаться между коммитами (т.е. между слепками кода в разные моменты времени).\n",
        "\n",
        "Коммиты формируют **дерево коммитов**. Дело в том, что следующий снимок системы возник не на пустом месте, а на основе предыдущего снимка. Соответственно, каждый коммит имеет родителя (обычно одного, об этом ниже) и такая цепочка формирует _дерево коммитов_.\n",
        "\n",
        "![Дерево коммитов](https://git-scm.com/book/en/v2/images/branch-and-history.png)\n",
        "\n",
        "Коммиты имеют SHA-сумму - это хэш коммита. Для нас важно то, что SHA коммита - это его некий ID, по которому можно однозначно его идентифицировать.\n",
        "\n",
        "### Принцип работы с git\n",
        "Работа с git делится на 3 стадии:\n",
        "1. Редактирование файла. Вы редкатируете файл в любимом редакторе, сохраняете.\n",
        "2. Добавление файлов в _staging_. Это некая область, которую гит видит как \"изменения, которые надо включить в следующий коммит\". _staging_ живет до того момента, пока вы не сделаете коммит. Это похоже на сбор вещей перед поездкой - пока вы не закроете сумку, туда можно класть вещи и убирать.\n",
        "3. Сохранение коммита. Все собранные изменения в _staging_ сохраняются в коммит, коммит занимает свое место в истории в дереве коммитов. После создания коммита состояние проекта на этот момент навсегда сохраняется в истории и к нему можно будет вернуться в любой момент.\n",
        "\n",
        "![Путь от изменения файла до коммита](https://git-scm.com/book/en/v2/images/areas.png)\n",
        "\n",
        "Перейдем к практике. Создадим простой репозиторий и сделаем в нем несколько коммитов, затем попробуем переключаться между ними."
      ],
      "id": "e913e744"
    },
    {
      "cell_type": "markdown",
      "metadata": {
        "id": "220fda0e"
      },
      "source": [
        "## Ветки и теги git\n",
        "Для быстрого переключения между коммитами в git есть _ветки_ (англ. _branch_) и _теги_ (англ. _tags_).\n",
        "Также для ориентации в коммитах git предусматривает специальный указатель `HEAD`.\n",
        "Разберем каждый из них.\n",
        "\n",
        "### Ветка\n",
        "Ветка - это указатель на коммит с определенным именем. По веткам можно переключаться на конкретный коммит, когда вы ведете активную разработку.\n",
        "\n",
        "Пока вы находись в ветке, каждый коммит будет передвигать эту ветку вперед. Это интуитивно, потому что вы как бы \"делаете коммит в ветке\". На самом деле, вы делаете коммит в историю коммитов, а указатель (коим является ветка) просто потом перематывается вперед до созданного коммита.\n",
        "\n",
        "![Пример веток](https://git-scm.com/book/en/v2/images/advance-testing.png)\n",
        "\n",
        "Ветки используются, когда хочется проверить или добавить новую функциональность, не изменяя рабочий код. Вы создаете новую функцию в отдельной ветке, но при этом все время держите возможность вернуться в старую и рабочую ветку - таким образом, экспериментирование происходит безопасно.\n",
        "\n",
        "### Тег\n",
        "Тег - это тоже указатель на коммит. Отличичается от веток только тем, что тег не двигается при создании нового коммита.\n",
        "Если вы поставили тег на коммит, потом создали новый коммит поверх, то тег не переместится. В этом смысле теги - это некий неизменный указатель на коммит.\n",
        "\n",
        "Обычно теги используют для релизов. Когда программа готова к выпуску, ее текущий снимок (т.е. коммит) помечают тегом как release, в названии тега указывают версию - и релизят.\n",
        "\n",
        "### HEAD\n",
        "_HEAD_ в git - это специальный указатель на текущий коммит, поверх которого происходит работа. Этот указатель git передвигает самостоятельно.\n",
        "\n",
        "Поскольку переключаться можно не только на ветки, но и на коммиты, HEAD оказывается необходимым: легко забыть, на каком коммите вы сейчас находитесь и поверх какого снимка вносите изменения.\n",
        "\n",
        "Когда вы находитесь в ветке, указатель HEAD будет указывать на тот же коммит, на который смотрит ветка. Это нормальное состояние гита.\n",
        "\n",
        "**Практика**: создаем ветки, делаем коммит в ветках. Создаем теги, убеждаемся в неподвижности. Все это время следим за _HEAD_."
      ],
      "id": "220fda0e"
    },
    {
      "cell_type": "markdown",
      "metadata": {
        "id": "4e91401d"
      },
      "source": [
        "## Merge: объединяем изменения\n",
        "Когда код в ветке готов к добавлению в другую ветку, происходит _слияние_ веток (англ. _merge_).\n",
        "\n",
        "### Простой сценарий\n",
        "Пусть была ветка `iss53`, в которой сделано несколько коммитов. Мы захотели все изменения оттуда добавить в `master`:\n",
        "\n",
        "![Ветки до слияния](https://git-scm.com/book/en/v2/images/basic-merging-1.png)\n",
        "\n",
        "В процессе слияния будет создан коммит с **двумя** родителями (он называется _merge commit_), в котором будут применены все необходимые изменения (там, где коды различаются между ветками). Ветка, _куда_ были слиты изменения, перемотается вперед до созданного merge commit.\n",
        "Схематично это выглядит так:\n",
        "\n",
        "![Ветки после слияния](https://git-scm.com/book/en/v2/images/basic-merging-2.png)\n",
        "\n",
        "### Сложный сценарий: конфликт при слиянии\n",
        "При слиянии веток возможны конфликты. Это случается, когда в старой ветке файл был изменен с момента \"отпочкования\" новой ветки. Такие конфликты приходится решать вручную:\n",
        "\n",
        "1. Через консольный git приходится редактировать частично слитые файлы руками. Не очень удобно, но зато понятен весь процесс.\n",
        "2. В IDE, скорее всего, будет красивое графическое окно с вариантами. На практике вы чаще всего будете использовать именно его.\n",
        "\n",
        "Мы попробуем создать конфликт и разрешить в консоли.\n",
        "\n",
        "## Стратегии ветвления\n",
        "По какому принципу создавать ветки? На это в сообществе есть несколько ответов, все со своими достоинствами и недостатками.\n",
        "\n",
        "### master, dev и тематическая ветка (GitFlow)\n",
        "_Сейчас не особо популярен_.\n",
        "\n",
        "Подход, базирующийся на следующих принципах:\n",
        "- В ветке `master` всегда стабильный и работающий код и только он.\n",
        "- В ветке `dev` находится слияние всех наработок, который войдут в следующую стабильную версию. Ветка является полигоном для испытания нового функционала.\n",
        "- В тематических ветках находится решение одной конкретной задачи. Скажем, реализация определенной функции или исправление определенной ошибки.\n",
        "\n",
        "\n",
        "Помимо этого, могут создаваться и другие ветки: `release`, `hotfix`, куда будут уходить только релизы и только хот-фиксы. А затем эти ветки могут сливаться друг с другом :)\n",
        "\n",
        "Схематично это выглядит так:\n",
        "\n",
        "![Простой GitFlow](https://git-scm.com/book/en/v2/images/lr-branches-2.png)\n",
        "\n",
        "А в случае наличия release-веток:\n",
        "\n",
        "<div>\n",
        "<img src=\"https://wac-cdn.atlassian.com/dam/jcr:8f00f1a4-ef2d-498a-a2c6-8020bb97902f/03%20Release%20branches.svg?cdnVersion=199\" width=\"900\"/>\n",
        "</div>\n",
        "\n",
        "Процесс работы строится следующим образом:\n",
        "- От `dev` создается тематическая ветка, где ведется работа над одной проблемой. Скажем, `issue_1`\n",
        "- В конце работы над задачей тематическая ветка (`issue_1`) вливается в ветку `dev`. Так делается с каждой тематической веткой.\n",
        "- Как только разработчики проекта понимают, что код достаточно зрелый для выпуска следующей версии, ветка `dev` вливается в `master`.\n",
        "- При этом могут все равно случиться проблемы в `master`. Поэтому иногда в `master` отправляются коммиты напрямую, не через слияние с `dev`. Это называется `hotfix`.\n",
        "\n",
        "**Достоинства** этого подхода: есть четкое понимание, где рабочий код, а также можно быстро получить текущую экспериментальную версию.\n",
        "\n",
        "**Недостатки**: имеется некая бюрократия в виде `dev`, `master`, `hotfix` веток, в которых легко запутаться. Также могут часто возникать merge conflicts. Например, в `dev` по его природе будут часто вливаться ветки других разработчиков, что может привести к большому количеству конфликтов. Более того, ветки часто забрасываются и репозиторий быстро загрязняется такими заброшенными ветками (_stale branches_).\n",
        "\n",
        "[Подробнее про GitFlow](https://www.atlassian.com/git/tutorials/comparing-workflows/gitflow-workflow).\n",
        "### Trunk based development\n",
        "_Популярный подход на февраль 2022_.\n",
        "\n",
        "Несколько противоположный подход. Вместо создания кучи веток создается единый костяк (_trunk_) - обычно это `master`. От него ответвляются мелкие быстроживущие ветки, где реализуется небольшой функционал, затем быстро вливается в trunk обратно.\n",
        "\n",
        "Основная философия: ветки должны быть короткоживущими и часто вливаться в trunk.\n",
        "\n",
        "<div>\n",
        "<img src=\"https://www.optimizely.com/contentassets/569ac3ee0b124da19a5ac9ea2e8b2b4d/trunk-based-development.png\" width=\"900\"/>\n",
        "</div>\n",
        "\n",
        "<center>Источник картинки в исходном коде.</center>\n",
        "\n",
        "[Подробнее про trunk based development](https://www.atlassian.com/continuous-delivery/continuous-integration/trunk-based-development)."
      ],
      "id": "4e91401d"
    },
    {
      "cell_type": "markdown",
      "metadata": {
        "id": "7cb7ce07"
      },
      "source": [
        "## Remote: выходим в Интернет\n",
        "До сего момента все операции проходили на нашем компьютере и только на нем.\n",
        "Давайте научимся отправлять все результаты на удаленный сервер.\n",
        "\n",
        "### clone\n",
        "Самый простой вариант. Заберет целиком репозиторий с сервера, настроит все remotes, поставит всем веткам в соответствие нужную ветку из remote.\n",
        "\n",
        "Пример:\n",
        "```bash\n",
        "git clone https://github.com/githubtraining/hellogitworld.git\n",
        "```\n",
        "\n",
        "### pull и push\n",
        "Для отправки своих изменений используется `git push`.\n",
        "Для загрузки состояния с сервера используется `git pull`.\n",
        "\n",
        "Работает так: вы переходите в нужную ветку, затем делаете следующее:\n",
        "1. Если надо забрать изменения с сервера, то выполняйте `git pull`.\n",
        "2. Если надо отправить свои изменения (свои коммиты) на сервер, то выполняйте `git push`.\n",
        "3. Если надо отправить теги на удаленный сервер, выполняйте `git push --tags`.\n",
        "\n",
        "### remote: что это и как добавлять\n",
        "Для удаленных хранилищ `git` вводит промежуточную абстракцию - `remote`. В теории это означает, что вы можете хранить свой код и всю его историю на разных серверах (главное, чтобы они поддерживали git).\n",
        "\n",
        "Ваш локальный (!) проект может иметь несколько remotes. Когда вы захотите отправить свои изменения, вам надо будет выбрать, на какой сервер их отправлять (либо сделать выбор один раз и попросить git запомнить это).\n",
        "\n",
        "На практике используется в форках (англ. _fork_) - при разработке вам необходима и своя, и авторская копия репозитория.\n",
        "<div>\n",
        "<img src=\"https://i.stack.imgur.com/fcGAb.png\" width=\"900\"/>\n",
        "</div>\n",
        "\n",
        "Несколь remote могут быть привязаны к проекту в произвольном порядке и \"смотреть\" на произвольные коммиты:\n",
        "\n",
        "![Несколько remote](https://git-scm.com/book/en/v2/images/remote-branches-5.png)"
      ],
      "id": "7cb7ce07"
    },
    {
      "cell_type": "markdown",
      "metadata": {
        "id": "bb3cb03a"
      },
      "source": [
        "## Практические советы по git\n",
        "### Не стесняйтесь создавать ветки\n",
        "`git` был создан для того, чтобы ветвиться! Если вы чувствуете, что сейчас работаете над новой, отдельной функциональностью - смело создавайте ветку и пишите коммиты в нее. Это создаст больше порядка в вашем репозитории.\n",
        "\n",
        "### Старайтесь делать коммиты только исправного кода\n",
        "Коммит - это слепок, который навсегда уйдет в историю. Предполагается, что к нему можно будет возвращаться в будущем. Поэтому советуем коммитить только то состояние, в котором код можно запустить и он отработает. Иногда для этого может потребоваться небольшая доработка - пусть.\n",
        "\n",
        "### Делайте коммиты как можно более точечными\n",
        "Старайтесь делать коммиты маленькими и отвечающими одному логическому изменению. Пусть, к примеру, вы сделали два значимых изменения: поменяли размер кнопки в коде сайта и написали документацию функции работы с базой данных. Тогда эти два изменения стоит коммитить по одному: один коммит на размер кнопки, другой коммит на документацию по БД.\n",
        "\n",
        "### Следите внимательно за тем, что коммитите\n",
        "В staging очень легко может просочиться файл, который по логике не относится к заявляемому изменению. Внимательно следите за выводом `git status` перед тем, как делать коммит.\n",
        "\n",
        "### Начинайте рабочий день с `git pull`\n",
        "Когда вы открываете репозиторий, с которым давно не работали, делайте всегда `git pull`. Это синхронизирует ваш локальный код с тем, что могли написать и отправить на сервер другие разработчики в команде.\n",
        "\n",
        "### Не редактируйте лишнего\n",
        "Не стоит менять в своих ветках те файлы, которые не относятся к вашей работе. Помните, что над этим же файлом могут работать другие разработчики в других ветках - при слиянии ваши изменения могут создать конфликт на пустом месте."
      ],
      "id": "bb3cb03a"
    }
  ],
  "metadata": {
    "kernelspec": {
      "display_name": "Python 3",
      "language": "python",
      "name": "python3"
    },
    "language_info": {
      "codemirror_mode": {
        "name": "ipython",
        "version": 3
      },
      "file_extension": ".py",
      "mimetype": "text/x-python",
      "name": "python",
      "nbconvert_exporter": "python",
      "pygments_lexer": "ipython3",
      "version": "3.9.5"
    },
    "toc": {
      "base_numbering": 1,
      "nav_menu": {},
      "number_sections": true,
      "sideBar": true,
      "skip_h1_title": false,
      "title_cell": "Table of Contents",
      "title_sidebar": "Contents",
      "toc_cell": false,
      "toc_position": {},
      "toc_section_display": true,
      "toc_window_display": false
    },
    "varInspector": {
      "cols": {
        "lenName": 16,
        "lenType": 16,
        "lenVar": 40
      },
      "kernels_config": {
        "python": {
          "delete_cmd_postfix": "",
          "delete_cmd_prefix": "del ",
          "library": "var_list.py",
          "varRefreshCmd": "print(var_dic_list())"
        },
        "r": {
          "delete_cmd_postfix": ") ",
          "delete_cmd_prefix": "rm(",
          "library": "var_list.r",
          "varRefreshCmd": "cat(var_dic_list()) "
        }
      },
      "types_to_exclude": [
        "module",
        "function",
        "builtin_function_or_method",
        "instance",
        "_Feature"
      ],
      "window_display": false
    },
    "colab": {
      "provenance": []
    }
  },
  "nbformat": 4,
  "nbformat_minor": 5
}